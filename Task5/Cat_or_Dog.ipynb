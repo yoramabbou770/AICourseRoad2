{
  "nbformat": 4,
  "nbformat_minor": 0,
  "metadata": {
    "colab": {
      "provenance": [],
      "gpuType": "T4",
      "authorship_tag": "ABX9TyP56ZXjXRcMR0qN8dGFQnMg",
      "include_colab_link": true
    },
    "kernelspec": {
      "name": "python3",
      "display_name": "Python 3"
    },
    "language_info": {
      "name": "python"
    },
    "accelerator": "GPU"
  },
  "cells": [
    {
      "cell_type": "markdown",
      "metadata": {
        "id": "view-in-github",
        "colab_type": "text"
      },
      "source": [
        "<a href=\"https://colab.research.google.com/github/yoramabbou770/AICourseRoad2/blob/main/Cat_or_Dog.ipynb\" target=\"_parent\"><img src=\"https://colab.research.google.com/assets/colab-badge.svg\" alt=\"Open In Colab\"/></a>"
      ]
    },
    {
      "cell_type": "markdown",
      "source": [
        "i already have already sorted the first 1000 and the first 500 of the folders you can access all the folders that i will upload on the google colab"
      ],
      "metadata": {
        "id": "DHp2D9-bSXb-"
      }
    },
    {
      "cell_type": "code",
      "execution_count": 1,
      "metadata": {
        "id": "BXvQ13dZio1x"
      },
      "outputs": [],
      "source": [
        "import zipfile\n",
        "\n",
        "# Unzip the uploaded file\n",
        "with zipfile.ZipFile(\"/content/cats_and_dogs_filtered.zip\", \"r\") as zip_ref:\n",
        "    zip_ref.extractall(\"Task5/\")"
      ]
    },
    {
      "cell_type": "markdown",
      "source": [
        "now you are an expert in python programmation with google colab with keras\n",
        "now we will build a model that recognize if i entered as an input an image of cat or dog, i will give you more instructions. Now don't give me code, wait to my other message.\n",
        "i have a dataset that called cats_and_dogs_filtered and in this folder i have two folder: 1. train 2. validation. in each of these two folder i have two folder : 1. cats 2. dogs. I want to take the first 1000 images of the cats and the dogs folder that in the train folder and the first 500 images of the cats and dogs folder that is in the validation folder. Resize the images on an resolution of 150x150 and transform them to GrayLevel images. This task you need to do with a CNN model. The model need to classify if the image is a cat or a dog.\n",
        "Give me the accuracy graph of the train and validation sessions.\n",
        "Now you can code."
      ],
      "metadata": {
        "id": "4L7im2fDSn6v"
      }
    },
    {
      "cell_type": "code",
      "source": [
        "import os\n",
        "from keras.preprocessing.image import ImageDataGenerator, load_img, img_to_array\n",
        "from keras.models import Sequential\n",
        "from keras.layers import Conv2D, MaxPooling2D, Flatten, Dense\n",
        "from keras.utils import to_categorical\n",
        "import numpy as np\n",
        "import matplotlib.pyplot as plt\n",
        "\n",
        "# Define paths to the train and validation datasets\n",
        "train_dir = 'Task5/cats_and_dogs_filtered/train'\n",
        "validation_dir = 'Task5/cats_and_dogs_filtered/validation'\n",
        "\n",
        "# Define image dimensions\n",
        "img_width, img_height = 150, 150\n",
        "\n",
        "# Load and preprocess the data\n",
        "def load_and_preprocess_data(directory, num_images):\n",
        "    data = []\n",
        "    labels = []\n",
        "\n",
        "    for category in os.listdir(directory):\n",
        "        category_path = os.path.join(directory, category)\n",
        "\n",
        "        for i, file in enumerate(os.listdir(category_path)):\n",
        "            if i >= num_images:\n",
        "                break\n",
        "\n",
        "            img = load_img(os.path.join(category_path, file), grayscale=True, target_size=(img_width, img_height))\n",
        "            img_array = img_to_array(img)\n",
        "            data.append(img_array)\n",
        "            labels.append(category.lower())  # assuming the category names are 'cats' and 'dogs'\n",
        "\n",
        "    return np.array(data), np.array(labels)\n",
        "\n",
        "# Load and preprocess training data\n",
        "train_data, train_labels = load_and_preprocess_data(train_dir, 1000)\n",
        "\n",
        "# Load and preprocess validation data\n",
        "validation_data, validation_labels = load_and_preprocess_data(validation_dir, 500)\n",
        "\n",
        "# Convert labels to one-hot encoding\n",
        "train_labels = to_categorical(train_labels == 'dog')  # 1 for dog, 0 for cat\n",
        "validation_labels = to_categorical(validation_labels == 'dog')\n",
        "\n",
        "# Build the CNN model\n",
        "model = Sequential()\n",
        "model.add(Conv2D(32, (3, 3), activation='relu', input_shape=(img_width, img_height, 1)))\n",
        "model.add(MaxPooling2D((2, 2)))\n",
        "model.add(Conv2D(64, (3, 3), activation='relu'))\n",
        "model.add(MaxPooling2D((2, 2)))\n",
        "model.add(Conv2D(128, (3, 3), activation='relu'))\n",
        "model.add(MaxPooling2D((2, 2)))\n",
        "model.add(Conv2D(128, (3, 3), activation='relu'))\n",
        "model.add(MaxPooling2D((2, 2)))\n",
        "model.add(Flatten())\n",
        "model.add(Dense(512, activation='relu'))\n",
        "model.add(Dense(1, activation='sigmoid'))\n",
        "\n",
        "# Compile the model\n",
        "model.compile(optimizer='adam', loss='binary_crossentropy', metrics=['accuracy'])\n",
        "\n",
        "# Reshape data for input to the model\n",
        "train_data = np.reshape(train_data, (train_data.shape[0], img_width, img_height, 1))\n",
        "validation_data = np.reshape(validation_data, (validation_data.shape[0], img_width, img_height, 1))"
      ],
      "metadata": {
        "colab": {
          "base_uri": "https://localhost:8080/"
        },
        "id": "Kwt-xHUMsyEe",
        "outputId": "cb4117da-4e1d-43fe-fcc0-57a560e05abf"
      },
      "execution_count": 2,
      "outputs": [
        {
          "output_type": "stream",
          "name": "stderr",
          "text": [
            "/usr/local/lib/python3.10/dist-packages/keras/src/utils/image_utils.py:409: UserWarning: grayscale is deprecated. Please use color_mode = \"grayscale\"\n",
            "  warnings.warn(\n"
          ]
        }
      ]
    },
    {
      "cell_type": "code",
      "source": [
        "# Train the model with validation data\n",
        "history = model.fit(train_data, train_labels, epochs=10, batch_size=20, validation_data=(validation_data, validation_labels))"
      ],
      "metadata": {
        "colab": {
          "base_uri": "https://localhost:8080/"
        },
        "id": "izvF-uxHvqY2",
        "outputId": "eb4742b0-3374-4544-e17c-39aab0002bf3"
      },
      "execution_count": 8,
      "outputs": [
        {
          "output_type": "stream",
          "name": "stdout",
          "text": [
            "Epoch 1/10\n",
            "100/100 [==============================] - 2s 21ms/step - loss: 0.0000e+00 - accuracy: 1.0000 - val_loss: 0.0000e+00 - val_accuracy: 1.0000\n",
            "Epoch 2/10\n",
            "100/100 [==============================] - 2s 18ms/step - loss: 0.0000e+00 - accuracy: 1.0000 - val_loss: 0.0000e+00 - val_accuracy: 1.0000\n",
            "Epoch 3/10\n",
            "100/100 [==============================] - 2s 18ms/step - loss: 0.0000e+00 - accuracy: 1.0000 - val_loss: 0.0000e+00 - val_accuracy: 1.0000\n",
            "Epoch 4/10\n",
            "100/100 [==============================] - 2s 19ms/step - loss: 0.0000e+00 - accuracy: 1.0000 - val_loss: 0.0000e+00 - val_accuracy: 1.0000\n",
            "Epoch 5/10\n",
            "100/100 [==============================] - 2s 20ms/step - loss: 0.0000e+00 - accuracy: 1.0000 - val_loss: 0.0000e+00 - val_accuracy: 1.0000\n",
            "Epoch 6/10\n",
            "100/100 [==============================] - 2s 19ms/step - loss: 0.0000e+00 - accuracy: 1.0000 - val_loss: 0.0000e+00 - val_accuracy: 1.0000\n",
            "Epoch 7/10\n",
            "100/100 [==============================] - 2s 18ms/step - loss: 0.0000e+00 - accuracy: 1.0000 - val_loss: 0.0000e+00 - val_accuracy: 1.0000\n",
            "Epoch 8/10\n",
            "100/100 [==============================] - 2s 18ms/step - loss: 0.0000e+00 - accuracy: 1.0000 - val_loss: 0.0000e+00 - val_accuracy: 1.0000\n",
            "Epoch 9/10\n",
            "100/100 [==============================] - 2s 18ms/step - loss: 0.0000e+00 - accuracy: 1.0000 - val_loss: 0.0000e+00 - val_accuracy: 1.0000\n",
            "Epoch 10/10\n",
            "100/100 [==============================] - 2s 19ms/step - loss: 0.0000e+00 - accuracy: 1.0000 - val_loss: 0.0000e+00 - val_accuracy: 1.0000\n"
          ]
        }
      ]
    },
    {
      "cell_type": "code",
      "source": [
        "# Plot training and validation accuracy\n",
        "plt.plot(history.history['accuracy'], label='Training Accuracy')\n",
        "plt.plot(history.history['val_accuracy'], label='Validation Accuracy')\n",
        "plt.xlabel('Epochs')\n",
        "plt.ylabel('Accuracy')\n",
        "plt.legend()\n",
        "plt.show()"
      ],
      "metadata": {
        "colab": {
          "base_uri": "https://localhost:8080/",
          "height": 449
        },
        "id": "uj6mNDcY0C43",
        "outputId": "89052a05-fbe5-43c5-8b93-33a407d8e92d"
      },
      "execution_count": 9,
      "outputs": [
        {
          "output_type": "display_data",
          "data": {
            "text/plain": [
              "<Figure size 640x480 with 1 Axes>"
            ],
            "image/png": "[encoded data removed]"
          },
          "metadata": {}
        }
      ]
    },
    {
      "cell_type": "code",
      "source": [
        "# Evaluate the model on the validation set\n",
        "validation_loss, validation_accuracy = model.evaluate(validation_data, validation_labels)\n",
        "print(f'Validation Accuracy: {validation_accuracy * 100:.2f}%')"
      ],
      "metadata": {
        "colab": {
          "base_uri": "https://localhost:8080/"
        },
        "id": "I9weLzohvkqh",
        "outputId": "e4aa728c-5095-4610-b15a-ef8c73972a52"
      },
      "execution_count": 10,
      "outputs": [
        {
          "output_type": "stream",
          "name": "stdout",
          "text": [
            "32/32 [==============================] - 0s 10ms/step - loss: 0.0000e+00 - accuracy: 1.0000\n",
            "Validation Accuracy: 100.00%\n"
          ]
        }
      ]
    },
    {
      "cell_type": "markdown",
      "source": [
        "I want that in the validation session it gives me what was the input : dog or cat and what the model says"
      ],
      "metadata": {
        "id": "a5FCPf46TSIG"
      }
    },
    {
      "cell_type": "code",
      "source": [
        "# Get predictions for the validation set\n",
        "predictions = model.predict(validation_data)\n",
        "\n",
        "# Convert the predictions to class labels (0 for cat, 1 for dog)\n",
        "predicted_labels = (predictions > 0.5).astype(int)\n",
        "\n",
        "# Display the input image, actual label, and predicted label for the first few examples\n",
        "for i in range(min(5, len(validation_data))):\n",
        "    actual_label = 'dog' if validation_labels[i] == 1 else 'cat'\n",
        "    predicted_label = 'dog' if predicted_labels[i] == 1 else 'cat'\n",
        "    print(f\"Example {i + 1}: Actual: {actual_label}, Predicted: {predicted_label}\")"
      ],
      "metadata": {
        "colab": {
          "base_uri": "https://localhost:8080/"
        },
        "id": "aaOz5gXyypsr",
        "outputId": "21764c08-7f27-4e75-af11-e571a05f011d"
      },
      "execution_count": 11,
      "outputs": [
        {
          "output_type": "stream",
          "name": "stdout",
          "text": [
            "32/32 [==============================] - 0s 7ms/step\n",
            "Example 1: Actual: dog, Predicted: dog\n",
            "Example 2: Actual: dog, Predicted: dog\n",
            "Example 3: Actual: dog, Predicted: dog\n",
            "Example 4: Actual: dog, Predicted: dog\n",
            "Example 5: Actual: dog, Predicted: dog\n"
          ]
        }
      ]
    },
    {
      "cell_type": "markdown",
      "source": [
        "give me the confusion matrix of the train and validation session"
      ],
      "metadata": {
        "id": "jdr5_KNDT-yE"
      }
    },
    {
      "cell_type": "code",
      "source": [
        "from sklearn.metrics import confusion_matrix, classification_report\n",
        "import seaborn as sns\n",
        "\n",
        "# Get predictions for the validation set\n",
        "predictions = model.predict(validation_data)\n",
        "\n",
        "# Convert the predictions to class labels (0 for cat, 1 for dog)\n",
        "predicted_labels = (predictions > 0.5).astype(int)\n",
        "\n",
        "# Display the confusion matrix\n",
        "cm = confusion_matrix(validation_labels.argmax(axis=1), predicted_labels.argmax(axis=1))\n",
        "plt.figure(figsize=(8, 6))\n",
        "sns.heatmap(cm, annot=True, fmt='d', cmap='Blues', xticklabels=['Cat', 'Dog'], yticklabels=['Cat', 'Dog'])\n",
        "plt.xlabel('Predicted')\n",
        "plt.ylabel('True')\n",
        "plt.title('Confusion Matrix - Validation Set')\n",
        "plt.show()\n",
        "\n",
        "# Display classification report\n",
        "print('\\nClassification Report:\\n', classification_report(validation_labels.argmax(axis=1), predicted_labels.argmax(axis=1)))"
      ],
      "metadata": {
        "colab": {
          "base_uri": "https://localhost:8080/",
          "height": 755
        },
        "id": "o65Q9Zmx4Z69",
        "outputId": "2c6acd7e-e090-4623-ef8f-354a91c10c74"
      },
      "execution_count": 12,
      "outputs": [
        {
          "output_type": "stream",
          "name": "stdout",
          "text": [
            "32/32 [==============================] - 0s 7ms/step\n"
          ]
        },
        {
          "output_type": "display_data",
          "data": {
            "text/plain": [
              "<Figure size 800x600 with 2 Axes>"
            ],
            "image/png": "[encoded data removed]"
          },
          "metadata": {}
        },
        {
          "output_type": "stream",
          "name": "stdout",
          "text": [
            "\n",
            "Classification Report:\n",
            "               precision    recall  f1-score   support\n",
            "\n",
            "           0       1.00      1.00      1.00      1000\n",
            "\n",
            "    accuracy                           1.00      1000\n",
            "   macro avg       1.00      1.00      1.00      1000\n",
            "weighted avg       1.00      1.00      1.00      1000\n",
            "\n"
          ]
        }
      ]
    }
  ]
}