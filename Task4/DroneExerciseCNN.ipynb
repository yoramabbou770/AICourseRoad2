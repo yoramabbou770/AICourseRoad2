{
  "nbformat": 4,
  "nbformat_minor": 0,
  "metadata": {
    "colab": {
      "provenance": [],
      "authorship_tag": "ABX9TyNZ/3db7t/rXYtwaVQCTNO2",
      "include_colab_link": true
    },
    "kernelspec": {
      "name": "python3",
      "display_name": "Python 3"
    },
    "language_info": {
      "name": "python"
    }
  },
  "cells": [
    {
      "cell_type": "markdown",
      "metadata": {
        "id": "view-in-github",
        "colab_type": "text"
      },
      "source": [
        "<a href=\"https://colab.research.google.com/github/yoramabbou770/AICourseRoad2/blob/main/DroneExerciseCNN.ipynb\" target=\"_parent\"><img src=\"https://colab.research.google.com/assets/colab-badge.svg\" alt=\"Open In Colab\"/></a>"
      ]
    },
    {
      "cell_type": "code",
      "execution_count": null,
      "metadata": {
        "id": "Z6N22qb1R2W8"
      },
      "outputs": [],
      "source": [
        "import zipfile\n",
        "import os\n",
        "\n",
        "# Replace 'your_file.zip' with the actual file name\n",
        "zip_file_path = '/content/drone_data-20231210T141638Z-001.zip'\n",
        "\n",
        "# Replace 'extracted_folder' with the desired extraction path\n",
        "extraction_path = '/content/extracted_folder/'\n",
        "\n",
        "# Create the extraction directory if it doesn't exist\n",
        "os.makedirs(extraction_path, exist_ok=True)\n",
        "\n",
        "# Extract the contents of the zip file\n",
        "with zipfile.ZipFile(zip_file_path, 'r') as zip_ref:\n",
        "    # Extract all contents to the specified destination folder\n",
        "    zip_ref.extractall(extraction_path)\n",
        "\n",
        "# Check if there's only one item in the extraction path (a folder)\n",
        "extracted_items = os.listdir(extraction_path)\n",
        "if len(extracted_items) == 1:\n",
        "    # If there's only one item, update the extraction path\n",
        "    extraction_path = os.path.join(extraction_path, extracted_items[0])\n",
        "\n",
        "# Now 'extraction_path' points to the contents of the extracted folder"
      ]
    },
    {
      "cell_type": "code",
      "source": [
        "import os\n",
        "import numpy as np\n",
        "import matplotlib.pyplot as plt\n",
        "from PIL import Image\n",
        "from sklearn.model_selection import train_test_split\n",
        "from tensorflow import keras\n",
        "from tensorflow.keras import layers\n",
        "import tensorflow as tf  # Add this line to import TensorFlow\n",
        "\n",
        "\n",
        "# Define the path to the dataset\n",
        "dataset_path = \"/content/extracted_folder/drone_data/\"\n",
        "\n",
        "processed_images = []\n",
        "labels = []\n",
        "\n",
        "# Step 2: Data Preprocessing\n",
        "for file_name in os.listdir(dataset_path):\n",
        "    if file_name.endswith(\".txt\"):  # Assuming label files end with '.txt'\n",
        "        # Read YOLOv8 label file to extract bounding box information\n",
        "        with open(os.path.join(dataset_path, file_name), 'r') as label_file:\n",
        "            # Parse the label file and extract bounding box information\n",
        "            line = label_file.readline().strip().split()\n",
        "            _ , x_center, y_center, box_width, box_height = map(float, line)\n",
        "\n",
        "        # Load the original image\n",
        "        img_path = os.path.join(dataset_path, file_name.replace(\".txt\", \".jpg\"))\n",
        "        original_img = Image.open(img_path)\n",
        "\n",
        "        # Calculate bounding box coordinates\n",
        "        img_width, img_height = original_img.size\n",
        "        left = int((x_center - box_width / 2) * img_width)\n",
        "        top = int((y_center - box_height / 2) * img_height)\n",
        "        right = int((x_center + box_width / 2) * img_width)\n",
        "        bottom = int((y_center + box_height / 2) * img_height)\n",
        "\n",
        "        # Create a new image by cropping the bounding box\n",
        "        cropped_img = original_img.crop((left, top, right, bottom))\n",
        "\n",
        "        # Convert the cropped image to grayscale\n",
        "        grayscale_img = cropped_img.convert(\"L\")\n",
        "\n",
        "        # Resize the grayscale image to 28x28 using Keras\n",
        "        resized_img = np.array(grayscale_img.resize((28, 28)))\n",
        "\n",
        "        # Save the processed image in the list along with the appropriate label (drone)\n",
        "        processed_images.append(resized_img)\n",
        "        labels.append(1)  # Assuming label 1 represents a drone\n",
        "\n",
        "        # Repeat the above steps, but this time take a random crop of the image\n",
        "        random_left = np.random.randint(0, img_width - 28)\n",
        "        random_top = np.random.randint(0, img_height - 28)\n",
        "        random_right = random_left + 28\n",
        "        random_bottom = random_top + 28\n",
        "\n",
        "        random_cropped_img = original_img.crop((random_left, random_top, random_right, random_bottom))\n",
        "        random_cropped_img = random_cropped_img.convert(\"L\")\n",
        "        random_resized_img = np.array(random_cropped_img.resize((28, 28)))\n",
        "\n",
        "        # Save the random cropped image in a separate list along with the appropriate label (not a drone)\n",
        "        processed_images.append(random_resized_img)\n",
        "        labels.append(0)  # Assuming label 0 represents not a drone\n",
        "\n",
        "# Step 3: TensorFlow Datasets\n",
        "X = np.array(processed_images)\n",
        "y = np.array(labels)\n",
        "\n",
        "X_train, X_test, y_train, y_test = train_test_split(X, y, test_size=0.2, random_state=42)\n",
        "\n",
        "train_dataset = tf.data.Dataset.from_tensor_slices((X_train, y_train))\n",
        "test_dataset = tf.data.Dataset.from_tensor_slices((X_test, y_test))\n",
        "\n",
        "# Step 4: Build Classifier Model (CNN)\n",
        "model = keras.Sequential([\n",
        "    layers.Reshape((28, 28, 1), input_shape=(28, 28)),\n",
        "    layers.Conv2D(32, (3, 3), activation='relu'),\n",
        "    layers.MaxPooling2D((2, 2)),\n",
        "    layers.Conv2D(64, (3, 3), activation='relu'),\n",
        "    layers.MaxPooling2D((2, 2)),\n",
        "    layers.Flatten(),\n",
        "    layers.Dense(64, activation='relu'),\n",
        "    layers.Dense(1, activation='sigmoid')\n",
        "])\n",
        "\n",
        "model.compile(optimizer='adam', loss='binary_crossentropy', metrics=['accuracy'])"
      ],
      "metadata": {
        "id": "l9YBIzk_bTRN"
      },
      "execution_count": null,
      "outputs": []
    },
    {
      "cell_type": "code",
      "source": [
        "# Step 5: Training and Evaluation\n",
        "model.fit(X_train, y_train, epochs=10, validation_split=0.2)"
      ],
      "metadata": {
        "colab": {
          "base_uri": "https://localhost:8080/"
        },
        "id": "wdKT3hLnclZh",
        "outputId": "c36f7a30-7942-4e00-98ad-bec3d105e652"
      },
      "execution_count": null,
      "outputs": [
        {
          "output_type": "stream",
          "name": "stdout",
          "text": [
            "Epoch 1/10\n",
            "163/163 [==============================] - 6s 28ms/step - loss: 0.4269 - accuracy: 0.9349 - val_loss: 0.0692 - val_accuracy: 0.9754\n",
            "Epoch 2/10\n",
            "163/163 [==============================] - 4s 27ms/step - loss: 0.0740 - accuracy: 0.9762 - val_loss: 0.0754 - val_accuracy: 0.9800\n",
            "Epoch 3/10\n",
            "163/163 [==============================] - 6s 35ms/step - loss: 0.0550 - accuracy: 0.9839 - val_loss: 0.0621 - val_accuracy: 0.9777\n",
            "Epoch 4/10\n",
            "163/163 [==============================] - 4s 26ms/step - loss: 0.0357 - accuracy: 0.9885 - val_loss: 0.1402 - val_accuracy: 0.9724\n",
            "Epoch 5/10\n",
            "163/163 [==============================] - 4s 27ms/step - loss: 0.0612 - accuracy: 0.9827 - val_loss: 0.0523 - val_accuracy: 0.9862\n",
            "Epoch 6/10\n",
            "163/163 [==============================] - 6s 35ms/step - loss: 0.0408 - accuracy: 0.9868 - val_loss: 0.1055 - val_accuracy: 0.9716\n",
            "Epoch 7/10\n",
            "163/163 [==============================] - 4s 26ms/step - loss: 0.0518 - accuracy: 0.9860 - val_loss: 0.0526 - val_accuracy: 0.9823\n",
            "Epoch 8/10\n",
            "163/163 [==============================] - 5s 28ms/step - loss: 0.0247 - accuracy: 0.9923 - val_loss: 0.0479 - val_accuracy: 0.9847\n",
            "Epoch 9/10\n",
            "163/163 [==============================] - 6s 34ms/step - loss: 0.0193 - accuracy: 0.9946 - val_loss: 0.0554 - val_accuracy: 0.9816\n",
            "Epoch 10/10\n",
            "163/163 [==============================] - 4s 25ms/step - loss: 0.0420 - accuracy: 0.9877 - val_loss: 0.0784 - val_accuracy: 0.9785\n"
          ]
        },
        {
          "output_type": "execute_result",
          "data": {
            "text/plain": [
              "<keras.src.callbacks.History at 0x7f8dbc363910>"
            ]
          },
          "metadata": {},
          "execution_count": 4
        }
      ]
    },
    {
      "cell_type": "code",
      "source": [
        "# Evaluate the model on the test set\n",
        "test_loss, test_accuracy = model.evaluate(X_test, y_test)\n",
        "print(f\"Test Accuracy: {test_accuracy}\")"
      ],
      "metadata": {
        "colab": {
          "base_uri": "https://localhost:8080/"
        },
        "id": "4b92D_t_cmNo",
        "outputId": "d550250e-b051-49f0-8977-3651b06611c4"
      },
      "execution_count": null,
      "outputs": [
        {
          "output_type": "stream",
          "name": "stdout",
          "text": [
            "51/51 [==============================] - 1s 15ms/step - loss: 0.0778 - accuracy: 0.9834\n",
            "Test Accuracy: 0.9834152460098267\n"
          ]
        }
      ]
    },
    {
      "cell_type": "code",
      "source": [
        "# Visualize some images from the dataset\n",
        "plt.figure(figsize=(10, 10))\n",
        "for i in range(9):\n",
        "    plt.subplot(3, 3, i + 1)\n",
        "    plt.imshow(X[i], cmap='gray')\n",
        "    plt.title(f\"Label: {y[i]}\")\n",
        "    plt.axis(\"off\")\n",
        "plt.show()"
      ],
      "metadata": {
        "colab": {
          "base_uri": "https://localhost:8080/",
          "height": 829
        },
        "id": "wZyklB98cosy",
        "outputId": "f61012fa-555b-418a-b22f-6d1f89bf24d4"
      },
      "execution_count": null,
      "outputs": [
        {
          "output_type": "display_data",
          "data": {
            "text/plain": [
              "<Figure size 1000x1000 with 9 Axes>"
            ],
            "image/png": "[encoded data removed]"
          },
          "metadata": {}
        }
      ]
    }
  ]
}