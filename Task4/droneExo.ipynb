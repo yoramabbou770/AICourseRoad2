{
  "nbformat": 4,
  "nbformat_minor": 0,
  "metadata": {
    "colab": {
      "provenance": [],
      "authorship_tag": "ABX9TyOfxWZL1GUY29lfkUnnm5GO",
      "include_colab_link": true
    },
    "kernelspec": {
      "name": "python3",
      "display_name": "Python 3"
    },
    "language_info": {
      "name": "python"
    }
  },
  "cells": [
    {
      "cell_type": "markdown",
      "metadata": {
        "id": "view-in-github",
        "colab_type": "text"
      },
      "source": [
        "<a href=\"https://colab.research.google.com/github/yoramabbou770/AICourseRoad2/blob/main/droneExo.ipynb\" target=\"_parent\"><img src=\"https://colab.research.google.com/assets/colab-badge.svg\" alt=\"Open In Colab\"/></a>"
      ]
    },
    {
      "cell_type": "code",
      "execution_count": 1,
      "metadata": {
        "id": "61G4lHqq1jUN"
      },
      "outputs": [],
      "source": [
        "import zipfile\n",
        "import os\n",
        "\n",
        "# Replace 'your_file.zip' with the actual file name\n",
        "zip_file_path = '/content/drone_data-20231204T220641Z-001.zip'\n",
        "\n",
        "# Replace 'extracted_folder' with the desired extraction path\n",
        "extraction_path = '/content/extracted_folder/'\n",
        "\n",
        "# Create the extraction directory if it doesn't exist\n",
        "os.makedirs(extraction_path, exist_ok=True)\n",
        "\n",
        "# Extract the contents of the zip file\n",
        "with zipfile.ZipFile(zip_file_path, 'r') as zip_ref:\n",
        "    # Extract all contents to the specified destination folder\n",
        "    zip_ref.extractall(extraction_path)\n",
        "\n",
        "# Check if there's only one item in the extraction path (a folder)\n",
        "extracted_items = os.listdir(extraction_path)\n",
        "if len(extracted_items) == 1:\n",
        "    # If there's only one item, update the extraction path\n",
        "    extraction_path = os.path.join(extraction_path, extracted_items[0])\n",
        "\n",
        "# Now 'extraction_path' points to the contents of the extracted folder"
      ]
    },
    {
      "cell_type": "code",
      "source": [
        "import os\n",
        "from PIL import Image\n",
        "import numpy as np\n",
        "import tensorflow as tf\n",
        "\n",
        "# Define the path to the dataset\n",
        "dataset_path = \"/content/extracted_folder/drone_data/\"\n",
        "\n",
        "# Initialize lists to store processed images and labels\n",
        "processed_images = []\n",
        "labels = []\n",
        "\n",
        "for file_name in os.listdir(dataset_path):\n",
        "    if file_name.endswith(\".txt\"):  # Assuming label files end with '.txt'\n",
        "        # Read bounding box information from the label file (YOLOv8 format)\n",
        "        with open(os.path.join(dataset_path, file_name), 'r') as label_file:\n",
        "            # Assuming each line represents a bounding box in YOLOv8 format\n",
        "            line = label_file.readline().strip().split()\n",
        "            x_center, y_center, box_width, box_height, confidence = map(float, line)\n",
        "\n",
        "        # Calculate bounding box coordinates\n",
        "        img_path = os.path.join(dataset_path, file_name.replace(\".txt\", \".jpg\"))\n",
        "        img = Image.open(img_path)\n",
        "        img_width, img_height = img.size\n",
        "\n",
        "        left = int((x_center - box_width / 2) * img_width)\n",
        "        top = int((y_center - box_height / 2) * img_height)\n",
        "        right = int((x_center + box_width / 2) * img_width)\n",
        "        bottom = int((y_center + box_height / 2) * img_height)\n",
        "\n",
        "        # Create a new image by cropping the bounding box\n",
        "        cropped_img = img.crop((left, top, right, bottom))\n",
        "\n",
        "        # Convert the cropped image to black and white\n",
        "        cropped_img = cropped_img.convert(\"L\")\n",
        "\n",
        "        # Resize the image to a quadratic form (e.g., 28x28) using Keras library\n",
        "        cropped_img = cropped_img.resize((28, 28))\n",
        "\n",
        "        # Save the processed image in the list along with the appropriate label (drone)\n",
        "        processed_images.append(np.array(cropped_img))\n",
        "        labels.append(1)  # Assuming label 1 represents a drone\n",
        "\n",
        "        # Repeat the above steps, but this time take a random crop of the image\n",
        "        random_left = np.random.randint(0, img.width - 28)\n",
        "        random_top = np.random.randint(0, img.height - 28)\n",
        "        random_right = random_left + 28\n",
        "        random_bottom = random_top + 28\n",
        "\n",
        "        random_cropped_img = img.crop((random_left, random_top, random_right, random_bottom))\n",
        "        random_cropped_img = random_cropped_img.convert(\"L\")\n",
        "        random_cropped_img = random_cropped_img.resize((28, 28))\n",
        "\n",
        "        # Save the random cropped image in a separate list along with the appropriate label (not a drone)\n",
        "        processed_images.append(np.array(random_cropped_img))\n",
        "        labels.append(0)  # Assuming label 0 represents not a drone"
      ],
      "metadata": {
        "id": "vQwBUDQATxrE"
      },
      "execution_count": 7,
      "outputs": []
    },
    {
      "cell_type": "code",
      "source": [
        "# Convert lists to TensorFlow datasets\n",
        "dataset = tf.data.Dataset.from_tensor_slices((np.array(processed_images), np.array(labels)))\n",
        "\n",
        "# Ensure that the shapes and types of images and labels match TensorFlow's requirements\n",
        "# ...\n",
        "\n",
        "# Split the dataset into training and testing sets\n",
        "train_size = int(0.8 * len(processed_images))\n",
        "train_dataset = dataset.take(train_size)\n",
        "test_dataset = dataset.skip(train_size)"
      ],
      "metadata": {
        "id": "DKj5gAr6UwTV"
      },
      "execution_count": 8,
      "outputs": []
    },
    {
      "cell_type": "code",
      "source": [
        "from tensorflow.keras import layers, models\n",
        "\n",
        "# Define the model\n",
        "model = models.Sequential([\n",
        "    layers.Conv2D(32, (3, 3), activation='relu', input_shape=(28, 28, 1)),\n",
        "    layers.MaxPooling2D((2, 2)),\n",
        "    layers.Flatten(),\n",
        "    layers.Dense(64, activation='relu'),\n",
        "    layers.Dense(1, activation='sigmoid')  # Binary classification (drone or not)\n",
        "])\n",
        "\n",
        "# Compile the model\n",
        "model.compile(optimizer='adam', loss='binary_crossentropy', metrics=['accuracy'])"
      ],
      "metadata": {
        "id": "nqiYQkIJVE_F"
      },
      "execution_count": 9,
      "outputs": []
    },
    {
      "cell_type": "code",
      "source": [
        "# Train the model\n",
        "model.fit(train_dataset.batch(32), epochs=5)"
      ],
      "metadata": {
        "colab": {
          "base_uri": "https://localhost:8080/"
        },
        "id": "t7IyvbjvVHZC",
        "outputId": "d95336e3-5821-4227-f1d4-a38164448638"
      },
      "execution_count": 10,
      "outputs": [
        {
          "output_type": "stream",
          "name": "stdout",
          "text": [
            "Epoch 1/5\n",
            "204/204 [==============================] - 3s 13ms/step - loss: 0.7468 - accuracy: 0.9894\n",
            "Epoch 2/5\n",
            "204/204 [==============================] - 3s 17ms/step - loss: 3.1204e-05 - accuracy: 1.0000\n",
            "Epoch 3/5\n",
            "204/204 [==============================] - 2s 9ms/step - loss: 1.0015e-04 - accuracy: 1.0000\n",
            "Epoch 4/5\n",
            "204/204 [==============================] - 2s 9ms/step - loss: 1.0981e-05 - accuracy: 1.0000\n",
            "Epoch 5/5\n",
            "204/204 [==============================] - 2s 9ms/step - loss: 3.9731e-06 - accuracy: 1.0000\n"
          ]
        },
        {
          "output_type": "execute_result",
          "data": {
            "text/plain": [
              "<keras.src.callbacks.History at 0x7989be1244c0>"
            ]
          },
          "metadata": {},
          "execution_count": 10
        }
      ]
    },
    {
      "cell_type": "code",
      "source": [
        "# Evaluate the model on the test set\n",
        "test_loss, test_accuracy = model.evaluate(test_dataset.batch(32))\n",
        "print(f\"Test Accuracy: {test_accuracy}\")"
      ],
      "metadata": {
        "colab": {
          "base_uri": "https://localhost:8080/"
        },
        "id": "SyJ2FWbbVN3S",
        "outputId": "2f1e54d8-711d-4d5b-e03a-8b4d53a9b107"
      },
      "execution_count": 11,
      "outputs": [
        {
          "output_type": "stream",
          "name": "stdout",
          "text": [
            "51/51 [==============================] - 0s 6ms/step - loss: 1.5488e-08 - accuracy: 1.0000\n",
            "Test Accuracy: 1.0\n"
          ]
        }
      ]
    },
    {
      "cell_type": "code",
      "source": [
        "import matplotlib.pyplot as plt\n",
        "\n",
        "# Plot some images\n",
        "num_images_to_plot = 5\n",
        "\n",
        "fig, axes = plt.subplots(1, num_images_to_plot, figsize=(15, 3))\n",
        "\n",
        "for i in range(num_images_to_plot):\n",
        "    axes[i].imshow(processed_images[i], cmap='gray')  # Assuming images are black and white\n",
        "    axes[i].set_title(f\"Label: {labels[i]}\")\n",
        "    axes[i].axis('off')\n",
        "\n",
        "plt.show()"
      ],
      "metadata": {
        "colab": {
          "base_uri": "https://localhost:8080/",
          "height": 254
        },
        "id": "eZNxJ5riW9os",
        "outputId": "e36eed55-d6c8-484a-e77f-48c52d70f9b4"
      },
      "execution_count": 12,
      "outputs": [
        {
          "output_type": "display_data",
          "data": {
            "text/plain": [
              "<Figure size 1500x300 with 5 Axes>"
            ],
            "image/png": "[encoded data removed]"
          },
          "metadata": {}
        }
      ]
    }
  ]
}