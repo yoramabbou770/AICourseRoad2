{
  "nbformat": 4,
  "nbformat_minor": 0,
  "metadata": {
    "colab": {
      "provenance": [],
      "authorship_tag": "ABX9TyMeMajb29BNlPNMH0bsjlFT",
      "include_colab_link": true
    },
    "kernelspec": {
      "name": "python3",
      "display_name": "Python 3"
    },
    "language_info": {
      "name": "python"
    }
  },
  "cells": [
    {
      "cell_type": "markdown",
      "metadata": {
        "id": "view-in-github",
        "colab_type": "text"
      },
      "source": [
        "<a href=\"https://colab.research.google.com/github/yoramabbou770/AICourseRoad2/blob/main/MachineDL_task2.ipynb\" target=\"_parent\"><img src=\"https://colab.research.google.com/assets/colab-badge.svg\" alt=\"Open In Colab\"/></a>"
      ]
    },
    {
      "cell_type": "code",
      "source": [
        "import numpy as np\n",
        "import tensorflow as tf\n",
        "from tensorflow.keras.models import Sequential\n",
        "from tensorflow.keras.layers import Dense\n",
        "\n",
        "# Load data from CSV files\n",
        "X = np.loadtxt('numbers.csv', delimiter=',').reshape(-1, 1)\n",
        "csv_filename = 'labels.csv'\n",
        "y = np.loadtxt(csv_filename, delimiter=',', skiprows=1).reshape(-1, 1)\n",
        "\n",
        "# Create a Sequential model\n",
        "model = Sequential()\n",
        "\n",
        "# Add a single Dense layer with one neuron for input\n",
        "model.add(Dense(units=1, input_dim=1, activation='linear'))\n",
        "\n",
        "# Compile the model with Adam optimizer and a learning rate of 0.01\n",
        "model.compile(optimizer=tf.keras.optimizers.Adam(learning_rate=0.01), loss='mean_squared_error')\n",
        "\n",
        "# Display the model summary\n",
        "model.summary()"
      ],
      "metadata": {
        "id": "3-eSzgtmbOSB"
      },
      "execution_count": null,
      "outputs": []
    },
    {
      "cell_type": "code",
      "source": [
        "model.fit(X, y, epochs=500, batch_size=1)"
      ],
      "metadata": {
        "id": "CcXHODRXh0hE"
      },
      "execution_count": null,
      "outputs": []
    },
    {
      "cell_type": "code",
      "source": [
        "# Assuming 'model' is your trained Keras model\n",
        "model.save('/content')"
      ],
      "metadata": {
        "id": "1jxojMB6kzty"
      },
      "execution_count": 14,
      "outputs": []
    },
    {
      "cell_type": "code",
      "source": [
        "import numpy as np\n",
        "import tensorflow as tf\n",
        "from tensorflow.keras.models import Sequential\n",
        "from tensorflow.keras.layers import Dense\n",
        "\n",
        "# Load the trained model (assuming you've already trained it)\n",
        "# Replace 'your_model_path' with the actual path to your saved model\n",
        "model = tf.keras.models.load_model('/content')\n",
        "\n",
        "# Assuming you have a new dataset (X_test) with 100 samples and one feature each\n",
        "# Replace this with your actual test data\n",
        "X_test = np.loadtxt('test.csv', delimiter=',').reshape(-1, 1)\n",
        "\n",
        "# Make predictions\n",
        "predictions = model.predict(X_test)\n",
        "\n",
        "# Displaying the predictions\n",
        "print(\"Predictions:\", predictions)\n"
      ],
      "metadata": {
        "id": "PA2Cy4w0kcOF"
      },
      "execution_count": null,
      "outputs": []
    },
    {
      "cell_type": "code",
      "source": [
        "import csv\n",
        "\n",
        "# Function to convert Celsius to Fahrenheit\n",
        "def celsius_to_fahrenheit(celsius):\n",
        "    return (celsius * 9/5) + 32\n",
        "\n",
        "# Create a list of degrees in Celsius from 0 to 100\n",
        "celsius_values = list(range(101))\n",
        "\n",
        "# Convert Celsius to Fahrenheit and store in a list as floats\n",
        "fahrenheit_values = [float(celsius_to_fahrenheit(celsius)) for celsius in celsius_values]\n",
        "\n",
        "# Write Fahrenheit values to CSV file\n",
        "csv_filename = 'labels.csv'\n",
        "with open(csv_filename, 'w', newline='') as csvfile:\n",
        "    csv_writer = csv.writer(csvfile)\n",
        "\n",
        "    # Write header\n",
        "    csv_writer.writerow(['Fahrenheit'])\n",
        "\n",
        "    # Write data\n",
        "    csv_writer.writerows(map(lambda x: [x], fahrenheit_values))\n",
        "\n",
        "print(f\"CSV file '{csv_filename}' created successfully.\")"
      ],
      "metadata": {
        "id": "6sK8K3zQfkmE"
      },
      "execution_count": null,
      "outputs": []
    },
    {
      "cell_type": "code",
      "source": [
        "import csv\n",
        "\n",
        "# Generate numbers from 100 to 300 with a step of 10\n",
        "numbers = list(range(100, 301, 10))\n",
        "\n",
        "# Write numbers to CSV file\n",
        "csv_filename = 'test.csv'\n",
        "with open(csv_filename, 'w', newline='') as csvfile:\n",
        "    csv_writer = csv.writer(csvfile)\n",
        "\n",
        "    # Write header if needed\n",
        "    # csv_writer.writerow(['Numbers'])\n",
        "\n",
        "    # Write data\n",
        "    csv_writer.writerows(map(lambda x: [x], numbers))\n",
        "\n",
        "print(f\"CSV file '{csv_filename}' created successfully.\")"
      ],
      "metadata": {
        "id": "Tpa6mLTPmi1Y"
      },
      "execution_count": null,
      "outputs": []
    },
    {
      "cell_type": "code",
      "source": [
        "weights = model.get_weights()\n",
        "\n",
        "# Display the weights\n",
        "for layer_weights in weights:\n",
        "    print(layer_weights)"
      ],
      "metadata": {
        "colab": {
          "base_uri": "https://localhost:8080/"
        },
        "id": "gBx2_7fmn73C",
        "outputId": "11bf8556-90a0-466a-82a4-aab67f5a7052"
      },
      "execution_count": 18,
      "outputs": [
        {
          "output_type": "stream",
          "name": "stdout",
          "text": [
            "[[1.7999995]]\n",
            "[31.999996]\n"
          ]
        }
      ]
    }
  ]
}