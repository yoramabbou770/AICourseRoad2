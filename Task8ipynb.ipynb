{
  "nbformat": 4,
  "nbformat_minor": 0,
  "metadata": {
    "colab": {
      "provenance": [],
      "gpuType": "T4",
      "mount_file_id": "1bBoCwP4A8ge9wrQ_1dqurYjx9O2QT04Q",
      "authorship_tag": "ABX9TyObFicS3/IMpKjG8CouGb/q",
      "include_colab_link": true
    },
    "kernelspec": {
      "name": "python3",
      "display_name": "Python 3"
    },
    "language_info": {
      "name": "python"
    },
    "accelerator": "GPU"
  },
  "cells": [
    {
      "cell_type": "markdown",
      "metadata": {
        "id": "view-in-github",
        "colab_type": "text"
      },
      "source": [
        "<a href=\"https://colab.research.google.com/github/yoramabbou770/AICourseRoad2/blob/main/Task8ipynb.ipynb\" target=\"_parent\"><img src=\"https://colab.research.google.com/assets/colab-badge.svg\" alt=\"Open In Colab\"/></a>"
      ]
    },
    {
      "cell_type": "markdown",
      "source": [
        "Give me a code in python for google colab that train a Yolov8 model from ultralytics with my dataset of train and val. train and val different epochs model : 5, 1, 20, 30. And I will test him on an another dataset.\n",
        "You need to take an eye on the yaml file, read this file to learn about it."
      ],
      "metadata": {
        "id": "7CedFSfxSRP3"
      }
    },
    {
      "cell_type": "code",
      "execution_count": 13,
      "metadata": {
        "id": "FfP4bLPnN5Fx",
        "colab": {
          "base_uri": "https://localhost:8080/"
        },
        "outputId": "d6e869b4-57b7-4dde-c97c-31a032a3ef96"
      },
      "outputs": [
        {
          "output_type": "stream",
          "name": "stdout",
          "text": [
            "Ultralytics YOLOv8.0.231 🚀 Python-3.10.12 torch-2.1.0+cu121 CUDA:0 (Tesla T4, 15102MiB)\n",
            "\u001b[34m\u001b[1mengine/trainer: \u001b[0mtask=detect, mode=train, model=yolov8n.pt, data=/content/drive/MyDrive/data.yaml, epochs=5, time=None, patience=50, batch=16, imgsz=640, save=True, save_period=-1, cache=False, device=None, workers=8, project=None, name=train6, exist_ok=False, pretrained=True, optimizer=auto, verbose=True, seed=0, deterministic=True, single_cls=False, rect=False, cos_lr=False, close_mosaic=10, resume=False, amp=True, fraction=1.0, profile=False, freeze=None, overlap_mask=True, mask_ratio=4, dropout=0.0, val=True, split=val, save_json=False, save_hybrid=False, conf=None, iou=0.7, max_det=300, half=False, dnn=False, plots=True, source=None, vid_stride=1, stream_buffer=False, visualize=False, augment=False, agnostic_nms=False, classes=None, retina_masks=False, embed=None, show=False, save_frames=False, save_txt=False, save_conf=False, save_crop=False, show_labels=True, show_conf=True, show_boxes=True, line_width=None, format=torchscript, keras=False, optimize=False, int8=False, dynamic=False, simplify=False, opset=None, workspace=4, nms=False, lr0=0.01, lrf=0.01, momentum=0.937, weight_decay=0.0005, warmup_epochs=3.0, warmup_momentum=0.8, warmup_bias_lr=0.1, box=7.5, cls=0.5, dfl=1.5, pose=12.0, kobj=1.0, label_smoothing=0.0, nbs=64, hsv_h=0.015, hsv_s=0.7, hsv_v=0.4, degrees=0.0, translate=0.1, scale=0.5, shear=0.0, perspective=0.0, flipud=0.0, fliplr=0.5, mosaic=1.0, mixup=0.0, copy_paste=0.0, cfg=None, tracker=botsort.yaml, save_dir=runs/detect/train6\n",
            "Overriding model.yaml nc=80 with nc=1\n",
            "\n",
            "                   from  n    params  module                                       arguments                     \n",
            "  0                  -1  1       464  ultralytics.nn.modules.conv.Conv             [3, 16, 3, 2]                 \n",
            "  1                  -1  1      4672  ultralytics.nn.modules.conv.Conv             [16, 32, 3, 2]                \n",
            "  2                  -1  1      7360  ultralytics.nn.modules.block.C2f             [32, 32, 1, True]             \n",
            "  3                  -1  1     18560  ultralytics.nn.modules.conv.Conv             [32, 64, 3, 2]                \n",
            "  4                  -1  2     49664  ultralytics.nn.modules.block.C2f             [64, 64, 2, True]             \n",
            "  5                  -1  1     73984  ultralytics.nn.modules.conv.Conv             [64, 128, 3, 2]               \n",
            "  6                  -1  2    197632  ultralytics.nn.modules.block.C2f             [128, 128, 2, True]           \n",
            "  7                  -1  1    295424  ultralytics.nn.modules.conv.Conv             [128, 256, 3, 2]              \n",
            "  8                  -1  1    460288  ultralytics.nn.modules.block.C2f             [256, 256, 1, True]           \n",
            "  9                  -1  1    164608  ultralytics.nn.modules.block.SPPF            [256, 256, 5]                 \n",
            " 10                  -1  1         0  torch.nn.modules.upsampling.Upsample         [None, 2, 'nearest']          \n",
            " 11             [-1, 6]  1         0  ultralytics.nn.modules.conv.Concat           [1]                           \n",
            " 12                  -1  1    148224  ultralytics.nn.modules.block.C2f             [384, 128, 1]                 \n",
            " 13                  -1  1         0  torch.nn.modules.upsampling.Upsample         [None, 2, 'nearest']          \n",
            " 14             [-1, 4]  1         0  ultralytics.nn.modules.conv.Concat           [1]                           \n",
            " 15                  -1  1     37248  ultralytics.nn.modules.block.C2f             [192, 64, 1]                  \n",
            " 16                  -1  1     36992  ultralytics.nn.modules.conv.Conv             [64, 64, 3, 2]                \n",
            " 17            [-1, 12]  1         0  ultralytics.nn.modules.conv.Concat           [1]                           \n",
            " 18                  -1  1    123648  ultralytics.nn.modules.block.C2f             [192, 128, 1]                 \n",
            " 19                  -1  1    147712  ultralytics.nn.modules.conv.Conv             [128, 128, 3, 2]              \n",
            " 20             [-1, 9]  1         0  ultralytics.nn.modules.conv.Concat           [1]                           \n",
            " 21                  -1  1    493056  ultralytics.nn.modules.block.C2f             [384, 256, 1]                 \n",
            " 22        [15, 18, 21]  1    751507  ultralytics.nn.modules.head.Detect           [1, [64, 128, 256]]           \n",
            "Model summary: 225 layers, 3011043 parameters, 3011027 gradients, 8.2 GFLOPs\n",
            "\n",
            "Transferred 319/355 items from pretrained weights\n",
            "\u001b[34m\u001b[1mTensorBoard: \u001b[0mStart with 'tensorboard --logdir runs/detect/train6', view at http://localhost:6006/\n",
            "Freezing layer 'model.22.dfl.conv.weight'\n",
            "\u001b[34m\u001b[1mAMP: \u001b[0mrunning Automatic Mixed Precision (AMP) checks with YOLOv8n...\n",
            "\u001b[34m\u001b[1mAMP: \u001b[0mchecks passed ✅\n"
          ]
        },
        {
          "output_type": "stream",
          "name": "stderr",
          "text": [
            "\u001b[34m\u001b[1mtrain: \u001b[0mScanning /tmp/drone_data/train/labels.cache... 3256 images, 0 backgrounds, 0 corrupt: 100%|██████████| 3256/3256 [00:00<?, ?it/s]"
          ]
        },
        {
          "output_type": "stream",
          "name": "stdout",
          "text": [
            "\u001b[34m\u001b[1malbumentations: \u001b[0mBlur(p=0.01, blur_limit=(3, 7)), MedianBlur(p=0.01, blur_limit=(3, 7)), ToGray(p=0.01), CLAHE(p=0.01, clip_limit=(1, 4.0), tile_grid_size=(8, 8))\n"
          ]
        },
        {
          "output_type": "stream",
          "name": "stderr",
          "text": [
            "\n",
            "\u001b[34m\u001b[1mval: \u001b[0mScanning /tmp/drone_data/val/labels.cache... 814 images, 0 backgrounds, 0 corrupt: 100%|██████████| 814/814 [00:00<?, ?it/s]\n"
          ]
        },
        {
          "output_type": "stream",
          "name": "stdout",
          "text": [
            "Plotting labels to runs/detect/train6/labels.jpg... \n",
            "\u001b[34m\u001b[1moptimizer:\u001b[0m 'optimizer=auto' found, ignoring 'lr0=0.01' and 'momentum=0.937' and determining best 'optimizer', 'lr0' and 'momentum' automatically... \n",
            "\u001b[34m\u001b[1moptimizer:\u001b[0m AdamW(lr=0.002, momentum=0.9) with parameter groups 57 weight(decay=0.0), 64 weight(decay=0.0005), 63 bias(decay=0.0)\n",
            "5 epochs...\n",
            "\n",
            "      Epoch    GPU_mem   box_loss   cls_loss   dfl_loss  Instances       Size\n"
          ]
        },
        {
          "output_type": "stream",
          "name": "stderr",
          "text": [
            "        1/5       2.3G      1.833       2.65      1.165         17        640: 100%|██████████| 204/204 [02:01<00:00,  1.68it/s]\n",
            "                 Class     Images  Instances      Box(P          R      mAP50  mAP50-95): 100%|██████████| 26/26 [00:17<00:00,  1.46it/s]\n"
          ]
        },
        {
          "output_type": "stream",
          "name": "stdout",
          "text": [
            "                   all        814        868      0.828      0.618      0.724      0.357\n",
            "\n",
            "      Epoch    GPU_mem   box_loss   cls_loss   dfl_loss  Instances       Size\n"
          ]
        },
        {
          "output_type": "stream",
          "name": "stderr",
          "text": [
            "        2/5       2.3G      1.761      1.492      1.171         18        640: 100%|██████████| 204/204 [02:00<00:00,  1.69it/s]\n",
            "                 Class     Images  Instances      Box(P          R      mAP50  mAP50-95): 100%|██████████| 26/26 [00:17<00:00,  1.46it/s]\n"
          ]
        },
        {
          "output_type": "stream",
          "name": "stdout",
          "text": [
            "                   all        814        868      0.894      0.843      0.888      0.438\n",
            "\n",
            "      Epoch    GPU_mem   box_loss   cls_loss   dfl_loss  Instances       Size\n"
          ]
        },
        {
          "output_type": "stream",
          "name": "stderr",
          "text": [
            "        3/5      2.29G      1.678      1.138      1.132         14        640: 100%|██████████| 204/204 [02:03<00:00,  1.66it/s]\n",
            "                 Class     Images  Instances      Box(P          R      mAP50  mAP50-95): 100%|██████████| 26/26 [00:17<00:00,  1.47it/s]"
          ]
        },
        {
          "output_type": "stream",
          "name": "stdout",
          "text": [
            "                   all        814        868      0.917      0.876      0.908      0.461\n"
          ]
        },
        {
          "output_type": "stream",
          "name": "stderr",
          "text": [
            "\n"
          ]
        },
        {
          "output_type": "stream",
          "name": "stdout",
          "text": [
            "\n",
            "      Epoch    GPU_mem   box_loss   cls_loss   dfl_loss  Instances       Size\n"
          ]
        },
        {
          "output_type": "stream",
          "name": "stderr",
          "text": [
            "        4/5      2.29G      1.635      1.001      1.106         22        640: 100%|██████████| 204/204 [01:59<00:00,  1.71it/s]\n",
            "                 Class     Images  Instances      Box(P          R      mAP50  mAP50-95): 100%|██████████| 26/26 [00:17<00:00,  1.47it/s]"
          ]
        },
        {
          "output_type": "stream",
          "name": "stdout",
          "text": [
            "                   all        814        868      0.897       0.93      0.937      0.484\n"
          ]
        },
        {
          "output_type": "stream",
          "name": "stderr",
          "text": [
            "\n"
          ]
        },
        {
          "output_type": "stream",
          "name": "stdout",
          "text": [
            "\n",
            "      Epoch    GPU_mem   box_loss   cls_loss   dfl_loss  Instances       Size\n"
          ]
        },
        {
          "output_type": "stream",
          "name": "stderr",
          "text": [
            "        5/5      2.29G      1.591     0.9362      1.101         18        640: 100%|██████████| 204/204 [02:00<00:00,  1.69it/s]\n",
            "                 Class     Images  Instances      Box(P          R      mAP50  mAP50-95): 100%|██████████| 26/26 [00:17<00:00,  1.49it/s]"
          ]
        },
        {
          "output_type": "stream",
          "name": "stdout",
          "text": [
            "                   all        814        868      0.909       0.91      0.934      0.507\n"
          ]
        },
        {
          "output_type": "stream",
          "name": "stderr",
          "text": [
            "\n"
          ]
        },
        {
          "output_type": "stream",
          "name": "stdout",
          "text": [
            "\n",
            "5 epochs completed in 0.196 hours.\n",
            "Optimizer stripped from runs/detect/train6/weights/last.pt, 6.2MB\n",
            "Optimizer stripped from runs/detect/train6/weights/best.pt, 6.2MB\n",
            "\n",
            "Validating runs/detect/train6/weights/best.pt...\n",
            "Ultralytics YOLOv8.0.231 🚀 Python-3.10.12 torch-2.1.0+cu121 CUDA:0 (Tesla T4, 15102MiB)\n",
            "Model summary (fused): 168 layers, 3005843 parameters, 0 gradients, 8.1 GFLOPs\n"
          ]
        },
        {
          "output_type": "stream",
          "name": "stderr",
          "text": [
            "                 Class     Images  Instances      Box(P          R      mAP50  mAP50-95): 100%|██████████| 26/26 [00:18<00:00,  1.39it/s]\n"
          ]
        },
        {
          "output_type": "stream",
          "name": "stdout",
          "text": [
            "                   all        814        868       0.91      0.911      0.934      0.506\n",
            "Speed: 0.2ms preprocess, 2.4ms inference, 0.0ms loss, 2.4ms postprocess per image\n",
            "Results saved to \u001b[1mruns/detect/train6\u001b[0m\n",
            "Ultralytics YOLOv8.0.231 🚀 Python-3.10.12 torch-2.1.0+cu121 CUDA:0 (Tesla T4, 15102MiB)\n",
            "Model summary (fused): 168 layers, 3005843 parameters, 0 gradients, 8.1 GFLOPs\n"
          ]
        },
        {
          "output_type": "stream",
          "name": "stderr",
          "text": [
            "\u001b[34m\u001b[1mval: \u001b[0mScanning /tmp/drone_data/val/labels.cache... 814 images, 0 backgrounds, 0 corrupt: 100%|██████████| 814/814 [00:00<?, ?it/s]\n",
            "                 Class     Images  Instances      Box(P          R      mAP50  mAP50-95): 100%|██████████| 51/51 [00:21<00:00,  2.40it/s]\n"
          ]
        },
        {
          "output_type": "stream",
          "name": "stdout",
          "text": [
            "                   all        814        868      0.912      0.908      0.933      0.506\n",
            "Speed: 0.2ms preprocess, 3.2ms inference, 0.0ms loss, 2.4ms postprocess per image\n",
            "Results saved to \u001b[1mruns/detect/train62\u001b[0m\n",
            "mAP after 5 epochs: 0.506185379327698\n",
            "Ultralytics YOLOv8.0.231 🚀 Python-3.10.12 torch-2.1.0+cu121 CUDA:0 (Tesla T4, 15102MiB)\n",
            "\u001b[34m\u001b[1mengine/trainer: \u001b[0mtask=detect, mode=train, model=yolov8n.pt, data=/content/drive/MyDrive/data.yaml, epochs=10, time=None, patience=50, batch=16, imgsz=640, save=True, save_period=-1, cache=False, device=None, workers=8, project=None, name=train63, exist_ok=False, pretrained=True, optimizer=auto, verbose=True, seed=0, deterministic=True, single_cls=False, rect=False, cos_lr=False, close_mosaic=10, resume=False, amp=True, fraction=1.0, profile=False, freeze=None, overlap_mask=True, mask_ratio=4, dropout=0.0, val=True, split=val, save_json=False, save_hybrid=False, conf=None, iou=0.7, max_det=300, half=False, dnn=False, plots=True, source=None, vid_stride=1, stream_buffer=False, visualize=False, augment=False, agnostic_nms=False, classes=None, retina_masks=False, embed=None, show=False, save_frames=False, save_txt=False, save_conf=False, save_crop=False, show_labels=True, show_conf=True, show_boxes=True, line_width=None, format=torchscript, keras=False, optimize=False, int8=False, dynamic=False, simplify=False, opset=None, workspace=4, nms=False, lr0=0.01, lrf=0.01, momentum=0.937, weight_decay=0.0005, warmup_epochs=3.0, warmup_momentum=0.8, warmup_bias_lr=0.0, box=7.5, cls=0.5, dfl=1.5, pose=12.0, kobj=1.0, label_smoothing=0.0, nbs=64, hsv_h=0.015, hsv_s=0.7, hsv_v=0.4, degrees=0.0, translate=0.1, scale=0.5, shear=0.0, perspective=0.0, flipud=0.0, fliplr=0.5, mosaic=1.0, mixup=0.0, copy_paste=0.0, cfg=None, tracker=botsort.yaml, save_dir=runs/detect/train63\n",
            "\n",
            "                   from  n    params  module                                       arguments                     \n",
            "  0                  -1  1       464  ultralytics.nn.modules.conv.Conv             [3, 16, 3, 2]                 \n",
            "  1                  -1  1      4672  ultralytics.nn.modules.conv.Conv             [16, 32, 3, 2]                \n",
            "  2                  -1  1      7360  ultralytics.nn.modules.block.C2f             [32, 32, 1, True]             \n",
            "  3                  -1  1     18560  ultralytics.nn.modules.conv.Conv             [32, 64, 3, 2]                \n",
            "  4                  -1  2     49664  ultralytics.nn.modules.block.C2f             [64, 64, 2, True]             \n",
            "  5                  -1  1     73984  ultralytics.nn.modules.conv.Conv             [64, 128, 3, 2]               \n",
            "  6                  -1  2    197632  ultralytics.nn.modules.block.C2f             [128, 128, 2, True]           \n",
            "  7                  -1  1    295424  ultralytics.nn.modules.conv.Conv             [128, 256, 3, 2]              \n",
            "  8                  -1  1    460288  ultralytics.nn.modules.block.C2f             [256, 256, 1, True]           \n",
            "  9                  -1  1    164608  ultralytics.nn.modules.block.SPPF            [256, 256, 5]                 \n",
            " 10                  -1  1         0  torch.nn.modules.upsampling.Upsample         [None, 2, 'nearest']          \n",
            " 11             [-1, 6]  1         0  ultralytics.nn.modules.conv.Concat           [1]                           \n",
            " 12                  -1  1    148224  ultralytics.nn.modules.block.C2f             [384, 128, 1]                 \n",
            " 13                  -1  1         0  torch.nn.modules.upsampling.Upsample         [None, 2, 'nearest']          \n",
            " 14             [-1, 4]  1         0  ultralytics.nn.modules.conv.Concat           [1]                           \n",
            " 15                  -1  1     37248  ultralytics.nn.modules.block.C2f             [192, 64, 1]                  \n",
            " 16                  -1  1     36992  ultralytics.nn.modules.conv.Conv             [64, 64, 3, 2]                \n",
            " 17            [-1, 12]  1         0  ultralytics.nn.modules.conv.Concat           [1]                           \n",
            " 18                  -1  1    123648  ultralytics.nn.modules.block.C2f             [192, 128, 1]                 \n",
            " 19                  -1  1    147712  ultralytics.nn.modules.conv.Conv             [128, 128, 3, 2]              \n",
            " 20             [-1, 9]  1         0  ultralytics.nn.modules.conv.Concat           [1]                           \n",
            " 21                  -1  1    493056  ultralytics.nn.modules.block.C2f             [384, 256, 1]                 \n",
            " 22        [15, 18, 21]  1    751507  ultralytics.nn.modules.head.Detect           [1, [64, 128, 256]]           \n",
            "Model summary: 225 layers, 3011043 parameters, 3011027 gradients, 8.2 GFLOPs\n",
            "\n",
            "Transferred 70/355 items from pretrained weights\n",
            "\u001b[34m\u001b[1mTensorBoard: \u001b[0mStart with 'tensorboard --logdir runs/detect/train63', view at http://localhost:6006/\n",
            "Freezing layer 'model.22.dfl.conv.weight'\n",
            "\u001b[34m\u001b[1mAMP: \u001b[0mrunning Automatic Mixed Precision (AMP) checks with YOLOv8n...\n",
            "\u001b[34m\u001b[1mAMP: \u001b[0mchecks passed ✅\n"
          ]
        },
        {
          "output_type": "stream",
          "name": "stderr",
          "text": [
            "\u001b[34m\u001b[1mtrain: \u001b[0mScanning /tmp/drone_data/train/labels.cache... 3256 images, 0 backgrounds, 0 corrupt: 100%|██████████| 3256/3256 [00:00<?, ?it/s]"
          ]
        },
        {
          "output_type": "stream",
          "name": "stdout",
          "text": [
            "\u001b[34m\u001b[1malbumentations: \u001b[0mBlur(p=0.01, blur_limit=(3, 7)), MedianBlur(p=0.01, blur_limit=(3, 7)), ToGray(p=0.01), CLAHE(p=0.01, clip_limit=(1, 4.0), tile_grid_size=(8, 8))\n"
          ]
        },
        {
          "output_type": "stream",
          "name": "stderr",
          "text": [
            "\n",
            "\u001b[34m\u001b[1mval: \u001b[0mScanning /tmp/drone_data/val/labels.cache... 814 images, 0 backgrounds, 0 corrupt: 100%|██████████| 814/814 [00:00<?, ?it/s]\n"
          ]
        },
        {
          "output_type": "stream",
          "name": "stdout",
          "text": [
            "Plotting labels to runs/detect/train63/labels.jpg... \n",
            "\u001b[34m\u001b[1moptimizer:\u001b[0m 'optimizer=auto' found, ignoring 'lr0=0.01' and 'momentum=0.937' and determining best 'optimizer', 'lr0' and 'momentum' automatically... \n",
            "\u001b[34m\u001b[1moptimizer:\u001b[0m AdamW(lr=0.002, momentum=0.9) with parameter groups 57 weight(decay=0.0), 64 weight(decay=0.0005), 63 bias(decay=0.0)\n",
            "10 epochs...\n",
            "Closing dataloader mosaic\n",
            "\u001b[34m\u001b[1malbumentations: \u001b[0mBlur(p=0.01, blur_limit=(3, 7)), MedianBlur(p=0.01, blur_limit=(3, 7)), ToGray(p=0.01), CLAHE(p=0.01, clip_limit=(1, 4.0), tile_grid_size=(8, 8))\n",
            "\n",
            "      Epoch    GPU_mem   box_loss   cls_loss   dfl_loss  Instances       Size\n"
          ]
        },
        {
          "output_type": "stream",
          "name": "stderr",
          "text": [
            "       1/10      2.31G      1.749      1.351      1.222          8        640: 100%|██████████| 204/204 [02:06<00:00,  1.62it/s]\n",
            "                 Class     Images  Instances      Box(P          R      mAP50  mAP50-95): 100%|██████████| 26/26 [00:17<00:00,  1.48it/s]"
          ]
        },
        {
          "output_type": "stream",
          "name": "stdout",
          "text": [
            "                   all        814        868      0.907      0.861      0.929      0.472\n"
          ]
        },
        {
          "output_type": "stream",
          "name": "stderr",
          "text": [
            "\n"
          ]
        },
        {
          "output_type": "stream",
          "name": "stdout",
          "text": [
            "\n",
            "      Epoch    GPU_mem   box_loss   cls_loss   dfl_loss  Instances       Size\n"
          ]
        },
        {
          "output_type": "stream",
          "name": "stderr",
          "text": [
            "       2/10      2.29G      1.619     0.9869      1.123          8        640: 100%|██████████| 204/204 [01:54<00:00,  1.79it/s]\n",
            "                 Class     Images  Instances      Box(P          R      mAP50  mAP50-95): 100%|██████████| 26/26 [00:17<00:00,  1.48it/s]"
          ]
        },
        {
          "output_type": "stream",
          "name": "stdout",
          "text": [
            "                   all        814        868      0.938      0.873      0.917       0.47\n"
          ]
        },
        {
          "output_type": "stream",
          "name": "stderr",
          "text": [
            "\n"
          ]
        },
        {
          "output_type": "stream",
          "name": "stdout",
          "text": [
            "\n",
            "      Epoch    GPU_mem   box_loss   cls_loss   dfl_loss  Instances       Size\n"
          ]
        },
        {
          "output_type": "stream",
          "name": "stderr",
          "text": [
            "       3/10      2.28G      1.589     0.9196      1.111          8        640: 100%|██████████| 204/204 [01:57<00:00,  1.74it/s]\n",
            "                 Class     Images  Instances      Box(P          R      mAP50  mAP50-95): 100%|██████████| 26/26 [00:17<00:00,  1.51it/s]"
          ]
        },
        {
          "output_type": "stream",
          "name": "stdout",
          "text": [
            "                   all        814        868      0.896      0.851      0.905      0.455\n"
          ]
        },
        {
          "output_type": "stream",
          "name": "stderr",
          "text": [
            "\n"
          ]
        },
        {
          "output_type": "stream",
          "name": "stdout",
          "text": [
            "\n",
            "      Epoch    GPU_mem   box_loss   cls_loss   dfl_loss  Instances       Size\n"
          ]
        },
        {
          "output_type": "stream",
          "name": "stderr",
          "text": [
            "       4/10      2.28G      1.573     0.8794      1.105         10        640: 100%|██████████| 204/204 [01:57<00:00,  1.73it/s]\n",
            "                 Class     Images  Instances      Box(P          R      mAP50  mAP50-95): 100%|██████████| 26/26 [00:17<00:00,  1.49it/s]"
          ]
        },
        {
          "output_type": "stream",
          "name": "stdout",
          "text": [
            "                   all        814        868      0.914      0.911      0.934      0.516\n"
          ]
        },
        {
          "output_type": "stream",
          "name": "stderr",
          "text": [
            "\n"
          ]
        },
        {
          "output_type": "stream",
          "name": "stdout",
          "text": [
            "\n",
            "      Epoch    GPU_mem   box_loss   cls_loss   dfl_loss  Instances       Size\n"
          ]
        },
        {
          "output_type": "stream",
          "name": "stderr",
          "text": [
            "       5/10      2.28G       1.56      0.864        1.1          9        640: 100%|██████████| 204/204 [01:54<00:00,  1.78it/s]\n",
            "                 Class     Images  Instances      Box(P          R      mAP50  mAP50-95): 100%|██████████| 26/26 [00:17<00:00,  1.49it/s]"
          ]
        },
        {
          "output_type": "stream",
          "name": "stdout",
          "text": [
            "                   all        814        868      0.945      0.925      0.955      0.519\n"
          ]
        },
        {
          "output_type": "stream",
          "name": "stderr",
          "text": [
            "\n"
          ]
        },
        {
          "output_type": "stream",
          "name": "stdout",
          "text": [
            "\n",
            "      Epoch    GPU_mem   box_loss   cls_loss   dfl_loss  Instances       Size\n"
          ]
        },
        {
          "output_type": "stream",
          "name": "stderr",
          "text": [
            "       6/10      2.28G      1.547     0.8036      1.084          8        640: 100%|██████████| 204/204 [01:58<00:00,  1.72it/s]\n",
            "                 Class     Images  Instances      Box(P          R      mAP50  mAP50-95): 100%|██████████| 26/26 [00:17<00:00,  1.52it/s]"
          ]
        },
        {
          "output_type": "stream",
          "name": "stdout",
          "text": [
            "                   all        814        868      0.948      0.915      0.954      0.536\n"
          ]
        },
        {
          "output_type": "stream",
          "name": "stderr",
          "text": [
            "\n"
          ]
        },
        {
          "output_type": "stream",
          "name": "stdout",
          "text": [
            "\n",
            "      Epoch    GPU_mem   box_loss   cls_loss   dfl_loss  Instances       Size\n"
          ]
        },
        {
          "output_type": "stream",
          "name": "stderr",
          "text": [
            "       7/10      2.28G      1.511     0.7723      1.086          8        640: 100%|██████████| 204/204 [01:55<00:00,  1.76it/s]\n",
            "                 Class     Images  Instances      Box(P          R      mAP50  mAP50-95): 100%|██████████| 26/26 [00:17<00:00,  1.52it/s]"
          ]
        },
        {
          "output_type": "stream",
          "name": "stdout",
          "text": [
            "                   all        814        868      0.941      0.923      0.959       0.53\n"
          ]
        },
        {
          "output_type": "stream",
          "name": "stderr",
          "text": [
            "\n"
          ]
        },
        {
          "output_type": "stream",
          "name": "stdout",
          "text": [
            "\n",
            "      Epoch    GPU_mem   box_loss   cls_loss   dfl_loss  Instances       Size\n"
          ]
        },
        {
          "output_type": "stream",
          "name": "stderr",
          "text": [
            "       8/10      2.28G      1.487     0.7355       1.07          9        640: 100%|██████████| 204/204 [02:08<00:00,  1.58it/s]\n",
            "                 Class     Images  Instances      Box(P          R      mAP50  mAP50-95): 100%|██████████| 26/26 [00:17<00:00,  1.50it/s]"
          ]
        },
        {
          "output_type": "stream",
          "name": "stdout",
          "text": [
            "                   all        814        868      0.955      0.939       0.97      0.537\n"
          ]
        },
        {
          "output_type": "stream",
          "name": "stderr",
          "text": [
            "\n"
          ]
        },
        {
          "output_type": "stream",
          "name": "stdout",
          "text": [
            "\n",
            "      Epoch    GPU_mem   box_loss   cls_loss   dfl_loss  Instances       Size\n"
          ]
        },
        {
          "output_type": "stream",
          "name": "stderr",
          "text": [
            "       9/10      2.28G      1.478     0.7204      1.068          9        640: 100%|██████████| 204/204 [02:08<00:00,  1.58it/s]\n",
            "                 Class     Images  Instances      Box(P          R      mAP50  mAP50-95): 100%|██████████| 26/26 [00:17<00:00,  1.50it/s]"
          ]
        },
        {
          "output_type": "stream",
          "name": "stdout",
          "text": [
            "                   all        814        868      0.955      0.952       0.97      0.554\n"
          ]
        },
        {
          "output_type": "stream",
          "name": "stderr",
          "text": [
            "\n"
          ]
        },
        {
          "output_type": "stream",
          "name": "stdout",
          "text": [
            "\n",
            "      Epoch    GPU_mem   box_loss   cls_loss   dfl_loss  Instances       Size\n"
          ]
        },
        {
          "output_type": "stream",
          "name": "stderr",
          "text": [
            "      10/10      2.28G      1.427     0.6936      1.044          9        640: 100%|██████████| 204/204 [01:56<00:00,  1.75it/s]\n",
            "                 Class     Images  Instances      Box(P          R      mAP50  mAP50-95): 100%|██████████| 26/26 [00:17<00:00,  1.47it/s]"
          ]
        },
        {
          "output_type": "stream",
          "name": "stdout",
          "text": [
            "                   all        814        868      0.956      0.944      0.966      0.563\n"
          ]
        },
        {
          "output_type": "stream",
          "name": "stderr",
          "text": [
            "\n"
          ]
        },
        {
          "output_type": "stream",
          "name": "stdout",
          "text": [
            "\n",
            "10 epochs completed in 0.387 hours.\n",
            "Optimizer stripped from runs/detect/train63/weights/last.pt, 6.2MB\n",
            "Optimizer stripped from runs/detect/train63/weights/best.pt, 6.2MB\n",
            "\n",
            "Validating runs/detect/train63/weights/best.pt...\n",
            "Ultralytics YOLOv8.0.231 🚀 Python-3.10.12 torch-2.1.0+cu121 CUDA:0 (Tesla T4, 15102MiB)\n",
            "Model summary (fused): 168 layers, 3005843 parameters, 0 gradients, 8.1 GFLOPs\n"
          ]
        },
        {
          "output_type": "stream",
          "name": "stderr",
          "text": [
            "                 Class     Images  Instances      Box(P          R      mAP50  mAP50-95): 100%|██████████| 26/26 [00:21<00:00,  1.24it/s]\n"
          ]
        },
        {
          "output_type": "stream",
          "name": "stdout",
          "text": [
            "                   all        814        868      0.956      0.944      0.966      0.563\n",
            "Speed: 0.2ms preprocess, 2.2ms inference, 0.0ms loss, 2.7ms postprocess per image\n",
            "Results saved to \u001b[1mruns/detect/train63\u001b[0m\n",
            "Ultralytics YOLOv8.0.231 🚀 Python-3.10.12 torch-2.1.0+cu121 CUDA:0 (Tesla T4, 15102MiB)\n",
            "Model summary (fused): 168 layers, 3005843 parameters, 0 gradients, 8.1 GFLOPs\n"
          ]
        },
        {
          "output_type": "stream",
          "name": "stderr",
          "text": [
            "\u001b[34m\u001b[1mval: \u001b[0mScanning /tmp/drone_data/val/labels.cache... 814 images, 0 backgrounds, 0 corrupt: 100%|██████████| 814/814 [00:00<?, ?it/s]\n",
            "                 Class     Images  Instances      Box(P          R      mAP50  mAP50-95): 100%|██████████| 51/51 [00:22<00:00,  2.31it/s]\n"
          ]
        },
        {
          "output_type": "stream",
          "name": "stdout",
          "text": [
            "                   all        814        868      0.958      0.945      0.966      0.564\n",
            "Speed: 0.3ms preprocess, 3.4ms inference, 0.0ms loss, 2.3ms postprocess per image\n",
            "Results saved to \u001b[1mruns/detect/train632\u001b[0m\n",
            "mAP after 10 epochs: 0.5641725390733773\n",
            "Ultralytics YOLOv8.0.231 🚀 Python-3.10.12 torch-2.1.0+cu121 CUDA:0 (Tesla T4, 15102MiB)\n",
            "\u001b[34m\u001b[1mengine/trainer: \u001b[0mtask=detect, mode=train, model=yolov8n.pt, data=/content/drive/MyDrive/data.yaml, epochs=20, time=None, patience=50, batch=16, imgsz=640, save=True, save_period=-1, cache=False, device=None, workers=8, project=None, name=train633, exist_ok=False, pretrained=True, optimizer=auto, verbose=True, seed=0, deterministic=True, single_cls=False, rect=False, cos_lr=False, close_mosaic=10, resume=False, amp=True, fraction=1.0, profile=False, freeze=None, overlap_mask=True, mask_ratio=4, dropout=0.0, val=True, split=val, save_json=False, save_hybrid=False, conf=None, iou=0.7, max_det=300, half=False, dnn=False, plots=True, source=None, vid_stride=1, stream_buffer=False, visualize=False, augment=False, agnostic_nms=False, classes=None, retina_masks=False, embed=None, show=False, save_frames=False, save_txt=False, save_conf=False, save_crop=False, show_labels=True, show_conf=True, show_boxes=True, line_width=None, format=torchscript, keras=False, optimize=False, int8=False, dynamic=False, simplify=False, opset=None, workspace=4, nms=False, lr0=0.01, lrf=0.01, momentum=0.937, weight_decay=0.0005, warmup_epochs=3.0, warmup_momentum=0.8, warmup_bias_lr=0.0, box=7.5, cls=0.5, dfl=1.5, pose=12.0, kobj=1.0, label_smoothing=0.0, nbs=64, hsv_h=0.015, hsv_s=0.7, hsv_v=0.4, degrees=0.0, translate=0.1, scale=0.5, shear=0.0, perspective=0.0, flipud=0.0, fliplr=0.5, mosaic=0.0, mixup=0.0, copy_paste=0.0, cfg=None, tracker=botsort.yaml, save_dir=runs/detect/train633\n",
            "\n",
            "                   from  n    params  module                                       arguments                     \n",
            "  0                  -1  1       464  ultralytics.nn.modules.conv.Conv             [3, 16, 3, 2]                 \n",
            "  1                  -1  1      4672  ultralytics.nn.modules.conv.Conv             [16, 32, 3, 2]                \n",
            "  2                  -1  1      7360  ultralytics.nn.modules.block.C2f             [32, 32, 1, True]             \n",
            "  3                  -1  1     18560  ultralytics.nn.modules.conv.Conv             [32, 64, 3, 2]                \n",
            "  4                  -1  2     49664  ultralytics.nn.modules.block.C2f             [64, 64, 2, True]             \n",
            "  5                  -1  1     73984  ultralytics.nn.modules.conv.Conv             [64, 128, 3, 2]               \n",
            "  6                  -1  2    197632  ultralytics.nn.modules.block.C2f             [128, 128, 2, True]           \n",
            "  7                  -1  1    295424  ultralytics.nn.modules.conv.Conv             [128, 256, 3, 2]              \n",
            "  8                  -1  1    460288  ultralytics.nn.modules.block.C2f             [256, 256, 1, True]           \n",
            "  9                  -1  1    164608  ultralytics.nn.modules.block.SPPF            [256, 256, 5]                 \n",
            " 10                  -1  1         0  torch.nn.modules.upsampling.Upsample         [None, 2, 'nearest']          \n",
            " 11             [-1, 6]  1         0  ultralytics.nn.modules.conv.Concat           [1]                           \n",
            " 12                  -1  1    148224  ultralytics.nn.modules.block.C2f             [384, 128, 1]                 \n",
            " 13                  -1  1         0  torch.nn.modules.upsampling.Upsample         [None, 2, 'nearest']          \n",
            " 14             [-1, 4]  1         0  ultralytics.nn.modules.conv.Concat           [1]                           \n",
            " 15                  -1  1     37248  ultralytics.nn.modules.block.C2f             [192, 64, 1]                  \n",
            " 16                  -1  1     36992  ultralytics.nn.modules.conv.Conv             [64, 64, 3, 2]                \n",
            " 17            [-1, 12]  1         0  ultralytics.nn.modules.conv.Concat           [1]                           \n",
            " 18                  -1  1    123648  ultralytics.nn.modules.block.C2f             [192, 128, 1]                 \n",
            " 19                  -1  1    147712  ultralytics.nn.modules.conv.Conv             [128, 128, 3, 2]              \n",
            " 20             [-1, 9]  1         0  ultralytics.nn.modules.conv.Concat           [1]                           \n",
            " 21                  -1  1    493056  ultralytics.nn.modules.block.C2f             [384, 256, 1]                 \n",
            " 22        [15, 18, 21]  1    751507  ultralytics.nn.modules.head.Detect           [1, [64, 128, 256]]           \n",
            "Model summary: 225 layers, 3011043 parameters, 3011027 gradients, 8.2 GFLOPs\n",
            "\n",
            "Transferred 70/355 items from pretrained weights\n",
            "\u001b[34m\u001b[1mTensorBoard: \u001b[0mStart with 'tensorboard --logdir runs/detect/train633', view at http://localhost:6006/\n",
            "Freezing layer 'model.22.dfl.conv.weight'\n",
            "\u001b[34m\u001b[1mAMP: \u001b[0mrunning Automatic Mixed Precision (AMP) checks with YOLOv8n...\n",
            "\u001b[34m\u001b[1mAMP: \u001b[0mchecks passed ✅\n"
          ]
        },
        {
          "output_type": "stream",
          "name": "stderr",
          "text": [
            "\u001b[34m\u001b[1mtrain: \u001b[0mScanning /tmp/drone_data/train/labels.cache... 3256 images, 0 backgrounds, 0 corrupt: 100%|██████████| 3256/3256 [00:00<?, ?it/s]"
          ]
        },
        {
          "output_type": "stream",
          "name": "stdout",
          "text": [
            "\u001b[34m\u001b[1malbumentations: \u001b[0mBlur(p=0.01, blur_limit=(3, 7)), MedianBlur(p=0.01, blur_limit=(3, 7)), ToGray(p=0.01), CLAHE(p=0.01, clip_limit=(1, 4.0), tile_grid_size=(8, 8))\n"
          ]
        },
        {
          "output_type": "stream",
          "name": "stderr",
          "text": [
            "\n",
            "\u001b[34m\u001b[1mval: \u001b[0mScanning /tmp/drone_data/val/labels.cache... 814 images, 0 backgrounds, 0 corrupt: 100%|██████████| 814/814 [00:00<?, ?it/s]\n"
          ]
        },
        {
          "output_type": "stream",
          "name": "stdout",
          "text": [
            "Plotting labels to runs/detect/train633/labels.jpg... \n",
            "\u001b[34m\u001b[1moptimizer:\u001b[0m 'optimizer=auto' found, ignoring 'lr0=0.01' and 'momentum=0.937' and determining best 'optimizer', 'lr0' and 'momentum' automatically... \n",
            "\u001b[34m\u001b[1moptimizer:\u001b[0m AdamW(lr=0.002, momentum=0.9) with parameter groups 57 weight(decay=0.0), 64 weight(decay=0.0005), 63 bias(decay=0.0)\n",
            "20 epochs...\n",
            "\n",
            "      Epoch    GPU_mem   box_loss   cls_loss   dfl_loss  Instances       Size\n"
          ]
        },
        {
          "output_type": "stream",
          "name": "stderr",
          "text": [
            "       1/20      2.37G      1.466      0.761      1.063          8        640: 100%|██████████| 204/204 [02:00<00:00,  1.70it/s]\n",
            "                 Class     Images  Instances      Box(P          R      mAP50  mAP50-95): 100%|██████████| 26/26 [00:17<00:00,  1.48it/s]"
          ]
        },
        {
          "output_type": "stream",
          "name": "stdout",
          "text": [
            "                   all        814        868      0.925      0.897      0.923      0.501\n"
          ]
        },
        {
          "output_type": "stream",
          "name": "stderr",
          "text": [
            "\n"
          ]
        },
        {
          "output_type": "stream",
          "name": "stdout",
          "text": [
            "\n",
            "      Epoch    GPU_mem   box_loss   cls_loss   dfl_loss  Instances       Size\n"
          ]
        },
        {
          "output_type": "stream",
          "name": "stderr",
          "text": [
            "       2/20      2.32G      1.524     0.8287      1.084          9        640: 100%|██████████| 204/204 [01:55<00:00,  1.76it/s]\n",
            "                 Class     Images  Instances      Box(P          R      mAP50  mAP50-95): 100%|██████████| 26/26 [00:18<00:00,  1.44it/s]"
          ]
        },
        {
          "output_type": "stream",
          "name": "stdout",
          "text": [
            "                   all        814        868      0.932      0.918      0.945      0.502\n"
          ]
        },
        {
          "output_type": "stream",
          "name": "stderr",
          "text": [
            "\n"
          ]
        },
        {
          "output_type": "stream",
          "name": "stdout",
          "text": [
            "\n",
            "      Epoch    GPU_mem   box_loss   cls_loss   dfl_loss  Instances       Size\n"
          ]
        },
        {
          "output_type": "stream",
          "name": "stderr",
          "text": [
            "       3/20      2.31G      1.566     0.8389      1.101          8        640: 100%|██████████| 204/204 [02:01<00:00,  1.69it/s]\n",
            "                 Class     Images  Instances      Box(P          R      mAP50  mAP50-95): 100%|██████████| 26/26 [00:17<00:00,  1.50it/s]"
          ]
        },
        {
          "output_type": "stream",
          "name": "stdout",
          "text": [
            "                   all        814        868       0.93      0.902      0.947      0.517\n"
          ]
        },
        {
          "output_type": "stream",
          "name": "stderr",
          "text": [
            "\n"
          ]
        },
        {
          "output_type": "stream",
          "name": "stdout",
          "text": [
            "\n",
            "      Epoch    GPU_mem   box_loss   cls_loss   dfl_loss  Instances       Size\n"
          ]
        },
        {
          "output_type": "stream",
          "name": "stderr",
          "text": [
            "       4/20      2.31G      1.541      0.832      1.092          8        640: 100%|██████████| 204/204 [01:53<00:00,  1.80it/s]\n",
            "                 Class     Images  Instances      Box(P          R      mAP50  mAP50-95): 100%|██████████| 26/26 [00:17<00:00,  1.50it/s]"
          ]
        },
        {
          "output_type": "stream",
          "name": "stdout",
          "text": [
            "                   all        814        868      0.925      0.889      0.926      0.485\n"
          ]
        },
        {
          "output_type": "stream",
          "name": "stderr",
          "text": [
            "\n"
          ]
        },
        {
          "output_type": "stream",
          "name": "stdout",
          "text": [
            "\n",
            "      Epoch    GPU_mem   box_loss   cls_loss   dfl_loss  Instances       Size\n"
          ]
        },
        {
          "output_type": "stream",
          "name": "stderr",
          "text": [
            "       5/20      2.31G      1.526     0.8092        1.1          8        640: 100%|██████████| 204/204 [01:56<00:00,  1.75it/s]\n",
            "                 Class     Images  Instances      Box(P          R      mAP50  mAP50-95): 100%|██████████| 26/26 [00:17<00:00,  1.48it/s]"
          ]
        },
        {
          "output_type": "stream",
          "name": "stdout",
          "text": [
            "                   all        814        868      0.942      0.905      0.949      0.516\n"
          ]
        },
        {
          "output_type": "stream",
          "name": "stderr",
          "text": [
            "\n"
          ]
        },
        {
          "output_type": "stream",
          "name": "stdout",
          "text": [
            "\n",
            "      Epoch    GPU_mem   box_loss   cls_loss   dfl_loss  Instances       Size\n"
          ]
        },
        {
          "output_type": "stream",
          "name": "stderr",
          "text": [
            "       6/20      2.31G      1.533     0.7887       1.09          8        640: 100%|██████████| 204/204 [01:58<00:00,  1.72it/s]\n",
            "                 Class     Images  Instances      Box(P          R      mAP50  mAP50-95): 100%|██████████| 26/26 [00:21<00:00,  1.24it/s]"
          ]
        },
        {
          "output_type": "stream",
          "name": "stdout",
          "text": [
            "                   all        814        868      0.946      0.918      0.957      0.535\n"
          ]
        },
        {
          "output_type": "stream",
          "name": "stderr",
          "text": [
            "\n"
          ]
        },
        {
          "output_type": "stream",
          "name": "stdout",
          "text": [
            "\n",
            "      Epoch    GPU_mem   box_loss   cls_loss   dfl_loss  Instances       Size\n"
          ]
        },
        {
          "output_type": "stream",
          "name": "stderr",
          "text": [
            "       7/20      2.31G      1.514     0.7763      1.077          9        640: 100%|██████████| 204/204 [01:56<00:00,  1.75it/s]\n",
            "                 Class     Images  Instances      Box(P          R      mAP50  mAP50-95): 100%|██████████| 26/26 [00:17<00:00,  1.51it/s]"
          ]
        },
        {
          "output_type": "stream",
          "name": "stdout",
          "text": [
            "                   all        814        868      0.936       0.91      0.945      0.528\n"
          ]
        },
        {
          "output_type": "stream",
          "name": "stderr",
          "text": [
            "\n"
          ]
        },
        {
          "output_type": "stream",
          "name": "stdout",
          "text": [
            "\n",
            "      Epoch    GPU_mem   box_loss   cls_loss   dfl_loss  Instances       Size\n"
          ]
        },
        {
          "output_type": "stream",
          "name": "stderr",
          "text": [
            "       8/20      2.31G      1.493     0.7502      1.079          8        640: 100%|██████████| 204/204 [01:55<00:00,  1.76it/s]\n",
            "                 Class     Images  Instances      Box(P          R      mAP50  mAP50-95): 100%|██████████| 26/26 [00:17<00:00,  1.46it/s]"
          ]
        },
        {
          "output_type": "stream",
          "name": "stdout",
          "text": [
            "                   all        814        868      0.937      0.906      0.947      0.508\n"
          ]
        },
        {
          "output_type": "stream",
          "name": "stderr",
          "text": [
            "\n"
          ]
        },
        {
          "output_type": "stream",
          "name": "stdout",
          "text": [
            "\n",
            "      Epoch    GPU_mem   box_loss   cls_loss   dfl_loss  Instances       Size\n"
          ]
        },
        {
          "output_type": "stream",
          "name": "stderr",
          "text": [
            "       9/20      2.31G      1.478     0.7412      1.066          9        640: 100%|██████████| 204/204 [01:58<00:00,  1.73it/s]\n",
            "                 Class     Images  Instances      Box(P          R      mAP50  mAP50-95): 100%|██████████| 26/26 [00:17<00:00,  1.48it/s]"
          ]
        },
        {
          "output_type": "stream",
          "name": "stdout",
          "text": [
            "                   all        814        868      0.946      0.929      0.968      0.551\n"
          ]
        },
        {
          "output_type": "stream",
          "name": "stderr",
          "text": [
            "\n"
          ]
        },
        {
          "output_type": "stream",
          "name": "stdout",
          "text": [
            "\n",
            "      Epoch    GPU_mem   box_loss   cls_loss   dfl_loss  Instances       Size\n"
          ]
        },
        {
          "output_type": "stream",
          "name": "stderr",
          "text": [
            "      10/20      2.31G      1.472     0.7379      1.074          9        640: 100%|██████████| 204/204 [02:00<00:00,  1.69it/s]\n",
            "                 Class     Images  Instances      Box(P          R      mAP50  mAP50-95): 100%|██████████| 26/26 [00:17<00:00,  1.48it/s]"
          ]
        },
        {
          "output_type": "stream",
          "name": "stdout",
          "text": [
            "                   all        814        868       0.95      0.925      0.964      0.561\n"
          ]
        },
        {
          "output_type": "stream",
          "name": "stderr",
          "text": [
            "\n"
          ]
        },
        {
          "output_type": "stream",
          "name": "stdout",
          "text": [
            "Closing dataloader mosaic\n",
            "\u001b[34m\u001b[1malbumentations: \u001b[0mBlur(p=0.01, blur_limit=(3, 7)), MedianBlur(p=0.01, blur_limit=(3, 7)), ToGray(p=0.01), CLAHE(p=0.01, clip_limit=(1, 4.0), tile_grid_size=(8, 8))\n",
            "\n",
            "      Epoch    GPU_mem   box_loss   cls_loss   dfl_loss  Instances       Size\n"
          ]
        },
        {
          "output_type": "stream",
          "name": "stderr",
          "text": [
            "      11/20      2.31G       1.46     0.7122      1.058          8        640: 100%|██████████| 204/204 [01:59<00:00,  1.70it/s]\n",
            "                 Class     Images  Instances      Box(P          R      mAP50  mAP50-95): 100%|██████████| 26/26 [00:16<00:00,  1.57it/s]"
          ]
        },
        {
          "output_type": "stream",
          "name": "stdout",
          "text": [
            "                   all        814        868      0.954      0.937      0.968      0.558\n"
          ]
        },
        {
          "output_type": "stream",
          "name": "stderr",
          "text": [
            "\n"
          ]
        },
        {
          "output_type": "stream",
          "name": "stdout",
          "text": [
            "\n",
            "      Epoch    GPU_mem   box_loss   cls_loss   dfl_loss  Instances       Size\n"
          ]
        },
        {
          "output_type": "stream",
          "name": "stderr",
          "text": [
            "      12/20      2.31G      1.428     0.7005      1.057          8        640: 100%|██████████| 204/204 [01:54<00:00,  1.78it/s]\n",
            "                 Class     Images  Instances      Box(P          R      mAP50  mAP50-95): 100%|██████████| 26/26 [00:17<00:00,  1.46it/s]\n"
          ]
        },
        {
          "output_type": "stream",
          "name": "stdout",
          "text": [
            "                   all        814        868      0.949      0.932      0.964      0.541\n",
            "\n",
            "      Epoch    GPU_mem   box_loss   cls_loss   dfl_loss  Instances       Size\n"
          ]
        },
        {
          "output_type": "stream",
          "name": "stderr",
          "text": [
            "      13/20      2.31G      1.435     0.6854      1.053          8        640: 100%|██████████| 204/204 [02:01<00:00,  1.68it/s]\n",
            "                 Class     Images  Instances      Box(P          R      mAP50  mAP50-95): 100%|██████████| 26/26 [00:17<00:00,  1.49it/s]"
          ]
        },
        {
          "output_type": "stream",
          "name": "stdout",
          "text": [
            "                   all        814        868      0.942      0.928      0.958      0.551\n"
          ]
        },
        {
          "output_type": "stream",
          "name": "stderr",
          "text": [
            "\n"
          ]
        },
        {
          "output_type": "stream",
          "name": "stdout",
          "text": [
            "\n",
            "      Epoch    GPU_mem   box_loss   cls_loss   dfl_loss  Instances       Size\n"
          ]
        },
        {
          "output_type": "stream",
          "name": "stderr",
          "text": [
            "      14/20      2.31G      1.417     0.6723      1.048          8        640: 100%|██████████| 204/204 [01:57<00:00,  1.73it/s]\n",
            "                 Class     Images  Instances      Box(P          R      mAP50  mAP50-95): 100%|██████████| 26/26 [00:17<00:00,  1.46it/s]"
          ]
        },
        {
          "output_type": "stream",
          "name": "stdout",
          "text": [
            "                   all        814        868      0.945      0.957      0.968      0.556\n"
          ]
        },
        {
          "output_type": "stream",
          "name": "stderr",
          "text": [
            "\n"
          ]
        },
        {
          "output_type": "stream",
          "name": "stdout",
          "text": [
            "\n",
            "      Epoch    GPU_mem   box_loss   cls_loss   dfl_loss  Instances       Size\n"
          ]
        },
        {
          "output_type": "stream",
          "name": "stderr",
          "text": [
            "      15/20      2.31G       1.41     0.6793      1.038          8        640: 100%|██████████| 204/204 [01:58<00:00,  1.72it/s]\n",
            "                 Class     Images  Instances      Box(P          R      mAP50  mAP50-95): 100%|██████████| 26/26 [00:17<00:00,  1.47it/s]"
          ]
        },
        {
          "output_type": "stream",
          "name": "stdout",
          "text": [
            "                   all        814        868      0.949      0.959      0.974      0.567\n"
          ]
        },
        {
          "output_type": "stream",
          "name": "stderr",
          "text": [
            "\n"
          ]
        },
        {
          "output_type": "stream",
          "name": "stdout",
          "text": [
            "\n",
            "      Epoch    GPU_mem   box_loss   cls_loss   dfl_loss  Instances       Size\n"
          ]
        },
        {
          "output_type": "stream",
          "name": "stderr",
          "text": [
            "      16/20      2.31G      1.405     0.6549      1.035          8        640: 100%|██████████| 204/204 [02:00<00:00,  1.70it/s]\n",
            "                 Class     Images  Instances      Box(P          R      mAP50  mAP50-95): 100%|██████████| 26/26 [00:17<00:00,  1.48it/s]"
          ]
        },
        {
          "output_type": "stream",
          "name": "stdout",
          "text": [
            "                   all        814        868      0.947       0.95      0.967      0.572\n"
          ]
        },
        {
          "output_type": "stream",
          "name": "stderr",
          "text": [
            "\n"
          ]
        },
        {
          "output_type": "stream",
          "name": "stdout",
          "text": [
            "\n",
            "      Epoch    GPU_mem   box_loss   cls_loss   dfl_loss  Instances       Size\n"
          ]
        },
        {
          "output_type": "stream",
          "name": "stderr",
          "text": [
            "      17/20      2.31G      1.387     0.6394      1.034          8        640: 100%|██████████| 204/204 [01:56<00:00,  1.75it/s]\n",
            "                 Class     Images  Instances      Box(P          R      mAP50  mAP50-95): 100%|██████████| 26/26 [00:18<00:00,  1.43it/s]"
          ]
        },
        {
          "output_type": "stream",
          "name": "stdout",
          "text": [
            "                   all        814        868      0.948      0.955      0.971      0.574\n"
          ]
        },
        {
          "output_type": "stream",
          "name": "stderr",
          "text": [
            "\n"
          ]
        },
        {
          "output_type": "stream",
          "name": "stdout",
          "text": [
            "\n",
            "      Epoch    GPU_mem   box_loss   cls_loss   dfl_loss  Instances       Size\n"
          ]
        },
        {
          "output_type": "stream",
          "name": "stderr",
          "text": [
            "      18/20      2.31G      1.376     0.6345      1.035          7        640: 100%|██████████| 204/204 [01:58<00:00,  1.72it/s]\n",
            "                 Class     Images  Instances      Box(P          R      mAP50  mAP50-95): 100%|██████████| 26/26 [00:17<00:00,  1.46it/s]"
          ]
        },
        {
          "output_type": "stream",
          "name": "stdout",
          "text": [
            "                   all        814        868      0.947      0.943      0.961       0.56\n"
          ]
        },
        {
          "output_type": "stream",
          "name": "stderr",
          "text": [
            "\n"
          ]
        },
        {
          "output_type": "stream",
          "name": "stdout",
          "text": [
            "\n",
            "      Epoch    GPU_mem   box_loss   cls_loss   dfl_loss  Instances       Size\n"
          ]
        },
        {
          "output_type": "stream",
          "name": "stderr",
          "text": [
            "      19/20      2.31G      1.379     0.6271      1.029          8        640: 100%|██████████| 204/204 [01:59<00:00,  1.71it/s]\n",
            "                 Class     Images  Instances      Box(P          R      mAP50  mAP50-95): 100%|██████████| 26/26 [00:17<00:00,  1.48it/s]"
          ]
        },
        {
          "output_type": "stream",
          "name": "stdout",
          "text": [
            "                   all        814        868      0.942      0.947      0.964       0.56\n"
          ]
        },
        {
          "output_type": "stream",
          "name": "stderr",
          "text": [
            "\n"
          ]
        },
        {
          "output_type": "stream",
          "name": "stdout",
          "text": [
            "\n",
            "      Epoch    GPU_mem   box_loss   cls_loss   dfl_loss  Instances       Size\n"
          ]
        },
        {
          "output_type": "stream",
          "name": "stderr",
          "text": [
            "      20/20      2.31G      1.363     0.6167      1.025          9        640: 100%|██████████| 204/204 [01:57<00:00,  1.73it/s]\n",
            "                 Class     Images  Instances      Box(P          R      mAP50  mAP50-95): 100%|██████████| 26/26 [00:17<00:00,  1.46it/s]\n"
          ]
        },
        {
          "output_type": "stream",
          "name": "stdout",
          "text": [
            "                   all        814        868       0.95      0.956      0.974      0.588\n",
            "\n",
            "20 epochs completed in 0.770 hours.\n",
            "Optimizer stripped from runs/detect/train633/weights/last.pt, 6.2MB\n",
            "Optimizer stripped from runs/detect/train633/weights/best.pt, 6.2MB\n",
            "\n",
            "Validating runs/detect/train633/weights/best.pt...\n",
            "Ultralytics YOLOv8.0.231 🚀 Python-3.10.12 torch-2.1.0+cu121 CUDA:0 (Tesla T4, 15102MiB)\n",
            "Model summary (fused): 168 layers, 3005843 parameters, 0 gradients, 8.1 GFLOPs\n"
          ]
        },
        {
          "output_type": "stream",
          "name": "stderr",
          "text": [
            "                 Class     Images  Instances      Box(P          R      mAP50  mAP50-95): 100%|██████████| 26/26 [00:19<00:00,  1.35it/s]\n"
          ]
        },
        {
          "output_type": "stream",
          "name": "stdout",
          "text": [
            "                   all        814        868      0.951      0.956      0.974      0.589\n",
            "Speed: 0.1ms preprocess, 2.1ms inference, 0.0ms loss, 2.3ms postprocess per image\n",
            "Results saved to \u001b[1mruns/detect/train633\u001b[0m\n",
            "Ultralytics YOLOv8.0.231 🚀 Python-3.10.12 torch-2.1.0+cu121 CUDA:0 (Tesla T4, 15102MiB)\n",
            "Model summary (fused): 168 layers, 3005843 parameters, 0 gradients, 8.1 GFLOPs\n"
          ]
        },
        {
          "output_type": "stream",
          "name": "stderr",
          "text": [
            "\u001b[34m\u001b[1mval: \u001b[0mScanning /tmp/drone_data/val/labels.cache... 814 images, 0 backgrounds, 0 corrupt: 100%|██████████| 814/814 [00:00<?, ?it/s]\n",
            "                 Class     Images  Instances      Box(P          R      mAP50  mAP50-95): 100%|██████████| 51/51 [00:21<00:00,  2.38it/s]\n"
          ]
        },
        {
          "output_type": "stream",
          "name": "stdout",
          "text": [
            "                   all        814        868       0.95      0.955      0.972      0.587\n",
            "Speed: 0.2ms preprocess, 3.5ms inference, 0.0ms loss, 2.5ms postprocess per image\n",
            "Results saved to \u001b[1mruns/detect/train6332\u001b[0m\n",
            "mAP after 20 epochs: 0.5869205822128871\n",
            "Ultralytics YOLOv8.0.231 🚀 Python-3.10.12 torch-2.1.0+cu121 CUDA:0 (Tesla T4, 15102MiB)\n",
            "\u001b[34m\u001b[1mengine/trainer: \u001b[0mtask=detect, mode=train, model=yolov8n.pt, data=/content/drive/MyDrive/data.yaml, epochs=30, time=None, patience=50, batch=16, imgsz=640, save=True, save_period=-1, cache=False, device=None, workers=8, project=None, name=train6333, exist_ok=False, pretrained=True, optimizer=auto, verbose=True, seed=0, deterministic=True, single_cls=False, rect=False, cos_lr=False, close_mosaic=10, resume=False, amp=True, fraction=1.0, profile=False, freeze=None, overlap_mask=True, mask_ratio=4, dropout=0.0, val=True, split=val, save_json=False, save_hybrid=False, conf=None, iou=0.7, max_det=300, half=False, dnn=False, plots=True, source=None, vid_stride=1, stream_buffer=False, visualize=False, augment=False, agnostic_nms=False, classes=None, retina_masks=False, embed=None, show=False, save_frames=False, save_txt=False, save_conf=False, save_crop=False, show_labels=True, show_conf=True, show_boxes=True, line_width=None, format=torchscript, keras=False, optimize=False, int8=False, dynamic=False, simplify=False, opset=None, workspace=4, nms=False, lr0=0.01, lrf=0.01, momentum=0.937, weight_decay=0.0005, warmup_epochs=3.0, warmup_momentum=0.8, warmup_bias_lr=0.0, box=7.5, cls=0.5, dfl=1.5, pose=12.0, kobj=1.0, label_smoothing=0.0, nbs=64, hsv_h=0.015, hsv_s=0.7, hsv_v=0.4, degrees=0.0, translate=0.1, scale=0.5, shear=0.0, perspective=0.0, flipud=0.0, fliplr=0.5, mosaic=0.0, mixup=0.0, copy_paste=0.0, cfg=None, tracker=botsort.yaml, save_dir=runs/detect/train6333\n",
            "\n",
            "                   from  n    params  module                                       arguments                     \n",
            "  0                  -1  1       464  ultralytics.nn.modules.conv.Conv             [3, 16, 3, 2]                 \n",
            "  1                  -1  1      4672  ultralytics.nn.modules.conv.Conv             [16, 32, 3, 2]                \n",
            "  2                  -1  1      7360  ultralytics.nn.modules.block.C2f             [32, 32, 1, True]             \n",
            "  3                  -1  1     18560  ultralytics.nn.modules.conv.Conv             [32, 64, 3, 2]                \n",
            "  4                  -1  2     49664  ultralytics.nn.modules.block.C2f             [64, 64, 2, True]             \n",
            "  5                  -1  1     73984  ultralytics.nn.modules.conv.Conv             [64, 128, 3, 2]               \n",
            "  6                  -1  2    197632  ultralytics.nn.modules.block.C2f             [128, 128, 2, True]           \n",
            "  7                  -1  1    295424  ultralytics.nn.modules.conv.Conv             [128, 256, 3, 2]              \n",
            "  8                  -1  1    460288  ultralytics.nn.modules.block.C2f             [256, 256, 1, True]           \n",
            "  9                  -1  1    164608  ultralytics.nn.modules.block.SPPF            [256, 256, 5]                 \n",
            " 10                  -1  1         0  torch.nn.modules.upsampling.Upsample         [None, 2, 'nearest']          \n",
            " 11             [-1, 6]  1         0  ultralytics.nn.modules.conv.Concat           [1]                           \n",
            " 12                  -1  1    148224  ultralytics.nn.modules.block.C2f             [384, 128, 1]                 \n",
            " 13                  -1  1         0  torch.nn.modules.upsampling.Upsample         [None, 2, 'nearest']          \n",
            " 14             [-1, 4]  1         0  ultralytics.nn.modules.conv.Concat           [1]                           \n",
            " 15                  -1  1     37248  ultralytics.nn.modules.block.C2f             [192, 64, 1]                  \n",
            " 16                  -1  1     36992  ultralytics.nn.modules.conv.Conv             [64, 64, 3, 2]                \n",
            " 17            [-1, 12]  1         0  ultralytics.nn.modules.conv.Concat           [1]                           \n",
            " 18                  -1  1    123648  ultralytics.nn.modules.block.C2f             [192, 128, 1]                 \n",
            " 19                  -1  1    147712  ultralytics.nn.modules.conv.Conv             [128, 128, 3, 2]              \n",
            " 20             [-1, 9]  1         0  ultralytics.nn.modules.conv.Concat           [1]                           \n",
            " 21                  -1  1    493056  ultralytics.nn.modules.block.C2f             [384, 256, 1]                 \n",
            " 22        [15, 18, 21]  1    751507  ultralytics.nn.modules.head.Detect           [1, [64, 128, 256]]           \n",
            "Model summary: 225 layers, 3011043 parameters, 3011027 gradients, 8.2 GFLOPs\n",
            "\n",
            "Transferred 70/355 items from pretrained weights\n",
            "\u001b[34m\u001b[1mTensorBoard: \u001b[0mStart with 'tensorboard --logdir runs/detect/train6333', view at http://localhost:6006/\n",
            "Freezing layer 'model.22.dfl.conv.weight'\n",
            "\u001b[34m\u001b[1mAMP: \u001b[0mrunning Automatic Mixed Precision (AMP) checks with YOLOv8n...\n",
            "\u001b[34m\u001b[1mAMP: \u001b[0mchecks passed ✅\n"
          ]
        },
        {
          "output_type": "stream",
          "name": "stderr",
          "text": [
            "\u001b[34m\u001b[1mtrain: \u001b[0mScanning /tmp/drone_data/train/labels.cache... 3256 images, 0 backgrounds, 0 corrupt: 100%|██████████| 3256/3256 [00:00<?, ?it/s]"
          ]
        },
        {
          "output_type": "stream",
          "name": "stdout",
          "text": [
            "\u001b[34m\u001b[1malbumentations: \u001b[0mBlur(p=0.01, blur_limit=(3, 7)), MedianBlur(p=0.01, blur_limit=(3, 7)), ToGray(p=0.01), CLAHE(p=0.01, clip_limit=(1, 4.0), tile_grid_size=(8, 8))\n"
          ]
        },
        {
          "output_type": "stream",
          "name": "stderr",
          "text": [
            "\n",
            "\u001b[34m\u001b[1mval: \u001b[0mScanning /tmp/drone_data/val/labels.cache... 814 images, 0 backgrounds, 0 corrupt: 100%|██████████| 814/814 [00:00<?, ?it/s]\n"
          ]
        },
        {
          "output_type": "stream",
          "name": "stdout",
          "text": [
            "Plotting labels to runs/detect/train6333/labels.jpg... \n",
            "\u001b[34m\u001b[1moptimizer:\u001b[0m 'optimizer=auto' found, ignoring 'lr0=0.01' and 'momentum=0.937' and determining best 'optimizer', 'lr0' and 'momentum' automatically... \n",
            "\u001b[34m\u001b[1moptimizer:\u001b[0m AdamW(lr=0.002, momentum=0.9) with parameter groups 57 weight(decay=0.0), 64 weight(decay=0.0005), 63 bias(decay=0.0)\n",
            "30 epochs...\n",
            "\n",
            "      Epoch    GPU_mem   box_loss   cls_loss   dfl_loss  Instances       Size\n"
          ]
        },
        {
          "output_type": "stream",
          "name": "stderr",
          "text": [
            "       1/30      2.36G      1.392     0.6684       1.04          8        640: 100%|██████████| 204/204 [02:01<00:00,  1.68it/s]\n",
            "                 Class     Images  Instances      Box(P          R      mAP50  mAP50-95): 100%|██████████| 26/26 [00:22<00:00,  1.16it/s]"
          ]
        },
        {
          "output_type": "stream",
          "name": "stdout",
          "text": [
            "                   all        814        868      0.925      0.919      0.939      0.494\n"
          ]
        },
        {
          "output_type": "stream",
          "name": "stderr",
          "text": [
            "\n"
          ]
        },
        {
          "output_type": "stream",
          "name": "stdout",
          "text": [
            "\n",
            "      Epoch    GPU_mem   box_loss   cls_loss   dfl_loss  Instances       Size\n"
          ]
        },
        {
          "output_type": "stream",
          "name": "stderr",
          "text": [
            "       2/30       2.3G      1.464     0.7588       1.06          9        640: 100%|██████████| 204/204 [01:56<00:00,  1.75it/s]\n",
            "                 Class     Images  Instances      Box(P          R      mAP50  mAP50-95): 100%|██████████| 26/26 [00:17<00:00,  1.45it/s]"
          ]
        },
        {
          "output_type": "stream",
          "name": "stdout",
          "text": [
            "                   all        814        868      0.934      0.928      0.956      0.519\n"
          ]
        },
        {
          "output_type": "stream",
          "name": "stderr",
          "text": [
            "\n"
          ]
        },
        {
          "output_type": "stream",
          "name": "stdout",
          "text": [
            "\n",
            "      Epoch    GPU_mem   box_loss   cls_loss   dfl_loss  Instances       Size\n"
          ]
        },
        {
          "output_type": "stream",
          "name": "stderr",
          "text": [
            "       3/30       2.3G      1.486     0.7743      1.074          8        640: 100%|██████████| 204/204 [01:59<00:00,  1.71it/s]\n",
            "                 Class     Images  Instances      Box(P          R      mAP50  mAP50-95): 100%|██████████| 26/26 [00:17<00:00,  1.45it/s]"
          ]
        },
        {
          "output_type": "stream",
          "name": "stdout",
          "text": [
            "                   all        814        868      0.924      0.913      0.949      0.502\n"
          ]
        },
        {
          "output_type": "stream",
          "name": "stderr",
          "text": [
            "\n"
          ]
        },
        {
          "output_type": "stream",
          "name": "stdout",
          "text": [
            "\n",
            "      Epoch    GPU_mem   box_loss   cls_loss   dfl_loss  Instances       Size\n"
          ]
        },
        {
          "output_type": "stream",
          "name": "stderr",
          "text": [
            "       4/30       2.3G      1.475     0.7701      1.062          8        640: 100%|██████████| 204/204 [02:01<00:00,  1.68it/s]\n",
            "                 Class     Images  Instances      Box(P          R      mAP50  mAP50-95): 100%|██████████| 26/26 [00:17<00:00,  1.50it/s]"
          ]
        },
        {
          "output_type": "stream",
          "name": "stdout",
          "text": [
            "                   all        814        868      0.923      0.899      0.923        0.5\n"
          ]
        },
        {
          "output_type": "stream",
          "name": "stderr",
          "text": [
            "\n"
          ]
        },
        {
          "output_type": "stream",
          "name": "stdout",
          "text": [
            "\n",
            "      Epoch    GPU_mem   box_loss   cls_loss   dfl_loss  Instances       Size\n"
          ]
        },
        {
          "output_type": "stream",
          "name": "stderr",
          "text": [
            "       5/30       2.3G      1.477     0.7573      1.075          8        640: 100%|██████████| 204/204 [01:55<00:00,  1.76it/s]\n",
            "                 Class     Images  Instances      Box(P          R      mAP50  mAP50-95): 100%|██████████| 26/26 [00:17<00:00,  1.46it/s]"
          ]
        },
        {
          "output_type": "stream",
          "name": "stdout",
          "text": [
            "                   all        814        868      0.933      0.911      0.953      0.519\n"
          ]
        },
        {
          "output_type": "stream",
          "name": "stderr",
          "text": [
            "\n"
          ]
        },
        {
          "output_type": "stream",
          "name": "stdout",
          "text": [
            "\n",
            "      Epoch    GPU_mem   box_loss   cls_loss   dfl_loss  Instances       Size\n"
          ]
        },
        {
          "output_type": "stream",
          "name": "stderr",
          "text": [
            "       6/30       2.3G      1.479     0.7652      1.063          8        640: 100%|██████████| 204/204 [01:57<00:00,  1.73it/s]\n",
            "                 Class     Images  Instances      Box(P          R      mAP50  mAP50-95): 100%|██████████| 26/26 [00:17<00:00,  1.49it/s]"
          ]
        },
        {
          "output_type": "stream",
          "name": "stdout",
          "text": [
            "                   all        814        868      0.935      0.922      0.958       0.54\n"
          ]
        },
        {
          "output_type": "stream",
          "name": "stderr",
          "text": [
            "\n"
          ]
        },
        {
          "output_type": "stream",
          "name": "stdout",
          "text": [
            "\n",
            "      Epoch    GPU_mem   box_loss   cls_loss   dfl_loss  Instances       Size\n"
          ]
        },
        {
          "output_type": "stream",
          "name": "stderr",
          "text": [
            "       7/30       2.3G      1.466     0.7407      1.061          9        640: 100%|██████████| 204/204 [02:01<00:00,  1.68it/s]\n",
            "                 Class     Images  Instances      Box(P          R      mAP50  mAP50-95): 100%|██████████| 26/26 [00:17<00:00,  1.45it/s]\n"
          ]
        },
        {
          "output_type": "stream",
          "name": "stdout",
          "text": [
            "                   all        814        868      0.959      0.924      0.953      0.507\n",
            "\n",
            "      Epoch    GPU_mem   box_loss   cls_loss   dfl_loss  Instances       Size\n"
          ]
        },
        {
          "output_type": "stream",
          "name": "stderr",
          "text": [
            "       8/30       2.3G      1.469     0.7377      1.068          8        640: 100%|██████████| 204/204 [01:58<00:00,  1.72it/s]\n",
            "                 Class     Images  Instances      Box(P          R      mAP50  mAP50-95): 100%|██████████| 26/26 [00:17<00:00,  1.45it/s]"
          ]
        },
        {
          "output_type": "stream",
          "name": "stdout",
          "text": [
            "                   all        814        868      0.929      0.918      0.943      0.488\n"
          ]
        },
        {
          "output_type": "stream",
          "name": "stderr",
          "text": [
            "\n"
          ]
        },
        {
          "output_type": "stream",
          "name": "stdout",
          "text": [
            "\n",
            "      Epoch    GPU_mem   box_loss   cls_loss   dfl_loss  Instances       Size\n"
          ]
        },
        {
          "output_type": "stream",
          "name": "stderr",
          "text": [
            "       9/30       2.3G       1.46     0.7241      1.062          9        640: 100%|██████████| 204/204 [01:54<00:00,  1.78it/s]\n",
            "                 Class     Images  Instances      Box(P          R      mAP50  mAP50-95): 100%|██████████| 26/26 [00:17<00:00,  1.47it/s]"
          ]
        },
        {
          "output_type": "stream",
          "name": "stdout",
          "text": [
            "                   all        814        868      0.941      0.931      0.959      0.533\n"
          ]
        },
        {
          "output_type": "stream",
          "name": "stderr",
          "text": [
            "\n"
          ]
        },
        {
          "output_type": "stream",
          "name": "stdout",
          "text": [
            "\n",
            "      Epoch    GPU_mem   box_loss   cls_loss   dfl_loss  Instances       Size\n"
          ]
        },
        {
          "output_type": "stream",
          "name": "stderr",
          "text": [
            "      10/30       2.3G       1.44      0.722      1.063          9        640: 100%|██████████| 204/204 [02:01<00:00,  1.68it/s]\n",
            "                 Class     Images  Instances      Box(P          R      mAP50  mAP50-95): 100%|██████████| 26/26 [00:17<00:00,  1.46it/s]"
          ]
        },
        {
          "output_type": "stream",
          "name": "stdout",
          "text": [
            "                   all        814        868      0.947      0.919      0.955      0.549\n"
          ]
        },
        {
          "output_type": "stream",
          "name": "stderr",
          "text": [
            "\n"
          ]
        },
        {
          "output_type": "stream",
          "name": "stdout",
          "text": [
            "\n",
            "      Epoch    GPU_mem   box_loss   cls_loss   dfl_loss  Instances       Size\n"
          ]
        },
        {
          "output_type": "stream",
          "name": "stderr",
          "text": [
            "      11/30       2.3G      1.467     0.7195      1.059          8        640: 100%|██████████| 204/204 [01:58<00:00,  1.72it/s]\n",
            "                 Class     Images  Instances      Box(P          R      mAP50  mAP50-95): 100%|██████████| 26/26 [00:17<00:00,  1.46it/s]"
          ]
        },
        {
          "output_type": "stream",
          "name": "stdout",
          "text": [
            "                   all        814        868       0.92      0.921      0.935      0.499\n"
          ]
        },
        {
          "output_type": "stream",
          "name": "stderr",
          "text": [
            "\n"
          ]
        },
        {
          "output_type": "stream",
          "name": "stdout",
          "text": [
            "\n",
            "      Epoch    GPU_mem   box_loss   cls_loss   dfl_loss  Instances       Size\n"
          ]
        },
        {
          "output_type": "stream",
          "name": "stderr",
          "text": [
            "      12/30       2.3G      1.439     0.7012      1.051          8        640: 100%|██████████| 204/204 [01:59<00:00,  1.71it/s]\n",
            "                 Class     Images  Instances      Box(P          R      mAP50  mAP50-95): 100%|██████████| 26/26 [00:17<00:00,  1.47it/s]"
          ]
        },
        {
          "output_type": "stream",
          "name": "stdout",
          "text": [
            "                   all        814        868      0.934      0.927      0.944      0.523\n"
          ]
        },
        {
          "output_type": "stream",
          "name": "stderr",
          "text": [
            "\n"
          ]
        },
        {
          "output_type": "stream",
          "name": "stdout",
          "text": [
            "\n",
            "      Epoch    GPU_mem   box_loss   cls_loss   dfl_loss  Instances       Size\n"
          ]
        },
        {
          "output_type": "stream",
          "name": "stderr",
          "text": [
            "      13/30       2.3G      1.429     0.6922       1.04          9        640: 100%|██████████| 204/204 [02:02<00:00,  1.67it/s]\n",
            "                 Class     Images  Instances      Box(P          R      mAP50  mAP50-95): 100%|██████████| 26/26 [00:17<00:00,  1.45it/s]"
          ]
        },
        {
          "output_type": "stream",
          "name": "stdout",
          "text": [
            "                   all        814        868       0.94      0.934      0.963       0.56\n"
          ]
        },
        {
          "output_type": "stream",
          "name": "stderr",
          "text": [
            "\n"
          ]
        },
        {
          "output_type": "stream",
          "name": "stdout",
          "text": [
            "\n",
            "      Epoch    GPU_mem   box_loss   cls_loss   dfl_loss  Instances       Size\n"
          ]
        },
        {
          "output_type": "stream",
          "name": "stderr",
          "text": [
            "      14/30       2.3G      1.434     0.6975      1.058          8        640: 100%|██████████| 204/204 [01:55<00:00,  1.76it/s]\n",
            "                 Class     Images  Instances      Box(P          R      mAP50  mAP50-95): 100%|██████████| 26/26 [00:17<00:00,  1.45it/s]"
          ]
        },
        {
          "output_type": "stream",
          "name": "stdout",
          "text": [
            "                   all        814        868      0.951       0.94      0.969      0.546\n"
          ]
        },
        {
          "output_type": "stream",
          "name": "stderr",
          "text": [
            "\n"
          ]
        },
        {
          "output_type": "stream",
          "name": "stdout",
          "text": [
            "\n",
            "      Epoch    GPU_mem   box_loss   cls_loss   dfl_loss  Instances       Size\n"
          ]
        },
        {
          "output_type": "stream",
          "name": "stderr",
          "text": [
            "      15/30       2.3G      1.423     0.6825      1.047          8        640: 100%|██████████| 204/204 [01:59<00:00,  1.71it/s]\n",
            "                 Class     Images  Instances      Box(P          R      mAP50  mAP50-95): 100%|██████████| 26/26 [00:17<00:00,  1.46it/s]\n"
          ]
        },
        {
          "output_type": "stream",
          "name": "stdout",
          "text": [
            "                   all        814        868      0.944      0.956      0.964      0.564\n",
            "\n",
            "      Epoch    GPU_mem   box_loss   cls_loss   dfl_loss  Instances       Size\n"
          ]
        },
        {
          "output_type": "stream",
          "name": "stderr",
          "text": [
            "      16/30       2.3G      1.401     0.6634      1.042          9        640: 100%|██████████| 204/204 [02:03<00:00,  1.66it/s]\n",
            "                 Class     Images  Instances      Box(P          R      mAP50  mAP50-95): 100%|██████████| 26/26 [00:17<00:00,  1.46it/s]"
          ]
        },
        {
          "output_type": "stream",
          "name": "stdout",
          "text": [
            "                   all        814        868      0.944      0.939      0.964      0.563\n"
          ]
        },
        {
          "output_type": "stream",
          "name": "stderr",
          "text": [
            "\n"
          ]
        },
        {
          "output_type": "stream",
          "name": "stdout",
          "text": [
            "\n",
            "      Epoch    GPU_mem   box_loss   cls_loss   dfl_loss  Instances       Size\n"
          ]
        },
        {
          "output_type": "stream",
          "name": "stderr",
          "text": [
            "      17/30       2.3G       1.42     0.6593      1.038          8        640: 100%|██████████| 204/204 [01:58<00:00,  1.72it/s]\n",
            "                 Class     Images  Instances      Box(P          R      mAP50  mAP50-95): 100%|██████████| 26/26 [00:17<00:00,  1.47it/s]"
          ]
        },
        {
          "output_type": "stream",
          "name": "stdout",
          "text": [
            "                   all        814        868      0.932      0.934      0.963      0.561\n"
          ]
        },
        {
          "output_type": "stream",
          "name": "stderr",
          "text": [
            "\n"
          ]
        },
        {
          "output_type": "stream",
          "name": "stdout",
          "text": [
            "\n",
            "      Epoch    GPU_mem   box_loss   cls_loss   dfl_loss  Instances       Size\n"
          ]
        },
        {
          "output_type": "stream",
          "name": "stderr",
          "text": [
            "      18/30       2.3G      1.404     0.6534      1.035          9        640: 100%|██████████| 204/204 [02:01<00:00,  1.68it/s]\n",
            "                 Class     Images  Instances      Box(P          R      mAP50  mAP50-95): 100%|██████████| 26/26 [00:20<00:00,  1.26it/s]"
          ]
        },
        {
          "output_type": "stream",
          "name": "stdout",
          "text": [
            "                   all        814        868      0.938      0.959      0.968      0.567\n"
          ]
        },
        {
          "output_type": "stream",
          "name": "stderr",
          "text": [
            "\n"
          ]
        },
        {
          "output_type": "stream",
          "name": "stdout",
          "text": [
            "\n",
            "      Epoch    GPU_mem   box_loss   cls_loss   dfl_loss  Instances       Size\n"
          ]
        },
        {
          "output_type": "stream",
          "name": "stderr",
          "text": [
            "      19/30       2.3G      1.403     0.6489      1.029         10        640: 100%|██████████| 204/204 [01:55<00:00,  1.77it/s]\n",
            "                 Class     Images  Instances      Box(P          R      mAP50  mAP50-95): 100%|██████████| 26/26 [00:17<00:00,  1.51it/s]"
          ]
        },
        {
          "output_type": "stream",
          "name": "stdout",
          "text": [
            "                   all        814        868      0.934      0.945      0.963      0.555\n"
          ]
        },
        {
          "output_type": "stream",
          "name": "stderr",
          "text": [
            "\n"
          ]
        },
        {
          "output_type": "stream",
          "name": "stdout",
          "text": [
            "\n",
            "      Epoch    GPU_mem   box_loss   cls_loss   dfl_loss  Instances       Size\n"
          ]
        },
        {
          "output_type": "stream",
          "name": "stderr",
          "text": [
            "      20/30       2.3G      1.381     0.6368      1.026          9        640: 100%|██████████| 204/204 [02:00<00:00,  1.69it/s]\n",
            "                 Class     Images  Instances      Box(P          R      mAP50  mAP50-95): 100%|██████████| 26/26 [00:17<00:00,  1.46it/s]"
          ]
        },
        {
          "output_type": "stream",
          "name": "stdout",
          "text": [
            "                   all        814        868      0.947      0.957      0.973      0.576\n"
          ]
        },
        {
          "output_type": "stream",
          "name": "stderr",
          "text": [
            "\n"
          ]
        },
        {
          "output_type": "stream",
          "name": "stdout",
          "text": [
            "Closing dataloader mosaic\n",
            "\u001b[34m\u001b[1malbumentations: \u001b[0mBlur(p=0.01, blur_limit=(3, 7)), MedianBlur(p=0.01, blur_limit=(3, 7)), ToGray(p=0.01), CLAHE(p=0.01, clip_limit=(1, 4.0), tile_grid_size=(8, 8))\n",
            "\n",
            "      Epoch    GPU_mem   box_loss   cls_loss   dfl_loss  Instances       Size\n"
          ]
        },
        {
          "output_type": "stream",
          "name": "stderr",
          "text": [
            "      21/30       2.3G      1.363     0.6309      1.026          8        640: 100%|██████████| 204/204 [02:05<00:00,  1.63it/s]\n",
            "                 Class     Images  Instances      Box(P          R      mAP50  mAP50-95): 100%|██████████| 26/26 [00:17<00:00,  1.49it/s]"
          ]
        },
        {
          "output_type": "stream",
          "name": "stdout",
          "text": [
            "                   all        814        868      0.923      0.943      0.959      0.552\n"
          ]
        },
        {
          "output_type": "stream",
          "name": "stderr",
          "text": [
            "\n"
          ]
        },
        {
          "output_type": "stream",
          "name": "stdout",
          "text": [
            "\n",
            "      Epoch    GPU_mem   box_loss   cls_loss   dfl_loss  Instances       Size\n"
          ]
        },
        {
          "output_type": "stream",
          "name": "stderr",
          "text": [
            "      22/30       2.3G       1.38       0.63      1.021          9        640: 100%|██████████| 204/204 [01:58<00:00,  1.72it/s]\n",
            "                 Class     Images  Instances      Box(P          R      mAP50  mAP50-95): 100%|██████████| 26/26 [00:17<00:00,  1.48it/s]"
          ]
        },
        {
          "output_type": "stream",
          "name": "stdout",
          "text": [
            "                   all        814        868      0.948      0.942      0.964      0.566\n"
          ]
        },
        {
          "output_type": "stream",
          "name": "stderr",
          "text": [
            "\n"
          ]
        },
        {
          "output_type": "stream",
          "name": "stdout",
          "text": [
            "\n",
            "      Epoch    GPU_mem   box_loss   cls_loss   dfl_loss  Instances       Size\n"
          ]
        },
        {
          "output_type": "stream",
          "name": "stderr",
          "text": [
            "      23/30       2.3G      1.361     0.6215      1.022          8        640: 100%|██████████| 204/204 [01:58<00:00,  1.72it/s]\n",
            "                 Class     Images  Instances      Box(P          R      mAP50  mAP50-95): 100%|██████████| 26/26 [00:17<00:00,  1.49it/s]"
          ]
        },
        {
          "output_type": "stream",
          "name": "stdout",
          "text": [
            "                   all        814        868      0.954       0.95      0.969      0.566\n"
          ]
        },
        {
          "output_type": "stream",
          "name": "stderr",
          "text": [
            "\n"
          ]
        },
        {
          "output_type": "stream",
          "name": "stdout",
          "text": [
            "\n",
            "      Epoch    GPU_mem   box_loss   cls_loss   dfl_loss  Instances       Size\n"
          ]
        },
        {
          "output_type": "stream",
          "name": "stderr",
          "text": [
            "      24/30       2.3G      1.351     0.6186      1.021          9        640: 100%|██████████| 204/204 [02:02<00:00,  1.67it/s]\n",
            "                 Class     Images  Instances      Box(P          R      mAP50  mAP50-95): 100%|██████████| 26/26 [00:18<00:00,  1.42it/s]"
          ]
        },
        {
          "output_type": "stream",
          "name": "stdout",
          "text": [
            "                   all        814        868      0.945      0.955      0.969      0.573\n"
          ]
        },
        {
          "output_type": "stream",
          "name": "stderr",
          "text": [
            "\n"
          ]
        },
        {
          "output_type": "stream",
          "name": "stdout",
          "text": [
            "\n",
            "      Epoch    GPU_mem   box_loss   cls_loss   dfl_loss  Instances       Size\n"
          ]
        },
        {
          "output_type": "stream",
          "name": "stderr",
          "text": [
            "      25/30       2.3G      1.339     0.6061      1.013          8        640: 100%|██████████| 204/204 [01:58<00:00,  1.72it/s]\n",
            "                 Class     Images  Instances      Box(P          R      mAP50  mAP50-95): 100%|██████████| 26/26 [00:18<00:00,  1.44it/s]"
          ]
        },
        {
          "output_type": "stream",
          "name": "stdout",
          "text": [
            "                   all        814        868      0.946      0.961      0.974      0.581\n"
          ]
        },
        {
          "output_type": "stream",
          "name": "stderr",
          "text": [
            "\n"
          ]
        },
        {
          "output_type": "stream",
          "name": "stdout",
          "text": [
            "\n",
            "      Epoch    GPU_mem   box_loss   cls_loss   dfl_loss  Instances       Size\n"
          ]
        },
        {
          "output_type": "stream",
          "name": "stderr",
          "text": [
            "      26/30       2.3G      1.336     0.6031      1.008          8        640: 100%|██████████| 204/204 [02:03<00:00,  1.65it/s]\n",
            "                 Class     Images  Instances      Box(P          R      mAP50  mAP50-95): 100%|██████████| 26/26 [00:18<00:00,  1.43it/s]"
          ]
        },
        {
          "output_type": "stream",
          "name": "stdout",
          "text": [
            "                   all        814        868      0.951      0.956      0.971      0.581\n"
          ]
        },
        {
          "output_type": "stream",
          "name": "stderr",
          "text": [
            "\n"
          ]
        },
        {
          "output_type": "stream",
          "name": "stdout",
          "text": [
            "\n",
            "      Epoch    GPU_mem   box_loss   cls_loss   dfl_loss  Instances       Size\n"
          ]
        },
        {
          "output_type": "stream",
          "name": "stderr",
          "text": [
            "      27/30       2.3G      1.336     0.5988      1.009          9        640: 100%|██████████| 204/204 [01:59<00:00,  1.71it/s]\n",
            "                 Class     Images  Instances      Box(P          R      mAP50  mAP50-95): 100%|██████████| 26/26 [00:17<00:00,  1.50it/s]"
          ]
        },
        {
          "output_type": "stream",
          "name": "stdout",
          "text": [
            "                   all        814        868      0.953      0.957      0.973      0.578\n"
          ]
        },
        {
          "output_type": "stream",
          "name": "stderr",
          "text": [
            "\n"
          ]
        },
        {
          "output_type": "stream",
          "name": "stdout",
          "text": [
            "\n",
            "      Epoch    GPU_mem   box_loss   cls_loss   dfl_loss  Instances       Size\n"
          ]
        },
        {
          "output_type": "stream",
          "name": "stderr",
          "text": [
            "      28/30       2.3G      1.328     0.5826      1.008          9        640: 100%|██████████| 204/204 [02:00<00:00,  1.69it/s]\n",
            "                 Class     Images  Instances      Box(P          R      mAP50  mAP50-95): 100%|██████████| 26/26 [00:17<00:00,  1.49it/s]"
          ]
        },
        {
          "output_type": "stream",
          "name": "stdout",
          "text": [
            "                   all        814        868      0.952      0.961      0.973      0.583\n"
          ]
        },
        {
          "output_type": "stream",
          "name": "stderr",
          "text": [
            "\n"
          ]
        },
        {
          "output_type": "stream",
          "name": "stdout",
          "text": [
            "\n",
            "      Epoch    GPU_mem   box_loss   cls_loss   dfl_loss  Instances       Size\n"
          ]
        },
        {
          "output_type": "stream",
          "name": "stderr",
          "text": [
            "      29/30       2.3G      1.315     0.5841      1.005          9        640: 100%|██████████| 204/204 [02:07<00:00,  1.61it/s]\n",
            "                 Class     Images  Instances      Box(P          R      mAP50  mAP50-95): 100%|██████████| 26/26 [00:18<00:00,  1.39it/s]"
          ]
        },
        {
          "output_type": "stream",
          "name": "stdout",
          "text": [
            "                   all        814        868      0.947      0.957      0.969      0.578\n"
          ]
        },
        {
          "output_type": "stream",
          "name": "stderr",
          "text": [
            "\n"
          ]
        },
        {
          "output_type": "stream",
          "name": "stdout",
          "text": [
            "\n",
            "      Epoch    GPU_mem   box_loss   cls_loss   dfl_loss  Instances       Size\n"
          ]
        },
        {
          "output_type": "stream",
          "name": "stderr",
          "text": [
            "      30/30       2.3G      1.306     0.5738          1         10        640: 100%|██████████| 204/204 [02:00<00:00,  1.69it/s]\n",
            "                 Class     Images  Instances      Box(P          R      mAP50  mAP50-95): 100%|██████████| 26/26 [00:18<00:00,  1.41it/s]"
          ]
        },
        {
          "output_type": "stream",
          "name": "stdout",
          "text": [
            "                   all        814        868       0.94      0.957      0.967      0.581\n"
          ]
        },
        {
          "output_type": "stream",
          "name": "stderr",
          "text": [
            "\n"
          ]
        },
        {
          "output_type": "stream",
          "name": "stdout",
          "text": [
            "\n",
            "30 epochs completed in 1.170 hours.\n",
            "Optimizer stripped from runs/detect/train6333/weights/last.pt, 6.2MB\n",
            "Optimizer stripped from runs/detect/train6333/weights/best.pt, 6.2MB\n",
            "\n",
            "Validating runs/detect/train6333/weights/best.pt...\n",
            "Ultralytics YOLOv8.0.231 🚀 Python-3.10.12 torch-2.1.0+cu121 CUDA:0 (Tesla T4, 15102MiB)\n",
            "Model summary (fused): 168 layers, 3005843 parameters, 0 gradients, 8.1 GFLOPs\n"
          ]
        },
        {
          "output_type": "stream",
          "name": "stderr",
          "text": [
            "                 Class     Images  Instances      Box(P          R      mAP50  mAP50-95): 100%|██████████| 26/26 [00:19<00:00,  1.36it/s]\n"
          ]
        },
        {
          "output_type": "stream",
          "name": "stdout",
          "text": [
            "                   all        814        868      0.952      0.961      0.973      0.582\n",
            "Speed: 0.3ms preprocess, 2.2ms inference, 0.0ms loss, 2.9ms postprocess per image\n",
            "Results saved to \u001b[1mruns/detect/train6333\u001b[0m\n",
            "Ultralytics YOLOv8.0.231 🚀 Python-3.10.12 torch-2.1.0+cu121 CUDA:0 (Tesla T4, 15102MiB)\n",
            "Model summary (fused): 168 layers, 3005843 parameters, 0 gradients, 8.1 GFLOPs\n"
          ]
        },
        {
          "output_type": "stream",
          "name": "stderr",
          "text": [
            "\u001b[34m\u001b[1mval: \u001b[0mScanning /tmp/drone_data/val/labels.cache... 814 images, 0 backgrounds, 0 corrupt: 100%|██████████| 814/814 [00:00<?, ?it/s]\n",
            "                 Class     Images  Instances      Box(P          R      mAP50  mAP50-95): 100%|██████████| 51/51 [00:21<00:00,  2.37it/s]\n"
          ]
        },
        {
          "output_type": "stream",
          "name": "stdout",
          "text": [
            "                   all        814        868      0.946      0.957       0.97      0.583\n",
            "Speed: 0.2ms preprocess, 3.4ms inference, 0.0ms loss, 2.8ms postprocess per image\n",
            "Results saved to \u001b[1mruns/detect/train63332\u001b[0m\n",
            "mAP after 30 epochs: 0.5832497998054007\n"
          ]
        }
      ],
      "source": [
        "from ultralytics import YOLO\n",
        "\n",
        "# Load YOLOv8 model\n",
        "model = YOLO('yolov8n.pt')\n",
        "\n",
        "# Set path to YAML file\n",
        "data_file = '/content/drive/MyDrive/data.yaml'\n",
        "\n",
        "# Train for 5 epochs\n",
        "epochs = 5\n",
        "results = model.train(data=data_file, epochs=epochs)\n",
        "\n",
        "# Validate\n",
        "results = model.val(data=data_file)\n",
        "print(f'mAP after {epochs} epochs: {results.box.map}')\n",
        "\n",
        "# Train for 10 epochs\n",
        "epochs = 10\n",
        "results = model.train(data=data_file, epochs=epochs)\n",
        "results = model.val(data=data_file)\n",
        "print(f'mAP after {epochs} epochs: {results.box.map}')\n",
        "\n",
        "# Train for 20 epochs\n",
        "epochs = 20\n",
        "results = model.train(data=data_file, epochs=epochs)\n",
        "results = model.val(data=data_file)\n",
        "print(f'mAP after {epochs} epochs: {results.box.map}')\n",
        "\n",
        "# Train for 30 epochs\n",
        "epochs = 30\n",
        "results = model.train(data=data_file, epochs=epochs)\n",
        "results = model.val(data=data_file)\n",
        "print(f'mAP after {epochs} epochs: {results.box.map}')"
      ]
    },
    {
      "cell_type": "markdown",
      "source": [
        "Test on the 5 epochs model."
      ],
      "metadata": {
        "id": "N8Tk-ElgSNzU"
      }
    },
    {
      "cell_type": "code",
      "source": [
        "# Imports\n",
        "import yaml\n",
        "from ultralytics import YOLO\n",
        "\n",
        "# Load model\n",
        "model = YOLO('/content/runs/detect/train6/weights/best.pt')\n",
        "\n",
        "# Set test path\n",
        "test_path = '/content/drive/MyDrive/test/data'\n",
        "\n",
        "# Run predictions\n",
        "results = model.predict(source=test_path)\n",
        "\n",
        "# Evaluate metrics\n",
        "metrics = model.val(source=test_path)\n",
        "print(metrics.box.map)"
      ],
      "metadata": {
        "colab": {
          "base_uri": "https://localhost:8080/"
        },
        "id": "Sf4HgIJbrnd_",
        "outputId": "cd2b338b-367f-4f39-a2df-191aa574ee99"
      },
      "execution_count": 29,
      "outputs": [
        {
          "output_type": "stream",
          "name": "stdout",
          "text": [
            "\n",
            "image 1/500 /content/drive/MyDrive/test/data/000000.jpg: 640x640 3 quadcopters, 16.7ms\n",
            "image 2/500 /content/drive/MyDrive/test/data/000001.jpg: 640x640 2 quadcopters, 16.7ms\n",
            "image 3/500 /content/drive/MyDrive/test/data/000002.jpg: 640x640 3 quadcopters, 17.1ms\n",
            "image 4/500 /content/drive/MyDrive/test/data/000003.jpg: 640x640 3 quadcopters, 16.9ms\n",
            "image 5/500 /content/drive/MyDrive/test/data/000004.jpg: 640x640 3 quadcopters, 10.8ms\n",
            "image 6/500 /content/drive/MyDrive/test/data/000005.jpg: 640x640 3 quadcopters, 10.9ms\n",
            "image 7/500 /content/drive/MyDrive/test/data/000006.jpg: 640x640 3 quadcopters, 11.0ms\n",
            "image 8/500 /content/drive/MyDrive/test/data/000007.jpg: 640x640 3 quadcopters, 11.1ms\n",
            "image 9/500 /content/drive/MyDrive/test/data/000008.jpg: 640x640 2 quadcopters, 11.1ms\n",
            "image 10/500 /content/drive/MyDrive/test/data/000009.jpg: 640x640 2 quadcopters, 11.4ms\n",
            "image 11/500 /content/drive/MyDrive/test/data/000010.jpg: 640x640 3 quadcopters, 12.5ms\n",
            "image 12/500 /content/drive/MyDrive/test/data/000011.jpg: 640x640 2 quadcopters, 12.1ms\n",
            "image 13/500 /content/drive/MyDrive/test/data/000012.jpg: 640x640 2 quadcopters, 14.4ms\n",
            "image 14/500 /content/drive/MyDrive/test/data/000013.jpg: 640x640 3 quadcopters, 11.1ms\n",
            "image 15/500 /content/drive/MyDrive/test/data/000014.jpg: 640x640 2 quadcopters, 11.4ms\n",
            "image 16/500 /content/drive/MyDrive/test/data/000015.jpg: 640x640 3 quadcopters, 11.1ms\n",
            "image 17/500 /content/drive/MyDrive/test/data/000016.jpg: 640x640 2 quadcopters, 11.6ms\n",
            "image 18/500 /content/drive/MyDrive/test/data/000017.jpg: 640x640 2 quadcopters, 12.1ms\n",
            "image 19/500 /content/drive/MyDrive/test/data/000018.jpg: 640x640 2 quadcopters, 13.0ms\n",
            "image 20/500 /content/drive/MyDrive/test/data/000019.jpg: 640x640 2 quadcopters, 12.7ms\n",
            "image 21/500 /content/drive/MyDrive/test/data/000020.jpg: 640x640 2 quadcopters, 13.5ms\n",
            "image 22/500 /content/drive/MyDrive/test/data/000021.jpg: 640x640 2 quadcopters, 11.0ms\n",
            "image 23/500 /content/drive/MyDrive/test/data/000022.jpg: 640x640 2 quadcopters, 11.9ms\n",
            "image 24/500 /content/drive/MyDrive/test/data/000023.jpg: 640x640 2 quadcopters, 17.7ms\n",
            "image 25/500 /content/drive/MyDrive/test/data/000024.jpg: 640x640 2 quadcopters, 11.3ms\n",
            "image 26/500 /content/drive/MyDrive/test/data/000025.jpg: 640x640 2 quadcopters, 13.6ms\n",
            "image 27/500 /content/drive/MyDrive/test/data/000026.jpg: 640x640 2 quadcopters, 10.8ms\n",
            "image 28/500 /content/drive/MyDrive/test/data/000027.jpg: 640x640 2 quadcopters, 14.3ms\n",
            "image 29/500 /content/drive/MyDrive/test/data/000028.jpg: 640x640 3 quadcopters, 11.4ms\n",
            "image 30/500 /content/drive/MyDrive/test/data/000029.jpg: 640x640 2 quadcopters, 12.9ms\n",
            "image 31/500 /content/drive/MyDrive/test/data/000030.jpg: 640x640 2 quadcopters, 10.9ms\n",
            "image 32/500 /content/drive/MyDrive/test/data/000031.jpg: 640x640 2 quadcopters, 11.9ms\n",
            "image 33/500 /content/drive/MyDrive/test/data/000032.jpg: 640x640 2 quadcopters, 12.7ms\n",
            "image 34/500 /content/drive/MyDrive/test/data/000033.jpg: 640x640 2 quadcopters, 11.6ms\n",
            "image 35/500 /content/drive/MyDrive/test/data/000034.jpg: 640x640 3 quadcopters, 14.4ms\n",
            "image 36/500 /content/drive/MyDrive/test/data/000035.jpg: 640x640 2 quadcopters, 12.3ms\n",
            "image 37/500 /content/drive/MyDrive/test/data/000036.jpg: 640x640 2 quadcopters, 12.0ms\n",
            "image 38/500 /content/drive/MyDrive/test/data/000037.jpg: 640x640 2 quadcopters, 11.2ms\n",
            "image 39/500 /content/drive/MyDrive/test/data/000038.jpg: 640x640 1 quadcopter, 10.7ms\n",
            "image 40/500 /content/drive/MyDrive/test/data/000039.jpg: 640x640 2 quadcopters, 11.3ms\n",
            "image 41/500 /content/drive/MyDrive/test/data/000040.jpg: 640x640 2 quadcopters, 11.2ms\n",
            "image 42/500 /content/drive/MyDrive/test/data/000041.jpg: 640x640 2 quadcopters, 11.2ms\n",
            "image 43/500 /content/drive/MyDrive/test/data/000042.jpg: 640x640 2 quadcopters, 11.3ms\n",
            "image 44/500 /content/drive/MyDrive/test/data/000043.jpg: 640x640 3 quadcopters, 11.2ms\n",
            "image 45/500 /content/drive/MyDrive/test/data/000044.jpg: 640x640 2 quadcopters, 10.9ms\n",
            "image 46/500 /content/drive/MyDrive/test/data/000045.jpg: 640x640 1 quadcopter, 11.1ms\n",
            "image 47/500 /content/drive/MyDrive/test/data/000046.jpg: 640x640 3 quadcopters, 11.1ms\n",
            "image 48/500 /content/drive/MyDrive/test/data/000047.jpg: 640x640 4 quadcopters, 14.1ms\n",
            "image 49/500 /content/drive/MyDrive/test/data/000048.jpg: 640x640 3 quadcopters, 11.5ms\n",
            "image 50/500 /content/drive/MyDrive/test/data/000049.jpg: 640x640 3 quadcopters, 12.8ms\n",
            "image 51/500 /content/drive/MyDrive/test/data/000050.jpg: 640x640 2 quadcopters, 12.0ms\n",
            "image 52/500 /content/drive/MyDrive/test/data/000051.jpg: 640x640 3 quadcopters, 12.0ms\n",
            "image 53/500 /content/drive/MyDrive/test/data/000052.jpg: 640x640 3 quadcopters, 12.3ms\n",
            "image 54/500 /content/drive/MyDrive/test/data/000053.jpg: 640x640 4 quadcopters, 11.6ms\n",
            "image 55/500 /content/drive/MyDrive/test/data/000054.jpg: 640x640 4 quadcopters, 11.0ms\n",
            "image 56/500 /content/drive/MyDrive/test/data/000055.jpg: 640x640 3 quadcopters, 11.7ms\n",
            "image 57/500 /content/drive/MyDrive/test/data/000056.jpg: 640x640 4 quadcopters, 11.4ms\n",
            "image 58/500 /content/drive/MyDrive/test/data/000057.jpg: 640x640 4 quadcopters, 11.2ms\n",
            "image 59/500 /content/drive/MyDrive/test/data/000058.jpg: 640x640 3 quadcopters, 11.2ms\n",
            "image 60/500 /content/drive/MyDrive/test/data/000059.jpg: 640x640 3 quadcopters, 11.9ms\n",
            "image 61/500 /content/drive/MyDrive/test/data/000060.jpg: 640x640 3 quadcopters, 10.6ms\n",
            "image 62/500 /content/drive/MyDrive/test/data/000061.jpg: 640x640 3 quadcopters, 10.8ms\n",
            "image 63/500 /content/drive/MyDrive/test/data/000062.jpg: 640x640 3 quadcopters, 11.1ms\n",
            "image 64/500 /content/drive/MyDrive/test/data/000063.jpg: 640x640 3 quadcopters, 14.9ms\n",
            "image 65/500 /content/drive/MyDrive/test/data/000064.jpg: 640x640 2 quadcopters, 14.2ms\n",
            "image 66/500 /content/drive/MyDrive/test/data/000065.jpg: 640x640 3 quadcopters, 10.8ms\n",
            "image 67/500 /content/drive/MyDrive/test/data/000066.jpg: 640x640 3 quadcopters, 11.0ms\n",
            "image 68/500 /content/drive/MyDrive/test/data/000067.jpg: 640x640 2 quadcopters, 11.3ms\n",
            "image 69/500 /content/drive/MyDrive/test/data/000068.jpg: 640x640 3 quadcopters, 12.9ms\n",
            "image 70/500 /content/drive/MyDrive/test/data/000069.jpg: 640x640 2 quadcopters, 10.6ms\n",
            "image 71/500 /content/drive/MyDrive/test/data/000070.jpg: 640x640 2 quadcopters, 11.0ms\n",
            "image 72/500 /content/drive/MyDrive/test/data/000071.jpg: 640x640 2 quadcopters, 11.9ms\n",
            "image 73/500 /content/drive/MyDrive/test/data/000072.jpg: 640x640 1 quadcopter, 11.2ms\n",
            "image 74/500 /content/drive/MyDrive/test/data/000073.jpg: 640x640 2 quadcopters, 10.5ms\n",
            "image 75/500 /content/drive/MyDrive/test/data/000074.jpg: 640x640 1 quadcopter, 11.0ms\n",
            "image 76/500 /content/drive/MyDrive/test/data/000075.jpg: 640x640 2 quadcopters, 10.9ms\n",
            "image 77/500 /content/drive/MyDrive/test/data/000076.jpg: 640x640 1 quadcopter, 12.3ms\n",
            "image 78/500 /content/drive/MyDrive/test/data/000077.jpg: 640x640 4 quadcopters, 10.3ms\n",
            "image 79/500 /content/drive/MyDrive/test/data/000078.jpg: 640x640 2 quadcopters, 11.0ms\n",
            "image 80/500 /content/drive/MyDrive/test/data/000079.jpg: 640x640 2 quadcopters, 10.4ms\n",
            "image 81/500 /content/drive/MyDrive/test/data/000080.jpg: 640x640 2 quadcopters, 11.0ms\n",
            "image 82/500 /content/drive/MyDrive/test/data/000081.jpg: 640x640 3 quadcopters, 10.0ms\n",
            "image 83/500 /content/drive/MyDrive/test/data/000082.jpg: 640x640 2 quadcopters, 10.1ms\n",
            "image 84/500 /content/drive/MyDrive/test/data/000083.jpg: 640x640 2 quadcopters, 13.0ms\n",
            "image 85/500 /content/drive/MyDrive/test/data/000084.jpg: 640x640 2 quadcopters, 10.8ms\n",
            "image 86/500 /content/drive/MyDrive/test/data/000085.jpg: 640x640 2 quadcopters, 10.5ms\n",
            "image 87/500 /content/drive/MyDrive/test/data/000086.jpg: 640x640 2 quadcopters, 12.0ms\n",
            "image 88/500 /content/drive/MyDrive/test/data/000087.jpg: 640x640 2 quadcopters, 10.9ms\n",
            "image 89/500 /content/drive/MyDrive/test/data/000088.jpg: 640x640 3 quadcopters, 11.1ms\n",
            "image 90/500 /content/drive/MyDrive/test/data/000089.jpg: 640x640 3 quadcopters, 10.9ms\n",
            "image 91/500 /content/drive/MyDrive/test/data/000090.jpg: 640x640 2 quadcopters, 10.7ms\n",
            "image 92/500 /content/drive/MyDrive/test/data/000091.jpg: 640x640 2 quadcopters, 10.9ms\n",
            "image 93/500 /content/drive/MyDrive/test/data/000092.jpg: 640x640 3 quadcopters, 11.5ms\n",
            "image 94/500 /content/drive/MyDrive/test/data/000093.jpg: 640x640 3 quadcopters, 9.8ms\n",
            "image 95/500 /content/drive/MyDrive/test/data/000094.jpg: 640x640 3 quadcopters, 11.1ms\n",
            "image 96/500 /content/drive/MyDrive/test/data/000095.jpg: 640x640 2 quadcopters, 11.2ms\n",
            "image 97/500 /content/drive/MyDrive/test/data/000096.jpg: 640x640 2 quadcopters, 10.9ms\n",
            "image 98/500 /content/drive/MyDrive/test/data/000097.jpg: 640x640 3 quadcopters, 10.2ms\n",
            "image 99/500 /content/drive/MyDrive/test/data/000098.jpg: 640x640 3 quadcopters, 10.1ms\n",
            "image 100/500 /content/drive/MyDrive/test/data/000099.jpg: 640x640 2 quadcopters, 10.2ms\n",
            "image 101/500 /content/drive/MyDrive/test/data/000100.jpg: 640x640 3 quadcopters, 10.2ms\n",
            "image 102/500 /content/drive/MyDrive/test/data/000101.jpg: 640x640 3 quadcopters, 10.5ms\n",
            "image 103/500 /content/drive/MyDrive/test/data/000102.jpg: 640x640 3 quadcopters, 10.7ms\n",
            "image 104/500 /content/drive/MyDrive/test/data/000103.jpg: 640x640 3 quadcopters, 10.1ms\n",
            "image 105/500 /content/drive/MyDrive/test/data/000104.jpg: 640x640 3 quadcopters, 16.3ms\n",
            "image 106/500 /content/drive/MyDrive/test/data/000105.jpg: 640x640 4 quadcopters, 11.2ms\n",
            "image 107/500 /content/drive/MyDrive/test/data/000106.jpg: 640x640 3 quadcopters, 10.4ms\n",
            "image 108/500 /content/drive/MyDrive/test/data/000107.jpg: 640x640 2 quadcopters, 11.6ms\n",
            "image 109/500 /content/drive/MyDrive/test/data/000108.jpg: 640x640 3 quadcopters, 11.9ms\n",
            "image 110/500 /content/drive/MyDrive/test/data/000109.jpg: 640x640 4 quadcopters, 10.5ms\n",
            "image 111/500 /content/drive/MyDrive/test/data/000110.jpg: 640x640 2 quadcopters, 10.5ms\n",
            "image 112/500 /content/drive/MyDrive/test/data/000111.jpg: 640x640 3 quadcopters, 11.3ms\n",
            "image 113/500 /content/drive/MyDrive/test/data/000112.jpg: 640x640 3 quadcopters, 11.3ms\n",
            "image 114/500 /content/drive/MyDrive/test/data/000113.jpg: 640x640 2 quadcopters, 10.5ms\n",
            "image 115/500 /content/drive/MyDrive/test/data/000114.jpg: 640x640 2 quadcopters, 10.3ms\n",
            "image 116/500 /content/drive/MyDrive/test/data/000115.jpg: 640x640 2 quadcopters, 10.5ms\n",
            "image 117/500 /content/drive/MyDrive/test/data/000116.jpg: 640x640 2 quadcopters, 10.8ms\n",
            "image 118/500 /content/drive/MyDrive/test/data/000117.jpg: 640x640 2 quadcopters, 10.1ms\n",
            "image 119/500 /content/drive/MyDrive/test/data/000118.jpg: 640x640 2 quadcopters, 10.8ms\n",
            "image 120/500 /content/drive/MyDrive/test/data/000119.jpg: 640x640 2 quadcopters, 10.9ms\n",
            "image 121/500 /content/drive/MyDrive/test/data/000120.jpg: 640x640 2 quadcopters, 10.7ms\n",
            "image 122/500 /content/drive/MyDrive/test/data/000121.jpg: 640x640 2 quadcopters, 12.7ms\n",
            "image 123/500 /content/drive/MyDrive/test/data/000122.jpg: 640x640 3 quadcopters, 11.2ms\n",
            "image 124/500 /content/drive/MyDrive/test/data/000123.jpg: 640x640 2 quadcopters, 10.7ms\n",
            "image 125/500 /content/drive/MyDrive/test/data/000124.jpg: 640x640 2 quadcopters, 10.9ms\n",
            "image 126/500 /content/drive/MyDrive/test/data/000125.jpg: 640x640 2 quadcopters, 10.5ms\n",
            "image 127/500 /content/drive/MyDrive/test/data/000126.jpg: 640x640 3 quadcopters, 10.9ms\n",
            "image 128/500 /content/drive/MyDrive/test/data/000127.jpg: 640x640 4 quadcopters, 11.1ms\n",
            "image 129/500 /content/drive/MyDrive/test/data/000128.jpg: 640x640 3 quadcopters, 10.6ms\n",
            "image 130/500 /content/drive/MyDrive/test/data/000129.jpg: 640x640 3 quadcopters, 11.1ms\n",
            "image 131/500 /content/drive/MyDrive/test/data/000130.jpg: 640x640 3 quadcopters, 11.3ms\n",
            "image 132/500 /content/drive/MyDrive/test/data/000131.jpg: 640x640 2 quadcopters, 14.6ms\n",
            "image 133/500 /content/drive/MyDrive/test/data/000132.jpg: 640x640 3 quadcopters, 10.6ms\n",
            "image 134/500 /content/drive/MyDrive/test/data/000133.jpg: 640x640 2 quadcopters, 12.7ms\n",
            "image 135/500 /content/drive/MyDrive/test/data/000134.jpg: 640x640 2 quadcopters, 10.6ms\n",
            "image 136/500 /content/drive/MyDrive/test/data/000135.jpg: 640x640 2 quadcopters, 10.7ms\n",
            "image 137/500 /content/drive/MyDrive/test/data/000136.jpg: 640x640 3 quadcopters, 10.6ms\n",
            "image 138/500 /content/drive/MyDrive/test/data/000137.jpg: 640x640 2 quadcopters, 11.1ms\n",
            "image 139/500 /content/drive/MyDrive/test/data/000138.jpg: 640x640 3 quadcopters, 10.5ms\n",
            "image 140/500 /content/drive/MyDrive/test/data/000139.jpg: 640x640 2 quadcopters, 11.1ms\n",
            "image 141/500 /content/drive/MyDrive/test/data/000140.jpg: 640x640 4 quadcopters, 11.6ms\n",
            "image 142/500 /content/drive/MyDrive/test/data/000141.jpg: 640x640 3 quadcopters, 11.6ms\n",
            "image 143/500 /content/drive/MyDrive/test/data/000142.jpg: 640x640 2 quadcopters, 11.3ms\n",
            "image 144/500 /content/drive/MyDrive/test/data/000143.jpg: 640x640 3 quadcopters, 11.2ms\n",
            "image 145/500 /content/drive/MyDrive/test/data/000144.jpg: 640x640 3 quadcopters, 10.6ms\n",
            "image 146/500 /content/drive/MyDrive/test/data/000145.jpg: 640x640 2 quadcopters, 10.8ms\n",
            "image 147/500 /content/drive/MyDrive/test/data/000146.jpg: 640x640 2 quadcopters, 18.5ms\n",
            "image 148/500 /content/drive/MyDrive/test/data/000147.jpg: 640x640 2 quadcopters, 10.4ms\n",
            "image 149/500 /content/drive/MyDrive/test/data/000148.jpg: 640x640 2 quadcopters, 10.9ms\n",
            "image 150/500 /content/drive/MyDrive/test/data/000149.jpg: 640x640 2 quadcopters, 12.5ms\n",
            "image 151/500 /content/drive/MyDrive/test/data/000150.jpg: 640x640 3 quadcopters, 10.4ms\n",
            "image 152/500 /content/drive/MyDrive/test/data/000151.jpg: 640x640 2 quadcopters, 10.4ms\n",
            "image 153/500 /content/drive/MyDrive/test/data/000152.jpg: 640x640 3 quadcopters, 11.8ms\n",
            "image 154/500 /content/drive/MyDrive/test/data/000153.jpg: 640x640 2 quadcopters, 10.8ms\n",
            "image 155/500 /content/drive/MyDrive/test/data/000154.jpg: 640x640 2 quadcopters, 10.6ms\n",
            "image 156/500 /content/drive/MyDrive/test/data/000155.jpg: 640x640 1 quadcopter, 11.5ms\n",
            "image 157/500 /content/drive/MyDrive/test/data/000156.jpg: 640x640 2 quadcopters, 14.2ms\n",
            "image 158/500 /content/drive/MyDrive/test/data/000157.jpg: 640x640 2 quadcopters, 13.3ms\n",
            "image 159/500 /content/drive/MyDrive/test/data/000158.jpg: 640x640 2 quadcopters, 10.5ms\n",
            "image 160/500 /content/drive/MyDrive/test/data/000159.jpg: 640x640 2 quadcopters, 11.3ms\n",
            "image 161/500 /content/drive/MyDrive/test/data/000160.jpg: 640x640 2 quadcopters, 10.6ms\n",
            "image 162/500 /content/drive/MyDrive/test/data/000161.jpg: 640x640 2 quadcopters, 10.6ms\n",
            "image 163/500 /content/drive/MyDrive/test/data/000162.jpg: 640x640 2 quadcopters, 10.5ms\n",
            "image 164/500 /content/drive/MyDrive/test/data/000163.jpg: 640x640 2 quadcopters, 10.4ms\n",
            "image 165/500 /content/drive/MyDrive/test/data/000164.jpg: 640x640 2 quadcopters, 10.9ms\n",
            "image 166/500 /content/drive/MyDrive/test/data/000165.jpg: 640x640 2 quadcopters, 11.0ms\n",
            "image 167/500 /content/drive/MyDrive/test/data/000166.jpg: 640x640 2 quadcopters, 12.3ms\n",
            "image 168/500 /content/drive/MyDrive/test/data/000167.jpg: 640x640 2 quadcopters, 10.8ms\n",
            "image 169/500 /content/drive/MyDrive/test/data/000168.jpg: 640x640 3 quadcopters, 12.0ms\n",
            "image 170/500 /content/drive/MyDrive/test/data/000169.jpg: 640x640 2 quadcopters, 10.6ms\n",
            "image 171/500 /content/drive/MyDrive/test/data/000170.jpg: 640x640 2 quadcopters, 11.0ms\n",
            "image 172/500 /content/drive/MyDrive/test/data/000171.jpg: 640x640 2 quadcopters, 10.3ms\n",
            "image 173/500 /content/drive/MyDrive/test/data/000172.jpg: 640x640 2 quadcopters, 10.5ms\n",
            "image 174/500 /content/drive/MyDrive/test/data/000173.jpg: 640x640 3 quadcopters, 11.0ms\n",
            "image 175/500 /content/drive/MyDrive/test/data/000174.jpg: 640x640 3 quadcopters, 10.9ms\n",
            "image 176/500 /content/drive/MyDrive/test/data/000175.jpg: 640x640 3 quadcopters, 11.5ms\n",
            "image 177/500 /content/drive/MyDrive/test/data/000176.jpg: 640x640 3 quadcopters, 11.6ms\n",
            "image 178/500 /content/drive/MyDrive/test/data/000177.jpg: 640x640 2 quadcopters, 15.1ms\n",
            "image 179/500 /content/drive/MyDrive/test/data/000178.jpg: 640x640 3 quadcopters, 11.8ms\n",
            "image 180/500 /content/drive/MyDrive/test/data/000179.jpg: 640x640 3 quadcopters, 11.0ms\n",
            "image 181/500 /content/drive/MyDrive/test/data/000180.jpg: 640x640 3 quadcopters, 13.3ms\n",
            "image 182/500 /content/drive/MyDrive/test/data/000181.jpg: 640x640 3 quadcopters, 11.0ms\n",
            "image 183/500 /content/drive/MyDrive/test/data/000182.jpg: 640x640 3 quadcopters, 10.7ms\n",
            "image 184/500 /content/drive/MyDrive/test/data/000183.jpg: 640x640 3 quadcopters, 11.3ms\n",
            "image 185/500 /content/drive/MyDrive/test/data/000184.jpg: 640x640 4 quadcopters, 11.1ms\n",
            "image 186/500 /content/drive/MyDrive/test/data/000185.jpg: 640x640 4 quadcopters, 12.8ms\n",
            "image 187/500 /content/drive/MyDrive/test/data/000186.jpg: 640x640 4 quadcopters, 11.0ms\n",
            "image 188/500 /content/drive/MyDrive/test/data/000187.jpg: 640x640 4 quadcopters, 19.1ms\n",
            "image 189/500 /content/drive/MyDrive/test/data/000188.jpg: 640x640 2 quadcopters, 11.0ms\n",
            "image 190/500 /content/drive/MyDrive/test/data/000189.jpg: 640x640 3 quadcopters, 10.9ms\n",
            "image 191/500 /content/drive/MyDrive/test/data/000190.jpg: 640x640 2 quadcopters, 10.8ms\n",
            "image 192/500 /content/drive/MyDrive/test/data/000191.jpg: 640x640 4 quadcopters, 10.8ms\n",
            "image 193/500 /content/drive/MyDrive/test/data/000192.jpg: 640x640 3 quadcopters, 10.7ms\n",
            "image 194/500 /content/drive/MyDrive/test/data/000193.jpg: 640x640 3 quadcopters, 11.5ms\n",
            "image 195/500 /content/drive/MyDrive/test/data/000194.jpg: 640x640 2 quadcopters, 12.0ms\n",
            "image 196/500 /content/drive/MyDrive/test/data/000195.jpg: 640x640 4 quadcopters, 10.9ms\n",
            "image 197/500 /content/drive/MyDrive/test/data/000196.jpg: 640x640 4 quadcopters, 17.5ms\n",
            "image 198/500 /content/drive/MyDrive/test/data/000197.jpg: 640x640 3 quadcopters, 13.5ms\n",
            "image 199/500 /content/drive/MyDrive/test/data/000198.jpg: 640x640 2 quadcopters, 11.6ms\n",
            "image 200/500 /content/drive/MyDrive/test/data/000199.jpg: 640x640 4 quadcopters, 11.2ms\n",
            "image 201/500 /content/drive/MyDrive/test/data/000200.jpg: 640x640 2 quadcopters, 10.9ms\n",
            "image 202/500 /content/drive/MyDrive/test/data/000201.jpg: 640x640 2 quadcopters, 11.3ms\n",
            "image 203/500 /content/drive/MyDrive/test/data/000202.jpg: 640x640 2 quadcopters, 11.1ms\n",
            "image 204/500 /content/drive/MyDrive/test/data/000203.jpg: 640x640 2 quadcopters, 11.2ms\n",
            "image 205/500 /content/drive/MyDrive/test/data/000204.jpg: 640x640 2 quadcopters, 12.3ms\n",
            "image 206/500 /content/drive/MyDrive/test/data/000205.jpg: 640x640 2 quadcopters, 11.5ms\n",
            "image 207/500 /content/drive/MyDrive/test/data/000206.jpg: 640x640 3 quadcopters, 11.0ms\n",
            "image 208/500 /content/drive/MyDrive/test/data/000207.jpg: 640x640 2 quadcopters, 11.9ms\n",
            "image 209/500 /content/drive/MyDrive/test/data/000208.jpg: 640x640 2 quadcopters, 12.2ms\n",
            "image 210/500 /content/drive/MyDrive/test/data/000209.jpg: 640x640 2 quadcopters, 12.5ms\n",
            "image 211/500 /content/drive/MyDrive/test/data/000210.jpg: 640x640 4 quadcopters, 11.3ms\n",
            "image 212/500 /content/drive/MyDrive/test/data/000211.jpg: 640x640 1 quadcopter, 10.9ms\n",
            "image 213/500 /content/drive/MyDrive/test/data/000212.jpg: 640x640 1 quadcopter, 11.8ms\n",
            "image 214/500 /content/drive/MyDrive/test/data/000213.jpg: 640x640 3 quadcopters, 10.6ms\n",
            "image 215/500 /content/drive/MyDrive/test/data/000214.jpg: 640x640 4 quadcopters, 12.5ms\n",
            "image 216/500 /content/drive/MyDrive/test/data/000215.jpg: 640x640 2 quadcopters, 10.8ms\n",
            "image 217/500 /content/drive/MyDrive/test/data/000216.jpg: 640x640 1 quadcopter, 11.9ms\n",
            "image 218/500 /content/drive/MyDrive/test/data/000217.jpg: 640x640 2 quadcopters, 10.8ms\n",
            "image 219/500 /content/drive/MyDrive/test/data/000218.jpg: 640x640 3 quadcopters, 10.3ms\n",
            "image 220/500 /content/drive/MyDrive/test/data/000219.jpg: 640x640 2 quadcopters, 10.3ms\n",
            "image 221/500 /content/drive/MyDrive/test/data/000220.jpg: 640x640 2 quadcopters, 14.8ms\n",
            "image 222/500 /content/drive/MyDrive/test/data/000221.jpg: 640x640 2 quadcopters, 11.2ms\n",
            "image 223/500 /content/drive/MyDrive/test/data/000222.jpg: 640x640 3 quadcopters, 10.9ms\n",
            "image 224/500 /content/drive/MyDrive/test/data/000223.jpg: 640x640 2 quadcopters, 11.3ms\n",
            "image 225/500 /content/drive/MyDrive/test/data/000224.jpg: 640x640 2 quadcopters, 10.8ms\n",
            "image 226/500 /content/drive/MyDrive/test/data/000225.jpg: 640x640 2 quadcopters, 10.9ms\n",
            "image 227/500 /content/drive/MyDrive/test/data/000226.jpg: 640x640 1 quadcopter, 18.0ms\n",
            "image 228/500 /content/drive/MyDrive/test/data/000227.jpg: 640x640 1 quadcopter, 12.1ms\n",
            "image 229/500 /content/drive/MyDrive/test/data/000228.jpg: 640x640 1 quadcopter, 10.5ms\n",
            "image 230/500 /content/drive/MyDrive/test/data/000229.jpg: 640x640 2 quadcopters, 11.9ms\n",
            "image 231/500 /content/drive/MyDrive/test/data/000230.jpg: 640x640 2 quadcopters, 11.1ms\n",
            "image 232/500 /content/drive/MyDrive/test/data/000231.jpg: 640x640 3 quadcopters, 10.9ms\n",
            "image 233/500 /content/drive/MyDrive/test/data/000232.jpg: 640x640 2 quadcopters, 10.6ms\n",
            "image 234/500 /content/drive/MyDrive/test/data/000233.jpg: 640x640 4 quadcopters, 11.3ms\n",
            "image 235/500 /content/drive/MyDrive/test/data/000234.jpg: 640x640 2 quadcopters, 10.6ms\n",
            "image 236/500 /content/drive/MyDrive/test/data/000235.jpg: 640x640 2 quadcopters, 10.7ms\n",
            "image 237/500 /content/drive/MyDrive/test/data/000236.jpg: 640x640 2 quadcopters, 10.4ms\n",
            "image 238/500 /content/drive/MyDrive/test/data/000237.jpg: 640x640 1 quadcopter, 10.6ms\n",
            "image 239/500 /content/drive/MyDrive/test/data/000238.jpg: 640x640 2 quadcopters, 11.3ms\n",
            "image 240/500 /content/drive/MyDrive/test/data/000239.jpg: 640x640 2 quadcopters, 10.6ms\n",
            "image 241/500 /content/drive/MyDrive/test/data/000240.jpg: 640x640 2 quadcopters, 10.3ms\n",
            "image 242/500 /content/drive/MyDrive/test/data/000241.jpg: 640x640 3 quadcopters, 10.8ms\n",
            "image 243/500 /content/drive/MyDrive/test/data/000242.jpg: 640x640 3 quadcopters, 10.7ms\n",
            "image 244/500 /content/drive/MyDrive/test/data/000243.jpg: 640x640 3 quadcopters, 10.7ms\n",
            "image 245/500 /content/drive/MyDrive/test/data/000244.jpg: 640x640 3 quadcopters, 11.2ms\n",
            "image 246/500 /content/drive/MyDrive/test/data/000245.jpg: 640x640 3 quadcopters, 10.4ms\n",
            "image 247/500 /content/drive/MyDrive/test/data/000246.jpg: 640x640 3 quadcopters, 10.5ms\n",
            "image 248/500 /content/drive/MyDrive/test/data/000247.jpg: 640x640 3 quadcopters, 11.1ms\n",
            "image 249/500 /content/drive/MyDrive/test/data/000248.jpg: 640x640 2 quadcopters, 10.4ms\n",
            "image 250/500 /content/drive/MyDrive/test/data/000249.jpg: 640x640 2 quadcopters, 10.5ms\n",
            "image 251/500 /content/drive/MyDrive/test/data/000250.jpg: 640x640 2 quadcopters, 13.8ms\n",
            "image 252/500 /content/drive/MyDrive/test/data/000251.jpg: 640x640 3 quadcopters, 11.2ms\n",
            "image 253/500 /content/drive/MyDrive/test/data/000252.jpg: 640x640 3 quadcopters, 10.9ms\n",
            "image 254/500 /content/drive/MyDrive/test/data/000253.jpg: 640x640 2 quadcopters, 11.2ms\n",
            "image 255/500 /content/drive/MyDrive/test/data/000254.jpg: 640x640 2 quadcopters, 11.1ms\n",
            "image 256/500 /content/drive/MyDrive/test/data/000255.jpg: 640x640 2 quadcopters, 11.7ms\n",
            "image 257/500 /content/drive/MyDrive/test/data/000256.jpg: 640x640 2 quadcopters, 11.2ms\n",
            "image 258/500 /content/drive/MyDrive/test/data/000257.jpg: 640x640 1 quadcopter, 10.9ms\n",
            "image 259/500 /content/drive/MyDrive/test/data/000258.jpg: 640x640 2 quadcopters, 11.4ms\n",
            "image 260/500 /content/drive/MyDrive/test/data/000259.jpg: 640x640 2 quadcopters, 11.6ms\n",
            "image 261/500 /content/drive/MyDrive/test/data/000260.jpg: 640x640 2 quadcopters, 11.3ms\n",
            "image 262/500 /content/drive/MyDrive/test/data/000261.jpg: 640x640 2 quadcopters, 11.4ms\n",
            "image 263/500 /content/drive/MyDrive/test/data/000262.jpg: 640x640 3 quadcopters, 12.3ms\n",
            "image 264/500 /content/drive/MyDrive/test/data/000263.jpg: 640x640 3 quadcopters, 11.4ms\n",
            "image 265/500 /content/drive/MyDrive/test/data/000264.jpg: 640x640 3 quadcopters, 11.3ms\n",
            "image 266/500 /content/drive/MyDrive/test/data/000265.jpg: 640x640 3 quadcopters, 11.3ms\n",
            "image 267/500 /content/drive/MyDrive/test/data/000266.jpg: 640x640 2 quadcopters, 19.0ms\n",
            "image 268/500 /content/drive/MyDrive/test/data/000267.jpg: 640x640 3 quadcopters, 14.0ms\n",
            "image 269/500 /content/drive/MyDrive/test/data/000268.jpg: 640x640 2 quadcopters, 11.7ms\n",
            "image 270/500 /content/drive/MyDrive/test/data/000269.jpg: 640x640 3 quadcopters, 10.7ms\n",
            "image 271/500 /content/drive/MyDrive/test/data/000270.jpg: 640x640 2 quadcopters, 10.8ms\n",
            "image 272/500 /content/drive/MyDrive/test/data/000271.jpg: 640x640 2 quadcopters, 10.5ms\n",
            "image 273/500 /content/drive/MyDrive/test/data/000272.jpg: 640x640 2 quadcopters, 10.7ms\n",
            "image 274/500 /content/drive/MyDrive/test/data/000273.jpg: 640x640 2 quadcopters, 10.8ms\n",
            "image 275/500 /content/drive/MyDrive/test/data/000274.jpg: 640x640 2 quadcopters, 11.2ms\n",
            "image 276/500 /content/drive/MyDrive/test/data/000275.jpg: 640x640 2 quadcopters, 10.8ms\n",
            "image 277/500 /content/drive/MyDrive/test/data/000276.jpg: 640x640 2 quadcopters, 11.3ms\n",
            "image 278/500 /content/drive/MyDrive/test/data/000277.jpg: 640x640 2 quadcopters, 10.6ms\n",
            "image 279/500 /content/drive/MyDrive/test/data/000278.jpg: 640x640 2 quadcopters, 10.9ms\n",
            "image 280/500 /content/drive/MyDrive/test/data/000279.jpg: 640x640 2 quadcopters, 10.5ms\n",
            "image 281/500 /content/drive/MyDrive/test/data/000280.jpg: 640x640 2 quadcopters, 10.9ms\n",
            "image 282/500 /content/drive/MyDrive/test/data/000281.jpg: 640x640 2 quadcopters, 11.0ms\n",
            "image 283/500 /content/drive/MyDrive/test/data/000282.jpg: 640x640 2 quadcopters, 11.5ms\n",
            "image 284/500 /content/drive/MyDrive/test/data/000283.jpg: 640x640 2 quadcopters, 11.2ms\n",
            "image 285/500 /content/drive/MyDrive/test/data/000284.jpg: 640x640 3 quadcopters, 10.7ms\n",
            "image 286/500 /content/drive/MyDrive/test/data/000285.jpg: 640x640 3 quadcopters, 11.3ms\n",
            "image 287/500 /content/drive/MyDrive/test/data/000286.jpg: 640x640 3 quadcopters, 12.8ms\n",
            "image 288/500 /content/drive/MyDrive/test/data/000287.jpg: 640x640 3 quadcopters, 10.8ms\n",
            "image 289/500 /content/drive/MyDrive/test/data/000288.jpg: 640x640 3 quadcopters, 11.0ms\n",
            "image 290/500 /content/drive/MyDrive/test/data/000289.jpg: 640x640 2 quadcopters, 12.1ms\n",
            "image 291/500 /content/drive/MyDrive/test/data/000290.jpg: 640x640 2 quadcopters, 11.0ms\n",
            "image 292/500 /content/drive/MyDrive/test/data/000291.jpg: 640x640 2 quadcopters, 11.2ms\n",
            "image 293/500 /content/drive/MyDrive/test/data/000292.jpg: 640x640 2 quadcopters, 11.1ms\n",
            "image 294/500 /content/drive/MyDrive/test/data/000293.jpg: 640x640 2 quadcopters, 11.5ms\n",
            "image 295/500 /content/drive/MyDrive/test/data/000294.jpg: 640x640 2 quadcopters, 10.9ms\n",
            "image 296/500 /content/drive/MyDrive/test/data/000295.jpg: 640x640 2 quadcopters, 11.0ms\n",
            "image 297/500 /content/drive/MyDrive/test/data/000296.jpg: 640x640 2 quadcopters, 11.5ms\n",
            "image 298/500 /content/drive/MyDrive/test/data/000297.jpg: 640x640 2 quadcopters, 10.8ms\n",
            "image 299/500 /content/drive/MyDrive/test/data/000298.jpg: 640x640 2 quadcopters, 11.1ms\n",
            "image 300/500 /content/drive/MyDrive/test/data/000299.jpg: 640x640 2 quadcopters, 11.1ms\n",
            "image 301/500 /content/drive/MyDrive/test/data/000300.jpg: 640x640 2 quadcopters, 11.0ms\n",
            "image 302/500 /content/drive/MyDrive/test/data/000301.jpg: 640x640 3 quadcopters, 11.2ms\n",
            "image 303/500 /content/drive/MyDrive/test/data/000302.jpg: 640x640 2 quadcopters, 10.7ms\n",
            "image 304/500 /content/drive/MyDrive/test/data/000303.jpg: 640x640 2 quadcopters, 11.1ms\n",
            "image 305/500 /content/drive/MyDrive/test/data/000304.jpg: 640x640 4 quadcopters, 10.9ms\n",
            "image 306/500 /content/drive/MyDrive/test/data/000305.jpg: 640x640 3 quadcopters, 11.6ms\n",
            "image 307/500 /content/drive/MyDrive/test/data/000306.jpg: 640x640 2 quadcopters, 14.0ms\n",
            "image 308/500 /content/drive/MyDrive/test/data/000307.jpg: 640x640 3 quadcopters, 12.5ms\n",
            "image 309/500 /content/drive/MyDrive/test/data/000308.jpg: 640x640 2 quadcopters, 12.3ms\n",
            "image 310/500 /content/drive/MyDrive/test/data/000309.jpg: 640x640 4 quadcopters, 11.8ms\n",
            "image 311/500 /content/drive/MyDrive/test/data/000310.jpg: 640x640 2 quadcopters, 11.6ms\n",
            "image 312/500 /content/drive/MyDrive/test/data/000311.jpg: 640x640 2 quadcopters, 10.8ms\n",
            "image 313/500 /content/drive/MyDrive/test/data/000312.jpg: 640x640 2 quadcopters, 13.3ms\n",
            "image 314/500 /content/drive/MyDrive/test/data/000313.jpg: 640x640 2 quadcopters, 12.2ms\n",
            "image 315/500 /content/drive/MyDrive/test/data/000314.jpg: 640x640 3 quadcopters, 11.4ms\n",
            "image 316/500 /content/drive/MyDrive/test/data/000315.jpg: 640x640 1 quadcopter, 11.4ms\n",
            "image 317/500 /content/drive/MyDrive/test/data/000316.jpg: 640x640 2 quadcopters, 10.6ms\n",
            "image 318/500 /content/drive/MyDrive/test/data/000317.jpg: 640x640 2 quadcopters, 11.0ms\n",
            "image 319/500 /content/drive/MyDrive/test/data/000318.jpg: 640x640 2 quadcopters, 11.4ms\n",
            "image 320/500 /content/drive/MyDrive/test/data/000319.jpg: 640x640 2 quadcopters, 19.1ms\n",
            "image 321/500 /content/drive/MyDrive/test/data/000320.jpg: 640x640 2 quadcopters, 11.0ms\n",
            "image 322/500 /content/drive/MyDrive/test/data/000321.jpg: 640x640 2 quadcopters, 10.9ms\n",
            "image 323/500 /content/drive/MyDrive/test/data/000322.jpg: 640x640 5 quadcopters, 10.6ms\n",
            "image 324/500 /content/drive/MyDrive/test/data/000323.jpg: 640x640 3 quadcopters, 11.6ms\n",
            "image 325/500 /content/drive/MyDrive/test/data/000324.jpg: 640x640 3 quadcopters, 10.8ms\n",
            "image 326/500 /content/drive/MyDrive/test/data/000325.jpg: 640x640 2 quadcopters, 11.5ms\n",
            "image 327/500 /content/drive/MyDrive/test/data/000326.jpg: 640x640 2 quadcopters, 11.5ms\n",
            "image 328/500 /content/drive/MyDrive/test/data/000327.jpg: 640x640 3 quadcopters, 11.3ms\n",
            "image 329/500 /content/drive/MyDrive/test/data/000328.jpg: 640x640 2 quadcopters, 10.8ms\n",
            "image 330/500 /content/drive/MyDrive/test/data/000329.jpg: 640x640 2 quadcopters, 11.2ms\n",
            "image 331/500 /content/drive/MyDrive/test/data/000330.jpg: 640x640 3 quadcopters, 11.4ms\n",
            "image 332/500 /content/drive/MyDrive/test/data/000331.jpg: 640x640 3 quadcopters, 10.7ms\n",
            "image 333/500 /content/drive/MyDrive/test/data/000332.jpg: 640x640 3 quadcopters, 11.2ms\n",
            "image 334/500 /content/drive/MyDrive/test/data/000333.jpg: 640x640 4 quadcopters, 10.8ms\n",
            "image 335/500 /content/drive/MyDrive/test/data/000334.jpg: 640x640 1 quadcopter, 10.9ms\n",
            "image 336/500 /content/drive/MyDrive/test/data/000335.jpg: 640x640 3 quadcopters, 11.1ms\n",
            "image 337/500 /content/drive/MyDrive/test/data/000336.jpg: 640x640 1 quadcopter, 11.1ms\n",
            "image 338/500 /content/drive/MyDrive/test/data/000337.jpg: 640x640 3 quadcopters, 10.3ms\n",
            "image 339/500 /content/drive/MyDrive/test/data/000338.jpg: 640x640 3 quadcopters, 10.6ms\n",
            "image 340/500 /content/drive/MyDrive/test/data/000339.jpg: 640x640 3 quadcopters, 11.3ms\n",
            "image 341/500 /content/drive/MyDrive/test/data/000340.jpg: 640x640 2 quadcopters, 11.0ms\n",
            "image 342/500 /content/drive/MyDrive/test/data/000341.jpg: 640x640 1 quadcopter, 10.8ms\n",
            "image 343/500 /content/drive/MyDrive/test/data/000342.jpg: 640x640 2 quadcopters, 10.6ms\n",
            "image 344/500 /content/drive/MyDrive/test/data/000343.jpg: 640x640 2 quadcopters, 10.6ms\n",
            "image 345/500 /content/drive/MyDrive/test/data/000344.jpg: 640x640 3 quadcopters, 19.7ms\n",
            "image 346/500 /content/drive/MyDrive/test/data/000345.jpg: 640x640 2 quadcopters, 11.5ms\n",
            "image 347/500 /content/drive/MyDrive/test/data/000346.jpg: 640x640 2 quadcopters, 10.9ms\n",
            "image 348/500 /content/drive/MyDrive/test/data/000347.jpg: 640x640 1 quadcopter, 11.0ms\n",
            "image 349/500 /content/drive/MyDrive/test/data/000348.jpg: 640x640 2 quadcopters, 10.7ms\n",
            "image 350/500 /content/drive/MyDrive/test/data/000349.jpg: 640x640 1 quadcopter, 11.3ms\n",
            "image 351/500 /content/drive/MyDrive/test/data/000350.jpg: 640x640 1 quadcopter, 12.0ms\n",
            "image 352/500 /content/drive/MyDrive/test/data/000351.jpg: 640x640 2 quadcopters, 10.5ms\n",
            "image 353/500 /content/drive/MyDrive/test/data/000352.jpg: 640x640 1 quadcopter, 12.1ms\n",
            "image 354/500 /content/drive/MyDrive/test/data/000353.jpg: 640x640 3 quadcopters, 10.6ms\n",
            "image 355/500 /content/drive/MyDrive/test/data/000354.jpg: 640x640 2 quadcopters, 10.4ms\n",
            "image 356/500 /content/drive/MyDrive/test/data/000355.jpg: 640x640 3 quadcopters, 10.6ms\n",
            "image 357/500 /content/drive/MyDrive/test/data/000356.jpg: 640x640 1 quadcopter, 10.4ms\n",
            "image 358/500 /content/drive/MyDrive/test/data/000357.jpg: 640x640 1 quadcopter, 10.8ms\n",
            "image 359/500 /content/drive/MyDrive/test/data/000358.jpg: 640x640 1 quadcopter, 10.5ms\n",
            "image 360/500 /content/drive/MyDrive/test/data/000359.jpg: 640x640 2 quadcopters, 11.8ms\n",
            "image 361/500 /content/drive/MyDrive/test/data/000360.jpg: 640x640 1 quadcopter, 11.2ms\n",
            "image 362/500 /content/drive/MyDrive/test/data/000361.jpg: 640x640 1 quadcopter, 10.7ms\n",
            "image 363/500 /content/drive/MyDrive/test/data/000362.jpg: 640x640 1 quadcopter, 10.4ms\n",
            "image 364/500 /content/drive/MyDrive/test/data/000363.jpg: 640x640 1 quadcopter, 11.4ms\n",
            "image 365/500 /content/drive/MyDrive/test/data/000364.jpg: 640x640 2 quadcopters, 10.7ms\n",
            "image 366/500 /content/drive/MyDrive/test/data/000365.jpg: 640x640 1 quadcopter, 13.8ms\n",
            "image 367/500 /content/drive/MyDrive/test/data/000366.jpg: 640x640 2 quadcopters, 21.0ms\n",
            "image 368/500 /content/drive/MyDrive/test/data/000367.jpg: 640x640 1 quadcopter, 19.9ms\n",
            "image 369/500 /content/drive/MyDrive/test/data/000368.jpg: 640x640 1 quadcopter, 21.5ms\n",
            "image 370/500 /content/drive/MyDrive/test/data/000369.jpg: 640x640 1 quadcopter, 18.9ms\n",
            "image 371/500 /content/drive/MyDrive/test/data/000370.jpg: 640x640 1 quadcopter, 14.4ms\n",
            "image 372/500 /content/drive/MyDrive/test/data/000371.jpg: 640x640 1 quadcopter, 17.4ms\n",
            "image 373/500 /content/drive/MyDrive/test/data/000372.jpg: 640x640 1 quadcopter, 16.6ms\n",
            "image 374/500 /content/drive/MyDrive/test/data/000373.jpg: 640x640 1 quadcopter, 13.2ms\n",
            "image 375/500 /content/drive/MyDrive/test/data/000374.jpg: 640x640 2 quadcopters, 17.4ms\n",
            "image 376/500 /content/drive/MyDrive/test/data/000375.jpg: 640x640 1 quadcopter, 14.8ms\n",
            "image 377/500 /content/drive/MyDrive/test/data/000376.jpg: 640x640 1 quadcopter, 14.9ms\n",
            "image 378/500 /content/drive/MyDrive/test/data/000377.jpg: 640x640 2 quadcopters, 13.9ms\n",
            "image 379/500 /content/drive/MyDrive/test/data/000378.jpg: 640x640 1 quadcopter, 18.4ms\n",
            "image 380/500 /content/drive/MyDrive/test/data/000379.jpg: 640x640 (no detections), 16.4ms\n",
            "image 381/500 /content/drive/MyDrive/test/data/000380.jpg: 640x640 1 quadcopter, 15.0ms\n",
            "image 382/500 /content/drive/MyDrive/test/data/000381.jpg: 640x640 1 quadcopter, 14.1ms\n",
            "image 383/500 /content/drive/MyDrive/test/data/000382.jpg: 640x640 1 quadcopter, 16.6ms\n",
            "image 384/500 /content/drive/MyDrive/test/data/000383.jpg: 640x640 1 quadcopter, 14.8ms\n",
            "image 385/500 /content/drive/MyDrive/test/data/000384.jpg: 640x640 1 quadcopter, 16.6ms\n",
            "image 386/500 /content/drive/MyDrive/test/data/000385.jpg: 640x640 1 quadcopter, 14.6ms\n",
            "image 387/500 /content/drive/MyDrive/test/data/000386.jpg: 640x640 1 quadcopter, 13.8ms\n",
            "image 388/500 /content/drive/MyDrive/test/data/000387.jpg: 640x640 1 quadcopter, 14.6ms\n",
            "image 389/500 /content/drive/MyDrive/test/data/000388.jpg: 640x640 4 quadcopters, 13.7ms\n",
            "image 390/500 /content/drive/MyDrive/test/data/000389.jpg: 640x640 1 quadcopter, 15.5ms\n",
            "image 391/500 /content/drive/MyDrive/test/data/000390.jpg: 640x640 1 quadcopter, 13.3ms\n",
            "image 392/500 /content/drive/MyDrive/test/data/000391.jpg: 640x640 2 quadcopters, 13.7ms\n",
            "image 393/500 /content/drive/MyDrive/test/data/000392.jpg: 640x640 3 quadcopters, 13.6ms\n",
            "image 394/500 /content/drive/MyDrive/test/data/000393.jpg: 640x640 2 quadcopters, 13.1ms\n",
            "image 395/500 /content/drive/MyDrive/test/data/000394.jpg: 640x640 1 quadcopter, 15.2ms\n",
            "image 396/500 /content/drive/MyDrive/test/data/000395.jpg: 640x640 2 quadcopters, 13.2ms\n",
            "image 397/500 /content/drive/MyDrive/test/data/000396.jpg: 640x640 3 quadcopters, 16.0ms\n",
            "image 398/500 /content/drive/MyDrive/test/data/000397.jpg: 640x640 2 quadcopters, 15.4ms\n",
            "image 399/500 /content/drive/MyDrive/test/data/000398.jpg: 640x640 2 quadcopters, 18.0ms\n",
            "image 400/500 /content/drive/MyDrive/test/data/000399.jpg: 640x640 3 quadcopters, 16.6ms\n",
            "image 401/500 /content/drive/MyDrive/test/data/000400.jpg: 640x640 2 quadcopters, 17.1ms\n",
            "image 402/500 /content/drive/MyDrive/test/data/000401.jpg: 640x640 1 quadcopter, 14.5ms\n",
            "image 403/500 /content/drive/MyDrive/test/data/000402.jpg: 640x640 1 quadcopter, 16.1ms\n",
            "image 404/500 /content/drive/MyDrive/test/data/000403.jpg: 640x640 1 quadcopter, 17.1ms\n",
            "image 405/500 /content/drive/MyDrive/test/data/000404.jpg: 640x640 1 quadcopter, 16.4ms\n",
            "image 406/500 /content/drive/MyDrive/test/data/000405.jpg: 640x640 1 quadcopter, 17.4ms\n",
            "image 407/500 /content/drive/MyDrive/test/data/000406.jpg: 640x640 1 quadcopter, 14.4ms\n",
            "image 408/500 /content/drive/MyDrive/test/data/000407.jpg: 640x640 1 quadcopter, 20.3ms\n",
            "image 409/500 /content/drive/MyDrive/test/data/000408.jpg: 640x640 2 quadcopters, 17.1ms\n",
            "image 410/500 /content/drive/MyDrive/test/data/000409.jpg: 640x640 2 quadcopters, 12.6ms\n",
            "image 411/500 /content/drive/MyDrive/test/data/000410.jpg: 640x640 2 quadcopters, 14.7ms\n",
            "image 412/500 /content/drive/MyDrive/test/data/000411.jpg: 640x640 3 quadcopters, 13.5ms\n",
            "image 413/500 /content/drive/MyDrive/test/data/000412.jpg: 640x640 2 quadcopters, 14.1ms\n",
            "image 414/500 /content/drive/MyDrive/test/data/000413.jpg: 640x640 2 quadcopters, 13.2ms\n",
            "image 415/500 /content/drive/MyDrive/test/data/000414.jpg: 640x640 2 quadcopters, 13.4ms\n",
            "image 416/500 /content/drive/MyDrive/test/data/000415.jpg: 640x640 2 quadcopters, 13.5ms\n",
            "image 417/500 /content/drive/MyDrive/test/data/000416.jpg: 640x640 1 quadcopter, 13.6ms\n",
            "image 418/500 /content/drive/MyDrive/test/data/000417.jpg: 640x640 2 quadcopters, 14.3ms\n",
            "image 419/500 /content/drive/MyDrive/test/data/000418.jpg: 640x640 2 quadcopters, 15.1ms\n",
            "image 420/500 /content/drive/MyDrive/test/data/000419.jpg: 640x640 2 quadcopters, 17.2ms\n",
            "image 421/500 /content/drive/MyDrive/test/data/000420.jpg: 640x640 2 quadcopters, 16.2ms\n",
            "image 422/500 /content/drive/MyDrive/test/data/000421.jpg: 640x640 2 quadcopters, 14.2ms\n",
            "image 423/500 /content/drive/MyDrive/test/data/000422.jpg: 640x640 2 quadcopters, 13.6ms\n",
            "image 424/500 /content/drive/MyDrive/test/data/000423.jpg: 640x640 2 quadcopters, 13.5ms\n",
            "image 425/500 /content/drive/MyDrive/test/data/000424.jpg: 640x640 1 quadcopter, 14.7ms\n",
            "image 426/500 /content/drive/MyDrive/test/data/000425.jpg: 640x640 2 quadcopters, 13.2ms\n",
            "image 427/500 /content/drive/MyDrive/test/data/000426.jpg: 640x640 (no detections), 13.7ms\n",
            "image 428/500 /content/drive/MyDrive/test/data/000427.jpg: 640x640 2 quadcopters, 13.5ms\n",
            "image 429/500 /content/drive/MyDrive/test/data/000428.jpg: 640x640 2 quadcopters, 12.9ms\n",
            "image 430/500 /content/drive/MyDrive/test/data/000429.jpg: 640x640 2 quadcopters, 13.8ms\n",
            "image 431/500 /content/drive/MyDrive/test/data/000430.jpg: 640x640 2 quadcopters, 14.4ms\n",
            "image 432/500 /content/drive/MyDrive/test/data/000431.jpg: 640x640 2 quadcopters, 13.7ms\n",
            "image 433/500 /content/drive/MyDrive/test/data/000432.jpg: 640x640 3 quadcopters, 13.8ms\n",
            "image 434/500 /content/drive/MyDrive/test/data/000433.jpg: 640x640 2 quadcopters, 14.9ms\n",
            "image 435/500 /content/drive/MyDrive/test/data/000434.jpg: 640x640 2 quadcopters, 17.6ms\n",
            "image 436/500 /content/drive/MyDrive/test/data/000435.jpg: 640x640 2 quadcopters, 14.6ms\n",
            "image 437/500 /content/drive/MyDrive/test/data/000436.jpg: 640x640 1 quadcopter, 14.8ms\n",
            "image 438/500 /content/drive/MyDrive/test/data/000437.jpg: 640x640 1 quadcopter, 17.7ms\n",
            "image 439/500 /content/drive/MyDrive/test/data/000438.jpg: 640x640 1 quadcopter, 17.5ms\n",
            "image 440/500 /content/drive/MyDrive/test/data/000439.jpg: 640x640 2 quadcopters, 15.0ms\n",
            "image 441/500 /content/drive/MyDrive/test/data/000440.jpg: 640x640 2 quadcopters, 14.7ms\n",
            "image 442/500 /content/drive/MyDrive/test/data/000441.jpg: 640x640 2 quadcopters, 13.6ms\n",
            "image 443/500 /content/drive/MyDrive/test/data/000442.jpg: 640x640 3 quadcopters, 13.9ms\n",
            "image 444/500 /content/drive/MyDrive/test/data/000443.jpg: 640x640 2 quadcopters, 14.9ms\n",
            "image 445/500 /content/drive/MyDrive/test/data/000444.jpg: 640x640 3 quadcopters, 12.9ms\n",
            "image 446/500 /content/drive/MyDrive/test/data/000445.jpg: 640x640 2 quadcopters, 12.9ms\n",
            "image 447/500 /content/drive/MyDrive/test/data/000446.jpg: 640x640 2 quadcopters, 13.5ms\n",
            "image 448/500 /content/drive/MyDrive/test/data/000447.jpg: 640x640 1 quadcopter, 12.7ms\n",
            "image 449/500 /content/drive/MyDrive/test/data/000448.jpg: 640x640 1 quadcopter, 13.0ms\n",
            "image 450/500 /content/drive/MyDrive/test/data/000449.jpg: 640x640 2 quadcopters, 16.9ms\n",
            "image 451/500 /content/drive/MyDrive/test/data/000450.jpg: 640x640 2 quadcopters, 14.1ms\n",
            "image 452/500 /content/drive/MyDrive/test/data/000451.jpg: 640x640 2 quadcopters, 13.7ms\n",
            "image 453/500 /content/drive/MyDrive/test/data/000452.jpg: 640x640 2 quadcopters, 14.6ms\n",
            "image 454/500 /content/drive/MyDrive/test/data/000453.jpg: 640x640 2 quadcopters, 14.7ms\n",
            "image 455/500 /content/drive/MyDrive/test/data/000454.jpg: 640x640 2 quadcopters, 16.5ms\n",
            "image 456/500 /content/drive/MyDrive/test/data/000455.jpg: 640x640 4 quadcopters, 15.9ms\n",
            "image 457/500 /content/drive/MyDrive/test/data/000456.jpg: 640x640 2 quadcopters, 15.3ms\n",
            "image 458/500 /content/drive/MyDrive/test/data/000457.jpg: 640x640 2 quadcopters, 18.9ms\n",
            "image 459/500 /content/drive/MyDrive/test/data/000458.jpg: 640x640 3 quadcopters, 19.0ms\n",
            "image 460/500 /content/drive/MyDrive/test/data/000459.jpg: 640x640 2 quadcopters, 13.2ms\n",
            "image 461/500 /content/drive/MyDrive/test/data/000460.jpg: 640x640 2 quadcopters, 14.1ms\n",
            "image 462/500 /content/drive/MyDrive/test/data/000461.jpg: 640x640 2 quadcopters, 16.3ms\n",
            "image 463/500 /content/drive/MyDrive/test/data/000462.jpg: 640x640 2 quadcopters, 13.7ms\n",
            "image 464/500 /content/drive/MyDrive/test/data/000463.jpg: 640x640 2 quadcopters, 14.1ms\n",
            "image 465/500 /content/drive/MyDrive/test/data/000464.jpg: 640x640 2 quadcopters, 15.8ms\n",
            "image 466/500 /content/drive/MyDrive/test/data/000465.jpg: 640x640 2 quadcopters, 14.7ms\n",
            "image 467/500 /content/drive/MyDrive/test/data/000466.jpg: 640x640 4 quadcopters, 17.4ms\n",
            "image 468/500 /content/drive/MyDrive/test/data/000467.jpg: 640x640 2 quadcopters, 25.4ms\n",
            "image 469/500 /content/drive/MyDrive/test/data/000468.jpg: 640x640 4 quadcopters, 15.0ms\n",
            "image 470/500 /content/drive/MyDrive/test/data/000469.jpg: 640x640 3 quadcopters, 13.7ms\n",
            "image 471/500 /content/drive/MyDrive/test/data/000470.jpg: 640x640 2 quadcopters, 14.0ms\n",
            "image 472/500 /content/drive/MyDrive/test/data/000471.jpg: 640x640 4 quadcopters, 14.7ms\n",
            "image 473/500 /content/drive/MyDrive/test/data/000472.jpg: 640x640 2 quadcopters, 14.0ms\n",
            "image 474/500 /content/drive/MyDrive/test/data/000473.jpg: 640x640 1 quadcopter, 19.4ms\n",
            "image 475/500 /content/drive/MyDrive/test/data/000474.jpg: 640x640 3 quadcopters, 14.2ms\n",
            "image 476/500 /content/drive/MyDrive/test/data/000475.jpg: 640x640 2 quadcopters, 13.9ms\n",
            "image 477/500 /content/drive/MyDrive/test/data/000476.jpg: 640x640 2 quadcopters, 14.2ms\n",
            "image 478/500 /content/drive/MyDrive/test/data/000477.jpg: 640x640 3 quadcopters, 18.3ms\n",
            "image 479/500 /content/drive/MyDrive/test/data/000478.jpg: 640x640 2 quadcopters, 13.4ms\n",
            "image 480/500 /content/drive/MyDrive/test/data/000479.jpg: 640x640 2 quadcopters, 14.1ms\n",
            "image 481/500 /content/drive/MyDrive/test/data/000480.jpg: 640x640 2 quadcopters, 14.2ms\n",
            "image 482/500 /content/drive/MyDrive/test/data/000481.jpg: 640x640 2 quadcopters, 13.9ms\n",
            "image 483/500 /content/drive/MyDrive/test/data/000482.jpg: 640x640 2 quadcopters, 13.7ms\n",
            "image 484/500 /content/drive/MyDrive/test/data/000483.jpg: 640x640 2 quadcopters, 13.7ms\n",
            "image 485/500 /content/drive/MyDrive/test/data/000484.jpg: 640x640 2 quadcopters, 13.4ms\n",
            "image 486/500 /content/drive/MyDrive/test/data/000485.jpg: 640x640 2 quadcopters, 14.1ms\n",
            "image 487/500 /content/drive/MyDrive/test/data/000486.jpg: 640x640 2 quadcopters, 13.7ms\n",
            "image 488/500 /content/drive/MyDrive/test/data/000487.jpg: 640x640 2 quadcopters, 13.1ms\n",
            "image 489/500 /content/drive/MyDrive/test/data/000488.jpg: 640x640 3 quadcopters, 13.0ms\n",
            "image 490/500 /content/drive/MyDrive/test/data/000489.jpg: 640x640 2 quadcopters, 15.3ms\n",
            "image 491/500 /content/drive/MyDrive/test/data/000490.jpg: 640x640 2 quadcopters, 16.1ms\n",
            "image 492/500 /content/drive/MyDrive/test/data/000491.jpg: 640x640 2 quadcopters, 13.3ms\n",
            "image 493/500 /content/drive/MyDrive/test/data/000492.jpg: 640x640 2 quadcopters, 13.0ms\n",
            "image 494/500 /content/drive/MyDrive/test/data/000493.jpg: 640x640 2 quadcopters, 20.6ms\n",
            "image 495/500 /content/drive/MyDrive/test/data/000494.jpg: 640x640 2 quadcopters, 15.2ms\n",
            "image 496/500 /content/drive/MyDrive/test/data/000495.jpg: 640x640 2 quadcopters, 18.0ms\n",
            "image 497/500 /content/drive/MyDrive/test/data/000496.jpg: 640x640 3 quadcopters, 18.9ms\n",
            "image 498/500 /content/drive/MyDrive/test/data/000497.jpg: 640x640 3 quadcopters, 17.7ms\n",
            "image 499/500 /content/drive/MyDrive/test/data/000498.jpg: 640x640 3 quadcopters, 16.1ms\n",
            "image 500/500 /content/drive/MyDrive/test/data/000499.jpg: 640x640 3 quadcopters, 17.9ms\n",
            "Speed: 2.7ms preprocess, 12.5ms inference, 2.3ms postprocess per image at shape (1, 3, 640, 640)\n",
            "Ultralytics YOLOv8.0.231 🚀 Python-3.10.12 torch-2.1.0+cu121 CUDA:0 (Tesla T4, 15102MiB)\n"
          ]
        },
        {
          "output_type": "stream",
          "name": "stderr",
          "text": [
            "\u001b[34m\u001b[1mval: \u001b[0mScanning /tmp/drone_data/val/labels.cache... 814 images, 0 backgrounds, 0 corrupt: 100%|██████████| 814/814 [00:00<?, ?it/s]\n",
            "                 Class     Images  Instances      Box(P          R      mAP50  mAP50-95): 100%|██████████| 51/51 [00:24<00:00,  2.10it/s]\n"
          ]
        },
        {
          "output_type": "stream",
          "name": "stdout",
          "text": [
            "                   all        814        868      0.912      0.908      0.933      0.506\n",
            "Speed: 0.3ms preprocess, 3.5ms inference, 0.0ms loss, 3.0ms postprocess per image\n",
            "Results saved to \u001b[1mruns/detect/val9\u001b[0m\n",
            "0.506185379327698\n"
          ]
        }
      ]
    },
    {
      "cell_type": "markdown",
      "source": [
        "Test on the 10 epochs model."
      ],
      "metadata": {
        "id": "rE_5OBusSJ_3"
      }
    },
    {
      "cell_type": "code",
      "source": [
        "# Imports\n",
        "import yaml\n",
        "from ultralytics import YOLO\n",
        "\n",
        "# Load model\n",
        "model = YOLO('/content/runs/detect/train63/weights/best.pt')\n",
        "\n",
        "# Set test path\n",
        "test_path = '/content/drive/MyDrive/test/data'\n",
        "\n",
        "# Run predictions\n",
        "results = model.predict(source=test_path)\n",
        "\n",
        "# Evaluate metrics\n",
        "metrics = model.val(source=test_path)\n",
        "print(metrics.box.map)"
      ],
      "metadata": {
        "colab": {
          "base_uri": "https://localhost:8080/"
        },
        "id": "eyEKDCt6NiSG",
        "outputId": "6a2931b5-bd1f-46da-87f2-28c77f8f8678"
      },
      "execution_count": 25,
      "outputs": [
        {
          "output_type": "stream",
          "name": "stdout",
          "text": [
            "\n",
            "image 1/500 /content/drive/MyDrive/test/data/000000.jpg: 640x640 3 quadcopters, 17.1ms\n",
            "image 2/500 /content/drive/MyDrive/test/data/000001.jpg: 640x640 2 quadcopters, 16.8ms\n",
            "image 3/500 /content/drive/MyDrive/test/data/000002.jpg: 640x640 2 quadcopters, 16.2ms\n",
            "image 4/500 /content/drive/MyDrive/test/data/000003.jpg: 640x640 2 quadcopters, 16.1ms\n",
            "image 5/500 /content/drive/MyDrive/test/data/000004.jpg: 640x640 2 quadcopters, 10.1ms\n",
            "image 6/500 /content/drive/MyDrive/test/data/000005.jpg: 640x640 2 quadcopters, 10.4ms\n",
            "image 7/500 /content/drive/MyDrive/test/data/000006.jpg: 640x640 2 quadcopters, 10.2ms\n",
            "image 8/500 /content/drive/MyDrive/test/data/000007.jpg: 640x640 2 quadcopters, 10.2ms\n",
            "image 9/500 /content/drive/MyDrive/test/data/000008.jpg: 640x640 2 quadcopters, 10.7ms\n",
            "image 10/500 /content/drive/MyDrive/test/data/000009.jpg: 640x640 3 quadcopters, 10.7ms\n",
            "image 11/500 /content/drive/MyDrive/test/data/000010.jpg: 640x640 2 quadcopters, 10.4ms\n",
            "image 12/500 /content/drive/MyDrive/test/data/000011.jpg: 640x640 3 quadcopters, 15.3ms\n",
            "image 13/500 /content/drive/MyDrive/test/data/000012.jpg: 640x640 2 quadcopters, 10.5ms\n",
            "image 14/500 /content/drive/MyDrive/test/data/000013.jpg: 640x640 2 quadcopters, 10.6ms\n",
            "image 15/500 /content/drive/MyDrive/test/data/000014.jpg: 640x640 2 quadcopters, 10.6ms\n",
            "image 16/500 /content/drive/MyDrive/test/data/000015.jpg: 640x640 2 quadcopters, 10.6ms\n",
            "image 17/500 /content/drive/MyDrive/test/data/000016.jpg: 640x640 2 quadcopters, 10.5ms\n",
            "image 18/500 /content/drive/MyDrive/test/data/000017.jpg: 640x640 2 quadcopters, 10.7ms\n",
            "image 19/500 /content/drive/MyDrive/test/data/000018.jpg: 640x640 2 quadcopters, 12.6ms\n",
            "image 20/500 /content/drive/MyDrive/test/data/000019.jpg: 640x640 1 quadcopter, 10.4ms\n",
            "image 21/500 /content/drive/MyDrive/test/data/000020.jpg: 640x640 2 quadcopters, 10.1ms\n",
            "image 22/500 /content/drive/MyDrive/test/data/000021.jpg: 640x640 2 quadcopters, 10.9ms\n",
            "image 23/500 /content/drive/MyDrive/test/data/000022.jpg: 640x640 2 quadcopters, 10.9ms\n",
            "image 24/500 /content/drive/MyDrive/test/data/000023.jpg: 640x640 2 quadcopters, 10.6ms\n",
            "image 25/500 /content/drive/MyDrive/test/data/000024.jpg: 640x640 2 quadcopters, 10.4ms\n",
            "image 26/500 /content/drive/MyDrive/test/data/000025.jpg: 640x640 2 quadcopters, 10.4ms\n",
            "image 27/500 /content/drive/MyDrive/test/data/000026.jpg: 640x640 2 quadcopters, 14.8ms\n",
            "image 28/500 /content/drive/MyDrive/test/data/000027.jpg: 640x640 2 quadcopters, 10.7ms\n",
            "image 29/500 /content/drive/MyDrive/test/data/000028.jpg: 640x640 2 quadcopters, 11.6ms\n",
            "image 30/500 /content/drive/MyDrive/test/data/000029.jpg: 640x640 2 quadcopters, 9.8ms\n",
            "image 31/500 /content/drive/MyDrive/test/data/000030.jpg: 640x640 1 quadcopter, 10.5ms\n",
            "image 32/500 /content/drive/MyDrive/test/data/000031.jpg: 640x640 2 quadcopters, 9.7ms\n",
            "image 33/500 /content/drive/MyDrive/test/data/000032.jpg: 640x640 1 quadcopter, 9.8ms\n",
            "image 34/500 /content/drive/MyDrive/test/data/000033.jpg: 640x640 2 quadcopters, 10.0ms\n",
            "image 35/500 /content/drive/MyDrive/test/data/000034.jpg: 640x640 2 quadcopters, 9.5ms\n",
            "image 36/500 /content/drive/MyDrive/test/data/000035.jpg: 640x640 1 quadcopter, 10.4ms\n",
            "image 37/500 /content/drive/MyDrive/test/data/000036.jpg: 640x640 2 quadcopters, 9.8ms\n",
            "image 38/500 /content/drive/MyDrive/test/data/000037.jpg: 640x640 1 quadcopter, 14.1ms\n",
            "image 39/500 /content/drive/MyDrive/test/data/000038.jpg: 640x640 1 quadcopter, 11.3ms\n",
            "image 40/500 /content/drive/MyDrive/test/data/000039.jpg: 640x640 2 quadcopters, 10.5ms\n",
            "image 41/500 /content/drive/MyDrive/test/data/000040.jpg: 640x640 2 quadcopters, 10.2ms\n",
            "image 42/500 /content/drive/MyDrive/test/data/000041.jpg: 640x640 1 quadcopter, 10.2ms\n",
            "image 43/500 /content/drive/MyDrive/test/data/000042.jpg: 640x640 2 quadcopters, 10.8ms\n",
            "image 44/500 /content/drive/MyDrive/test/data/000043.jpg: 640x640 2 quadcopters, 10.2ms\n",
            "image 45/500 /content/drive/MyDrive/test/data/000044.jpg: 640x640 3 quadcopters, 10.1ms\n",
            "image 46/500 /content/drive/MyDrive/test/data/000045.jpg: 640x640 2 quadcopters, 10.2ms\n",
            "image 47/500 /content/drive/MyDrive/test/data/000046.jpg: 640x640 2 quadcopters, 10.3ms\n",
            "image 48/500 /content/drive/MyDrive/test/data/000047.jpg: 640x640 2 quadcopters, 10.0ms\n",
            "image 49/500 /content/drive/MyDrive/test/data/000048.jpg: 640x640 2 quadcopters, 9.7ms\n",
            "image 50/500 /content/drive/MyDrive/test/data/000049.jpg: 640x640 2 quadcopters, 9.9ms\n",
            "image 51/500 /content/drive/MyDrive/test/data/000050.jpg: 640x640 2 quadcopters, 10.4ms\n",
            "image 52/500 /content/drive/MyDrive/test/data/000051.jpg: 640x640 2 quadcopters, 10.9ms\n",
            "image 53/500 /content/drive/MyDrive/test/data/000052.jpg: 640x640 2 quadcopters, 10.1ms\n",
            "image 54/500 /content/drive/MyDrive/test/data/000053.jpg: 640x640 2 quadcopters, 10.2ms\n",
            "image 55/500 /content/drive/MyDrive/test/data/000054.jpg: 640x640 2 quadcopters, 10.6ms\n",
            "image 56/500 /content/drive/MyDrive/test/data/000055.jpg: 640x640 2 quadcopters, 11.4ms\n",
            "image 57/500 /content/drive/MyDrive/test/data/000056.jpg: 640x640 2 quadcopters, 10.9ms\n",
            "image 58/500 /content/drive/MyDrive/test/data/000057.jpg: 640x640 2 quadcopters, 10.7ms\n",
            "image 59/500 /content/drive/MyDrive/test/data/000058.jpg: 640x640 2 quadcopters, 10.1ms\n",
            "image 60/500 /content/drive/MyDrive/test/data/000059.jpg: 640x640 2 quadcopters, 10.0ms\n",
            "image 61/500 /content/drive/MyDrive/test/data/000060.jpg: 640x640 2 quadcopters, 10.3ms\n",
            "image 62/500 /content/drive/MyDrive/test/data/000061.jpg: 640x640 2 quadcopters, 12.8ms\n",
            "image 63/500 /content/drive/MyDrive/test/data/000062.jpg: 640x640 2 quadcopters, 10.2ms\n",
            "image 64/500 /content/drive/MyDrive/test/data/000063.jpg: 640x640 2 quadcopters, 11.4ms\n",
            "image 65/500 /content/drive/MyDrive/test/data/000064.jpg: 640x640 2 quadcopters, 10.2ms\n",
            "image 66/500 /content/drive/MyDrive/test/data/000065.jpg: 640x640 2 quadcopters, 10.5ms\n",
            "image 67/500 /content/drive/MyDrive/test/data/000066.jpg: 640x640 3 quadcopters, 10.1ms\n",
            "image 68/500 /content/drive/MyDrive/test/data/000067.jpg: 640x640 2 quadcopters, 10.3ms\n",
            "image 69/500 /content/drive/MyDrive/test/data/000068.jpg: 640x640 2 quadcopters, 9.9ms\n",
            "image 70/500 /content/drive/MyDrive/test/data/000069.jpg: 640x640 2 quadcopters, 15.5ms\n",
            "image 71/500 /content/drive/MyDrive/test/data/000070.jpg: 640x640 2 quadcopters, 12.0ms\n",
            "image 72/500 /content/drive/MyDrive/test/data/000071.jpg: 640x640 2 quadcopters, 10.5ms\n",
            "image 73/500 /content/drive/MyDrive/test/data/000072.jpg: 640x640 2 quadcopters, 15.7ms\n",
            "image 74/500 /content/drive/MyDrive/test/data/000073.jpg: 640x640 2 quadcopters, 12.2ms\n",
            "image 75/500 /content/drive/MyDrive/test/data/000074.jpg: 640x640 2 quadcopters, 10.3ms\n",
            "image 76/500 /content/drive/MyDrive/test/data/000075.jpg: 640x640 2 quadcopters, 10.1ms\n",
            "image 77/500 /content/drive/MyDrive/test/data/000076.jpg: 640x640 2 quadcopters, 10.6ms\n",
            "image 78/500 /content/drive/MyDrive/test/data/000077.jpg: 640x640 3 quadcopters, 11.3ms\n",
            "image 79/500 /content/drive/MyDrive/test/data/000078.jpg: 640x640 2 quadcopters, 10.0ms\n",
            "image 80/500 /content/drive/MyDrive/test/data/000079.jpg: 640x640 2 quadcopters, 11.3ms\n",
            "image 81/500 /content/drive/MyDrive/test/data/000080.jpg: 640x640 2 quadcopters, 10.5ms\n",
            "image 82/500 /content/drive/MyDrive/test/data/000081.jpg: 640x640 2 quadcopters, 10.0ms\n",
            "image 83/500 /content/drive/MyDrive/test/data/000082.jpg: 640x640 2 quadcopters, 10.6ms\n",
            "image 84/500 /content/drive/MyDrive/test/data/000083.jpg: 640x640 2 quadcopters, 12.4ms\n",
            "image 85/500 /content/drive/MyDrive/test/data/000084.jpg: 640x640 2 quadcopters, 10.7ms\n",
            "image 86/500 /content/drive/MyDrive/test/data/000085.jpg: 640x640 2 quadcopters, 9.8ms\n",
            "image 87/500 /content/drive/MyDrive/test/data/000086.jpg: 640x640 2 quadcopters, 23.2ms\n",
            "image 88/500 /content/drive/MyDrive/test/data/000087.jpg: 640x640 2 quadcopters, 10.2ms\n",
            "image 89/500 /content/drive/MyDrive/test/data/000088.jpg: 640x640 3 quadcopters, 10.6ms\n",
            "image 90/500 /content/drive/MyDrive/test/data/000089.jpg: 640x640 2 quadcopters, 9.9ms\n",
            "image 91/500 /content/drive/MyDrive/test/data/000090.jpg: 640x640 2 quadcopters, 10.5ms\n",
            "image 92/500 /content/drive/MyDrive/test/data/000091.jpg: 640x640 1 quadcopter, 10.4ms\n",
            "image 93/500 /content/drive/MyDrive/test/data/000092.jpg: 640x640 2 quadcopters, 15.4ms\n",
            "image 94/500 /content/drive/MyDrive/test/data/000093.jpg: 640x640 2 quadcopters, 10.6ms\n",
            "image 95/500 /content/drive/MyDrive/test/data/000094.jpg: 640x640 2 quadcopters, 10.3ms\n",
            "image 96/500 /content/drive/MyDrive/test/data/000095.jpg: 640x640 2 quadcopters, 10.5ms\n",
            "image 97/500 /content/drive/MyDrive/test/data/000096.jpg: 640x640 2 quadcopters, 10.0ms\n",
            "image 98/500 /content/drive/MyDrive/test/data/000097.jpg: 640x640 2 quadcopters, 9.7ms\n",
            "image 99/500 /content/drive/MyDrive/test/data/000098.jpg: 640x640 2 quadcopters, 10.3ms\n",
            "image 100/500 /content/drive/MyDrive/test/data/000099.jpg: 640x640 2 quadcopters, 11.6ms\n",
            "image 101/500 /content/drive/MyDrive/test/data/000100.jpg: 640x640 2 quadcopters, 15.1ms\n",
            "image 102/500 /content/drive/MyDrive/test/data/000101.jpg: 640x640 1 quadcopter, 9.6ms\n",
            "image 103/500 /content/drive/MyDrive/test/data/000102.jpg: 640x640 2 quadcopters, 10.6ms\n",
            "image 104/500 /content/drive/MyDrive/test/data/000103.jpg: 640x640 1 quadcopter, 10.2ms\n",
            "image 105/500 /content/drive/MyDrive/test/data/000104.jpg: 640x640 2 quadcopters, 9.9ms\n",
            "image 106/500 /content/drive/MyDrive/test/data/000105.jpg: 640x640 2 quadcopters, 10.0ms\n",
            "image 107/500 /content/drive/MyDrive/test/data/000106.jpg: 640x640 2 quadcopters, 10.8ms\n",
            "image 108/500 /content/drive/MyDrive/test/data/000107.jpg: 640x640 1 quadcopter, 10.3ms\n",
            "image 109/500 /content/drive/MyDrive/test/data/000108.jpg: 640x640 1 quadcopter, 9.7ms\n",
            "image 110/500 /content/drive/MyDrive/test/data/000109.jpg: 640x640 2 quadcopters, 10.3ms\n",
            "image 111/500 /content/drive/MyDrive/test/data/000110.jpg: 640x640 2 quadcopters, 10.8ms\n",
            "image 112/500 /content/drive/MyDrive/test/data/000111.jpg: 640x640 2 quadcopters, 17.4ms\n",
            "image 113/500 /content/drive/MyDrive/test/data/000112.jpg: 640x640 2 quadcopters, 13.1ms\n",
            "image 114/500 /content/drive/MyDrive/test/data/000113.jpg: 640x640 1 quadcopter, 10.6ms\n",
            "image 115/500 /content/drive/MyDrive/test/data/000114.jpg: 640x640 2 quadcopters, 11.0ms\n",
            "image 116/500 /content/drive/MyDrive/test/data/000115.jpg: 640x640 2 quadcopters, 10.7ms\n",
            "image 117/500 /content/drive/MyDrive/test/data/000116.jpg: 640x640 1 quadcopter, 10.4ms\n",
            "image 118/500 /content/drive/MyDrive/test/data/000117.jpg: 640x640 2 quadcopters, 12.8ms\n",
            "image 119/500 /content/drive/MyDrive/test/data/000118.jpg: 640x640 2 quadcopters, 10.5ms\n",
            "image 120/500 /content/drive/MyDrive/test/data/000119.jpg: 640x640 2 quadcopters, 10.7ms\n",
            "image 121/500 /content/drive/MyDrive/test/data/000120.jpg: 640x640 2 quadcopters, 10.8ms\n",
            "image 122/500 /content/drive/MyDrive/test/data/000121.jpg: 640x640 1 quadcopter, 10.6ms\n",
            "image 123/500 /content/drive/MyDrive/test/data/000122.jpg: 640x640 2 quadcopters, 10.0ms\n",
            "image 124/500 /content/drive/MyDrive/test/data/000123.jpg: 640x640 2 quadcopters, 11.0ms\n",
            "image 125/500 /content/drive/MyDrive/test/data/000124.jpg: 640x640 2 quadcopters, 11.0ms\n",
            "image 126/500 /content/drive/MyDrive/test/data/000125.jpg: 640x640 2 quadcopters, 10.5ms\n",
            "image 127/500 /content/drive/MyDrive/test/data/000126.jpg: 640x640 2 quadcopters, 10.4ms\n",
            "image 128/500 /content/drive/MyDrive/test/data/000127.jpg: 640x640 2 quadcopters, 10.9ms\n",
            "image 129/500 /content/drive/MyDrive/test/data/000128.jpg: 640x640 2 quadcopters, 20.7ms\n",
            "image 130/500 /content/drive/MyDrive/test/data/000129.jpg: 640x640 2 quadcopters, 17.9ms\n",
            "image 131/500 /content/drive/MyDrive/test/data/000130.jpg: 640x640 1 quadcopter, 19.2ms\n",
            "image 132/500 /content/drive/MyDrive/test/data/000131.jpg: 640x640 2 quadcopters, 14.4ms\n",
            "image 133/500 /content/drive/MyDrive/test/data/000132.jpg: 640x640 1 quadcopter, 17.9ms\n",
            "image 134/500 /content/drive/MyDrive/test/data/000133.jpg: 640x640 3 quadcopters, 12.0ms\n",
            "image 135/500 /content/drive/MyDrive/test/data/000134.jpg: 640x640 2 quadcopters, 15.6ms\n",
            "image 136/500 /content/drive/MyDrive/test/data/000135.jpg: 640x640 2 quadcopters, 16.8ms\n",
            "image 137/500 /content/drive/MyDrive/test/data/000136.jpg: 640x640 1 quadcopter, 12.7ms\n",
            "image 138/500 /content/drive/MyDrive/test/data/000137.jpg: 640x640 2 quadcopters, 16.2ms\n",
            "image 139/500 /content/drive/MyDrive/test/data/000138.jpg: 640x640 2 quadcopters, 14.4ms\n",
            "image 140/500 /content/drive/MyDrive/test/data/000139.jpg: 640x640 2 quadcopters, 14.6ms\n",
            "image 141/500 /content/drive/MyDrive/test/data/000140.jpg: 640x640 1 quadcopter, 13.5ms\n",
            "image 142/500 /content/drive/MyDrive/test/data/000141.jpg: 640x640 2 quadcopters, 12.8ms\n",
            "image 143/500 /content/drive/MyDrive/test/data/000142.jpg: 640x640 2 quadcopters, 12.4ms\n",
            "image 144/500 /content/drive/MyDrive/test/data/000143.jpg: 640x640 2 quadcopters, 13.1ms\n",
            "image 145/500 /content/drive/MyDrive/test/data/000144.jpg: 640x640 1 quadcopter, 13.1ms\n",
            "image 146/500 /content/drive/MyDrive/test/data/000145.jpg: 640x640 2 quadcopters, 18.2ms\n",
            "image 147/500 /content/drive/MyDrive/test/data/000146.jpg: 640x640 2 quadcopters, 17.5ms\n",
            "image 148/500 /content/drive/MyDrive/test/data/000147.jpg: 640x640 2 quadcopters, 15.9ms\n",
            "image 149/500 /content/drive/MyDrive/test/data/000148.jpg: 640x640 1 quadcopter, 12.2ms\n",
            "image 150/500 /content/drive/MyDrive/test/data/000149.jpg: 640x640 1 quadcopter, 13.4ms\n",
            "image 151/500 /content/drive/MyDrive/test/data/000150.jpg: 640x640 2 quadcopters, 16.3ms\n",
            "image 152/500 /content/drive/MyDrive/test/data/000151.jpg: 640x640 1 quadcopter, 16.5ms\n",
            "image 153/500 /content/drive/MyDrive/test/data/000152.jpg: 640x640 2 quadcopters, 12.8ms\n",
            "image 154/500 /content/drive/MyDrive/test/data/000153.jpg: 640x640 2 quadcopters, 13.0ms\n",
            "image 155/500 /content/drive/MyDrive/test/data/000154.jpg: 640x640 2 quadcopters, 12.6ms\n",
            "image 156/500 /content/drive/MyDrive/test/data/000155.jpg: 640x640 2 quadcopters, 12.4ms\n",
            "image 157/500 /content/drive/MyDrive/test/data/000156.jpg: 640x640 2 quadcopters, 12.1ms\n",
            "image 158/500 /content/drive/MyDrive/test/data/000157.jpg: 640x640 2 quadcopters, 12.1ms\n",
            "image 159/500 /content/drive/MyDrive/test/data/000158.jpg: 640x640 2 quadcopters, 11.8ms\n",
            "image 160/500 /content/drive/MyDrive/test/data/000159.jpg: 640x640 2 quadcopters, 12.3ms\n",
            "image 161/500 /content/drive/MyDrive/test/data/000160.jpg: 640x640 2 quadcopters, 12.7ms\n",
            "image 162/500 /content/drive/MyDrive/test/data/000161.jpg: 640x640 2 quadcopters, 14.9ms\n",
            "image 163/500 /content/drive/MyDrive/test/data/000162.jpg: 640x640 2 quadcopters, 14.0ms\n",
            "image 164/500 /content/drive/MyDrive/test/data/000163.jpg: 640x640 2 quadcopters, 18.4ms\n",
            "image 165/500 /content/drive/MyDrive/test/data/000164.jpg: 640x640 2 quadcopters, 14.5ms\n",
            "image 166/500 /content/drive/MyDrive/test/data/000165.jpg: 640x640 2 quadcopters, 16.8ms\n",
            "image 167/500 /content/drive/MyDrive/test/data/000166.jpg: 640x640 2 quadcopters, 16.7ms\n",
            "image 168/500 /content/drive/MyDrive/test/data/000167.jpg: 640x640 2 quadcopters, 18.7ms\n",
            "image 169/500 /content/drive/MyDrive/test/data/000168.jpg: 640x640 2 quadcopters, 18.6ms\n",
            "image 170/500 /content/drive/MyDrive/test/data/000169.jpg: 640x640 2 quadcopters, 19.7ms\n",
            "image 171/500 /content/drive/MyDrive/test/data/000170.jpg: 640x640 2 quadcopters, 12.6ms\n",
            "image 172/500 /content/drive/MyDrive/test/data/000171.jpg: 640x640 2 quadcopters, 15.9ms\n",
            "image 173/500 /content/drive/MyDrive/test/data/000172.jpg: 640x640 2 quadcopters, 13.7ms\n",
            "image 174/500 /content/drive/MyDrive/test/data/000173.jpg: 640x640 2 quadcopters, 18.4ms\n",
            "image 175/500 /content/drive/MyDrive/test/data/000174.jpg: 640x640 2 quadcopters, 15.4ms\n",
            "image 176/500 /content/drive/MyDrive/test/data/000175.jpg: 640x640 2 quadcopters, 15.5ms\n",
            "image 177/500 /content/drive/MyDrive/test/data/000176.jpg: 640x640 2 quadcopters, 15.7ms\n",
            "image 178/500 /content/drive/MyDrive/test/data/000177.jpg: 640x640 2 quadcopters, 16.4ms\n",
            "image 179/500 /content/drive/MyDrive/test/data/000178.jpg: 640x640 2 quadcopters, 14.9ms\n",
            "image 180/500 /content/drive/MyDrive/test/data/000179.jpg: 640x640 2 quadcopters, 12.7ms\n",
            "image 181/500 /content/drive/MyDrive/test/data/000180.jpg: 640x640 2 quadcopters, 12.9ms\n",
            "image 182/500 /content/drive/MyDrive/test/data/000181.jpg: 640x640 2 quadcopters, 18.8ms\n",
            "image 183/500 /content/drive/MyDrive/test/data/000182.jpg: 640x640 2 quadcopters, 13.7ms\n",
            "image 184/500 /content/drive/MyDrive/test/data/000183.jpg: 640x640 2 quadcopters, 14.1ms\n",
            "image 185/500 /content/drive/MyDrive/test/data/000184.jpg: 640x640 2 quadcopters, 16.5ms\n",
            "image 186/500 /content/drive/MyDrive/test/data/000185.jpg: 640x640 2 quadcopters, 13.2ms\n",
            "image 187/500 /content/drive/MyDrive/test/data/000186.jpg: 640x640 2 quadcopters, 13.2ms\n",
            "image 188/500 /content/drive/MyDrive/test/data/000187.jpg: 640x640 2 quadcopters, 12.9ms\n",
            "image 189/500 /content/drive/MyDrive/test/data/000188.jpg: 640x640 2 quadcopters, 15.1ms\n",
            "image 190/500 /content/drive/MyDrive/test/data/000189.jpg: 640x640 1 quadcopter, 12.7ms\n",
            "image 191/500 /content/drive/MyDrive/test/data/000190.jpg: 640x640 2 quadcopters, 11.8ms\n",
            "image 192/500 /content/drive/MyDrive/test/data/000191.jpg: 640x640 2 quadcopters, 12.3ms\n",
            "image 193/500 /content/drive/MyDrive/test/data/000192.jpg: 640x640 2 quadcopters, 13.3ms\n",
            "image 194/500 /content/drive/MyDrive/test/data/000193.jpg: 640x640 2 quadcopters, 12.7ms\n",
            "image 195/500 /content/drive/MyDrive/test/data/000194.jpg: 640x640 2 quadcopters, 12.4ms\n",
            "image 196/500 /content/drive/MyDrive/test/data/000195.jpg: 640x640 1 quadcopter, 12.8ms\n",
            "image 197/500 /content/drive/MyDrive/test/data/000196.jpg: 640x640 1 quadcopter, 14.5ms\n",
            "image 198/500 /content/drive/MyDrive/test/data/000197.jpg: 640x640 2 quadcopters, 13.1ms\n",
            "image 199/500 /content/drive/MyDrive/test/data/000198.jpg: 640x640 2 quadcopters, 13.3ms\n",
            "image 200/500 /content/drive/MyDrive/test/data/000199.jpg: 640x640 2 quadcopters, 12.6ms\n",
            "image 201/500 /content/drive/MyDrive/test/data/000200.jpg: 640x640 2 quadcopters, 12.2ms\n",
            "image 202/500 /content/drive/MyDrive/test/data/000201.jpg: 640x640 2 quadcopters, 12.6ms\n",
            "image 203/500 /content/drive/MyDrive/test/data/000202.jpg: 640x640 2 quadcopters, 17.8ms\n",
            "image 204/500 /content/drive/MyDrive/test/data/000203.jpg: 640x640 2 quadcopters, 19.5ms\n",
            "image 205/500 /content/drive/MyDrive/test/data/000204.jpg: 640x640 2 quadcopters, 14.6ms\n",
            "image 206/500 /content/drive/MyDrive/test/data/000205.jpg: 640x640 2 quadcopters, 17.6ms\n",
            "image 207/500 /content/drive/MyDrive/test/data/000206.jpg: 640x640 2 quadcopters, 15.1ms\n",
            "image 208/500 /content/drive/MyDrive/test/data/000207.jpg: 640x640 2 quadcopters, 14.1ms\n",
            "image 209/500 /content/drive/MyDrive/test/data/000208.jpg: 640x640 1 quadcopter, 12.6ms\n",
            "image 210/500 /content/drive/MyDrive/test/data/000209.jpg: 640x640 2 quadcopters, 15.6ms\n",
            "image 211/500 /content/drive/MyDrive/test/data/000210.jpg: 640x640 3 quadcopters, 18.0ms\n",
            "image 212/500 /content/drive/MyDrive/test/data/000211.jpg: 640x640 2 quadcopters, 14.0ms\n",
            "image 213/500 /content/drive/MyDrive/test/data/000212.jpg: 640x640 2 quadcopters, 15.0ms\n",
            "image 214/500 /content/drive/MyDrive/test/data/000213.jpg: 640x640 2 quadcopters, 17.7ms\n",
            "image 215/500 /content/drive/MyDrive/test/data/000214.jpg: 640x640 2 quadcopters, 15.0ms\n",
            "image 216/500 /content/drive/MyDrive/test/data/000215.jpg: 640x640 2 quadcopters, 17.7ms\n",
            "image 217/500 /content/drive/MyDrive/test/data/000216.jpg: 640x640 2 quadcopters, 15.8ms\n",
            "image 218/500 /content/drive/MyDrive/test/data/000217.jpg: 640x640 2 quadcopters, 15.7ms\n",
            "image 219/500 /content/drive/MyDrive/test/data/000218.jpg: 640x640 2 quadcopters, 13.8ms\n",
            "image 220/500 /content/drive/MyDrive/test/data/000219.jpg: 640x640 2 quadcopters, 15.7ms\n",
            "image 221/500 /content/drive/MyDrive/test/data/000220.jpg: 640x640 2 quadcopters, 13.3ms\n",
            "image 222/500 /content/drive/MyDrive/test/data/000221.jpg: 640x640 2 quadcopters, 13.2ms\n",
            "image 223/500 /content/drive/MyDrive/test/data/000222.jpg: 640x640 2 quadcopters, 13.7ms\n",
            "image 224/500 /content/drive/MyDrive/test/data/000223.jpg: 640x640 2 quadcopters, 13.7ms\n",
            "image 225/500 /content/drive/MyDrive/test/data/000224.jpg: 640x640 2 quadcopters, 13.7ms\n",
            "image 226/500 /content/drive/MyDrive/test/data/000225.jpg: 640x640 2 quadcopters, 13.2ms\n",
            "image 227/500 /content/drive/MyDrive/test/data/000226.jpg: 640x640 2 quadcopters, 13.1ms\n",
            "image 228/500 /content/drive/MyDrive/test/data/000227.jpg: 640x640 2 quadcopters, 12.4ms\n",
            "image 229/500 /content/drive/MyDrive/test/data/000228.jpg: 640x640 1 quadcopter, 12.4ms\n",
            "image 230/500 /content/drive/MyDrive/test/data/000229.jpg: 640x640 2 quadcopters, 17.4ms\n",
            "image 231/500 /content/drive/MyDrive/test/data/000230.jpg: 640x640 2 quadcopters, 12.8ms\n",
            "image 232/500 /content/drive/MyDrive/test/data/000231.jpg: 640x640 2 quadcopters, 12.6ms\n",
            "image 233/500 /content/drive/MyDrive/test/data/000232.jpg: 640x640 2 quadcopters, 13.4ms\n",
            "image 234/500 /content/drive/MyDrive/test/data/000233.jpg: 640x640 2 quadcopters, 13.5ms\n",
            "image 235/500 /content/drive/MyDrive/test/data/000234.jpg: 640x640 2 quadcopters, 13.1ms\n",
            "image 236/500 /content/drive/MyDrive/test/data/000235.jpg: 640x640 2 quadcopters, 13.8ms\n",
            "image 237/500 /content/drive/MyDrive/test/data/000236.jpg: 640x640 2 quadcopters, 12.4ms\n",
            "image 238/500 /content/drive/MyDrive/test/data/000237.jpg: 640x640 2 quadcopters, 12.4ms\n",
            "image 239/500 /content/drive/MyDrive/test/data/000238.jpg: 640x640 3 quadcopters, 12.8ms\n",
            "image 240/500 /content/drive/MyDrive/test/data/000239.jpg: 640x640 2 quadcopters, 17.4ms\n",
            "image 241/500 /content/drive/MyDrive/test/data/000240.jpg: 640x640 2 quadcopters, 15.7ms\n",
            "image 242/500 /content/drive/MyDrive/test/data/000241.jpg: 640x640 2 quadcopters, 13.6ms\n",
            "image 243/500 /content/drive/MyDrive/test/data/000242.jpg: 640x640 2 quadcopters, 12.8ms\n",
            "image 244/500 /content/drive/MyDrive/test/data/000243.jpg: 640x640 2 quadcopters, 15.0ms\n",
            "image 245/500 /content/drive/MyDrive/test/data/000244.jpg: 640x640 2 quadcopters, 17.0ms\n",
            "image 246/500 /content/drive/MyDrive/test/data/000245.jpg: 640x640 2 quadcopters, 18.8ms\n",
            "image 247/500 /content/drive/MyDrive/test/data/000246.jpg: 640x640 2 quadcopters, 13.3ms\n",
            "image 248/500 /content/drive/MyDrive/test/data/000247.jpg: 640x640 2 quadcopters, 14.6ms\n",
            "image 249/500 /content/drive/MyDrive/test/data/000248.jpg: 640x640 2 quadcopters, 13.2ms\n",
            "image 250/500 /content/drive/MyDrive/test/data/000249.jpg: 640x640 2 quadcopters, 14.6ms\n",
            "image 251/500 /content/drive/MyDrive/test/data/000250.jpg: 640x640 2 quadcopters, 17.0ms\n",
            "image 252/500 /content/drive/MyDrive/test/data/000251.jpg: 640x640 2 quadcopters, 12.6ms\n",
            "image 253/500 /content/drive/MyDrive/test/data/000252.jpg: 640x640 2 quadcopters, 15.4ms\n",
            "image 254/500 /content/drive/MyDrive/test/data/000253.jpg: 640x640 1 quadcopter, 20.0ms\n",
            "image 255/500 /content/drive/MyDrive/test/data/000254.jpg: 640x640 2 quadcopters, 13.2ms\n",
            "image 256/500 /content/drive/MyDrive/test/data/000255.jpg: 640x640 2 quadcopters, 16.3ms\n",
            "image 257/500 /content/drive/MyDrive/test/data/000256.jpg: 640x640 2 quadcopters, 17.9ms\n",
            "image 258/500 /content/drive/MyDrive/test/data/000257.jpg: 640x640 2 quadcopters, 14.8ms\n",
            "image 259/500 /content/drive/MyDrive/test/data/000258.jpg: 640x640 2 quadcopters, 14.9ms\n",
            "image 260/500 /content/drive/MyDrive/test/data/000259.jpg: 640x640 1 quadcopter, 12.9ms\n",
            "image 261/500 /content/drive/MyDrive/test/data/000260.jpg: 640x640 2 quadcopters, 14.3ms\n",
            "image 262/500 /content/drive/MyDrive/test/data/000261.jpg: 640x640 2 quadcopters, 12.3ms\n",
            "image 263/500 /content/drive/MyDrive/test/data/000262.jpg: 640x640 2 quadcopters, 18.2ms\n",
            "image 264/500 /content/drive/MyDrive/test/data/000263.jpg: 640x640 2 quadcopters, 17.4ms\n",
            "image 265/500 /content/drive/MyDrive/test/data/000264.jpg: 640x640 2 quadcopters, 13.2ms\n",
            "image 266/500 /content/drive/MyDrive/test/data/000265.jpg: 640x640 2 quadcopters, 12.8ms\n",
            "image 267/500 /content/drive/MyDrive/test/data/000266.jpg: 640x640 2 quadcopters, 12.8ms\n",
            "image 268/500 /content/drive/MyDrive/test/data/000267.jpg: 640x640 2 quadcopters, 12.7ms\n",
            "image 269/500 /content/drive/MyDrive/test/data/000268.jpg: 640x640 2 quadcopters, 12.4ms\n",
            "image 270/500 /content/drive/MyDrive/test/data/000269.jpg: 640x640 2 quadcopters, 15.1ms\n",
            "image 271/500 /content/drive/MyDrive/test/data/000270.jpg: 640x640 2 quadcopters, 19.9ms\n",
            "image 272/500 /content/drive/MyDrive/test/data/000271.jpg: 640x640 2 quadcopters, 16.5ms\n",
            "image 273/500 /content/drive/MyDrive/test/data/000272.jpg: 640x640 2 quadcopters, 12.9ms\n",
            "image 274/500 /content/drive/MyDrive/test/data/000273.jpg: 640x640 2 quadcopters, 16.9ms\n",
            "image 275/500 /content/drive/MyDrive/test/data/000274.jpg: 640x640 2 quadcopters, 20.3ms\n",
            "image 276/500 /content/drive/MyDrive/test/data/000275.jpg: 640x640 2 quadcopters, 15.2ms\n",
            "image 277/500 /content/drive/MyDrive/test/data/000276.jpg: 640x640 2 quadcopters, 14.1ms\n",
            "image 278/500 /content/drive/MyDrive/test/data/000277.jpg: 640x640 2 quadcopters, 12.8ms\n",
            "image 279/500 /content/drive/MyDrive/test/data/000278.jpg: 640x640 2 quadcopters, 13.6ms\n",
            "image 280/500 /content/drive/MyDrive/test/data/000279.jpg: 640x640 2 quadcopters, 13.3ms\n",
            "image 281/500 /content/drive/MyDrive/test/data/000280.jpg: 640x640 2 quadcopters, 11.9ms\n",
            "image 282/500 /content/drive/MyDrive/test/data/000281.jpg: 640x640 2 quadcopters, 12.4ms\n",
            "image 283/500 /content/drive/MyDrive/test/data/000282.jpg: 640x640 2 quadcopters, 12.4ms\n",
            "image 284/500 /content/drive/MyDrive/test/data/000283.jpg: 640x640 2 quadcopters, 16.6ms\n",
            "image 285/500 /content/drive/MyDrive/test/data/000284.jpg: 640x640 2 quadcopters, 16.0ms\n",
            "image 286/500 /content/drive/MyDrive/test/data/000285.jpg: 640x640 2 quadcopters, 12.1ms\n",
            "image 287/500 /content/drive/MyDrive/test/data/000286.jpg: 640x640 2 quadcopters, 12.7ms\n",
            "image 288/500 /content/drive/MyDrive/test/data/000287.jpg: 640x640 2 quadcopters, 12.3ms\n",
            "image 289/500 /content/drive/MyDrive/test/data/000288.jpg: 640x640 3 quadcopters, 12.0ms\n",
            "image 290/500 /content/drive/MyDrive/test/data/000289.jpg: 640x640 2 quadcopters, 13.2ms\n",
            "image 291/500 /content/drive/MyDrive/test/data/000290.jpg: 640x640 2 quadcopters, 17.4ms\n",
            "image 292/500 /content/drive/MyDrive/test/data/000291.jpg: 640x640 2 quadcopters, 14.3ms\n",
            "image 293/500 /content/drive/MyDrive/test/data/000292.jpg: 640x640 2 quadcopters, 18.2ms\n",
            "image 294/500 /content/drive/MyDrive/test/data/000293.jpg: 640x640 2 quadcopters, 13.7ms\n",
            "image 295/500 /content/drive/MyDrive/test/data/000294.jpg: 640x640 2 quadcopters, 14.3ms\n",
            "image 296/500 /content/drive/MyDrive/test/data/000295.jpg: 640x640 2 quadcopters, 17.6ms\n",
            "image 297/500 /content/drive/MyDrive/test/data/000296.jpg: 640x640 2 quadcopters, 12.5ms\n",
            "image 298/500 /content/drive/MyDrive/test/data/000297.jpg: 640x640 1 quadcopter, 13.6ms\n",
            "image 299/500 /content/drive/MyDrive/test/data/000298.jpg: 640x640 1 quadcopter, 18.4ms\n",
            "image 300/500 /content/drive/MyDrive/test/data/000299.jpg: 640x640 2 quadcopters, 16.3ms\n",
            "image 301/500 /content/drive/MyDrive/test/data/000300.jpg: 640x640 2 quadcopters, 17.8ms\n",
            "image 302/500 /content/drive/MyDrive/test/data/000301.jpg: 640x640 2 quadcopters, 15.9ms\n",
            "image 303/500 /content/drive/MyDrive/test/data/000302.jpg: 640x640 2 quadcopters, 14.8ms\n",
            "image 304/500 /content/drive/MyDrive/test/data/000303.jpg: 640x640 3 quadcopters, 15.7ms\n",
            "image 305/500 /content/drive/MyDrive/test/data/000304.jpg: 640x640 2 quadcopters, 14.5ms\n",
            "image 306/500 /content/drive/MyDrive/test/data/000305.jpg: 640x640 3 quadcopters, 12.2ms\n",
            "image 307/500 /content/drive/MyDrive/test/data/000306.jpg: 640x640 2 quadcopters, 14.9ms\n",
            "image 308/500 /content/drive/MyDrive/test/data/000307.jpg: 640x640 2 quadcopters, 13.3ms\n",
            "image 309/500 /content/drive/MyDrive/test/data/000308.jpg: 640x640 2 quadcopters, 12.3ms\n",
            "image 310/500 /content/drive/MyDrive/test/data/000309.jpg: 640x640 2 quadcopters, 16.9ms\n",
            "image 311/500 /content/drive/MyDrive/test/data/000310.jpg: 640x640 2 quadcopters, 15.8ms\n",
            "image 312/500 /content/drive/MyDrive/test/data/000311.jpg: 640x640 2 quadcopters, 14.8ms\n",
            "image 313/500 /content/drive/MyDrive/test/data/000312.jpg: 640x640 2 quadcopters, 15.5ms\n",
            "image 314/500 /content/drive/MyDrive/test/data/000313.jpg: 640x640 2 quadcopters, 15.6ms\n",
            "image 315/500 /content/drive/MyDrive/test/data/000314.jpg: 640x640 2 quadcopters, 12.8ms\n",
            "image 316/500 /content/drive/MyDrive/test/data/000315.jpg: 640x640 2 quadcopters, 14.9ms\n",
            "image 317/500 /content/drive/MyDrive/test/data/000316.jpg: 640x640 2 quadcopters, 18.4ms\n",
            "image 318/500 /content/drive/MyDrive/test/data/000317.jpg: 640x640 2 quadcopters, 11.2ms\n",
            "image 319/500 /content/drive/MyDrive/test/data/000318.jpg: 640x640 2 quadcopters, 10.5ms\n",
            "image 320/500 /content/drive/MyDrive/test/data/000319.jpg: 640x640 2 quadcopters, 11.2ms\n",
            "image 321/500 /content/drive/MyDrive/test/data/000320.jpg: 640x640 2 quadcopters, 10.5ms\n",
            "image 322/500 /content/drive/MyDrive/test/data/000321.jpg: 640x640 2 quadcopters, 9.9ms\n",
            "image 323/500 /content/drive/MyDrive/test/data/000322.jpg: 640x640 2 quadcopters, 11.6ms\n",
            "image 324/500 /content/drive/MyDrive/test/data/000323.jpg: 640x640 2 quadcopters, 13.7ms\n",
            "image 325/500 /content/drive/MyDrive/test/data/000324.jpg: 640x640 2 quadcopters, 10.0ms\n",
            "image 326/500 /content/drive/MyDrive/test/data/000325.jpg: 640x640 1 quadcopter, 9.7ms\n",
            "image 327/500 /content/drive/MyDrive/test/data/000326.jpg: 640x640 2 quadcopters, 10.3ms\n",
            "image 328/500 /content/drive/MyDrive/test/data/000327.jpg: 640x640 2 quadcopters, 10.1ms\n",
            "image 329/500 /content/drive/MyDrive/test/data/000328.jpg: 640x640 2 quadcopters, 13.0ms\n",
            "image 330/500 /content/drive/MyDrive/test/data/000329.jpg: 640x640 1 quadcopter, 9.7ms\n",
            "image 331/500 /content/drive/MyDrive/test/data/000330.jpg: 640x640 2 quadcopters, 10.1ms\n",
            "image 332/500 /content/drive/MyDrive/test/data/000331.jpg: 640x640 2 quadcopters, 10.4ms\n",
            "image 333/500 /content/drive/MyDrive/test/data/000332.jpg: 640x640 2 quadcopters, 10.7ms\n",
            "image 334/500 /content/drive/MyDrive/test/data/000333.jpg: 640x640 2 quadcopters, 9.8ms\n",
            "image 335/500 /content/drive/MyDrive/test/data/000334.jpg: 640x640 2 quadcopters, 10.4ms\n",
            "image 336/500 /content/drive/MyDrive/test/data/000335.jpg: 640x640 2 quadcopters, 11.1ms\n",
            "image 337/500 /content/drive/MyDrive/test/data/000336.jpg: 640x640 2 quadcopters, 10.1ms\n",
            "image 338/500 /content/drive/MyDrive/test/data/000337.jpg: 640x640 2 quadcopters, 10.6ms\n",
            "image 339/500 /content/drive/MyDrive/test/data/000338.jpg: 640x640 2 quadcopters, 15.0ms\n",
            "image 340/500 /content/drive/MyDrive/test/data/000339.jpg: 640x640 2 quadcopters, 11.0ms\n",
            "image 341/500 /content/drive/MyDrive/test/data/000340.jpg: 640x640 2 quadcopters, 11.5ms\n",
            "image 342/500 /content/drive/MyDrive/test/data/000341.jpg: 640x640 2 quadcopters, 10.2ms\n",
            "image 343/500 /content/drive/MyDrive/test/data/000342.jpg: 640x640 2 quadcopters, 10.6ms\n",
            "image 344/500 /content/drive/MyDrive/test/data/000343.jpg: 640x640 2 quadcopters, 10.6ms\n",
            "image 345/500 /content/drive/MyDrive/test/data/000344.jpg: 640x640 2 quadcopters, 10.6ms\n",
            "image 346/500 /content/drive/MyDrive/test/data/000345.jpg: 640x640 2 quadcopters, 14.0ms\n",
            "image 347/500 /content/drive/MyDrive/test/data/000346.jpg: 640x640 2 quadcopters, 10.2ms\n",
            "image 348/500 /content/drive/MyDrive/test/data/000347.jpg: 640x640 2 quadcopters, 10.1ms\n",
            "image 349/500 /content/drive/MyDrive/test/data/000348.jpg: 640x640 1 quadcopter, 29.4ms\n",
            "image 350/500 /content/drive/MyDrive/test/data/000349.jpg: 640x640 2 quadcopters, 10.3ms\n",
            "image 351/500 /content/drive/MyDrive/test/data/000350.jpg: 640x640 2 quadcopters, 10.7ms\n",
            "image 352/500 /content/drive/MyDrive/test/data/000351.jpg: 640x640 1 quadcopter, 10.6ms\n",
            "image 353/500 /content/drive/MyDrive/test/data/000352.jpg: 640x640 1 quadcopter, 9.7ms\n",
            "image 354/500 /content/drive/MyDrive/test/data/000353.jpg: 640x640 2 quadcopters, 12.7ms\n",
            "image 355/500 /content/drive/MyDrive/test/data/000354.jpg: 640x640 2 quadcopters, 10.6ms\n",
            "image 356/500 /content/drive/MyDrive/test/data/000355.jpg: 640x640 3 quadcopters, 13.2ms\n",
            "image 357/500 /content/drive/MyDrive/test/data/000356.jpg: 640x640 2 quadcopters, 11.7ms\n",
            "image 358/500 /content/drive/MyDrive/test/data/000357.jpg: 640x640 2 quadcopters, 10.2ms\n",
            "image 359/500 /content/drive/MyDrive/test/data/000358.jpg: 640x640 1 quadcopter, 9.7ms\n",
            "image 360/500 /content/drive/MyDrive/test/data/000359.jpg: 640x640 2 quadcopters, 9.6ms\n",
            "image 361/500 /content/drive/MyDrive/test/data/000360.jpg: 640x640 2 quadcopters, 9.8ms\n",
            "image 362/500 /content/drive/MyDrive/test/data/000361.jpg: 640x640 2 quadcopters, 9.6ms\n",
            "image 363/500 /content/drive/MyDrive/test/data/000362.jpg: 640x640 2 quadcopters, 12.7ms\n",
            "image 364/500 /content/drive/MyDrive/test/data/000363.jpg: 640x640 2 quadcopters, 9.8ms\n",
            "image 365/500 /content/drive/MyDrive/test/data/000364.jpg: 640x640 2 quadcopters, 10.6ms\n",
            "image 366/500 /content/drive/MyDrive/test/data/000365.jpg: 640x640 1 quadcopter, 10.2ms\n",
            "image 367/500 /content/drive/MyDrive/test/data/000366.jpg: 640x640 2 quadcopters, 10.5ms\n",
            "image 368/500 /content/drive/MyDrive/test/data/000367.jpg: 640x640 1 quadcopter, 9.6ms\n",
            "image 369/500 /content/drive/MyDrive/test/data/000368.jpg: 640x640 1 quadcopter, 13.0ms\n",
            "image 370/500 /content/drive/MyDrive/test/data/000369.jpg: 640x640 2 quadcopters, 10.0ms\n",
            "image 371/500 /content/drive/MyDrive/test/data/000370.jpg: 640x640 2 quadcopters, 9.9ms\n",
            "image 372/500 /content/drive/MyDrive/test/data/000371.jpg: 640x640 1 quadcopter, 10.8ms\n",
            "image 373/500 /content/drive/MyDrive/test/data/000372.jpg: 640x640 2 quadcopters, 12.9ms\n",
            "image 374/500 /content/drive/MyDrive/test/data/000373.jpg: 640x640 1 quadcopter, 11.6ms\n",
            "image 375/500 /content/drive/MyDrive/test/data/000374.jpg: 640x640 1 quadcopter, 9.9ms\n",
            "image 376/500 /content/drive/MyDrive/test/data/000375.jpg: 640x640 2 quadcopters, 10.0ms\n",
            "image 377/500 /content/drive/MyDrive/test/data/000376.jpg: 640x640 1 quadcopter, 9.8ms\n",
            "image 378/500 /content/drive/MyDrive/test/data/000377.jpg: 640x640 3 quadcopters, 11.2ms\n",
            "image 379/500 /content/drive/MyDrive/test/data/000378.jpg: 640x640 1 quadcopter, 18.5ms\n",
            "image 380/500 /content/drive/MyDrive/test/data/000379.jpg: 640x640 2 quadcopters, 11.6ms\n",
            "image 381/500 /content/drive/MyDrive/test/data/000380.jpg: 640x640 2 quadcopters, 11.5ms\n",
            "image 382/500 /content/drive/MyDrive/test/data/000381.jpg: 640x640 1 quadcopter, 11.1ms\n",
            "image 383/500 /content/drive/MyDrive/test/data/000382.jpg: 640x640 2 quadcopters, 10.6ms\n",
            "image 384/500 /content/drive/MyDrive/test/data/000383.jpg: 640x640 2 quadcopters, 10.4ms\n",
            "image 385/500 /content/drive/MyDrive/test/data/000384.jpg: 640x640 1 quadcopter, 10.1ms\n",
            "image 386/500 /content/drive/MyDrive/test/data/000385.jpg: 640x640 2 quadcopters, 10.6ms\n",
            "image 387/500 /content/drive/MyDrive/test/data/000386.jpg: 640x640 1 quadcopter, 9.9ms\n",
            "image 388/500 /content/drive/MyDrive/test/data/000387.jpg: 640x640 2 quadcopters, 9.7ms\n",
            "image 389/500 /content/drive/MyDrive/test/data/000388.jpg: 640x640 2 quadcopters, 9.9ms\n",
            "image 390/500 /content/drive/MyDrive/test/data/000389.jpg: 640x640 2 quadcopters, 13.9ms\n",
            "image 391/500 /content/drive/MyDrive/test/data/000390.jpg: 640x640 1 quadcopter, 10.8ms\n",
            "image 392/500 /content/drive/MyDrive/test/data/000391.jpg: 640x640 1 quadcopter, 10.3ms\n",
            "image 393/500 /content/drive/MyDrive/test/data/000392.jpg: 640x640 1 quadcopter, 21.9ms\n",
            "image 394/500 /content/drive/MyDrive/test/data/000393.jpg: 640x640 1 quadcopter, 33.4ms\n",
            "image 395/500 /content/drive/MyDrive/test/data/000394.jpg: 640x640 1 quadcopter, 10.8ms\n",
            "image 396/500 /content/drive/MyDrive/test/data/000395.jpg: 640x640 1 quadcopter, 13.5ms\n",
            "image 397/500 /content/drive/MyDrive/test/data/000396.jpg: 640x640 1 quadcopter, 10.5ms\n",
            "image 398/500 /content/drive/MyDrive/test/data/000397.jpg: 640x640 1 quadcopter, 9.8ms\n",
            "image 399/500 /content/drive/MyDrive/test/data/000398.jpg: 640x640 1 quadcopter, 9.4ms\n",
            "image 400/500 /content/drive/MyDrive/test/data/000399.jpg: 640x640 1 quadcopter, 11.0ms\n",
            "image 401/500 /content/drive/MyDrive/test/data/000400.jpg: 640x640 1 quadcopter, 13.3ms\n",
            "image 402/500 /content/drive/MyDrive/test/data/000401.jpg: 640x640 1 quadcopter, 10.0ms\n",
            "image 403/500 /content/drive/MyDrive/test/data/000402.jpg: 640x640 1 quadcopter, 10.3ms\n",
            "image 404/500 /content/drive/MyDrive/test/data/000403.jpg: 640x640 1 quadcopter, 13.2ms\n",
            "image 405/500 /content/drive/MyDrive/test/data/000404.jpg: 640x640 1 quadcopter, 10.4ms\n",
            "image 406/500 /content/drive/MyDrive/test/data/000405.jpg: 640x640 1 quadcopter, 10.3ms\n",
            "image 407/500 /content/drive/MyDrive/test/data/000406.jpg: 640x640 2 quadcopters, 9.6ms\n",
            "image 408/500 /content/drive/MyDrive/test/data/000407.jpg: 640x640 2 quadcopters, 10.1ms\n",
            "image 409/500 /content/drive/MyDrive/test/data/000408.jpg: 640x640 2 quadcopters, 10.3ms\n",
            "image 410/500 /content/drive/MyDrive/test/data/000409.jpg: 640x640 2 quadcopters, 10.3ms\n",
            "image 411/500 /content/drive/MyDrive/test/data/000410.jpg: 640x640 2 quadcopters, 10.3ms\n",
            "image 412/500 /content/drive/MyDrive/test/data/000411.jpg: 640x640 2 quadcopters, 14.5ms\n",
            "image 413/500 /content/drive/MyDrive/test/data/000412.jpg: 640x640 2 quadcopters, 16.5ms\n",
            "image 414/500 /content/drive/MyDrive/test/data/000413.jpg: 640x640 2 quadcopters, 10.3ms\n",
            "image 415/500 /content/drive/MyDrive/test/data/000414.jpg: 640x640 2 quadcopters, 10.5ms\n",
            "image 416/500 /content/drive/MyDrive/test/data/000415.jpg: 640x640 2 quadcopters, 11.0ms\n",
            "image 417/500 /content/drive/MyDrive/test/data/000416.jpg: 640x640 2 quadcopters, 12.2ms\n",
            "image 418/500 /content/drive/MyDrive/test/data/000417.jpg: 640x640 2 quadcopters, 12.6ms\n",
            "image 419/500 /content/drive/MyDrive/test/data/000418.jpg: 640x640 2 quadcopters, 9.8ms\n",
            "image 420/500 /content/drive/MyDrive/test/data/000419.jpg: 640x640 1 quadcopter, 10.3ms\n",
            "image 421/500 /content/drive/MyDrive/test/data/000420.jpg: 640x640 1 quadcopter, 11.0ms\n",
            "image 422/500 /content/drive/MyDrive/test/data/000421.jpg: 640x640 2 quadcopters, 11.0ms\n",
            "image 423/500 /content/drive/MyDrive/test/data/000422.jpg: 640x640 1 quadcopter, 14.3ms\n",
            "image 424/500 /content/drive/MyDrive/test/data/000423.jpg: 640x640 1 quadcopter, 11.1ms\n",
            "image 425/500 /content/drive/MyDrive/test/data/000424.jpg: 640x640 2 quadcopters, 12.4ms\n",
            "image 426/500 /content/drive/MyDrive/test/data/000425.jpg: 640x640 3 quadcopters, 12.1ms\n",
            "image 427/500 /content/drive/MyDrive/test/data/000426.jpg: 640x640 3 quadcopters, 11.5ms\n",
            "image 428/500 /content/drive/MyDrive/test/data/000427.jpg: 640x640 1 quadcopter, 11.0ms\n",
            "image 429/500 /content/drive/MyDrive/test/data/000428.jpg: 640x640 1 quadcopter, 10.6ms\n",
            "image 430/500 /content/drive/MyDrive/test/data/000429.jpg: 640x640 1 quadcopter, 10.1ms\n",
            "image 431/500 /content/drive/MyDrive/test/data/000430.jpg: 640x640 1 quadcopter, 11.1ms\n",
            "image 432/500 /content/drive/MyDrive/test/data/000431.jpg: 640x640 1 quadcopter, 10.2ms\n",
            "image 433/500 /content/drive/MyDrive/test/data/000432.jpg: 640x640 2 quadcopters, 39.6ms\n",
            "image 434/500 /content/drive/MyDrive/test/data/000433.jpg: 640x640 2 quadcopters, 17.6ms\n",
            "image 435/500 /content/drive/MyDrive/test/data/000434.jpg: 640x640 1 quadcopter, 9.8ms\n",
            "image 436/500 /content/drive/MyDrive/test/data/000435.jpg: 640x640 2 quadcopters, 9.8ms\n",
            "image 437/500 /content/drive/MyDrive/test/data/000436.jpg: 640x640 3 quadcopters, 10.6ms\n",
            "image 438/500 /content/drive/MyDrive/test/data/000437.jpg: 640x640 3 quadcopters, 11.3ms\n",
            "image 439/500 /content/drive/MyDrive/test/data/000438.jpg: 640x640 2 quadcopters, 12.2ms\n",
            "image 440/500 /content/drive/MyDrive/test/data/000439.jpg: 640x640 2 quadcopters, 13.4ms\n",
            "image 441/500 /content/drive/MyDrive/test/data/000440.jpg: 640x640 2 quadcopters, 10.8ms\n",
            "image 442/500 /content/drive/MyDrive/test/data/000441.jpg: 640x640 3 quadcopters, 10.4ms\n",
            "image 443/500 /content/drive/MyDrive/test/data/000442.jpg: 640x640 2 quadcopters, 10.2ms\n",
            "image 444/500 /content/drive/MyDrive/test/data/000443.jpg: 640x640 2 quadcopters, 11.1ms\n",
            "image 445/500 /content/drive/MyDrive/test/data/000444.jpg: 640x640 2 quadcopters, 11.1ms\n",
            "image 446/500 /content/drive/MyDrive/test/data/000445.jpg: 640x640 3 quadcopters, 11.4ms\n",
            "image 447/500 /content/drive/MyDrive/test/data/000446.jpg: 640x640 3 quadcopters, 10.3ms\n",
            "image 448/500 /content/drive/MyDrive/test/data/000447.jpg: 640x640 3 quadcopters, 10.3ms\n",
            "image 449/500 /content/drive/MyDrive/test/data/000448.jpg: 640x640 2 quadcopters, 11.8ms\n",
            "image 450/500 /content/drive/MyDrive/test/data/000449.jpg: 640x640 2 quadcopters, 11.5ms\n",
            "image 451/500 /content/drive/MyDrive/test/data/000450.jpg: 640x640 2 quadcopters, 11.2ms\n",
            "image 452/500 /content/drive/MyDrive/test/data/000451.jpg: 640x640 2 quadcopters, 11.4ms\n",
            "image 453/500 /content/drive/MyDrive/test/data/000452.jpg: 640x640 2 quadcopters, 12.7ms\n",
            "image 454/500 /content/drive/MyDrive/test/data/000453.jpg: 640x640 3 quadcopters, 12.8ms\n",
            "image 455/500 /content/drive/MyDrive/test/data/000454.jpg: 640x640 2 quadcopters, 12.5ms\n",
            "image 456/500 /content/drive/MyDrive/test/data/000455.jpg: 640x640 3 quadcopters, 13.1ms\n",
            "image 457/500 /content/drive/MyDrive/test/data/000456.jpg: 640x640 2 quadcopters, 11.9ms\n",
            "image 458/500 /content/drive/MyDrive/test/data/000457.jpg: 640x640 2 quadcopters, 11.0ms\n",
            "image 459/500 /content/drive/MyDrive/test/data/000458.jpg: 640x640 3 quadcopters, 10.5ms\n",
            "image 460/500 /content/drive/MyDrive/test/data/000459.jpg: 640x640 2 quadcopters, 10.3ms\n",
            "image 461/500 /content/drive/MyDrive/test/data/000460.jpg: 640x640 1 quadcopter, 10.1ms\n",
            "image 462/500 /content/drive/MyDrive/test/data/000461.jpg: 640x640 3 quadcopters, 10.9ms\n",
            "image 463/500 /content/drive/MyDrive/test/data/000462.jpg: 640x640 2 quadcopters, 10.3ms\n",
            "image 464/500 /content/drive/MyDrive/test/data/000463.jpg: 640x640 1 quadcopter, 11.0ms\n",
            "image 465/500 /content/drive/MyDrive/test/data/000464.jpg: 640x640 2 quadcopters, 10.6ms\n",
            "image 466/500 /content/drive/MyDrive/test/data/000465.jpg: 640x640 2 quadcopters, 10.9ms\n",
            "image 467/500 /content/drive/MyDrive/test/data/000466.jpg: 640x640 3 quadcopters, 10.3ms\n",
            "image 468/500 /content/drive/MyDrive/test/data/000467.jpg: 640x640 2 quadcopters, 10.5ms\n",
            "image 469/500 /content/drive/MyDrive/test/data/000468.jpg: 640x640 2 quadcopters, 10.8ms\n",
            "image 470/500 /content/drive/MyDrive/test/data/000469.jpg: 640x640 3 quadcopters, 12.0ms\n",
            "image 471/500 /content/drive/MyDrive/test/data/000470.jpg: 640x640 2 quadcopters, 10.1ms\n",
            "image 472/500 /content/drive/MyDrive/test/data/000471.jpg: 640x640 3 quadcopters, 10.1ms\n",
            "image 473/500 /content/drive/MyDrive/test/data/000472.jpg: 640x640 2 quadcopters, 9.9ms\n",
            "image 474/500 /content/drive/MyDrive/test/data/000473.jpg: 640x640 3 quadcopters, 11.1ms\n",
            "image 475/500 /content/drive/MyDrive/test/data/000474.jpg: 640x640 2 quadcopters, 10.2ms\n",
            "image 476/500 /content/drive/MyDrive/test/data/000475.jpg: 640x640 3 quadcopters, 9.8ms\n",
            "image 477/500 /content/drive/MyDrive/test/data/000476.jpg: 640x640 3 quadcopters, 11.5ms\n",
            "image 478/500 /content/drive/MyDrive/test/data/000477.jpg: 640x640 2 quadcopters, 11.4ms\n",
            "image 479/500 /content/drive/MyDrive/test/data/000478.jpg: 640x640 2 quadcopters, 10.0ms\n",
            "image 480/500 /content/drive/MyDrive/test/data/000479.jpg: 640x640 2 quadcopters, 9.6ms\n",
            "image 481/500 /content/drive/MyDrive/test/data/000480.jpg: 640x640 1 quadcopter, 9.6ms\n",
            "image 482/500 /content/drive/MyDrive/test/data/000481.jpg: 640x640 2 quadcopters, 9.7ms\n",
            "image 483/500 /content/drive/MyDrive/test/data/000482.jpg: 640x640 2 quadcopters, 9.7ms\n",
            "image 484/500 /content/drive/MyDrive/test/data/000483.jpg: 640x640 2 quadcopters, 10.1ms\n",
            "image 485/500 /content/drive/MyDrive/test/data/000484.jpg: 640x640 2 quadcopters, 13.1ms\n",
            "image 486/500 /content/drive/MyDrive/test/data/000485.jpg: 640x640 2 quadcopters, 11.7ms\n",
            "image 487/500 /content/drive/MyDrive/test/data/000486.jpg: 640x640 3 quadcopters, 14.1ms\n",
            "image 488/500 /content/drive/MyDrive/test/data/000487.jpg: 640x640 2 quadcopters, 10.9ms\n",
            "image 489/500 /content/drive/MyDrive/test/data/000488.jpg: 640x640 2 quadcopters, 10.9ms\n",
            "image 490/500 /content/drive/MyDrive/test/data/000489.jpg: 640x640 2 quadcopters, 10.8ms\n",
            "image 491/500 /content/drive/MyDrive/test/data/000490.jpg: 640x640 2 quadcopters, 10.7ms\n",
            "image 492/500 /content/drive/MyDrive/test/data/000491.jpg: 640x640 2 quadcopters, 10.7ms\n",
            "image 493/500 /content/drive/MyDrive/test/data/000492.jpg: 640x640 2 quadcopters, 10.6ms\n",
            "image 494/500 /content/drive/MyDrive/test/data/000493.jpg: 640x640 2 quadcopters, 11.3ms\n",
            "image 495/500 /content/drive/MyDrive/test/data/000494.jpg: 640x640 2 quadcopters, 10.8ms\n",
            "image 496/500 /content/drive/MyDrive/test/data/000495.jpg: 640x640 2 quadcopters, 13.0ms\n",
            "image 497/500 /content/drive/MyDrive/test/data/000496.jpg: 640x640 2 quadcopters, 12.1ms\n",
            "image 498/500 /content/drive/MyDrive/test/data/000497.jpg: 640x640 2 quadcopters, 10.5ms\n",
            "image 499/500 /content/drive/MyDrive/test/data/000498.jpg: 640x640 2 quadcopters, 10.3ms\n",
            "image 500/500 /content/drive/MyDrive/test/data/000499.jpg: 640x640 2 quadcopters, 10.1ms\n",
            "Speed: 2.4ms preprocess, 12.6ms inference, 2.3ms postprocess per image at shape (1, 3, 640, 640)\n",
            "Ultralytics YOLOv8.0.231 🚀 Python-3.10.12 torch-2.1.0+cu121 CUDA:0 (Tesla T4, 15102MiB)\n"
          ]
        },
        {
          "output_type": "stream",
          "name": "stderr",
          "text": [
            "\u001b[34m\u001b[1mval: \u001b[0mScanning /tmp/drone_data/val/labels.cache... 814 images, 0 backgrounds, 0 corrupt: 100%|██████████| 814/814 [00:00<?, ?it/s]\n",
            "                 Class     Images  Instances      Box(P          R      mAP50  mAP50-95): 100%|██████████| 51/51 [00:22<00:00,  2.26it/s]\n"
          ]
        },
        {
          "output_type": "stream",
          "name": "stdout",
          "text": [
            "                   all        814        868      0.958      0.945      0.966      0.564\n",
            "Speed: 0.2ms preprocess, 3.7ms inference, 0.0ms loss, 2.5ms postprocess per image\n",
            "Results saved to \u001b[1mruns/detect/val6\u001b[0m\n",
            "0.5641725390733773\n"
          ]
        }
      ]
    },
    {
      "cell_type": "markdown",
      "source": [
        "Test on the 20 epochs model."
      ],
      "metadata": {
        "id": "MCWvGJU6SGAa"
      }
    },
    {
      "cell_type": "code",
      "source": [
        "# Imports\n",
        "import yaml\n",
        "from ultralytics import YOLO\n",
        "\n",
        "# Load model\n",
        "model = YOLO('/content/runs/detect/train633/weights/best.pt')\n",
        "\n",
        "# Set test path\n",
        "test_path = '/content/drive/MyDrive/test/data'\n",
        "\n",
        "# Run predictions\n",
        "results = model.predict(source=test_path)\n",
        "\n",
        "# Evaluate metrics\n",
        "metrics = model.val(source=test_path)\n",
        "print(metrics.box.map)"
      ],
      "metadata": {
        "colab": {
          "base_uri": "https://localhost:8080/"
        },
        "id": "aSrGcF6xOU07",
        "outputId": "fe29ebe0-0c43-4b50-81ba-a1e216736b64"
      },
      "execution_count": 27,
      "outputs": [
        {
          "output_type": "stream",
          "name": "stdout",
          "text": [
            "\n",
            "image 1/500 /content/drive/MyDrive/test/data/000000.jpg: 640x640 3 quadcopters, 16.6ms\n",
            "image 2/500 /content/drive/MyDrive/test/data/000001.jpg: 640x640 2 quadcopters, 11.5ms\n",
            "image 3/500 /content/drive/MyDrive/test/data/000002.jpg: 640x640 1 quadcopter, 10.8ms\n",
            "image 4/500 /content/drive/MyDrive/test/data/000003.jpg: 640x640 2 quadcopters, 10.7ms\n",
            "image 5/500 /content/drive/MyDrive/test/data/000004.jpg: 640x640 1 quadcopter, 10.1ms\n",
            "image 6/500 /content/drive/MyDrive/test/data/000005.jpg: 640x640 2 quadcopters, 11.3ms\n",
            "image 7/500 /content/drive/MyDrive/test/data/000006.jpg: 640x640 1 quadcopter, 13.4ms\n",
            "image 8/500 /content/drive/MyDrive/test/data/000007.jpg: 640x640 2 quadcopters, 10.9ms\n",
            "image 9/500 /content/drive/MyDrive/test/data/000008.jpg: 640x640 2 quadcopters, 10.9ms\n",
            "image 10/500 /content/drive/MyDrive/test/data/000009.jpg: 640x640 1 quadcopter, 10.4ms\n",
            "image 11/500 /content/drive/MyDrive/test/data/000010.jpg: 640x640 2 quadcopters, 10.9ms\n",
            "image 12/500 /content/drive/MyDrive/test/data/000011.jpg: 640x640 3 quadcopters, 13.5ms\n",
            "image 13/500 /content/drive/MyDrive/test/data/000012.jpg: 640x640 2 quadcopters, 16.0ms\n",
            "image 14/500 /content/drive/MyDrive/test/data/000013.jpg: 640x640 2 quadcopters, 11.0ms\n",
            "image 15/500 /content/drive/MyDrive/test/data/000014.jpg: 640x640 2 quadcopters, 10.7ms\n",
            "image 16/500 /content/drive/MyDrive/test/data/000015.jpg: 640x640 2 quadcopters, 10.5ms\n",
            "image 17/500 /content/drive/MyDrive/test/data/000016.jpg: 640x640 2 quadcopters, 10.4ms\n",
            "image 18/500 /content/drive/MyDrive/test/data/000017.jpg: 640x640 2 quadcopters, 10.6ms\n",
            "image 19/500 /content/drive/MyDrive/test/data/000018.jpg: 640x640 2 quadcopters, 10.3ms\n",
            "image 20/500 /content/drive/MyDrive/test/data/000019.jpg: 640x640 2 quadcopters, 11.3ms\n",
            "image 21/500 /content/drive/MyDrive/test/data/000020.jpg: 640x640 1 quadcopter, 10.2ms\n",
            "image 22/500 /content/drive/MyDrive/test/data/000021.jpg: 640x640 2 quadcopters, 10.0ms\n",
            "image 23/500 /content/drive/MyDrive/test/data/000022.jpg: 640x640 2 quadcopters, 10.2ms\n",
            "image 24/500 /content/drive/MyDrive/test/data/000023.jpg: 640x640 1 quadcopter, 9.9ms\n",
            "image 25/500 /content/drive/MyDrive/test/data/000024.jpg: 640x640 2 quadcopters, 10.3ms\n",
            "image 26/500 /content/drive/MyDrive/test/data/000025.jpg: 640x640 1 quadcopter, 10.4ms\n",
            "image 27/500 /content/drive/MyDrive/test/data/000026.jpg: 640x640 1 quadcopter, 10.5ms\n",
            "image 28/500 /content/drive/MyDrive/test/data/000027.jpg: 640x640 1 quadcopter, 10.3ms\n",
            "image 29/500 /content/drive/MyDrive/test/data/000028.jpg: 640x640 1 quadcopter, 10.5ms\n",
            "image 30/500 /content/drive/MyDrive/test/data/000029.jpg: 640x640 1 quadcopter, 10.1ms\n",
            "image 31/500 /content/drive/MyDrive/test/data/000030.jpg: 640x640 1 quadcopter, 11.1ms\n",
            "image 32/500 /content/drive/MyDrive/test/data/000031.jpg: 640x640 1 quadcopter, 11.5ms\n",
            "image 33/500 /content/drive/MyDrive/test/data/000032.jpg: 640x640 1 quadcopter, 11.0ms\n",
            "image 34/500 /content/drive/MyDrive/test/data/000033.jpg: 640x640 3 quadcopters, 10.5ms\n",
            "image 35/500 /content/drive/MyDrive/test/data/000034.jpg: 640x640 1 quadcopter, 12.6ms\n",
            "image 36/500 /content/drive/MyDrive/test/data/000035.jpg: 640x640 1 quadcopter, 12.7ms\n",
            "image 37/500 /content/drive/MyDrive/test/data/000036.jpg: 640x640 1 quadcopter, 10.9ms\n",
            "image 38/500 /content/drive/MyDrive/test/data/000037.jpg: 640x640 1 quadcopter, 12.6ms\n",
            "image 39/500 /content/drive/MyDrive/test/data/000038.jpg: 640x640 1 quadcopter, 11.3ms\n",
            "image 40/500 /content/drive/MyDrive/test/data/000039.jpg: 640x640 1 quadcopter, 10.5ms\n",
            "image 41/500 /content/drive/MyDrive/test/data/000040.jpg: 640x640 1 quadcopter, 17.8ms\n",
            "image 42/500 /content/drive/MyDrive/test/data/000041.jpg: 640x640 1 quadcopter, 10.9ms\n",
            "image 43/500 /content/drive/MyDrive/test/data/000042.jpg: 640x640 1 quadcopter, 10.3ms\n",
            "image 44/500 /content/drive/MyDrive/test/data/000043.jpg: 640x640 1 quadcopter, 10.5ms\n",
            "image 45/500 /content/drive/MyDrive/test/data/000044.jpg: 640x640 2 quadcopters, 10.5ms\n",
            "image 46/500 /content/drive/MyDrive/test/data/000045.jpg: 640x640 2 quadcopters, 11.1ms\n",
            "image 47/500 /content/drive/MyDrive/test/data/000046.jpg: 640x640 1 quadcopter, 10.6ms\n",
            "image 48/500 /content/drive/MyDrive/test/data/000047.jpg: 640x640 1 quadcopter, 10.9ms\n",
            "image 49/500 /content/drive/MyDrive/test/data/000048.jpg: 640x640 1 quadcopter, 10.4ms\n",
            "image 50/500 /content/drive/MyDrive/test/data/000049.jpg: 640x640 1 quadcopter, 10.4ms\n",
            "image 51/500 /content/drive/MyDrive/test/data/000050.jpg: 640x640 2 quadcopters, 10.6ms\n",
            "image 52/500 /content/drive/MyDrive/test/data/000051.jpg: 640x640 1 quadcopter, 10.9ms\n",
            "image 53/500 /content/drive/MyDrive/test/data/000052.jpg: 640x640 1 quadcopter, 11.0ms\n",
            "image 54/500 /content/drive/MyDrive/test/data/000053.jpg: 640x640 1 quadcopter, 10.8ms\n",
            "image 55/500 /content/drive/MyDrive/test/data/000054.jpg: 640x640 1 quadcopter, 10.6ms\n",
            "image 56/500 /content/drive/MyDrive/test/data/000055.jpg: 640x640 1 quadcopter, 10.8ms\n",
            "image 57/500 /content/drive/MyDrive/test/data/000056.jpg: 640x640 2 quadcopters, 10.6ms\n",
            "image 58/500 /content/drive/MyDrive/test/data/000057.jpg: 640x640 2 quadcopters, 10.9ms\n",
            "image 59/500 /content/drive/MyDrive/test/data/000058.jpg: 640x640 2 quadcopters, 11.0ms\n",
            "image 60/500 /content/drive/MyDrive/test/data/000059.jpg: 640x640 2 quadcopters, 10.8ms\n",
            "image 61/500 /content/drive/MyDrive/test/data/000060.jpg: 640x640 2 quadcopters, 11.2ms\n",
            "image 62/500 /content/drive/MyDrive/test/data/000061.jpg: 640x640 2 quadcopters, 10.4ms\n",
            "image 63/500 /content/drive/MyDrive/test/data/000062.jpg: 640x640 2 quadcopters, 10.7ms\n",
            "image 64/500 /content/drive/MyDrive/test/data/000063.jpg: 640x640 2 quadcopters, 17.2ms\n",
            "image 65/500 /content/drive/MyDrive/test/data/000064.jpg: 640x640 2 quadcopters, 10.2ms\n",
            "image 66/500 /content/drive/MyDrive/test/data/000065.jpg: 640x640 2 quadcopters, 10.6ms\n",
            "image 67/500 /content/drive/MyDrive/test/data/000066.jpg: 640x640 1 quadcopter, 15.1ms\n",
            "image 68/500 /content/drive/MyDrive/test/data/000067.jpg: 640x640 2 quadcopters, 16.8ms\n",
            "image 69/500 /content/drive/MyDrive/test/data/000068.jpg: 640x640 2 quadcopters, 10.9ms\n",
            "image 70/500 /content/drive/MyDrive/test/data/000069.jpg: 640x640 2 quadcopters, 11.1ms\n",
            "image 71/500 /content/drive/MyDrive/test/data/000070.jpg: 640x640 2 quadcopters, 10.8ms\n",
            "image 72/500 /content/drive/MyDrive/test/data/000071.jpg: 640x640 2 quadcopters, 13.5ms\n",
            "image 73/500 /content/drive/MyDrive/test/data/000072.jpg: 640x640 2 quadcopters, 11.2ms\n",
            "image 74/500 /content/drive/MyDrive/test/data/000073.jpg: 640x640 2 quadcopters, 10.7ms\n",
            "image 75/500 /content/drive/MyDrive/test/data/000074.jpg: 640x640 2 quadcopters, 13.7ms\n",
            "image 76/500 /content/drive/MyDrive/test/data/000075.jpg: 640x640 2 quadcopters, 10.8ms\n",
            "image 77/500 /content/drive/MyDrive/test/data/000076.jpg: 640x640 2 quadcopters, 10.7ms\n",
            "image 78/500 /content/drive/MyDrive/test/data/000077.jpg: 640x640 1 quadcopter, 11.0ms\n",
            "image 79/500 /content/drive/MyDrive/test/data/000078.jpg: 640x640 2 quadcopters, 10.6ms\n",
            "image 80/500 /content/drive/MyDrive/test/data/000079.jpg: 640x640 2 quadcopters, 10.9ms\n",
            "image 81/500 /content/drive/MyDrive/test/data/000080.jpg: 640x640 1 quadcopter, 10.8ms\n",
            "image 82/500 /content/drive/MyDrive/test/data/000081.jpg: 640x640 1 quadcopter, 11.0ms\n",
            "image 83/500 /content/drive/MyDrive/test/data/000082.jpg: 640x640 1 quadcopter, 18.3ms\n",
            "image 84/500 /content/drive/MyDrive/test/data/000083.jpg: 640x640 1 quadcopter, 11.0ms\n",
            "image 85/500 /content/drive/MyDrive/test/data/000084.jpg: 640x640 2 quadcopters, 10.2ms\n",
            "image 86/500 /content/drive/MyDrive/test/data/000085.jpg: 640x640 2 quadcopters, 11.0ms\n",
            "image 87/500 /content/drive/MyDrive/test/data/000086.jpg: 640x640 1 quadcopter, 10.6ms\n",
            "image 88/500 /content/drive/MyDrive/test/data/000087.jpg: 640x640 1 quadcopter, 10.4ms\n",
            "image 89/500 /content/drive/MyDrive/test/data/000088.jpg: 640x640 2 quadcopters, 10.3ms\n",
            "image 90/500 /content/drive/MyDrive/test/data/000089.jpg: 640x640 1 quadcopter, 10.9ms\n",
            "image 91/500 /content/drive/MyDrive/test/data/000090.jpg: 640x640 1 quadcopter, 10.6ms\n",
            "image 92/500 /content/drive/MyDrive/test/data/000091.jpg: 640x640 1 quadcopter, 10.8ms\n",
            "image 93/500 /content/drive/MyDrive/test/data/000092.jpg: 640x640 1 quadcopter, 12.2ms\n",
            "image 94/500 /content/drive/MyDrive/test/data/000093.jpg: 640x640 1 quadcopter, 10.6ms\n",
            "image 95/500 /content/drive/MyDrive/test/data/000094.jpg: 640x640 1 quadcopter, 10.5ms\n",
            "image 96/500 /content/drive/MyDrive/test/data/000095.jpg: 640x640 1 quadcopter, 12.0ms\n",
            "image 97/500 /content/drive/MyDrive/test/data/000096.jpg: 640x640 1 quadcopter, 12.6ms\n",
            "image 98/500 /content/drive/MyDrive/test/data/000097.jpg: 640x640 1 quadcopter, 11.0ms\n",
            "image 99/500 /content/drive/MyDrive/test/data/000098.jpg: 640x640 2 quadcopters, 16.1ms\n",
            "image 100/500 /content/drive/MyDrive/test/data/000099.jpg: 640x640 1 quadcopter, 10.8ms\n",
            "image 101/500 /content/drive/MyDrive/test/data/000100.jpg: 640x640 2 quadcopters, 12.6ms\n",
            "image 102/500 /content/drive/MyDrive/test/data/000101.jpg: 640x640 1 quadcopter, 12.1ms\n",
            "image 103/500 /content/drive/MyDrive/test/data/000102.jpg: 640x640 1 quadcopter, 10.8ms\n",
            "image 104/500 /content/drive/MyDrive/test/data/000103.jpg: 640x640 1 quadcopter, 11.4ms\n",
            "image 105/500 /content/drive/MyDrive/test/data/000104.jpg: 640x640 1 quadcopter, 11.2ms\n",
            "image 106/500 /content/drive/MyDrive/test/data/000105.jpg: 640x640 1 quadcopter, 11.2ms\n",
            "image 107/500 /content/drive/MyDrive/test/data/000106.jpg: 640x640 1 quadcopter, 11.5ms\n",
            "image 108/500 /content/drive/MyDrive/test/data/000107.jpg: 640x640 2 quadcopters, 11.2ms\n",
            "image 109/500 /content/drive/MyDrive/test/data/000108.jpg: 640x640 1 quadcopter, 11.1ms\n",
            "image 110/500 /content/drive/MyDrive/test/data/000109.jpg: 640x640 1 quadcopter, 11.0ms\n",
            "image 111/500 /content/drive/MyDrive/test/data/000110.jpg: 640x640 1 quadcopter, 11.6ms\n",
            "image 112/500 /content/drive/MyDrive/test/data/000111.jpg: 640x640 3 quadcopters, 11.7ms\n",
            "image 113/500 /content/drive/MyDrive/test/data/000112.jpg: 640x640 1 quadcopter, 11.5ms\n",
            "image 114/500 /content/drive/MyDrive/test/data/000113.jpg: 640x640 1 quadcopter, 10.5ms\n",
            "image 115/500 /content/drive/MyDrive/test/data/000114.jpg: 640x640 1 quadcopter, 10.8ms\n",
            "image 116/500 /content/drive/MyDrive/test/data/000115.jpg: 640x640 1 quadcopter, 10.9ms\n",
            "image 117/500 /content/drive/MyDrive/test/data/000116.jpg: 640x640 1 quadcopter, 10.5ms\n",
            "image 118/500 /content/drive/MyDrive/test/data/000117.jpg: 640x640 1 quadcopter, 11.2ms\n",
            "image 119/500 /content/drive/MyDrive/test/data/000118.jpg: 640x640 1 quadcopter, 11.6ms\n",
            "image 120/500 /content/drive/MyDrive/test/data/000119.jpg: 640x640 1 quadcopter, 11.6ms\n",
            "image 121/500 /content/drive/MyDrive/test/data/000120.jpg: 640x640 1 quadcopter, 11.7ms\n",
            "image 122/500 /content/drive/MyDrive/test/data/000121.jpg: 640x640 2 quadcopters, 12.3ms\n",
            "image 123/500 /content/drive/MyDrive/test/data/000122.jpg: 640x640 1 quadcopter, 10.5ms\n",
            "image 124/500 /content/drive/MyDrive/test/data/000123.jpg: 640x640 1 quadcopter, 13.1ms\n",
            "image 125/500 /content/drive/MyDrive/test/data/000124.jpg: 640x640 1 quadcopter, 14.8ms\n",
            "image 126/500 /content/drive/MyDrive/test/data/000125.jpg: 640x640 1 quadcopter, 12.3ms\n",
            "image 127/500 /content/drive/MyDrive/test/data/000126.jpg: 640x640 2 quadcopters, 12.3ms\n",
            "image 128/500 /content/drive/MyDrive/test/data/000127.jpg: 640x640 1 quadcopter, 10.9ms\n",
            "image 129/500 /content/drive/MyDrive/test/data/000128.jpg: 640x640 1 quadcopter, 10.4ms\n",
            "image 130/500 /content/drive/MyDrive/test/data/000129.jpg: 640x640 1 quadcopter, 11.4ms\n",
            "image 131/500 /content/drive/MyDrive/test/data/000130.jpg: 640x640 2 quadcopters, 11.9ms\n",
            "image 132/500 /content/drive/MyDrive/test/data/000131.jpg: 640x640 2 quadcopters, 11.7ms\n",
            "image 133/500 /content/drive/MyDrive/test/data/000132.jpg: 640x640 2 quadcopters, 11.7ms\n",
            "image 134/500 /content/drive/MyDrive/test/data/000133.jpg: 640x640 1 quadcopter, 11.8ms\n",
            "image 135/500 /content/drive/MyDrive/test/data/000134.jpg: 640x640 2 quadcopters, 11.6ms\n",
            "image 136/500 /content/drive/MyDrive/test/data/000135.jpg: 640x640 1 quadcopter, 11.5ms\n",
            "image 137/500 /content/drive/MyDrive/test/data/000136.jpg: 640x640 2 quadcopters, 14.4ms\n",
            "image 138/500 /content/drive/MyDrive/test/data/000137.jpg: 640x640 1 quadcopter, 11.5ms\n",
            "image 139/500 /content/drive/MyDrive/test/data/000138.jpg: 640x640 2 quadcopters, 11.4ms\n",
            "image 140/500 /content/drive/MyDrive/test/data/000139.jpg: 640x640 2 quadcopters, 12.1ms\n",
            "image 141/500 /content/drive/MyDrive/test/data/000140.jpg: 640x640 2 quadcopters, 11.5ms\n",
            "image 142/500 /content/drive/MyDrive/test/data/000141.jpg: 640x640 1 quadcopter, 14.1ms\n",
            "image 143/500 /content/drive/MyDrive/test/data/000142.jpg: 640x640 2 quadcopters, 10.5ms\n",
            "image 144/500 /content/drive/MyDrive/test/data/000143.jpg: 640x640 1 quadcopter, 11.0ms\n",
            "image 145/500 /content/drive/MyDrive/test/data/000144.jpg: 640x640 2 quadcopters, 10.8ms\n",
            "image 146/500 /content/drive/MyDrive/test/data/000145.jpg: 640x640 1 quadcopter, 11.4ms\n",
            "image 147/500 /content/drive/MyDrive/test/data/000146.jpg: 640x640 1 quadcopter, 14.2ms\n",
            "image 148/500 /content/drive/MyDrive/test/data/000147.jpg: 640x640 1 quadcopter, 10.6ms\n",
            "image 149/500 /content/drive/MyDrive/test/data/000148.jpg: 640x640 1 quadcopter, 13.7ms\n",
            "image 150/500 /content/drive/MyDrive/test/data/000149.jpg: 640x640 1 quadcopter, 10.5ms\n",
            "image 151/500 /content/drive/MyDrive/test/data/000150.jpg: 640x640 1 quadcopter, 10.1ms\n",
            "image 152/500 /content/drive/MyDrive/test/data/000151.jpg: 640x640 1 quadcopter, 10.3ms\n",
            "image 153/500 /content/drive/MyDrive/test/data/000152.jpg: 640x640 1 quadcopter, 10.5ms\n",
            "image 154/500 /content/drive/MyDrive/test/data/000153.jpg: 640x640 1 quadcopter, 10.5ms\n",
            "image 155/500 /content/drive/MyDrive/test/data/000154.jpg: 640x640 2 quadcopters, 9.9ms\n",
            "image 156/500 /content/drive/MyDrive/test/data/000155.jpg: 640x640 2 quadcopters, 10.2ms\n",
            "image 157/500 /content/drive/MyDrive/test/data/000156.jpg: 640x640 2 quadcopters, 10.4ms\n",
            "image 158/500 /content/drive/MyDrive/test/data/000157.jpg: 640x640 2 quadcopters, 10.4ms\n",
            "image 159/500 /content/drive/MyDrive/test/data/000158.jpg: 640x640 2 quadcopters, 15.0ms\n",
            "image 160/500 /content/drive/MyDrive/test/data/000159.jpg: 640x640 1 quadcopter, 11.7ms\n",
            "image 161/500 /content/drive/MyDrive/test/data/000160.jpg: 640x640 2 quadcopters, 10.3ms\n",
            "image 162/500 /content/drive/MyDrive/test/data/000161.jpg: 640x640 2 quadcopters, 11.0ms\n",
            "image 163/500 /content/drive/MyDrive/test/data/000162.jpg: 640x640 2 quadcopters, 10.4ms\n",
            "image 164/500 /content/drive/MyDrive/test/data/000163.jpg: 640x640 2 quadcopters, 10.5ms\n",
            "image 165/500 /content/drive/MyDrive/test/data/000164.jpg: 640x640 2 quadcopters, 10.1ms\n",
            "image 166/500 /content/drive/MyDrive/test/data/000165.jpg: 640x640 2 quadcopters, 13.8ms\n",
            "image 167/500 /content/drive/MyDrive/test/data/000166.jpg: 640x640 1 quadcopter, 13.4ms\n",
            "image 168/500 /content/drive/MyDrive/test/data/000167.jpg: 640x640 1 quadcopter, 11.0ms\n",
            "image 169/500 /content/drive/MyDrive/test/data/000168.jpg: 640x640 1 quadcopter, 10.7ms\n",
            "image 170/500 /content/drive/MyDrive/test/data/000169.jpg: 640x640 1 quadcopter, 11.6ms\n",
            "image 171/500 /content/drive/MyDrive/test/data/000170.jpg: 640x640 2 quadcopters, 10.9ms\n",
            "image 172/500 /content/drive/MyDrive/test/data/000171.jpg: 640x640 1 quadcopter, 11.1ms\n",
            "image 173/500 /content/drive/MyDrive/test/data/000172.jpg: 640x640 1 quadcopter, 10.1ms\n",
            "image 174/500 /content/drive/MyDrive/test/data/000173.jpg: 640x640 1 quadcopter, 10.3ms\n",
            "image 175/500 /content/drive/MyDrive/test/data/000174.jpg: 640x640 2 quadcopters, 11.9ms\n",
            "image 176/500 /content/drive/MyDrive/test/data/000175.jpg: 640x640 2 quadcopters, 10.4ms\n",
            "image 177/500 /content/drive/MyDrive/test/data/000176.jpg: 640x640 1 quadcopter, 13.8ms\n",
            "image 178/500 /content/drive/MyDrive/test/data/000177.jpg: 640x640 2 quadcopters, 10.3ms\n",
            "image 179/500 /content/drive/MyDrive/test/data/000178.jpg: 640x640 2 quadcopters, 10.5ms\n",
            "image 180/500 /content/drive/MyDrive/test/data/000179.jpg: 640x640 1 quadcopter, 10.8ms\n",
            "image 181/500 /content/drive/MyDrive/test/data/000180.jpg: 640x640 2 quadcopters, 10.7ms\n",
            "image 182/500 /content/drive/MyDrive/test/data/000181.jpg: 640x640 2 quadcopters, 10.0ms\n",
            "image 183/500 /content/drive/MyDrive/test/data/000182.jpg: 640x640 2 quadcopters, 11.9ms\n",
            "image 184/500 /content/drive/MyDrive/test/data/000183.jpg: 640x640 1 quadcopter, 9.9ms\n",
            "image 185/500 /content/drive/MyDrive/test/data/000184.jpg: 640x640 2 quadcopters, 10.0ms\n",
            "image 186/500 /content/drive/MyDrive/test/data/000185.jpg: 640x640 1 quadcopter, 10.5ms\n",
            "image 187/500 /content/drive/MyDrive/test/data/000186.jpg: 640x640 1 quadcopter, 10.4ms\n",
            "image 188/500 /content/drive/MyDrive/test/data/000187.jpg: 640x640 1 quadcopter, 10.7ms\n",
            "image 189/500 /content/drive/MyDrive/test/data/000188.jpg: 640x640 1 quadcopter, 10.3ms\n",
            "image 190/500 /content/drive/MyDrive/test/data/000189.jpg: 640x640 1 quadcopter, 9.9ms\n",
            "image 191/500 /content/drive/MyDrive/test/data/000190.jpg: 640x640 1 quadcopter, 10.0ms\n",
            "image 192/500 /content/drive/MyDrive/test/data/000191.jpg: 640x640 1 quadcopter, 10.8ms\n",
            "image 193/500 /content/drive/MyDrive/test/data/000192.jpg: 640x640 1 quadcopter, 10.2ms\n",
            "image 194/500 /content/drive/MyDrive/test/data/000193.jpg: 640x640 1 quadcopter, 12.7ms\n",
            "image 195/500 /content/drive/MyDrive/test/data/000194.jpg: 640x640 1 quadcopter, 10.2ms\n",
            "image 196/500 /content/drive/MyDrive/test/data/000195.jpg: 640x640 1 quadcopter, 10.9ms\n",
            "image 197/500 /content/drive/MyDrive/test/data/000196.jpg: 640x640 1 quadcopter, 10.3ms\n",
            "image 198/500 /content/drive/MyDrive/test/data/000197.jpg: 640x640 1 quadcopter, 10.7ms\n",
            "image 199/500 /content/drive/MyDrive/test/data/000198.jpg: 640x640 1 quadcopter, 12.2ms\n",
            "image 200/500 /content/drive/MyDrive/test/data/000199.jpg: 640x640 1 quadcopter, 9.7ms\n",
            "image 201/500 /content/drive/MyDrive/test/data/000200.jpg: 640x640 1 quadcopter, 10.0ms\n",
            "image 202/500 /content/drive/MyDrive/test/data/000201.jpg: 640x640 1 quadcopter, 14.0ms\n",
            "image 203/500 /content/drive/MyDrive/test/data/000202.jpg: 640x640 1 quadcopter, 10.6ms\n",
            "image 204/500 /content/drive/MyDrive/test/data/000203.jpg: 640x640 2 quadcopters, 11.2ms\n",
            "image 205/500 /content/drive/MyDrive/test/data/000204.jpg: 640x640 1 quadcopter, 11.4ms\n",
            "image 206/500 /content/drive/MyDrive/test/data/000205.jpg: 640x640 1 quadcopter, 10.4ms\n",
            "image 207/500 /content/drive/MyDrive/test/data/000206.jpg: 640x640 1 quadcopter, 10.6ms\n",
            "image 208/500 /content/drive/MyDrive/test/data/000207.jpg: 640x640 2 quadcopters, 11.4ms\n",
            "image 209/500 /content/drive/MyDrive/test/data/000208.jpg: 640x640 2 quadcopters, 16.8ms\n",
            "image 210/500 /content/drive/MyDrive/test/data/000209.jpg: 640x640 1 quadcopter, 13.0ms\n",
            "image 211/500 /content/drive/MyDrive/test/data/000210.jpg: 640x640 1 quadcopter, 11.8ms\n",
            "image 212/500 /content/drive/MyDrive/test/data/000211.jpg: 640x640 2 quadcopters, 10.4ms\n",
            "image 213/500 /content/drive/MyDrive/test/data/000212.jpg: 640x640 1 quadcopter, 10.9ms\n",
            "image 214/500 /content/drive/MyDrive/test/data/000213.jpg: 640x640 1 quadcopter, 11.4ms\n",
            "image 215/500 /content/drive/MyDrive/test/data/000214.jpg: 640x640 1 quadcopter, 10.5ms\n",
            "image 216/500 /content/drive/MyDrive/test/data/000215.jpg: 640x640 1 quadcopter, 12.3ms\n",
            "image 217/500 /content/drive/MyDrive/test/data/000216.jpg: 640x640 1 quadcopter, 10.3ms\n",
            "image 218/500 /content/drive/MyDrive/test/data/000217.jpg: 640x640 2 quadcopters, 10.3ms\n",
            "image 219/500 /content/drive/MyDrive/test/data/000218.jpg: 640x640 1 quadcopter, 11.8ms\n",
            "image 220/500 /content/drive/MyDrive/test/data/000219.jpg: 640x640 2 quadcopters, 10.4ms\n",
            "image 221/500 /content/drive/MyDrive/test/data/000220.jpg: 640x640 2 quadcopters, 10.2ms\n",
            "image 222/500 /content/drive/MyDrive/test/data/000221.jpg: 640x640 1 quadcopter, 10.9ms\n",
            "image 223/500 /content/drive/MyDrive/test/data/000222.jpg: 640x640 3 quadcopters, 11.3ms\n",
            "image 224/500 /content/drive/MyDrive/test/data/000223.jpg: 640x640 2 quadcopters, 11.6ms\n",
            "image 225/500 /content/drive/MyDrive/test/data/000224.jpg: 640x640 2 quadcopters, 10.5ms\n",
            "image 226/500 /content/drive/MyDrive/test/data/000225.jpg: 640x640 2 quadcopters, 10.1ms\n",
            "image 227/500 /content/drive/MyDrive/test/data/000226.jpg: 640x640 2 quadcopters, 10.8ms\n",
            "image 228/500 /content/drive/MyDrive/test/data/000227.jpg: 640x640 1 quadcopter, 11.4ms\n",
            "image 229/500 /content/drive/MyDrive/test/data/000228.jpg: 640x640 1 quadcopter, 11.4ms\n",
            "image 230/500 /content/drive/MyDrive/test/data/000229.jpg: 640x640 1 quadcopter, 11.1ms\n",
            "image 231/500 /content/drive/MyDrive/test/data/000230.jpg: 640x640 1 quadcopter, 12.7ms\n",
            "image 232/500 /content/drive/MyDrive/test/data/000231.jpg: 640x640 2 quadcopters, 13.7ms\n",
            "image 233/500 /content/drive/MyDrive/test/data/000232.jpg: 640x640 1 quadcopter, 10.0ms\n",
            "image 234/500 /content/drive/MyDrive/test/data/000233.jpg: 640x640 1 quadcopter, 10.5ms\n",
            "image 235/500 /content/drive/MyDrive/test/data/000234.jpg: 640x640 2 quadcopters, 10.4ms\n",
            "image 236/500 /content/drive/MyDrive/test/data/000235.jpg: 640x640 2 quadcopters, 11.6ms\n",
            "image 237/500 /content/drive/MyDrive/test/data/000236.jpg: 640x640 2 quadcopters, 10.6ms\n",
            "image 238/500 /content/drive/MyDrive/test/data/000237.jpg: 640x640 2 quadcopters, 10.3ms\n",
            "image 239/500 /content/drive/MyDrive/test/data/000238.jpg: 640x640 2 quadcopters, 11.2ms\n",
            "image 240/500 /content/drive/MyDrive/test/data/000239.jpg: 640x640 2 quadcopters, 10.4ms\n",
            "image 241/500 /content/drive/MyDrive/test/data/000240.jpg: 640x640 2 quadcopters, 10.7ms\n",
            "image 242/500 /content/drive/MyDrive/test/data/000241.jpg: 640x640 2 quadcopters, 11.6ms\n",
            "image 243/500 /content/drive/MyDrive/test/data/000242.jpg: 640x640 1 quadcopter, 10.5ms\n",
            "image 244/500 /content/drive/MyDrive/test/data/000243.jpg: 640x640 2 quadcopters, 10.1ms\n",
            "image 245/500 /content/drive/MyDrive/test/data/000244.jpg: 640x640 2 quadcopters, 10.2ms\n",
            "image 246/500 /content/drive/MyDrive/test/data/000245.jpg: 640x640 2 quadcopters, 10.6ms\n",
            "image 247/500 /content/drive/MyDrive/test/data/000246.jpg: 640x640 2 quadcopters, 10.6ms\n",
            "image 248/500 /content/drive/MyDrive/test/data/000247.jpg: 640x640 2 quadcopters, 10.8ms\n",
            "image 249/500 /content/drive/MyDrive/test/data/000248.jpg: 640x640 1 quadcopter, 10.4ms\n",
            "image 250/500 /content/drive/MyDrive/test/data/000249.jpg: 640x640 2 quadcopters, 10.2ms\n",
            "image 251/500 /content/drive/MyDrive/test/data/000250.jpg: 640x640 2 quadcopters, 20.1ms\n",
            "image 252/500 /content/drive/MyDrive/test/data/000251.jpg: 640x640 2 quadcopters, 10.8ms\n",
            "image 253/500 /content/drive/MyDrive/test/data/000252.jpg: 640x640 2 quadcopters, 11.6ms\n",
            "image 254/500 /content/drive/MyDrive/test/data/000253.jpg: 640x640 2 quadcopters, 11.1ms\n",
            "image 255/500 /content/drive/MyDrive/test/data/000254.jpg: 640x640 2 quadcopters, 11.1ms\n",
            "image 256/500 /content/drive/MyDrive/test/data/000255.jpg: 640x640 2 quadcopters, 11.3ms\n",
            "image 257/500 /content/drive/MyDrive/test/data/000256.jpg: 640x640 2 quadcopters, 12.7ms\n",
            "image 258/500 /content/drive/MyDrive/test/data/000257.jpg: 640x640 2 quadcopters, 13.3ms\n",
            "image 259/500 /content/drive/MyDrive/test/data/000258.jpg: 640x640 2 quadcopters, 11.0ms\n",
            "image 260/500 /content/drive/MyDrive/test/data/000259.jpg: 640x640 2 quadcopters, 11.1ms\n",
            "image 261/500 /content/drive/MyDrive/test/data/000260.jpg: 640x640 2 quadcopters, 10.7ms\n",
            "image 262/500 /content/drive/MyDrive/test/data/000261.jpg: 640x640 2 quadcopters, 10.5ms\n",
            "image 263/500 /content/drive/MyDrive/test/data/000262.jpg: 640x640 2 quadcopters, 10.7ms\n",
            "image 264/500 /content/drive/MyDrive/test/data/000263.jpg: 640x640 1 quadcopter, 10.6ms\n",
            "image 265/500 /content/drive/MyDrive/test/data/000264.jpg: 640x640 2 quadcopters, 11.2ms\n",
            "image 266/500 /content/drive/MyDrive/test/data/000265.jpg: 640x640 1 quadcopter, 10.5ms\n",
            "image 267/500 /content/drive/MyDrive/test/data/000266.jpg: 640x640 1 quadcopter, 10.3ms\n",
            "image 268/500 /content/drive/MyDrive/test/data/000267.jpg: 640x640 1 quadcopter, 11.4ms\n",
            "image 269/500 /content/drive/MyDrive/test/data/000268.jpg: 640x640 1 quadcopter, 11.5ms\n",
            "image 270/500 /content/drive/MyDrive/test/data/000269.jpg: 640x640 1 quadcopter, 10.6ms\n",
            "image 271/500 /content/drive/MyDrive/test/data/000270.jpg: 640x640 2 quadcopters, 10.7ms\n",
            "image 272/500 /content/drive/MyDrive/test/data/000271.jpg: 640x640 2 quadcopters, 12.9ms\n",
            "image 273/500 /content/drive/MyDrive/test/data/000272.jpg: 640x640 2 quadcopters, 12.2ms\n",
            "image 274/500 /content/drive/MyDrive/test/data/000273.jpg: 640x640 2 quadcopters, 10.3ms\n",
            "image 275/500 /content/drive/MyDrive/test/data/000274.jpg: 640x640 2 quadcopters, 12.3ms\n",
            "image 276/500 /content/drive/MyDrive/test/data/000275.jpg: 640x640 2 quadcopters, 10.6ms\n",
            "image 277/500 /content/drive/MyDrive/test/data/000276.jpg: 640x640 2 quadcopters, 10.4ms\n",
            "image 278/500 /content/drive/MyDrive/test/data/000277.jpg: 640x640 1 quadcopter, 15.1ms\n",
            "image 279/500 /content/drive/MyDrive/test/data/000278.jpg: 640x640 1 quadcopter, 10.6ms\n",
            "image 280/500 /content/drive/MyDrive/test/data/000279.jpg: 640x640 1 quadcopter, 10.7ms\n",
            "image 281/500 /content/drive/MyDrive/test/data/000280.jpg: 640x640 1 quadcopter, 11.5ms\n",
            "image 282/500 /content/drive/MyDrive/test/data/000281.jpg: 640x640 1 quadcopter, 11.3ms\n",
            "image 283/500 /content/drive/MyDrive/test/data/000282.jpg: 640x640 1 quadcopter, 10.5ms\n",
            "image 284/500 /content/drive/MyDrive/test/data/000283.jpg: 640x640 1 quadcopter, 10.2ms\n",
            "image 285/500 /content/drive/MyDrive/test/data/000284.jpg: 640x640 2 quadcopters, 10.8ms\n",
            "image 286/500 /content/drive/MyDrive/test/data/000285.jpg: 640x640 2 quadcopters, 10.9ms\n",
            "image 287/500 /content/drive/MyDrive/test/data/000286.jpg: 640x640 2 quadcopters, 11.3ms\n",
            "image 288/500 /content/drive/MyDrive/test/data/000287.jpg: 640x640 2 quadcopters, 10.0ms\n",
            "image 289/500 /content/drive/MyDrive/test/data/000288.jpg: 640x640 1 quadcopter, 10.3ms\n",
            "image 290/500 /content/drive/MyDrive/test/data/000289.jpg: 640x640 2 quadcopters, 10.1ms\n",
            "image 291/500 /content/drive/MyDrive/test/data/000290.jpg: 640x640 2 quadcopters, 10.3ms\n",
            "image 292/500 /content/drive/MyDrive/test/data/000291.jpg: 640x640 1 quadcopter, 15.1ms\n",
            "image 293/500 /content/drive/MyDrive/test/data/000292.jpg: 640x640 2 quadcopters, 10.4ms\n",
            "image 294/500 /content/drive/MyDrive/test/data/000293.jpg: 640x640 2 quadcopters, 10.7ms\n",
            "image 295/500 /content/drive/MyDrive/test/data/000294.jpg: 640x640 1 quadcopter, 11.4ms\n",
            "image 296/500 /content/drive/MyDrive/test/data/000295.jpg: 640x640 1 quadcopter, 11.0ms\n",
            "image 297/500 /content/drive/MyDrive/test/data/000296.jpg: 640x640 1 quadcopter, 14.1ms\n",
            "image 298/500 /content/drive/MyDrive/test/data/000297.jpg: 640x640 2 quadcopters, 12.4ms\n",
            "image 299/500 /content/drive/MyDrive/test/data/000298.jpg: 640x640 2 quadcopters, 11.4ms\n",
            "image 300/500 /content/drive/MyDrive/test/data/000299.jpg: 640x640 1 quadcopter, 11.2ms\n",
            "image 301/500 /content/drive/MyDrive/test/data/000300.jpg: 640x640 2 quadcopters, 11.5ms\n",
            "image 302/500 /content/drive/MyDrive/test/data/000301.jpg: 640x640 2 quadcopters, 10.3ms\n",
            "image 303/500 /content/drive/MyDrive/test/data/000302.jpg: 640x640 2 quadcopters, 10.5ms\n",
            "image 304/500 /content/drive/MyDrive/test/data/000303.jpg: 640x640 1 quadcopter, 10.5ms\n",
            "image 305/500 /content/drive/MyDrive/test/data/000304.jpg: 640x640 2 quadcopters, 13.8ms\n",
            "image 306/500 /content/drive/MyDrive/test/data/000305.jpg: 640x640 2 quadcopters, 12.9ms\n",
            "image 307/500 /content/drive/MyDrive/test/data/000306.jpg: 640x640 2 quadcopters, 10.6ms\n",
            "image 308/500 /content/drive/MyDrive/test/data/000307.jpg: 640x640 1 quadcopter, 12.1ms\n",
            "image 309/500 /content/drive/MyDrive/test/data/000308.jpg: 640x640 2 quadcopters, 10.4ms\n",
            "image 310/500 /content/drive/MyDrive/test/data/000309.jpg: 640x640 1 quadcopter, 11.4ms\n",
            "image 311/500 /content/drive/MyDrive/test/data/000310.jpg: 640x640 1 quadcopter, 11.1ms\n",
            "image 312/500 /content/drive/MyDrive/test/data/000311.jpg: 640x640 1 quadcopter, 11.1ms\n",
            "image 313/500 /content/drive/MyDrive/test/data/000312.jpg: 640x640 1 quadcopter, 11.7ms\n",
            "image 314/500 /content/drive/MyDrive/test/data/000313.jpg: 640x640 2 quadcopters, 10.7ms\n",
            "image 315/500 /content/drive/MyDrive/test/data/000314.jpg: 640x640 2 quadcopters, 10.9ms\n",
            "image 316/500 /content/drive/MyDrive/test/data/000315.jpg: 640x640 2 quadcopters, 11.1ms\n",
            "image 317/500 /content/drive/MyDrive/test/data/000316.jpg: 640x640 2 quadcopters, 10.4ms\n",
            "image 318/500 /content/drive/MyDrive/test/data/000317.jpg: 640x640 2 quadcopters, 10.8ms\n",
            "image 319/500 /content/drive/MyDrive/test/data/000318.jpg: 640x640 2 quadcopters, 11.1ms\n",
            "image 320/500 /content/drive/MyDrive/test/data/000319.jpg: 640x640 2 quadcopters, 10.6ms\n",
            "image 321/500 /content/drive/MyDrive/test/data/000320.jpg: 640x640 2 quadcopters, 10.3ms\n",
            "image 322/500 /content/drive/MyDrive/test/data/000321.jpg: 640x640 1 quadcopter, 10.9ms\n",
            "image 323/500 /content/drive/MyDrive/test/data/000322.jpg: 640x640 2 quadcopters, 19.5ms\n",
            "image 324/500 /content/drive/MyDrive/test/data/000323.jpg: 640x640 1 quadcopter, 16.5ms\n",
            "image 325/500 /content/drive/MyDrive/test/data/000324.jpg: 640x640 1 quadcopter, 17.6ms\n",
            "image 326/500 /content/drive/MyDrive/test/data/000325.jpg: 640x640 1 quadcopter, 18.6ms\n",
            "image 327/500 /content/drive/MyDrive/test/data/000326.jpg: 640x640 1 quadcopter, 13.7ms\n",
            "image 328/500 /content/drive/MyDrive/test/data/000327.jpg: 640x640 1 quadcopter, 15.1ms\n",
            "image 329/500 /content/drive/MyDrive/test/data/000328.jpg: 640x640 1 quadcopter, 12.8ms\n",
            "image 330/500 /content/drive/MyDrive/test/data/000329.jpg: 640x640 1 quadcopter, 18.1ms\n",
            "image 331/500 /content/drive/MyDrive/test/data/000330.jpg: 640x640 2 quadcopters, 18.9ms\n",
            "image 332/500 /content/drive/MyDrive/test/data/000331.jpg: 640x640 1 quadcopter, 14.6ms\n",
            "image 333/500 /content/drive/MyDrive/test/data/000332.jpg: 640x640 1 quadcopter, 12.4ms\n",
            "image 334/500 /content/drive/MyDrive/test/data/000333.jpg: 640x640 2 quadcopters, 17.0ms\n",
            "image 335/500 /content/drive/MyDrive/test/data/000334.jpg: 640x640 2 quadcopters, 17.8ms\n",
            "image 336/500 /content/drive/MyDrive/test/data/000335.jpg: 640x640 1 quadcopter, 13.6ms\n",
            "image 337/500 /content/drive/MyDrive/test/data/000336.jpg: 640x640 2 quadcopters, 16.2ms\n",
            "image 338/500 /content/drive/MyDrive/test/data/000337.jpg: 640x640 1 quadcopter, 16.1ms\n",
            "image 339/500 /content/drive/MyDrive/test/data/000338.jpg: 640x640 1 quadcopter, 14.0ms\n",
            "image 340/500 /content/drive/MyDrive/test/data/000339.jpg: 640x640 1 quadcopter, 13.5ms\n",
            "image 341/500 /content/drive/MyDrive/test/data/000340.jpg: 640x640 2 quadcopters, 14.0ms\n",
            "image 342/500 /content/drive/MyDrive/test/data/000341.jpg: 640x640 1 quadcopter, 13.2ms\n",
            "image 343/500 /content/drive/MyDrive/test/data/000342.jpg: 640x640 1 quadcopter, 13.3ms\n",
            "image 344/500 /content/drive/MyDrive/test/data/000343.jpg: 640x640 2 quadcopters, 13.9ms\n",
            "image 345/500 /content/drive/MyDrive/test/data/000344.jpg: 640x640 1 quadcopter, 14.9ms\n",
            "image 346/500 /content/drive/MyDrive/test/data/000345.jpg: 640x640 1 quadcopter, 14.0ms\n",
            "image 347/500 /content/drive/MyDrive/test/data/000346.jpg: 640x640 1 quadcopter, 13.5ms\n",
            "image 348/500 /content/drive/MyDrive/test/data/000347.jpg: 640x640 1 quadcopter, 15.5ms\n",
            "image 349/500 /content/drive/MyDrive/test/data/000348.jpg: 640x640 1 quadcopter, 13.3ms\n",
            "image 350/500 /content/drive/MyDrive/test/data/000349.jpg: 640x640 1 quadcopter, 13.3ms\n",
            "image 351/500 /content/drive/MyDrive/test/data/000350.jpg: 640x640 1 quadcopter, 13.1ms\n",
            "image 352/500 /content/drive/MyDrive/test/data/000351.jpg: 640x640 1 quadcopter, 13.2ms\n",
            "image 353/500 /content/drive/MyDrive/test/data/000352.jpg: 640x640 1 quadcopter, 13.5ms\n",
            "image 354/500 /content/drive/MyDrive/test/data/000353.jpg: 640x640 1 quadcopter, 13.5ms\n",
            "image 355/500 /content/drive/MyDrive/test/data/000354.jpg: 640x640 1 quadcopter, 13.6ms\n",
            "image 356/500 /content/drive/MyDrive/test/data/000355.jpg: 640x640 1 quadcopter, 23.8ms\n",
            "image 357/500 /content/drive/MyDrive/test/data/000356.jpg: 640x640 1 quadcopter, 20.9ms\n",
            "image 358/500 /content/drive/MyDrive/test/data/000357.jpg: 640x640 1 quadcopter, 21.3ms\n",
            "image 359/500 /content/drive/MyDrive/test/data/000358.jpg: 640x640 1 quadcopter, 19.0ms\n",
            "image 360/500 /content/drive/MyDrive/test/data/000359.jpg: 640x640 1 quadcopter, 14.6ms\n",
            "image 361/500 /content/drive/MyDrive/test/data/000360.jpg: 640x640 1 quadcopter, 19.8ms\n",
            "image 362/500 /content/drive/MyDrive/test/data/000361.jpg: 640x640 1 quadcopter, 22.1ms\n",
            "image 363/500 /content/drive/MyDrive/test/data/000362.jpg: 640x640 1 quadcopter, 16.6ms\n",
            "image 364/500 /content/drive/MyDrive/test/data/000363.jpg: 640x640 1 quadcopter, 16.0ms\n",
            "image 365/500 /content/drive/MyDrive/test/data/000364.jpg: 640x640 1 quadcopter, 14.5ms\n",
            "image 366/500 /content/drive/MyDrive/test/data/000365.jpg: 640x640 1 quadcopter, 14.5ms\n",
            "image 367/500 /content/drive/MyDrive/test/data/000366.jpg: 640x640 1 quadcopter, 14.0ms\n",
            "image 368/500 /content/drive/MyDrive/test/data/000367.jpg: 640x640 1 quadcopter, 14.3ms\n",
            "image 369/500 /content/drive/MyDrive/test/data/000368.jpg: 640x640 1 quadcopter, 13.8ms\n",
            "image 370/500 /content/drive/MyDrive/test/data/000369.jpg: 640x640 1 quadcopter, 14.8ms\n",
            "image 371/500 /content/drive/MyDrive/test/data/000370.jpg: 640x640 1 quadcopter, 13.0ms\n",
            "image 372/500 /content/drive/MyDrive/test/data/000371.jpg: 640x640 1 quadcopter, 16.1ms\n",
            "image 373/500 /content/drive/MyDrive/test/data/000372.jpg: 640x640 1 quadcopter, 13.8ms\n",
            "image 374/500 /content/drive/MyDrive/test/data/000373.jpg: 640x640 1 quadcopter, 14.1ms\n",
            "image 375/500 /content/drive/MyDrive/test/data/000374.jpg: 640x640 1 quadcopter, 16.5ms\n",
            "image 376/500 /content/drive/MyDrive/test/data/000375.jpg: 640x640 1 quadcopter, 13.9ms\n",
            "image 377/500 /content/drive/MyDrive/test/data/000376.jpg: 640x640 1 quadcopter, 13.9ms\n",
            "image 378/500 /content/drive/MyDrive/test/data/000377.jpg: 640x640 1 quadcopter, 14.0ms\n",
            "image 379/500 /content/drive/MyDrive/test/data/000378.jpg: 640x640 1 quadcopter, 14.1ms\n",
            "image 380/500 /content/drive/MyDrive/test/data/000379.jpg: 640x640 1 quadcopter, 14.0ms\n",
            "image 381/500 /content/drive/MyDrive/test/data/000380.jpg: 640x640 1 quadcopter, 14.1ms\n",
            "image 382/500 /content/drive/MyDrive/test/data/000381.jpg: 640x640 1 quadcopter, 14.1ms\n",
            "image 383/500 /content/drive/MyDrive/test/data/000382.jpg: 640x640 1 quadcopter, 15.0ms\n",
            "image 384/500 /content/drive/MyDrive/test/data/000383.jpg: 640x640 1 quadcopter, 13.6ms\n",
            "image 385/500 /content/drive/MyDrive/test/data/000384.jpg: 640x640 1 quadcopter, 14.1ms\n",
            "image 386/500 /content/drive/MyDrive/test/data/000385.jpg: 640x640 1 quadcopter, 13.4ms\n",
            "image 387/500 /content/drive/MyDrive/test/data/000386.jpg: 640x640 1 quadcopter, 13.6ms\n",
            "image 388/500 /content/drive/MyDrive/test/data/000387.jpg: 640x640 1 quadcopter, 12.6ms\n",
            "image 389/500 /content/drive/MyDrive/test/data/000388.jpg: 640x640 1 quadcopter, 12.6ms\n",
            "image 390/500 /content/drive/MyDrive/test/data/000389.jpg: 640x640 1 quadcopter, 13.6ms\n",
            "image 391/500 /content/drive/MyDrive/test/data/000390.jpg: 640x640 1 quadcopter, 12.6ms\n",
            "image 392/500 /content/drive/MyDrive/test/data/000391.jpg: 640x640 1 quadcopter, 16.1ms\n",
            "image 393/500 /content/drive/MyDrive/test/data/000392.jpg: 640x640 1 quadcopter, 14.0ms\n",
            "image 394/500 /content/drive/MyDrive/test/data/000393.jpg: 640x640 1 quadcopter, 13.0ms\n",
            "image 395/500 /content/drive/MyDrive/test/data/000394.jpg: 640x640 1 quadcopter, 14.9ms\n",
            "image 396/500 /content/drive/MyDrive/test/data/000395.jpg: 640x640 1 quadcopter, 13.3ms\n",
            "image 397/500 /content/drive/MyDrive/test/data/000396.jpg: 640x640 1 quadcopter, 12.9ms\n",
            "image 398/500 /content/drive/MyDrive/test/data/000397.jpg: 640x640 1 quadcopter, 16.8ms\n",
            "image 399/500 /content/drive/MyDrive/test/data/000398.jpg: 640x640 1 quadcopter, 16.5ms\n",
            "image 400/500 /content/drive/MyDrive/test/data/000399.jpg: 640x640 1 quadcopter, 13.9ms\n",
            "image 401/500 /content/drive/MyDrive/test/data/000400.jpg: 640x640 1 quadcopter, 13.6ms\n",
            "image 402/500 /content/drive/MyDrive/test/data/000401.jpg: 640x640 1 quadcopter, 14.6ms\n",
            "image 403/500 /content/drive/MyDrive/test/data/000402.jpg: 640x640 1 quadcopter, 13.9ms\n",
            "image 404/500 /content/drive/MyDrive/test/data/000403.jpg: 640x640 1 quadcopter, 13.7ms\n",
            "image 405/500 /content/drive/MyDrive/test/data/000404.jpg: 640x640 1 quadcopter, 16.4ms\n",
            "image 406/500 /content/drive/MyDrive/test/data/000405.jpg: 640x640 1 quadcopter, 16.4ms\n",
            "image 407/500 /content/drive/MyDrive/test/data/000406.jpg: 640x640 2 quadcopters, 13.1ms\n",
            "image 408/500 /content/drive/MyDrive/test/data/000407.jpg: 640x640 1 quadcopter, 13.3ms\n",
            "image 409/500 /content/drive/MyDrive/test/data/000408.jpg: 640x640 2 quadcopters, 13.0ms\n",
            "image 410/500 /content/drive/MyDrive/test/data/000409.jpg: 640x640 2 quadcopters, 14.4ms\n",
            "image 411/500 /content/drive/MyDrive/test/data/000410.jpg: 640x640 1 quadcopter, 12.6ms\n",
            "image 412/500 /content/drive/MyDrive/test/data/000411.jpg: 640x640 2 quadcopters, 12.1ms\n",
            "image 413/500 /content/drive/MyDrive/test/data/000412.jpg: 640x640 2 quadcopters, 12.3ms\n",
            "image 414/500 /content/drive/MyDrive/test/data/000413.jpg: 640x640 1 quadcopter, 12.9ms\n",
            "image 415/500 /content/drive/MyDrive/test/data/000414.jpg: 640x640 2 quadcopters, 15.6ms\n",
            "image 416/500 /content/drive/MyDrive/test/data/000415.jpg: 640x640 2 quadcopters, 12.4ms\n",
            "image 417/500 /content/drive/MyDrive/test/data/000416.jpg: 640x640 1 quadcopter, 16.2ms\n",
            "image 418/500 /content/drive/MyDrive/test/data/000417.jpg: 640x640 2 quadcopters, 14.5ms\n",
            "image 419/500 /content/drive/MyDrive/test/data/000418.jpg: 640x640 1 quadcopter, 13.1ms\n",
            "image 420/500 /content/drive/MyDrive/test/data/000419.jpg: 640x640 1 quadcopter, 14.1ms\n",
            "image 421/500 /content/drive/MyDrive/test/data/000420.jpg: 640x640 1 quadcopter, 13.3ms\n",
            "image 422/500 /content/drive/MyDrive/test/data/000421.jpg: 640x640 1 quadcopter, 14.1ms\n",
            "image 423/500 /content/drive/MyDrive/test/data/000422.jpg: 640x640 1 quadcopter, 17.8ms\n",
            "image 424/500 /content/drive/MyDrive/test/data/000423.jpg: 640x640 1 quadcopter, 18.2ms\n",
            "image 425/500 /content/drive/MyDrive/test/data/000424.jpg: 640x640 1 quadcopter, 13.9ms\n",
            "image 426/500 /content/drive/MyDrive/test/data/000425.jpg: 640x640 1 quadcopter, 14.3ms\n",
            "image 427/500 /content/drive/MyDrive/test/data/000426.jpg: 640x640 1 quadcopter, 14.6ms\n",
            "image 428/500 /content/drive/MyDrive/test/data/000427.jpg: 640x640 1 quadcopter, 14.8ms\n",
            "image 429/500 /content/drive/MyDrive/test/data/000428.jpg: 640x640 1 quadcopter, 19.2ms\n",
            "image 430/500 /content/drive/MyDrive/test/data/000429.jpg: 640x640 1 quadcopter, 13.5ms\n",
            "image 431/500 /content/drive/MyDrive/test/data/000430.jpg: 640x640 1 quadcopter, 13.6ms\n",
            "image 432/500 /content/drive/MyDrive/test/data/000431.jpg: 640x640 1 quadcopter, 13.8ms\n",
            "image 433/500 /content/drive/MyDrive/test/data/000432.jpg: 640x640 1 quadcopter, 13.2ms\n",
            "image 434/500 /content/drive/MyDrive/test/data/000433.jpg: 640x640 1 quadcopter, 13.2ms\n",
            "image 435/500 /content/drive/MyDrive/test/data/000434.jpg: 640x640 1 quadcopter, 13.2ms\n",
            "image 436/500 /content/drive/MyDrive/test/data/000435.jpg: 640x640 2 quadcopters, 12.7ms\n",
            "image 437/500 /content/drive/MyDrive/test/data/000436.jpg: 640x640 1 quadcopter, 13.0ms\n",
            "image 438/500 /content/drive/MyDrive/test/data/000437.jpg: 640x640 1 quadcopter, 12.9ms\n",
            "image 439/500 /content/drive/MyDrive/test/data/000438.jpg: 640x640 1 quadcopter, 14.3ms\n",
            "image 440/500 /content/drive/MyDrive/test/data/000439.jpg: 640x640 1 quadcopter, 13.1ms\n",
            "image 441/500 /content/drive/MyDrive/test/data/000440.jpg: 640x640 1 quadcopter, 12.7ms\n",
            "image 442/500 /content/drive/MyDrive/test/data/000441.jpg: 640x640 1 quadcopter, 12.9ms\n",
            "image 443/500 /content/drive/MyDrive/test/data/000442.jpg: 640x640 1 quadcopter, 17.8ms\n",
            "image 444/500 /content/drive/MyDrive/test/data/000443.jpg: 640x640 1 quadcopter, 23.6ms\n",
            "image 445/500 /content/drive/MyDrive/test/data/000444.jpg: 640x640 2 quadcopters, 18.8ms\n",
            "image 446/500 /content/drive/MyDrive/test/data/000445.jpg: 640x640 1 quadcopter, 16.3ms\n",
            "image 447/500 /content/drive/MyDrive/test/data/000446.jpg: 640x640 1 quadcopter, 14.0ms\n",
            "image 448/500 /content/drive/MyDrive/test/data/000447.jpg: 640x640 1 quadcopter, 14.5ms\n",
            "image 449/500 /content/drive/MyDrive/test/data/000448.jpg: 640x640 2 quadcopters, 14.3ms\n",
            "image 450/500 /content/drive/MyDrive/test/data/000449.jpg: 640x640 2 quadcopters, 20.1ms\n",
            "image 451/500 /content/drive/MyDrive/test/data/000450.jpg: 640x640 2 quadcopters, 16.9ms\n",
            "image 452/500 /content/drive/MyDrive/test/data/000451.jpg: 640x640 2 quadcopters, 16.4ms\n",
            "image 453/500 /content/drive/MyDrive/test/data/000452.jpg: 640x640 1 quadcopter, 19.1ms\n",
            "image 454/500 /content/drive/MyDrive/test/data/000453.jpg: 640x640 1 quadcopter, 15.2ms\n",
            "image 455/500 /content/drive/MyDrive/test/data/000454.jpg: 640x640 2 quadcopters, 16.6ms\n",
            "image 456/500 /content/drive/MyDrive/test/data/000455.jpg: 640x640 2 quadcopters, 15.7ms\n",
            "image 457/500 /content/drive/MyDrive/test/data/000456.jpg: 640x640 1 quadcopter, 15.0ms\n",
            "image 458/500 /content/drive/MyDrive/test/data/000457.jpg: 640x640 2 quadcopters, 13.9ms\n",
            "image 459/500 /content/drive/MyDrive/test/data/000458.jpg: 640x640 1 quadcopter, 15.4ms\n",
            "image 460/500 /content/drive/MyDrive/test/data/000459.jpg: 640x640 2 quadcopters, 14.2ms\n",
            "image 461/500 /content/drive/MyDrive/test/data/000460.jpg: 640x640 2 quadcopters, 17.1ms\n",
            "image 462/500 /content/drive/MyDrive/test/data/000461.jpg: 640x640 2 quadcopters, 15.7ms\n",
            "image 463/500 /content/drive/MyDrive/test/data/000462.jpg: 640x640 1 quadcopter, 16.2ms\n",
            "image 464/500 /content/drive/MyDrive/test/data/000463.jpg: 640x640 1 quadcopter, 15.8ms\n",
            "image 465/500 /content/drive/MyDrive/test/data/000464.jpg: 640x640 1 quadcopter, 16.0ms\n",
            "image 466/500 /content/drive/MyDrive/test/data/000465.jpg: 640x640 1 quadcopter, 19.3ms\n",
            "image 467/500 /content/drive/MyDrive/test/data/000466.jpg: 640x640 2 quadcopters, 18.8ms\n",
            "image 468/500 /content/drive/MyDrive/test/data/000467.jpg: 640x640 1 quadcopter, 11.3ms\n",
            "image 469/500 /content/drive/MyDrive/test/data/000468.jpg: 640x640 1 quadcopter, 11.0ms\n",
            "image 470/500 /content/drive/MyDrive/test/data/000469.jpg: 640x640 1 quadcopter, 10.9ms\n",
            "image 471/500 /content/drive/MyDrive/test/data/000470.jpg: 640x640 1 quadcopter, 12.2ms\n",
            "image 472/500 /content/drive/MyDrive/test/data/000471.jpg: 640x640 2 quadcopters, 11.5ms\n",
            "image 473/500 /content/drive/MyDrive/test/data/000472.jpg: 640x640 1 quadcopter, 14.4ms\n",
            "image 474/500 /content/drive/MyDrive/test/data/000473.jpg: 640x640 1 quadcopter, 10.9ms\n",
            "image 475/500 /content/drive/MyDrive/test/data/000474.jpg: 640x640 2 quadcopters, 11.0ms\n",
            "image 476/500 /content/drive/MyDrive/test/data/000475.jpg: 640x640 1 quadcopter, 11.3ms\n",
            "image 477/500 /content/drive/MyDrive/test/data/000476.jpg: 640x640 1 quadcopter, 10.8ms\n",
            "image 478/500 /content/drive/MyDrive/test/data/000477.jpg: 640x640 2 quadcopters, 10.8ms\n",
            "image 479/500 /content/drive/MyDrive/test/data/000478.jpg: 640x640 1 quadcopter, 12.1ms\n",
            "image 480/500 /content/drive/MyDrive/test/data/000479.jpg: 640x640 2 quadcopters, 10.2ms\n",
            "image 481/500 /content/drive/MyDrive/test/data/000480.jpg: 640x640 2 quadcopters, 10.0ms\n",
            "image 482/500 /content/drive/MyDrive/test/data/000481.jpg: 640x640 2 quadcopters, 10.3ms\n",
            "image 483/500 /content/drive/MyDrive/test/data/000482.jpg: 640x640 1 quadcopter, 10.2ms\n",
            "image 484/500 /content/drive/MyDrive/test/data/000483.jpg: 640x640 2 quadcopters, 11.1ms\n",
            "image 485/500 /content/drive/MyDrive/test/data/000484.jpg: 640x640 2 quadcopters, 11.3ms\n",
            "image 486/500 /content/drive/MyDrive/test/data/000485.jpg: 640x640 2 quadcopters, 10.9ms\n",
            "image 487/500 /content/drive/MyDrive/test/data/000486.jpg: 640x640 1 quadcopter, 13.2ms\n",
            "image 488/500 /content/drive/MyDrive/test/data/000487.jpg: 640x640 1 quadcopter, 13.5ms\n",
            "image 489/500 /content/drive/MyDrive/test/data/000488.jpg: 640x640 3 quadcopters, 12.5ms\n",
            "image 490/500 /content/drive/MyDrive/test/data/000489.jpg: 640x640 2 quadcopters, 11.4ms\n",
            "image 491/500 /content/drive/MyDrive/test/data/000490.jpg: 640x640 1 quadcopter, 11.1ms\n",
            "image 492/500 /content/drive/MyDrive/test/data/000491.jpg: 640x640 2 quadcopters, 11.3ms\n",
            "image 493/500 /content/drive/MyDrive/test/data/000492.jpg: 640x640 1 quadcopter, 13.8ms\n",
            "image 494/500 /content/drive/MyDrive/test/data/000493.jpg: 640x640 2 quadcopters, 10.5ms\n",
            "image 495/500 /content/drive/MyDrive/test/data/000494.jpg: 640x640 2 quadcopters, 11.4ms\n",
            "image 496/500 /content/drive/MyDrive/test/data/000495.jpg: 640x640 1 quadcopter, 11.7ms\n",
            "image 497/500 /content/drive/MyDrive/test/data/000496.jpg: 640x640 2 quadcopters, 11.2ms\n",
            "image 498/500 /content/drive/MyDrive/test/data/000497.jpg: 640x640 1 quadcopter, 10.7ms\n",
            "image 499/500 /content/drive/MyDrive/test/data/000498.jpg: 640x640 2 quadcopters, 10.7ms\n",
            "image 500/500 /content/drive/MyDrive/test/data/000499.jpg: 640x640 2 quadcopters, 11.0ms\n",
            "Speed: 2.2ms preprocess, 12.4ms inference, 2.4ms postprocess per image at shape (1, 3, 640, 640)\n",
            "Ultralytics YOLOv8.0.231 🚀 Python-3.10.12 torch-2.1.0+cu121 CUDA:0 (Tesla T4, 15102MiB)\n"
          ]
        },
        {
          "output_type": "stream",
          "name": "stderr",
          "text": [
            "\u001b[34m\u001b[1mval: \u001b[0mScanning /tmp/drone_data/val/labels.cache... 814 images, 0 backgrounds, 0 corrupt: 100%|██████████| 814/814 [00:00<?, ?it/s]\n",
            "                 Class     Images  Instances      Box(P          R      mAP50  mAP50-95): 100%|██████████| 51/51 [00:21<00:00,  2.40it/s]\n"
          ]
        },
        {
          "output_type": "stream",
          "name": "stdout",
          "text": [
            "                   all        814        868       0.95      0.955      0.972      0.587\n",
            "Speed: 0.3ms preprocess, 3.4ms inference, 0.0ms loss, 2.1ms postprocess per image\n",
            "Results saved to \u001b[1mruns/detect/val7\u001b[0m\n",
            "0.5869205822128871\n"
          ]
        }
      ]
    },
    {
      "cell_type": "markdown",
      "source": [
        "Test on the 30 epochs model."
      ],
      "metadata": {
        "id": "e-PFjQFqR_3A"
      }
    },
    {
      "cell_type": "code",
      "source": [
        "# Imports\n",
        "import yaml\n",
        "from ultralytics import YOLO\n",
        "\n",
        "# Load model\n",
        "model = YOLO('/content/runs/detect/train6333/weights/best.pt')\n",
        "\n",
        "# Set test path\n",
        "test_path = '/content/drive/MyDrive/test/data'\n",
        "\n",
        "# Run predictions\n",
        "results = model.predict(source=test_path)\n",
        "\n",
        "# Evaluate metrics\n",
        "metrics = model.val(source=test_path)\n",
        "print(metrics.box.map)"
      ],
      "metadata": {
        "colab": {
          "base_uri": "https://localhost:8080/"
        },
        "id": "r-6_7Q70Oi6V",
        "outputId": "3b6822ae-6d18-436b-a223-fde547fc4279"
      },
      "execution_count": 28,
      "outputs": [
        {
          "output_type": "stream",
          "name": "stdout",
          "text": [
            "\n",
            "image 1/500 /content/drive/MyDrive/test/data/000000.jpg: 640x640 5 quadcopters, 18.1ms\n",
            "image 2/500 /content/drive/MyDrive/test/data/000001.jpg: 640x640 1 quadcopter, 18.2ms\n",
            "image 3/500 /content/drive/MyDrive/test/data/000002.jpg: 640x640 1 quadcopter, 18.2ms\n",
            "image 4/500 /content/drive/MyDrive/test/data/000003.jpg: 640x640 1 quadcopter, 18.1ms\n",
            "image 5/500 /content/drive/MyDrive/test/data/000004.jpg: 640x640 1 quadcopter, 16.2ms\n",
            "image 6/500 /content/drive/MyDrive/test/data/000005.jpg: 640x640 2 quadcopters, 11.1ms\n",
            "image 7/500 /content/drive/MyDrive/test/data/000006.jpg: 640x640 2 quadcopters, 11.1ms\n",
            "image 8/500 /content/drive/MyDrive/test/data/000007.jpg: 640x640 2 quadcopters, 10.8ms\n",
            "image 9/500 /content/drive/MyDrive/test/data/000008.jpg: 640x640 2 quadcopters, 10.9ms\n",
            "image 10/500 /content/drive/MyDrive/test/data/000009.jpg: 640x640 2 quadcopters, 11.2ms\n",
            "image 11/500 /content/drive/MyDrive/test/data/000010.jpg: 640x640 2 quadcopters, 11.0ms\n",
            "image 12/500 /content/drive/MyDrive/test/data/000011.jpg: 640x640 4 quadcopters, 10.8ms\n",
            "image 13/500 /content/drive/MyDrive/test/data/000012.jpg: 640x640 2 quadcopters, 10.8ms\n",
            "image 14/500 /content/drive/MyDrive/test/data/000013.jpg: 640x640 2 quadcopters, 11.3ms\n",
            "image 15/500 /content/drive/MyDrive/test/data/000014.jpg: 640x640 2 quadcopters, 11.0ms\n",
            "image 16/500 /content/drive/MyDrive/test/data/000015.jpg: 640x640 2 quadcopters, 19.3ms\n",
            "image 17/500 /content/drive/MyDrive/test/data/000016.jpg: 640x640 2 quadcopters, 10.7ms\n",
            "image 18/500 /content/drive/MyDrive/test/data/000017.jpg: 640x640 2 quadcopters, 10.9ms\n",
            "image 19/500 /content/drive/MyDrive/test/data/000018.jpg: 640x640 2 quadcopters, 10.5ms\n",
            "image 20/500 /content/drive/MyDrive/test/data/000019.jpg: 640x640 2 quadcopters, 10.8ms\n",
            "image 21/500 /content/drive/MyDrive/test/data/000020.jpg: 640x640 1 quadcopter, 10.7ms\n",
            "image 22/500 /content/drive/MyDrive/test/data/000021.jpg: 640x640 1 quadcopter, 10.9ms\n",
            "image 23/500 /content/drive/MyDrive/test/data/000022.jpg: 640x640 4 quadcopters, 10.9ms\n",
            "image 24/500 /content/drive/MyDrive/test/data/000023.jpg: 640x640 1 quadcopter, 11.4ms\n",
            "image 25/500 /content/drive/MyDrive/test/data/000024.jpg: 640x640 1 quadcopter, 10.9ms\n",
            "image 26/500 /content/drive/MyDrive/test/data/000025.jpg: 640x640 1 quadcopter, 11.3ms\n",
            "image 27/500 /content/drive/MyDrive/test/data/000026.jpg: 640x640 1 quadcopter, 14.3ms\n",
            "image 28/500 /content/drive/MyDrive/test/data/000027.jpg: 640x640 1 quadcopter, 10.1ms\n",
            "image 29/500 /content/drive/MyDrive/test/data/000028.jpg: 640x640 1 quadcopter, 10.7ms\n",
            "image 30/500 /content/drive/MyDrive/test/data/000029.jpg: 640x640 1 quadcopter, 10.6ms\n",
            "image 31/500 /content/drive/MyDrive/test/data/000030.jpg: 640x640 1 quadcopter, 10.7ms\n",
            "image 32/500 /content/drive/MyDrive/test/data/000031.jpg: 640x640 1 quadcopter, 10.5ms\n",
            "image 33/500 /content/drive/MyDrive/test/data/000032.jpg: 640x640 1 quadcopter, 10.5ms\n",
            "image 34/500 /content/drive/MyDrive/test/data/000033.jpg: 640x640 4 quadcopters, 10.9ms\n",
            "image 35/500 /content/drive/MyDrive/test/data/000034.jpg: 640x640 2 quadcopters, 10.3ms\n",
            "image 36/500 /content/drive/MyDrive/test/data/000035.jpg: 640x640 2 quadcopters, 11.0ms\n",
            "image 37/500 /content/drive/MyDrive/test/data/000036.jpg: 640x640 1 quadcopter, 10.9ms\n",
            "image 38/500 /content/drive/MyDrive/test/data/000037.jpg: 640x640 2 quadcopters, 19.4ms\n",
            "image 39/500 /content/drive/MyDrive/test/data/000038.jpg: 640x640 2 quadcopters, 11.2ms\n",
            "image 40/500 /content/drive/MyDrive/test/data/000039.jpg: 640x640 1 quadcopter, 10.8ms\n",
            "image 41/500 /content/drive/MyDrive/test/data/000040.jpg: 640x640 2 quadcopters, 11.0ms\n",
            "image 42/500 /content/drive/MyDrive/test/data/000041.jpg: 640x640 2 quadcopters, 10.0ms\n",
            "image 43/500 /content/drive/MyDrive/test/data/000042.jpg: 640x640 2 quadcopters, 10.1ms\n",
            "image 44/500 /content/drive/MyDrive/test/data/000043.jpg: 640x640 2 quadcopters, 10.2ms\n",
            "image 45/500 /content/drive/MyDrive/test/data/000044.jpg: 640x640 4 quadcopters, 11.3ms\n",
            "image 46/500 /content/drive/MyDrive/test/data/000045.jpg: 640x640 1 quadcopter, 10.5ms\n",
            "image 47/500 /content/drive/MyDrive/test/data/000046.jpg: 640x640 2 quadcopters, 16.5ms\n",
            "image 48/500 /content/drive/MyDrive/test/data/000047.jpg: 640x640 2 quadcopters, 11.7ms\n",
            "image 49/500 /content/drive/MyDrive/test/data/000048.jpg: 640x640 2 quadcopters, 11.2ms\n",
            "image 50/500 /content/drive/MyDrive/test/data/000049.jpg: 640x640 1 quadcopter, 11.2ms\n",
            "image 51/500 /content/drive/MyDrive/test/data/000050.jpg: 640x640 3 quadcopters, 11.3ms\n",
            "image 52/500 /content/drive/MyDrive/test/data/000051.jpg: 640x640 1 quadcopter, 11.4ms\n",
            "image 53/500 /content/drive/MyDrive/test/data/000052.jpg: 640x640 1 quadcopter, 14.3ms\n",
            "image 54/500 /content/drive/MyDrive/test/data/000053.jpg: 640x640 1 quadcopter, 11.6ms\n",
            "image 55/500 /content/drive/MyDrive/test/data/000054.jpg: 640x640 2 quadcopters, 14.2ms\n",
            "image 56/500 /content/drive/MyDrive/test/data/000055.jpg: 640x640 2 quadcopters, 11.7ms\n",
            "image 57/500 /content/drive/MyDrive/test/data/000056.jpg: 640x640 2 quadcopters, 11.5ms\n",
            "image 58/500 /content/drive/MyDrive/test/data/000057.jpg: 640x640 2 quadcopters, 11.3ms\n",
            "image 59/500 /content/drive/MyDrive/test/data/000058.jpg: 640x640 2 quadcopters, 11.8ms\n",
            "image 60/500 /content/drive/MyDrive/test/data/000059.jpg: 640x640 2 quadcopters, 11.1ms\n",
            "image 61/500 /content/drive/MyDrive/test/data/000060.jpg: 640x640 2 quadcopters, 11.3ms\n",
            "image 62/500 /content/drive/MyDrive/test/data/000061.jpg: 640x640 2 quadcopters, 11.2ms\n",
            "image 63/500 /content/drive/MyDrive/test/data/000062.jpg: 640x640 2 quadcopters, 11.5ms\n",
            "image 64/500 /content/drive/MyDrive/test/data/000063.jpg: 640x640 2 quadcopters, 11.3ms\n",
            "image 65/500 /content/drive/MyDrive/test/data/000064.jpg: 640x640 2 quadcopters, 11.1ms\n",
            "image 66/500 /content/drive/MyDrive/test/data/000065.jpg: 640x640 2 quadcopters, 13.0ms\n",
            "image 67/500 /content/drive/MyDrive/test/data/000066.jpg: 640x640 2 quadcopters, 11.2ms\n",
            "image 68/500 /content/drive/MyDrive/test/data/000067.jpg: 640x640 3 quadcopters, 11.3ms\n",
            "image 69/500 /content/drive/MyDrive/test/data/000068.jpg: 640x640 3 quadcopters, 11.3ms\n",
            "image 70/500 /content/drive/MyDrive/test/data/000069.jpg: 640x640 3 quadcopters, 20.3ms\n",
            "image 71/500 /content/drive/MyDrive/test/data/000070.jpg: 640x640 2 quadcopters, 18.2ms\n",
            "image 72/500 /content/drive/MyDrive/test/data/000071.jpg: 640x640 2 quadcopters, 16.5ms\n",
            "image 73/500 /content/drive/MyDrive/test/data/000072.jpg: 640x640 2 quadcopters, 18.2ms\n",
            "image 74/500 /content/drive/MyDrive/test/data/000073.jpg: 640x640 2 quadcopters, 17.2ms\n",
            "image 75/500 /content/drive/MyDrive/test/data/000074.jpg: 640x640 2 quadcopters, 16.1ms\n",
            "image 76/500 /content/drive/MyDrive/test/data/000075.jpg: 640x640 2 quadcopters, 15.9ms\n",
            "image 77/500 /content/drive/MyDrive/test/data/000076.jpg: 640x640 3 quadcopters, 14.4ms\n",
            "image 78/500 /content/drive/MyDrive/test/data/000077.jpg: 640x640 3 quadcopters, 15.8ms\n",
            "image 79/500 /content/drive/MyDrive/test/data/000078.jpg: 640x640 2 quadcopters, 13.9ms\n",
            "image 80/500 /content/drive/MyDrive/test/data/000079.jpg: 640x640 1 quadcopter, 17.2ms\n",
            "image 81/500 /content/drive/MyDrive/test/data/000080.jpg: 640x640 2 quadcopters, 18.4ms\n",
            "image 82/500 /content/drive/MyDrive/test/data/000081.jpg: 640x640 1 quadcopter, 20.1ms\n",
            "image 83/500 /content/drive/MyDrive/test/data/000082.jpg: 640x640 1 quadcopter, 14.2ms\n",
            "image 84/500 /content/drive/MyDrive/test/data/000083.jpg: 640x640 1 quadcopter, 14.4ms\n",
            "image 85/500 /content/drive/MyDrive/test/data/000084.jpg: 640x640 1 quadcopter, 14.4ms\n",
            "image 86/500 /content/drive/MyDrive/test/data/000085.jpg: 640x640 2 quadcopters, 13.3ms\n",
            "image 87/500 /content/drive/MyDrive/test/data/000086.jpg: 640x640 2 quadcopters, 13.5ms\n",
            "image 88/500 /content/drive/MyDrive/test/data/000087.jpg: 640x640 1 quadcopter, 13.1ms\n",
            "image 89/500 /content/drive/MyDrive/test/data/000088.jpg: 640x640 3 quadcopters, 13.1ms\n",
            "image 90/500 /content/drive/MyDrive/test/data/000089.jpg: 640x640 1 quadcopter, 15.0ms\n",
            "image 91/500 /content/drive/MyDrive/test/data/000090.jpg: 640x640 1 quadcopter, 16.2ms\n",
            "image 92/500 /content/drive/MyDrive/test/data/000091.jpg: 640x640 2 quadcopters, 13.3ms\n",
            "image 93/500 /content/drive/MyDrive/test/data/000092.jpg: 640x640 1 quadcopter, 13.3ms\n",
            "image 94/500 /content/drive/MyDrive/test/data/000093.jpg: 640x640 2 quadcopters, 12.8ms\n",
            "image 95/500 /content/drive/MyDrive/test/data/000094.jpg: 640x640 2 quadcopters, 13.1ms\n",
            "image 96/500 /content/drive/MyDrive/test/data/000095.jpg: 640x640 3 quadcopters, 15.4ms\n",
            "image 97/500 /content/drive/MyDrive/test/data/000096.jpg: 640x640 2 quadcopters, 13.7ms\n",
            "image 98/500 /content/drive/MyDrive/test/data/000097.jpg: 640x640 3 quadcopters, 15.9ms\n",
            "image 99/500 /content/drive/MyDrive/test/data/000098.jpg: 640x640 2 quadcopters, 13.7ms\n",
            "image 100/500 /content/drive/MyDrive/test/data/000099.jpg: 640x640 3 quadcopters, 14.3ms\n",
            "image 101/500 /content/drive/MyDrive/test/data/000100.jpg: 640x640 3 quadcopters, 14.7ms\n",
            "image 102/500 /content/drive/MyDrive/test/data/000101.jpg: 640x640 3 quadcopters, 17.8ms\n",
            "image 103/500 /content/drive/MyDrive/test/data/000102.jpg: 640x640 2 quadcopters, 17.0ms\n",
            "image 104/500 /content/drive/MyDrive/test/data/000103.jpg: 640x640 2 quadcopters, 15.2ms\n",
            "image 105/500 /content/drive/MyDrive/test/data/000104.jpg: 640x640 2 quadcopters, 14.6ms\n",
            "image 106/500 /content/drive/MyDrive/test/data/000105.jpg: 640x640 1 quadcopter, 14.5ms\n",
            "image 107/500 /content/drive/MyDrive/test/data/000106.jpg: 640x640 1 quadcopter, 13.9ms\n",
            "image 108/500 /content/drive/MyDrive/test/data/000107.jpg: 640x640 3 quadcopters, 17.2ms\n",
            "image 109/500 /content/drive/MyDrive/test/data/000108.jpg: 640x640 2 quadcopters, 13.4ms\n",
            "image 110/500 /content/drive/MyDrive/test/data/000109.jpg: 640x640 1 quadcopter, 14.0ms\n",
            "image 111/500 /content/drive/MyDrive/test/data/000110.jpg: 640x640 3 quadcopters, 13.2ms\n",
            "image 112/500 /content/drive/MyDrive/test/data/000111.jpg: 640x640 3 quadcopters, 23.2ms\n",
            "image 113/500 /content/drive/MyDrive/test/data/000112.jpg: 640x640 1 quadcopter, 13.7ms\n",
            "image 114/500 /content/drive/MyDrive/test/data/000113.jpg: 640x640 1 quadcopter, 13.1ms\n",
            "image 115/500 /content/drive/MyDrive/test/data/000114.jpg: 640x640 1 quadcopter, 14.4ms\n",
            "image 116/500 /content/drive/MyDrive/test/data/000115.jpg: 640x640 1 quadcopter, 14.6ms\n",
            "image 117/500 /content/drive/MyDrive/test/data/000116.jpg: 640x640 1 quadcopter, 13.8ms\n",
            "image 118/500 /content/drive/MyDrive/test/data/000117.jpg: 640x640 1 quadcopter, 17.2ms\n",
            "image 119/500 /content/drive/MyDrive/test/data/000118.jpg: 640x640 2 quadcopters, 13.9ms\n",
            "image 120/500 /content/drive/MyDrive/test/data/000119.jpg: 640x640 3 quadcopters, 13.9ms\n",
            "image 121/500 /content/drive/MyDrive/test/data/000120.jpg: 640x640 1 quadcopter, 14.0ms\n",
            "image 122/500 /content/drive/MyDrive/test/data/000121.jpg: 640x640 1 quadcopter, 13.0ms\n",
            "image 123/500 /content/drive/MyDrive/test/data/000122.jpg: 640x640 2 quadcopters, 12.9ms\n",
            "image 124/500 /content/drive/MyDrive/test/data/000123.jpg: 640x640 1 quadcopter, 14.2ms\n",
            "image 125/500 /content/drive/MyDrive/test/data/000124.jpg: 640x640 1 quadcopter, 15.8ms\n",
            "image 126/500 /content/drive/MyDrive/test/data/000125.jpg: 640x640 2 quadcopters, 12.4ms\n",
            "image 127/500 /content/drive/MyDrive/test/data/000126.jpg: 640x640 3 quadcopters, 15.0ms\n",
            "image 128/500 /content/drive/MyDrive/test/data/000127.jpg: 640x640 3 quadcopters, 12.5ms\n",
            "image 129/500 /content/drive/MyDrive/test/data/000128.jpg: 640x640 2 quadcopters, 12.4ms\n",
            "image 130/500 /content/drive/MyDrive/test/data/000129.jpg: 640x640 1 quadcopter, 16.8ms\n",
            "image 131/500 /content/drive/MyDrive/test/data/000130.jpg: 640x640 2 quadcopters, 12.6ms\n",
            "image 132/500 /content/drive/MyDrive/test/data/000131.jpg: 640x640 1 quadcopter, 12.6ms\n",
            "image 133/500 /content/drive/MyDrive/test/data/000132.jpg: 640x640 2 quadcopters, 13.8ms\n",
            "image 134/500 /content/drive/MyDrive/test/data/000133.jpg: 640x640 1 quadcopter, 13.1ms\n",
            "image 135/500 /content/drive/MyDrive/test/data/000134.jpg: 640x640 2 quadcopters, 13.0ms\n",
            "image 136/500 /content/drive/MyDrive/test/data/000135.jpg: 640x640 2 quadcopters, 12.9ms\n",
            "image 137/500 /content/drive/MyDrive/test/data/000136.jpg: 640x640 2 quadcopters, 13.2ms\n",
            "image 138/500 /content/drive/MyDrive/test/data/000137.jpg: 640x640 1 quadcopter, 13.1ms\n",
            "image 139/500 /content/drive/MyDrive/test/data/000138.jpg: 640x640 3 quadcopters, 12.5ms\n",
            "image 140/500 /content/drive/MyDrive/test/data/000139.jpg: 640x640 2 quadcopters, 16.5ms\n",
            "image 141/500 /content/drive/MyDrive/test/data/000140.jpg: 640x640 2 quadcopters, 13.9ms\n",
            "image 142/500 /content/drive/MyDrive/test/data/000141.jpg: 640x640 3 quadcopters, 13.4ms\n",
            "image 143/500 /content/drive/MyDrive/test/data/000142.jpg: 640x640 3 quadcopters, 18.4ms\n",
            "image 144/500 /content/drive/MyDrive/test/data/000143.jpg: 640x640 2 quadcopters, 21.7ms\n",
            "image 145/500 /content/drive/MyDrive/test/data/000144.jpg: 640x640 3 quadcopters, 14.9ms\n",
            "image 146/500 /content/drive/MyDrive/test/data/000145.jpg: 640x640 2 quadcopters, 14.4ms\n",
            "image 147/500 /content/drive/MyDrive/test/data/000146.jpg: 640x640 1 quadcopter, 14.0ms\n",
            "image 148/500 /content/drive/MyDrive/test/data/000147.jpg: 640x640 1 quadcopter, 18.4ms\n",
            "image 149/500 /content/drive/MyDrive/test/data/000148.jpg: 640x640 1 quadcopter, 13.4ms\n",
            "image 150/500 /content/drive/MyDrive/test/data/000149.jpg: 640x640 2 quadcopters, 13.3ms\n",
            "image 151/500 /content/drive/MyDrive/test/data/000150.jpg: 640x640 1 quadcopter, 13.2ms\n",
            "image 152/500 /content/drive/MyDrive/test/data/000151.jpg: 640x640 1 quadcopter, 12.9ms\n",
            "image 153/500 /content/drive/MyDrive/test/data/000152.jpg: 640x640 2 quadcopters, 12.5ms\n",
            "image 154/500 /content/drive/MyDrive/test/data/000153.jpg: 640x640 2 quadcopters, 15.0ms\n",
            "image 155/500 /content/drive/MyDrive/test/data/000154.jpg: 640x640 2 quadcopters, 15.6ms\n",
            "image 156/500 /content/drive/MyDrive/test/data/000155.jpg: 640x640 2 quadcopters, 12.7ms\n",
            "image 157/500 /content/drive/MyDrive/test/data/000156.jpg: 640x640 2 quadcopters, 13.5ms\n",
            "image 158/500 /content/drive/MyDrive/test/data/000157.jpg: 640x640 2 quadcopters, 12.5ms\n",
            "image 159/500 /content/drive/MyDrive/test/data/000158.jpg: 640x640 1 quadcopter, 15.5ms\n",
            "image 160/500 /content/drive/MyDrive/test/data/000159.jpg: 640x640 1 quadcopter, 16.1ms\n",
            "image 161/500 /content/drive/MyDrive/test/data/000160.jpg: 640x640 2 quadcopters, 13.7ms\n",
            "image 162/500 /content/drive/MyDrive/test/data/000161.jpg: 640x640 1 quadcopter, 17.3ms\n",
            "image 163/500 /content/drive/MyDrive/test/data/000162.jpg: 640x640 1 quadcopter, 18.0ms\n",
            "image 164/500 /content/drive/MyDrive/test/data/000163.jpg: 640x640 1 quadcopter, 14.9ms\n",
            "image 165/500 /content/drive/MyDrive/test/data/000164.jpg: 640x640 2 quadcopters, 15.9ms\n",
            "image 166/500 /content/drive/MyDrive/test/data/000165.jpg: 640x640 2 quadcopters, 14.2ms\n",
            "image 167/500 /content/drive/MyDrive/test/data/000166.jpg: 640x640 2 quadcopters, 13.8ms\n",
            "image 168/500 /content/drive/MyDrive/test/data/000167.jpg: 640x640 2 quadcopters, 13.9ms\n",
            "image 169/500 /content/drive/MyDrive/test/data/000168.jpg: 640x640 1 quadcopter, 13.4ms\n",
            "image 170/500 /content/drive/MyDrive/test/data/000169.jpg: 640x640 2 quadcopters, 13.4ms\n",
            "image 171/500 /content/drive/MyDrive/test/data/000170.jpg: 640x640 1 quadcopter, 13.5ms\n",
            "image 172/500 /content/drive/MyDrive/test/data/000171.jpg: 640x640 1 quadcopter, 14.0ms\n",
            "image 173/500 /content/drive/MyDrive/test/data/000172.jpg: 640x640 3 quadcopters, 13.2ms\n",
            "image 174/500 /content/drive/MyDrive/test/data/000173.jpg: 640x640 3 quadcopters, 13.7ms\n",
            "image 175/500 /content/drive/MyDrive/test/data/000174.jpg: 640x640 1 quadcopter, 15.0ms\n",
            "image 176/500 /content/drive/MyDrive/test/data/000175.jpg: 640x640 1 quadcopter, 15.1ms\n",
            "image 177/500 /content/drive/MyDrive/test/data/000176.jpg: 640x640 2 quadcopters, 13.7ms\n",
            "image 178/500 /content/drive/MyDrive/test/data/000177.jpg: 640x640 2 quadcopters, 17.6ms\n",
            "image 179/500 /content/drive/MyDrive/test/data/000178.jpg: 640x640 3 quadcopters, 16.6ms\n",
            "image 180/500 /content/drive/MyDrive/test/data/000179.jpg: 640x640 2 quadcopters, 12.9ms\n",
            "image 181/500 /content/drive/MyDrive/test/data/000180.jpg: 640x640 4 quadcopters, 14.8ms\n",
            "image 182/500 /content/drive/MyDrive/test/data/000181.jpg: 640x640 3 quadcopters, 12.4ms\n",
            "image 183/500 /content/drive/MyDrive/test/data/000182.jpg: 640x640 2 quadcopters, 12.6ms\n",
            "image 184/500 /content/drive/MyDrive/test/data/000183.jpg: 640x640 3 quadcopters, 15.3ms\n",
            "image 185/500 /content/drive/MyDrive/test/data/000184.jpg: 640x640 3 quadcopters, 20.0ms\n",
            "image 186/500 /content/drive/MyDrive/test/data/000185.jpg: 640x640 2 quadcopters, 13.1ms\n",
            "image 187/500 /content/drive/MyDrive/test/data/000186.jpg: 640x640 1 quadcopter, 16.9ms\n",
            "image 188/500 /content/drive/MyDrive/test/data/000187.jpg: 640x640 2 quadcopters, 12.2ms\n",
            "image 189/500 /content/drive/MyDrive/test/data/000188.jpg: 640x640 2 quadcopters, 12.9ms\n",
            "image 190/500 /content/drive/MyDrive/test/data/000189.jpg: 640x640 2 quadcopters, 12.5ms\n",
            "image 191/500 /content/drive/MyDrive/test/data/000190.jpg: 640x640 1 quadcopter, 12.8ms\n",
            "image 192/500 /content/drive/MyDrive/test/data/000191.jpg: 640x640 1 quadcopter, 13.0ms\n",
            "image 193/500 /content/drive/MyDrive/test/data/000192.jpg: 640x640 2 quadcopters, 13.2ms\n",
            "image 194/500 /content/drive/MyDrive/test/data/000193.jpg: 640x640 1 quadcopter, 14.7ms\n",
            "image 195/500 /content/drive/MyDrive/test/data/000194.jpg: 640x640 1 quadcopter, 17.1ms\n",
            "image 196/500 /content/drive/MyDrive/test/data/000195.jpg: 640x640 2 quadcopters, 14.7ms\n",
            "image 197/500 /content/drive/MyDrive/test/data/000196.jpg: 640x640 1 quadcopter, 15.5ms\n",
            "image 198/500 /content/drive/MyDrive/test/data/000197.jpg: 640x640 1 quadcopter, 16.8ms\n",
            "image 199/500 /content/drive/MyDrive/test/data/000198.jpg: 640x640 1 quadcopter, 13.1ms\n",
            "image 200/500 /content/drive/MyDrive/test/data/000199.jpg: 640x640 2 quadcopters, 14.8ms\n",
            "image 201/500 /content/drive/MyDrive/test/data/000200.jpg: 640x640 1 quadcopter, 15.3ms\n",
            "image 202/500 /content/drive/MyDrive/test/data/000201.jpg: 640x640 1 quadcopter, 17.1ms\n",
            "image 203/500 /content/drive/MyDrive/test/data/000202.jpg: 640x640 1 quadcopter, 19.7ms\n",
            "image 204/500 /content/drive/MyDrive/test/data/000203.jpg: 640x640 2 quadcopters, 15.2ms\n",
            "image 205/500 /content/drive/MyDrive/test/data/000204.jpg: 640x640 2 quadcopters, 15.4ms\n",
            "image 206/500 /content/drive/MyDrive/test/data/000205.jpg: 640x640 2 quadcopters, 15.9ms\n",
            "image 207/500 /content/drive/MyDrive/test/data/000206.jpg: 640x640 2 quadcopters, 14.5ms\n",
            "image 208/500 /content/drive/MyDrive/test/data/000207.jpg: 640x640 2 quadcopters, 16.6ms\n",
            "image 209/500 /content/drive/MyDrive/test/data/000208.jpg: 640x640 2 quadcopters, 13.6ms\n",
            "image 210/500 /content/drive/MyDrive/test/data/000209.jpg: 640x640 2 quadcopters, 13.9ms\n",
            "image 211/500 /content/drive/MyDrive/test/data/000210.jpg: 640x640 3 quadcopters, 15.2ms\n",
            "image 212/500 /content/drive/MyDrive/test/data/000211.jpg: 640x640 2 quadcopters, 13.1ms\n",
            "image 213/500 /content/drive/MyDrive/test/data/000212.jpg: 640x640 2 quadcopters, 20.7ms\n",
            "image 214/500 /content/drive/MyDrive/test/data/000213.jpg: 640x640 2 quadcopters, 16.0ms\n",
            "image 215/500 /content/drive/MyDrive/test/data/000214.jpg: 640x640 2 quadcopters, 16.8ms\n",
            "image 216/500 /content/drive/MyDrive/test/data/000215.jpg: 640x640 3 quadcopters, 16.9ms\n",
            "image 217/500 /content/drive/MyDrive/test/data/000216.jpg: 640x640 2 quadcopters, 16.4ms\n",
            "image 218/500 /content/drive/MyDrive/test/data/000217.jpg: 640x640 1 quadcopter, 18.7ms\n",
            "image 219/500 /content/drive/MyDrive/test/data/000218.jpg: 640x640 3 quadcopters, 17.9ms\n",
            "image 220/500 /content/drive/MyDrive/test/data/000219.jpg: 640x640 3 quadcopters, 11.6ms\n",
            "image 221/500 /content/drive/MyDrive/test/data/000220.jpg: 640x640 2 quadcopters, 11.1ms\n",
            "image 222/500 /content/drive/MyDrive/test/data/000221.jpg: 640x640 2 quadcopters, 11.7ms\n",
            "image 223/500 /content/drive/MyDrive/test/data/000222.jpg: 640x640 4 quadcopters, 10.9ms\n",
            "image 224/500 /content/drive/MyDrive/test/data/000223.jpg: 640x640 2 quadcopters, 10.4ms\n",
            "image 225/500 /content/drive/MyDrive/test/data/000224.jpg: 640x640 2 quadcopters, 10.8ms\n",
            "image 226/500 /content/drive/MyDrive/test/data/000225.jpg: 640x640 3 quadcopters, 10.5ms\n",
            "image 227/500 /content/drive/MyDrive/test/data/000226.jpg: 640x640 3 quadcopters, 10.4ms\n",
            "image 228/500 /content/drive/MyDrive/test/data/000227.jpg: 640x640 3 quadcopters, 11.2ms\n",
            "image 229/500 /content/drive/MyDrive/test/data/000228.jpg: 640x640 2 quadcopters, 10.4ms\n",
            "image 230/500 /content/drive/MyDrive/test/data/000229.jpg: 640x640 2 quadcopters, 10.1ms\n",
            "image 231/500 /content/drive/MyDrive/test/data/000230.jpg: 640x640 2 quadcopters, 10.3ms\n",
            "image 232/500 /content/drive/MyDrive/test/data/000231.jpg: 640x640 2 quadcopters, 10.5ms\n",
            "image 233/500 /content/drive/MyDrive/test/data/000232.jpg: 640x640 3 quadcopters, 10.7ms\n",
            "image 234/500 /content/drive/MyDrive/test/data/000233.jpg: 640x640 1 quadcopter, 10.8ms\n",
            "image 235/500 /content/drive/MyDrive/test/data/000234.jpg: 640x640 2 quadcopters, 10.4ms\n",
            "image 236/500 /content/drive/MyDrive/test/data/000235.jpg: 640x640 2 quadcopters, 11.7ms\n",
            "image 237/500 /content/drive/MyDrive/test/data/000236.jpg: 640x640 2 quadcopters, 10.9ms\n",
            "image 238/500 /content/drive/MyDrive/test/data/000237.jpg: 640x640 2 quadcopters, 10.4ms\n",
            "image 239/500 /content/drive/MyDrive/test/data/000238.jpg: 640x640 2 quadcopters, 11.6ms\n",
            "image 240/500 /content/drive/MyDrive/test/data/000239.jpg: 640x640 1 quadcopter, 10.2ms\n",
            "image 241/500 /content/drive/MyDrive/test/data/000240.jpg: 640x640 2 quadcopters, 10.4ms\n",
            "image 242/500 /content/drive/MyDrive/test/data/000241.jpg: 640x640 1 quadcopter, 10.7ms\n",
            "image 243/500 /content/drive/MyDrive/test/data/000242.jpg: 640x640 1 quadcopter, 17.8ms\n",
            "image 244/500 /content/drive/MyDrive/test/data/000243.jpg: 640x640 2 quadcopters, 10.9ms\n",
            "image 245/500 /content/drive/MyDrive/test/data/000244.jpg: 640x640 2 quadcopters, 11.8ms\n",
            "image 246/500 /content/drive/MyDrive/test/data/000245.jpg: 640x640 2 quadcopters, 11.9ms\n",
            "image 247/500 /content/drive/MyDrive/test/data/000246.jpg: 640x640 2 quadcopters, 11.3ms\n",
            "image 248/500 /content/drive/MyDrive/test/data/000247.jpg: 640x640 1 quadcopter, 11.0ms\n",
            "image 249/500 /content/drive/MyDrive/test/data/000248.jpg: 640x640 2 quadcopters, 11.3ms\n",
            "image 250/500 /content/drive/MyDrive/test/data/000249.jpg: 640x640 2 quadcopters, 11.3ms\n",
            "image 251/500 /content/drive/MyDrive/test/data/000250.jpg: 640x640 1 quadcopter, 11.5ms\n",
            "image 252/500 /content/drive/MyDrive/test/data/000251.jpg: 640x640 2 quadcopters, 11.0ms\n",
            "image 253/500 /content/drive/MyDrive/test/data/000252.jpg: 640x640 1 quadcopter, 11.4ms\n",
            "image 254/500 /content/drive/MyDrive/test/data/000253.jpg: 640x640 2 quadcopters, 10.8ms\n",
            "image 255/500 /content/drive/MyDrive/test/data/000254.jpg: 640x640 2 quadcopters, 10.6ms\n",
            "image 256/500 /content/drive/MyDrive/test/data/000255.jpg: 640x640 3 quadcopters, 10.3ms\n",
            "image 257/500 /content/drive/MyDrive/test/data/000256.jpg: 640x640 2 quadcopters, 10.4ms\n",
            "image 258/500 /content/drive/MyDrive/test/data/000257.jpg: 640x640 2 quadcopters, 10.8ms\n",
            "image 259/500 /content/drive/MyDrive/test/data/000258.jpg: 640x640 2 quadcopters, 10.5ms\n",
            "image 260/500 /content/drive/MyDrive/test/data/000259.jpg: 640x640 2 quadcopters, 10.8ms\n",
            "image 261/500 /content/drive/MyDrive/test/data/000260.jpg: 640x640 2 quadcopters, 11.9ms\n",
            "image 262/500 /content/drive/MyDrive/test/data/000261.jpg: 640x640 2 quadcopters, 12.5ms\n",
            "image 263/500 /content/drive/MyDrive/test/data/000262.jpg: 640x640 3 quadcopters, 11.1ms\n",
            "image 264/500 /content/drive/MyDrive/test/data/000263.jpg: 640x640 2 quadcopters, 11.2ms\n",
            "image 265/500 /content/drive/MyDrive/test/data/000264.jpg: 640x640 3 quadcopters, 10.9ms\n",
            "image 266/500 /content/drive/MyDrive/test/data/000265.jpg: 640x640 1 quadcopter, 11.2ms\n",
            "image 267/500 /content/drive/MyDrive/test/data/000266.jpg: 640x640 2 quadcopters, 11.0ms\n",
            "image 268/500 /content/drive/MyDrive/test/data/000267.jpg: 640x640 1 quadcopter, 11.4ms\n",
            "image 269/500 /content/drive/MyDrive/test/data/000268.jpg: 640x640 1 quadcopter, 11.5ms\n",
            "image 270/500 /content/drive/MyDrive/test/data/000269.jpg: 640x640 1 quadcopter, 11.2ms\n",
            "image 271/500 /content/drive/MyDrive/test/data/000270.jpg: 640x640 1 quadcopter, 12.9ms\n",
            "image 272/500 /content/drive/MyDrive/test/data/000271.jpg: 640x640 2 quadcopters, 11.2ms\n",
            "image 273/500 /content/drive/MyDrive/test/data/000272.jpg: 640x640 2 quadcopters, 11.8ms\n",
            "image 274/500 /content/drive/MyDrive/test/data/000273.jpg: 640x640 2 quadcopters, 11.3ms\n",
            "image 275/500 /content/drive/MyDrive/test/data/000274.jpg: 640x640 2 quadcopters, 10.6ms\n",
            "image 276/500 /content/drive/MyDrive/test/data/000275.jpg: 640x640 2 quadcopters, 10.3ms\n",
            "image 277/500 /content/drive/MyDrive/test/data/000276.jpg: 640x640 2 quadcopters, 12.7ms\n",
            "image 278/500 /content/drive/MyDrive/test/data/000277.jpg: 640x640 1 quadcopter, 11.0ms\n",
            "image 279/500 /content/drive/MyDrive/test/data/000278.jpg: 640x640 2 quadcopters, 11.3ms\n",
            "image 280/500 /content/drive/MyDrive/test/data/000279.jpg: 640x640 1 quadcopter, 12.7ms\n",
            "image 281/500 /content/drive/MyDrive/test/data/000280.jpg: 640x640 1 quadcopter, 10.4ms\n",
            "image 282/500 /content/drive/MyDrive/test/data/000281.jpg: 640x640 1 quadcopter, 10.5ms\n",
            "image 283/500 /content/drive/MyDrive/test/data/000282.jpg: 640x640 1 quadcopter, 18.1ms\n",
            "image 284/500 /content/drive/MyDrive/test/data/000283.jpg: 640x640 1 quadcopter, 10.7ms\n",
            "image 285/500 /content/drive/MyDrive/test/data/000284.jpg: 640x640 3 quadcopters, 12.3ms\n",
            "image 286/500 /content/drive/MyDrive/test/data/000285.jpg: 640x640 3 quadcopters, 13.8ms\n",
            "image 287/500 /content/drive/MyDrive/test/data/000286.jpg: 640x640 2 quadcopters, 12.0ms\n",
            "image 288/500 /content/drive/MyDrive/test/data/000287.jpg: 640x640 2 quadcopters, 10.3ms\n",
            "image 289/500 /content/drive/MyDrive/test/data/000288.jpg: 640x640 2 quadcopters, 10.5ms\n",
            "image 290/500 /content/drive/MyDrive/test/data/000289.jpg: 640x640 2 quadcopters, 13.1ms\n",
            "image 291/500 /content/drive/MyDrive/test/data/000290.jpg: 640x640 2 quadcopters, 10.7ms\n",
            "image 292/500 /content/drive/MyDrive/test/data/000291.jpg: 640x640 2 quadcopters, 12.1ms\n",
            "image 293/500 /content/drive/MyDrive/test/data/000292.jpg: 640x640 1 quadcopter, 10.7ms\n",
            "image 294/500 /content/drive/MyDrive/test/data/000293.jpg: 640x640 1 quadcopter, 11.1ms\n",
            "image 295/500 /content/drive/MyDrive/test/data/000294.jpg: 640x640 2 quadcopters, 11.7ms\n",
            "image 296/500 /content/drive/MyDrive/test/data/000295.jpg: 640x640 2 quadcopters, 12.8ms\n",
            "image 297/500 /content/drive/MyDrive/test/data/000296.jpg: 640x640 1 quadcopter, 11.2ms\n",
            "image 298/500 /content/drive/MyDrive/test/data/000297.jpg: 640x640 1 quadcopter, 12.7ms\n",
            "image 299/500 /content/drive/MyDrive/test/data/000298.jpg: 640x640 2 quadcopters, 11.7ms\n",
            "image 300/500 /content/drive/MyDrive/test/data/000299.jpg: 640x640 1 quadcopter, 12.8ms\n",
            "image 301/500 /content/drive/MyDrive/test/data/000300.jpg: 640x640 2 quadcopters, 11.1ms\n",
            "image 302/500 /content/drive/MyDrive/test/data/000301.jpg: 640x640 2 quadcopters, 10.4ms\n",
            "image 303/500 /content/drive/MyDrive/test/data/000302.jpg: 640x640 3 quadcopters, 11.5ms\n",
            "image 304/500 /content/drive/MyDrive/test/data/000303.jpg: 640x640 3 quadcopters, 11.0ms\n",
            "image 305/500 /content/drive/MyDrive/test/data/000304.jpg: 640x640 3 quadcopters, 10.4ms\n",
            "image 306/500 /content/drive/MyDrive/test/data/000305.jpg: 640x640 3 quadcopters, 11.1ms\n",
            "image 307/500 /content/drive/MyDrive/test/data/000306.jpg: 640x640 2 quadcopters, 11.2ms\n",
            "image 308/500 /content/drive/MyDrive/test/data/000307.jpg: 640x640 2 quadcopters, 10.9ms\n",
            "image 309/500 /content/drive/MyDrive/test/data/000308.jpg: 640x640 2 quadcopters, 10.6ms\n",
            "image 310/500 /content/drive/MyDrive/test/data/000309.jpg: 640x640 3 quadcopters, 10.6ms\n",
            "image 311/500 /content/drive/MyDrive/test/data/000310.jpg: 640x640 2 quadcopters, 11.2ms\n",
            "image 312/500 /content/drive/MyDrive/test/data/000311.jpg: 640x640 2 quadcopters, 11.1ms\n",
            "image 313/500 /content/drive/MyDrive/test/data/000312.jpg: 640x640 2 quadcopters, 14.0ms\n",
            "image 314/500 /content/drive/MyDrive/test/data/000313.jpg: 640x640 2 quadcopters, 11.5ms\n",
            "image 315/500 /content/drive/MyDrive/test/data/000314.jpg: 640x640 2 quadcopters, 11.7ms\n",
            "image 316/500 /content/drive/MyDrive/test/data/000315.jpg: 640x640 2 quadcopters, 11.8ms\n",
            "image 317/500 /content/drive/MyDrive/test/data/000316.jpg: 640x640 2 quadcopters, 12.0ms\n",
            "image 318/500 /content/drive/MyDrive/test/data/000317.jpg: 640x640 2 quadcopters, 11.6ms\n",
            "image 319/500 /content/drive/MyDrive/test/data/000318.jpg: 640x640 3 quadcopters, 14.4ms\n",
            "image 320/500 /content/drive/MyDrive/test/data/000319.jpg: 640x640 2 quadcopters, 10.8ms\n",
            "image 321/500 /content/drive/MyDrive/test/data/000320.jpg: 640x640 2 quadcopters, 12.8ms\n",
            "image 322/500 /content/drive/MyDrive/test/data/000321.jpg: 640x640 2 quadcopters, 18.9ms\n",
            "image 323/500 /content/drive/MyDrive/test/data/000322.jpg: 640x640 2 quadcopters, 11.4ms\n",
            "image 324/500 /content/drive/MyDrive/test/data/000323.jpg: 640x640 2 quadcopters, 11.2ms\n",
            "image 325/500 /content/drive/MyDrive/test/data/000324.jpg: 640x640 2 quadcopters, 11.1ms\n",
            "image 326/500 /content/drive/MyDrive/test/data/000325.jpg: 640x640 1 quadcopter, 10.8ms\n",
            "image 327/500 /content/drive/MyDrive/test/data/000326.jpg: 640x640 1 quadcopter, 10.6ms\n",
            "image 328/500 /content/drive/MyDrive/test/data/000327.jpg: 640x640 2 quadcopters, 12.9ms\n",
            "image 329/500 /content/drive/MyDrive/test/data/000328.jpg: 640x640 2 quadcopters, 12.2ms\n",
            "image 330/500 /content/drive/MyDrive/test/data/000329.jpg: 640x640 3 quadcopters, 12.8ms\n",
            "image 331/500 /content/drive/MyDrive/test/data/000330.jpg: 640x640 1 quadcopter, 10.8ms\n",
            "image 332/500 /content/drive/MyDrive/test/data/000331.jpg: 640x640 2 quadcopters, 10.4ms\n",
            "image 333/500 /content/drive/MyDrive/test/data/000332.jpg: 640x640 2 quadcopters, 10.7ms\n",
            "image 334/500 /content/drive/MyDrive/test/data/000333.jpg: 640x640 3 quadcopters, 10.7ms\n",
            "image 335/500 /content/drive/MyDrive/test/data/000334.jpg: 640x640 2 quadcopters, 10.9ms\n",
            "image 336/500 /content/drive/MyDrive/test/data/000335.jpg: 640x640 2 quadcopters, 10.8ms\n",
            "image 337/500 /content/drive/MyDrive/test/data/000336.jpg: 640x640 1 quadcopter, 10.9ms\n",
            "image 338/500 /content/drive/MyDrive/test/data/000337.jpg: 640x640 2 quadcopters, 11.6ms\n",
            "image 339/500 /content/drive/MyDrive/test/data/000338.jpg: 640x640 2 quadcopters, 10.7ms\n",
            "image 340/500 /content/drive/MyDrive/test/data/000339.jpg: 640x640 2 quadcopters, 10.6ms\n",
            "image 341/500 /content/drive/MyDrive/test/data/000340.jpg: 640x640 2 quadcopters, 14.1ms\n",
            "image 342/500 /content/drive/MyDrive/test/data/000341.jpg: 640x640 3 quadcopters, 10.5ms\n",
            "image 343/500 /content/drive/MyDrive/test/data/000342.jpg: 640x640 2 quadcopters, 11.1ms\n",
            "image 344/500 /content/drive/MyDrive/test/data/000343.jpg: 640x640 2 quadcopters, 11.5ms\n",
            "image 345/500 /content/drive/MyDrive/test/data/000344.jpg: 640x640 2 quadcopters, 11.5ms\n",
            "image 346/500 /content/drive/MyDrive/test/data/000345.jpg: 640x640 1 quadcopter, 10.3ms\n",
            "image 347/500 /content/drive/MyDrive/test/data/000346.jpg: 640x640 2 quadcopters, 10.6ms\n",
            "image 348/500 /content/drive/MyDrive/test/data/000347.jpg: 640x640 1 quadcopter, 10.2ms\n",
            "image 349/500 /content/drive/MyDrive/test/data/000348.jpg: 640x640 2 quadcopters, 10.4ms\n",
            "image 350/500 /content/drive/MyDrive/test/data/000349.jpg: 640x640 2 quadcopters, 11.0ms\n",
            "image 351/500 /content/drive/MyDrive/test/data/000350.jpg: 640x640 1 quadcopter, 11.6ms\n",
            "image 352/500 /content/drive/MyDrive/test/data/000351.jpg: 640x640 3 quadcopters, 11.1ms\n",
            "image 353/500 /content/drive/MyDrive/test/data/000352.jpg: 640x640 2 quadcopters, 11.8ms\n",
            "image 354/500 /content/drive/MyDrive/test/data/000353.jpg: 640x640 1 quadcopter, 10.7ms\n",
            "image 355/500 /content/drive/MyDrive/test/data/000354.jpg: 640x640 3 quadcopters, 10.8ms\n",
            "image 356/500 /content/drive/MyDrive/test/data/000355.jpg: 640x640 2 quadcopters, 12.8ms\n",
            "image 357/500 /content/drive/MyDrive/test/data/000356.jpg: 640x640 2 quadcopters, 11.0ms\n",
            "image 358/500 /content/drive/MyDrive/test/data/000357.jpg: 640x640 3 quadcopters, 11.1ms\n",
            "image 359/500 /content/drive/MyDrive/test/data/000358.jpg: 640x640 3 quadcopters, 11.3ms\n",
            "image 360/500 /content/drive/MyDrive/test/data/000359.jpg: 640x640 2 quadcopters, 11.2ms\n",
            "image 361/500 /content/drive/MyDrive/test/data/000360.jpg: 640x640 3 quadcopters, 11.1ms\n",
            "image 362/500 /content/drive/MyDrive/test/data/000361.jpg: 640x640 3 quadcopters, 18.1ms\n",
            "image 363/500 /content/drive/MyDrive/test/data/000362.jpg: 640x640 2 quadcopters, 10.9ms\n",
            "image 364/500 /content/drive/MyDrive/test/data/000363.jpg: 640x640 3 quadcopters, 11.1ms\n",
            "image 365/500 /content/drive/MyDrive/test/data/000364.jpg: 640x640 3 quadcopters, 10.6ms\n",
            "image 366/500 /content/drive/MyDrive/test/data/000365.jpg: 640x640 2 quadcopters, 10.9ms\n",
            "image 367/500 /content/drive/MyDrive/test/data/000366.jpg: 640x640 2 quadcopters, 10.4ms\n",
            "image 368/500 /content/drive/MyDrive/test/data/000367.jpg: 640x640 3 quadcopters, 10.8ms\n",
            "image 369/500 /content/drive/MyDrive/test/data/000368.jpg: 640x640 3 quadcopters, 10.6ms\n",
            "image 370/500 /content/drive/MyDrive/test/data/000369.jpg: 640x640 3 quadcopters, 12.8ms\n",
            "image 371/500 /content/drive/MyDrive/test/data/000370.jpg: 640x640 4 quadcopters, 10.2ms\n",
            "image 372/500 /content/drive/MyDrive/test/data/000371.jpg: 640x640 3 quadcopters, 9.9ms\n",
            "image 373/500 /content/drive/MyDrive/test/data/000372.jpg: 640x640 3 quadcopters, 10.2ms\n",
            "image 374/500 /content/drive/MyDrive/test/data/000373.jpg: 640x640 3 quadcopters, 10.3ms\n",
            "image 375/500 /content/drive/MyDrive/test/data/000374.jpg: 640x640 3 quadcopters, 10.1ms\n",
            "image 376/500 /content/drive/MyDrive/test/data/000375.jpg: 640x640 4 quadcopters, 10.0ms\n",
            "image 377/500 /content/drive/MyDrive/test/data/000376.jpg: 640x640 3 quadcopters, 9.7ms\n",
            "image 378/500 /content/drive/MyDrive/test/data/000377.jpg: 640x640 1 quadcopter, 10.2ms\n",
            "image 379/500 /content/drive/MyDrive/test/data/000378.jpg: 640x640 3 quadcopters, 10.4ms\n",
            "image 380/500 /content/drive/MyDrive/test/data/000379.jpg: 640x640 3 quadcopters, 11.1ms\n",
            "image 381/500 /content/drive/MyDrive/test/data/000380.jpg: 640x640 3 quadcopters, 10.8ms\n",
            "image 382/500 /content/drive/MyDrive/test/data/000381.jpg: 640x640 2 quadcopters, 10.5ms\n",
            "image 383/500 /content/drive/MyDrive/test/data/000382.jpg: 640x640 1 quadcopter, 10.4ms\n",
            "image 384/500 /content/drive/MyDrive/test/data/000383.jpg: 640x640 1 quadcopter, 10.4ms\n",
            "image 385/500 /content/drive/MyDrive/test/data/000384.jpg: 640x640 1 quadcopter, 11.3ms\n",
            "image 386/500 /content/drive/MyDrive/test/data/000385.jpg: 640x640 2 quadcopters, 10.7ms\n",
            "image 387/500 /content/drive/MyDrive/test/data/000386.jpg: 640x640 1 quadcopter, 10.2ms\n",
            "image 388/500 /content/drive/MyDrive/test/data/000387.jpg: 640x640 2 quadcopters, 12.1ms\n",
            "image 389/500 /content/drive/MyDrive/test/data/000388.jpg: 640x640 2 quadcopters, 10.6ms\n",
            "image 390/500 /content/drive/MyDrive/test/data/000389.jpg: 640x640 1 quadcopter, 10.1ms\n",
            "image 391/500 /content/drive/MyDrive/test/data/000390.jpg: 640x640 1 quadcopter, 10.6ms\n",
            "image 392/500 /content/drive/MyDrive/test/data/000391.jpg: 640x640 2 quadcopters, 10.2ms\n",
            "image 393/500 /content/drive/MyDrive/test/data/000392.jpg: 640x640 2 quadcopters, 11.6ms\n",
            "image 394/500 /content/drive/MyDrive/test/data/000393.jpg: 640x640 1 quadcopter, 10.6ms\n",
            "image 395/500 /content/drive/MyDrive/test/data/000394.jpg: 640x640 2 quadcopters, 10.2ms\n",
            "image 396/500 /content/drive/MyDrive/test/data/000395.jpg: 640x640 2 quadcopters, 11.3ms\n",
            "image 397/500 /content/drive/MyDrive/test/data/000396.jpg: 640x640 2 quadcopters, 10.7ms\n",
            "image 398/500 /content/drive/MyDrive/test/data/000397.jpg: 640x640 2 quadcopters, 10.3ms\n",
            "image 399/500 /content/drive/MyDrive/test/data/000398.jpg: 640x640 2 quadcopters, 10.9ms\n",
            "image 400/500 /content/drive/MyDrive/test/data/000399.jpg: 640x640 1 quadcopter, 10.6ms\n",
            "image 401/500 /content/drive/MyDrive/test/data/000400.jpg: 640x640 2 quadcopters, 11.7ms\n",
            "image 402/500 /content/drive/MyDrive/test/data/000401.jpg: 640x640 2 quadcopters, 11.8ms\n",
            "image 403/500 /content/drive/MyDrive/test/data/000402.jpg: 640x640 1 quadcopter, 11.5ms\n",
            "image 404/500 /content/drive/MyDrive/test/data/000403.jpg: 640x640 2 quadcopters, 18.7ms\n",
            "image 405/500 /content/drive/MyDrive/test/data/000404.jpg: 640x640 2 quadcopters, 11.3ms\n",
            "image 406/500 /content/drive/MyDrive/test/data/000405.jpg: 640x640 2 quadcopters, 12.2ms\n",
            "image 407/500 /content/drive/MyDrive/test/data/000406.jpg: 640x640 1 quadcopter, 11.8ms\n",
            "image 408/500 /content/drive/MyDrive/test/data/000407.jpg: 640x640 3 quadcopters, 11.2ms\n",
            "image 409/500 /content/drive/MyDrive/test/data/000408.jpg: 640x640 2 quadcopters, 10.7ms\n",
            "image 410/500 /content/drive/MyDrive/test/data/000409.jpg: 640x640 2 quadcopters, 11.3ms\n",
            "image 411/500 /content/drive/MyDrive/test/data/000410.jpg: 640x640 3 quadcopters, 10.8ms\n",
            "image 412/500 /content/drive/MyDrive/test/data/000411.jpg: 640x640 2 quadcopters, 10.8ms\n",
            "image 413/500 /content/drive/MyDrive/test/data/000412.jpg: 640x640 3 quadcopters, 10.7ms\n",
            "image 414/500 /content/drive/MyDrive/test/data/000413.jpg: 640x640 2 quadcopters, 10.8ms\n",
            "image 415/500 /content/drive/MyDrive/test/data/000414.jpg: 640x640 3 quadcopters, 10.8ms\n",
            "image 416/500 /content/drive/MyDrive/test/data/000415.jpg: 640x640 3 quadcopters, 10.9ms\n",
            "image 417/500 /content/drive/MyDrive/test/data/000416.jpg: 640x640 2 quadcopters, 11.4ms\n",
            "image 418/500 /content/drive/MyDrive/test/data/000417.jpg: 640x640 1 quadcopter, 11.2ms\n",
            "image 419/500 /content/drive/MyDrive/test/data/000418.jpg: 640x640 2 quadcopters, 10.9ms\n",
            "image 420/500 /content/drive/MyDrive/test/data/000419.jpg: 640x640 1 quadcopter, 11.0ms\n",
            "image 421/500 /content/drive/MyDrive/test/data/000420.jpg: 640x640 1 quadcopter, 18.4ms\n",
            "image 422/500 /content/drive/MyDrive/test/data/000421.jpg: 640x640 2 quadcopters, 13.5ms\n",
            "image 423/500 /content/drive/MyDrive/test/data/000422.jpg: 640x640 1 quadcopter, 12.8ms\n",
            "image 424/500 /content/drive/MyDrive/test/data/000423.jpg: 640x640 1 quadcopter, 10.7ms\n",
            "image 425/500 /content/drive/MyDrive/test/data/000424.jpg: 640x640 2 quadcopters, 11.1ms\n",
            "image 426/500 /content/drive/MyDrive/test/data/000425.jpg: 640x640 2 quadcopters, 12.5ms\n",
            "image 427/500 /content/drive/MyDrive/test/data/000426.jpg: 640x640 2 quadcopters, 10.9ms\n",
            "image 428/500 /content/drive/MyDrive/test/data/000427.jpg: 640x640 1 quadcopter, 10.7ms\n",
            "image 429/500 /content/drive/MyDrive/test/data/000428.jpg: 640x640 1 quadcopter, 10.9ms\n",
            "image 430/500 /content/drive/MyDrive/test/data/000429.jpg: 640x640 2 quadcopters, 10.5ms\n",
            "image 431/500 /content/drive/MyDrive/test/data/000430.jpg: 640x640 2 quadcopters, 11.1ms\n",
            "image 432/500 /content/drive/MyDrive/test/data/000431.jpg: 640x640 2 quadcopters, 11.2ms\n",
            "image 433/500 /content/drive/MyDrive/test/data/000432.jpg: 640x640 3 quadcopters, 10.7ms\n",
            "image 434/500 /content/drive/MyDrive/test/data/000433.jpg: 640x640 2 quadcopters, 10.9ms\n",
            "image 435/500 /content/drive/MyDrive/test/data/000434.jpg: 640x640 2 quadcopters, 11.0ms\n",
            "image 436/500 /content/drive/MyDrive/test/data/000435.jpg: 640x640 1 quadcopter, 10.5ms\n",
            "image 437/500 /content/drive/MyDrive/test/data/000436.jpg: 640x640 2 quadcopters, 12.8ms\n",
            "image 438/500 /content/drive/MyDrive/test/data/000437.jpg: 640x640 2 quadcopters, 10.1ms\n",
            "image 439/500 /content/drive/MyDrive/test/data/000438.jpg: 640x640 2 quadcopters, 11.7ms\n",
            "image 440/500 /content/drive/MyDrive/test/data/000439.jpg: 640x640 2 quadcopters, 10.9ms\n",
            "image 441/500 /content/drive/MyDrive/test/data/000440.jpg: 640x640 2 quadcopters, 11.2ms\n",
            "image 442/500 /content/drive/MyDrive/test/data/000441.jpg: 640x640 2 quadcopters, 10.9ms\n",
            "image 443/500 /content/drive/MyDrive/test/data/000442.jpg: 640x640 2 quadcopters, 20.0ms\n",
            "image 444/500 /content/drive/MyDrive/test/data/000443.jpg: 640x640 3 quadcopters, 10.7ms\n",
            "image 445/500 /content/drive/MyDrive/test/data/000444.jpg: 640x640 3 quadcopters, 11.0ms\n",
            "image 446/500 /content/drive/MyDrive/test/data/000445.jpg: 640x640 1 quadcopter, 10.9ms\n",
            "image 447/500 /content/drive/MyDrive/test/data/000446.jpg: 640x640 2 quadcopters, 11.2ms\n",
            "image 448/500 /content/drive/MyDrive/test/data/000447.jpg: 640x640 3 quadcopters, 15.3ms\n",
            "image 449/500 /content/drive/MyDrive/test/data/000448.jpg: 640x640 2 quadcopters, 10.6ms\n",
            "image 450/500 /content/drive/MyDrive/test/data/000449.jpg: 640x640 2 quadcopters, 10.2ms\n",
            "image 451/500 /content/drive/MyDrive/test/data/000450.jpg: 640x640 2 quadcopters, 10.3ms\n",
            "image 452/500 /content/drive/MyDrive/test/data/000451.jpg: 640x640 2 quadcopters, 10.2ms\n",
            "image 453/500 /content/drive/MyDrive/test/data/000452.jpg: 640x640 1 quadcopter, 10.1ms\n",
            "image 454/500 /content/drive/MyDrive/test/data/000453.jpg: 640x640 2 quadcopters, 10.0ms\n",
            "image 455/500 /content/drive/MyDrive/test/data/000454.jpg: 640x640 3 quadcopters, 10.1ms\n",
            "image 456/500 /content/drive/MyDrive/test/data/000455.jpg: 640x640 4 quadcopters, 10.4ms\n",
            "image 457/500 /content/drive/MyDrive/test/data/000456.jpg: 640x640 2 quadcopters, 10.3ms\n",
            "image 458/500 /content/drive/MyDrive/test/data/000457.jpg: 640x640 2 quadcopters, 10.2ms\n",
            "image 459/500 /content/drive/MyDrive/test/data/000458.jpg: 640x640 2 quadcopters, 11.0ms\n",
            "image 460/500 /content/drive/MyDrive/test/data/000459.jpg: 640x640 4 quadcopters, 10.3ms\n",
            "image 461/500 /content/drive/MyDrive/test/data/000460.jpg: 640x640 2 quadcopters, 10.6ms\n",
            "image 462/500 /content/drive/MyDrive/test/data/000461.jpg: 640x640 2 quadcopters, 10.1ms\n",
            "image 463/500 /content/drive/MyDrive/test/data/000462.jpg: 640x640 2 quadcopters, 11.0ms\n",
            "image 464/500 /content/drive/MyDrive/test/data/000463.jpg: 640x640 2 quadcopters, 10.4ms\n",
            "image 465/500 /content/drive/MyDrive/test/data/000464.jpg: 640x640 1 quadcopter, 10.8ms\n",
            "image 466/500 /content/drive/MyDrive/test/data/000465.jpg: 640x640 1 quadcopter, 10.4ms\n",
            "image 467/500 /content/drive/MyDrive/test/data/000466.jpg: 640x640 5 quadcopters, 10.3ms\n",
            "image 468/500 /content/drive/MyDrive/test/data/000467.jpg: 640x640 3 quadcopters, 11.7ms\n",
            "image 469/500 /content/drive/MyDrive/test/data/000468.jpg: 640x640 2 quadcopters, 11.1ms\n",
            "image 470/500 /content/drive/MyDrive/test/data/000469.jpg: 640x640 2 quadcopters, 10.3ms\n",
            "image 471/500 /content/drive/MyDrive/test/data/000470.jpg: 640x640 2 quadcopters, 10.5ms\n",
            "image 472/500 /content/drive/MyDrive/test/data/000471.jpg: 640x640 2 quadcopters, 10.4ms\n",
            "image 473/500 /content/drive/MyDrive/test/data/000472.jpg: 640x640 2 quadcopters, 12.3ms\n",
            "image 474/500 /content/drive/MyDrive/test/data/000473.jpg: 640x640 2 quadcopters, 10.4ms\n",
            "image 475/500 /content/drive/MyDrive/test/data/000474.jpg: 640x640 2 quadcopters, 10.1ms\n",
            "image 476/500 /content/drive/MyDrive/test/data/000475.jpg: 640x640 2 quadcopters, 10.4ms\n",
            "image 477/500 /content/drive/MyDrive/test/data/000476.jpg: 640x640 1 quadcopter, 10.9ms\n",
            "image 478/500 /content/drive/MyDrive/test/data/000477.jpg: 640x640 4 quadcopters, 10.3ms\n",
            "image 479/500 /content/drive/MyDrive/test/data/000478.jpg: 640x640 2 quadcopters, 10.5ms\n",
            "image 480/500 /content/drive/MyDrive/test/data/000479.jpg: 640x640 1 quadcopter, 10.8ms\n",
            "image 481/500 /content/drive/MyDrive/test/data/000480.jpg: 640x640 2 quadcopters, 10.4ms\n",
            "image 482/500 /content/drive/MyDrive/test/data/000481.jpg: 640x640 2 quadcopters, 10.9ms\n",
            "image 483/500 /content/drive/MyDrive/test/data/000482.jpg: 640x640 2 quadcopters, 11.3ms\n",
            "image 484/500 /content/drive/MyDrive/test/data/000483.jpg: 640x640 1 quadcopter, 10.3ms\n",
            "image 485/500 /content/drive/MyDrive/test/data/000484.jpg: 640x640 1 quadcopter, 15.9ms\n",
            "image 486/500 /content/drive/MyDrive/test/data/000485.jpg: 640x640 1 quadcopter, 11.5ms\n",
            "image 487/500 /content/drive/MyDrive/test/data/000486.jpg: 640x640 1 quadcopter, 13.0ms\n",
            "image 488/500 /content/drive/MyDrive/test/data/000487.jpg: 640x640 1 quadcopter, 10.6ms\n",
            "image 489/500 /content/drive/MyDrive/test/data/000488.jpg: 640x640 4 quadcopters, 10.4ms\n",
            "image 490/500 /content/drive/MyDrive/test/data/000489.jpg: 640x640 1 quadcopter, 11.3ms\n",
            "image 491/500 /content/drive/MyDrive/test/data/000490.jpg: 640x640 1 quadcopter, 10.7ms\n",
            "image 492/500 /content/drive/MyDrive/test/data/000491.jpg: 640x640 1 quadcopter, 10.2ms\n",
            "image 493/500 /content/drive/MyDrive/test/data/000492.jpg: 640x640 1 quadcopter, 10.5ms\n",
            "image 494/500 /content/drive/MyDrive/test/data/000493.jpg: 640x640 1 quadcopter, 10.5ms\n",
            "image 495/500 /content/drive/MyDrive/test/data/000494.jpg: 640x640 1 quadcopter, 10.3ms\n",
            "image 496/500 /content/drive/MyDrive/test/data/000495.jpg: 640x640 1 quadcopter, 10.7ms\n",
            "image 497/500 /content/drive/MyDrive/test/data/000496.jpg: 640x640 1 quadcopter, 11.2ms\n",
            "image 498/500 /content/drive/MyDrive/test/data/000497.jpg: 640x640 1 quadcopter, 10.7ms\n",
            "image 499/500 /content/drive/MyDrive/test/data/000498.jpg: 640x640 1 quadcopter, 11.4ms\n",
            "image 500/500 /content/drive/MyDrive/test/data/000499.jpg: 640x640 5 quadcopters, 10.8ms\n",
            "Speed: 2.7ms preprocess, 12.5ms inference, 2.2ms postprocess per image at shape (1, 3, 640, 640)\n",
            "Ultralytics YOLOv8.0.231 🚀 Python-3.10.12 torch-2.1.0+cu121 CUDA:0 (Tesla T4, 15102MiB)\n"
          ]
        },
        {
          "output_type": "stream",
          "name": "stderr",
          "text": [
            "\u001b[34m\u001b[1mval: \u001b[0mScanning /tmp/drone_data/val/labels.cache... 814 images, 0 backgrounds, 0 corrupt: 100%|██████████| 814/814 [00:00<?, ?it/s]\n",
            "                 Class     Images  Instances      Box(P          R      mAP50  mAP50-95): 100%|██████████| 51/51 [00:22<00:00,  2.24it/s]\n"
          ]
        },
        {
          "output_type": "stream",
          "name": "stdout",
          "text": [
            "                   all        814        868      0.946      0.957       0.97      0.583\n",
            "Speed: 0.2ms preprocess, 3.4ms inference, 0.0ms loss, 2.4ms postprocess per image\n",
            "Results saved to \u001b[1mruns/detect/val8\u001b[0m\n",
            "0.5832497998054007\n"
          ]
        }
      ]
    },
    {
      "cell_type": "markdown",
      "source": [
        "Plot me the Recall and Precision graphs with the epochs as axe x for the test dataset session."
      ],
      "metadata": {
        "id": "3kFHJmiORykW"
      }
    },
    {
      "cell_type": "code",
      "source": [
        "import matplotlib.pyplot as plt\n",
        "\n",
        "# Data\n",
        "epochs = [5, 10, 20, 30]\n",
        "precision = [0.912, 0.958, 0.950, 0.946]\n",
        "recall = [0.908, 0.945, 0.955, 0.957]\n",
        "\n",
        "# Plotting Recall\n",
        "plt.figure(figsize=(10, 5))\n",
        "plt.plot(epochs, recall, marker='o', linestyle='-', color='b')\n",
        "plt.title('Recall vs Epochs')\n",
        "plt.xlabel('Epochs')\n",
        "plt.ylabel('Recall')\n",
        "plt.grid(True)\n",
        "plt.show()\n",
        "\n",
        "# Plotting Precision\n",
        "plt.figure(figsize=(10, 5))\n",
        "plt.plot(epochs, precision, marker='o', linestyle='-', color='r')\n",
        "plt.title('Precision vs Epochs')\n",
        "plt.xlabel('Epochs')\n",
        "plt.ylabel('Precision')\n",
        "plt.grid(True)\n",
        "plt.show()"
      ],
      "metadata": {
        "colab": {
          "base_uri": "https://localhost:8080/",
          "height": 957
        },
        "id": "cvw1VeFjRry-",
        "outputId": "095182a1-66ea-4a90-dba4-8b280397002e"
      },
      "execution_count": 30,
      "outputs": [
        {
          "output_type": "display_data",
          "data": {
            "text/plain": [
              "<Figure size 1000x500 with 1 Axes>"
            ],
            "image/png": "[encoded data removed]"
          },
          "metadata": {}
        },
        {
          "output_type": "display_data",
          "data": {
            "text/plain": [
              "<Figure size 1000x500 with 1 Axes>"
            ],
            "image/png": "[encoded data removed]"
          },
          "metadata": {}
        }
      ]
    }
  ]
}